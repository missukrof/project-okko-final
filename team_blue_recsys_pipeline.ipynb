{
  "cells": [
    {
      "cell_type": "code",
      "execution_count": 182,
      "metadata": {
        "colab": {
          "base_uri": "https://localhost:8080/"
        },
        "id": "sEIFFFLTL_PK",
        "outputId": "802b0772-5019-4a5d-a50d-94c3e7ee8754"
      },
      "outputs": [],
      "source": [
        "# !pip install shap\n",
        "# !pip install lightfm\n",
        "# !pip install catboost\n",
        "# !pip install pyarrow"
      ]
    },
    {
      "cell_type": "markdown",
      "metadata": {
        "id": "xRLiS62DL_PH"
      },
      "source": [
        "# 0. Configuration"
      ]
    },
    {
      "cell_type": "code",
      "execution_count": 183,
      "metadata": {
        "id": "cwhkECPUL_PJ"
      },
      "outputs": [],
      "source": [
        "INTERACTIONS_PATH = 'https://drive.google.com/file/d/1UaHkTsdvKP6SbI99QJPsUkmVtEA5vcBr/view?usp=share_link'\n",
        "ITEMS_METADATA_PATH = 'https://drive.google.com/file/d/1stVBgXzUNGtSKW02vpexLreiXlyf34yx/view?usp=share_link'\n",
        "INTERACTIONS_MERGED_PATH = 'https://drive.google.com/file/d/1ikzQlQLKqUZxG36S5pvr33am0pkL7TVy/view?usp=share_link'"
      ]
    },
    {
      "cell_type": "markdown",
      "metadata": {
        "id": "lzih9CB9L_PL"
      },
      "source": [
        "# 1. Modules and functions"
      ]
    },
    {
      "cell_type": "code",
      "execution_count": 184,
      "metadata": {
        "colab": {
          "base_uri": "https://localhost:8080/"
        },
        "id": "dRoEEq4nL_PL",
        "outputId": "328e23a8-6b2e-4b95-d4ab-d272d6145f41"
      },
      "outputs": [],
      "source": [
        "# just to make it available to download w/o SSL verification\n",
        "import ssl\n",
        "ssl._create_default_https_context = ssl._create_unverified_context\n",
        "\n",
        "import ast\n",
        "import shap\n",
        "import numpy as np\n",
        "import pandas as pd\n",
        "import datetime as dt\n",
        "\n",
        "from typing import List\n",
        "\n",
        "from sklearn.utils import shuffle\n",
        "from sklearn.model_selection import train_test_split\n",
        "from sklearn.preprocessing import LabelEncoder\n",
        "from sklearn.ensemble import RandomForestClassifier\n",
        "from sklearn.metrics import roc_auc_score\n",
        "from sklearn.linear_model import LogisticRegression\n",
        "\n",
        "from lightfm.data import Dataset\n",
        "from lightfm import LightFM\n",
        "import lightgbm as lgb\n",
        "\n",
        "from xgboost import XGBClassifier\n",
        "\n",
        "from catboost import CatBoostClassifier\n",
        "\n",
        "# from google.colab import drive\n",
        "# drive.mount('/content/drive')\n",
        "\n",
        "from tqdm import tqdm_notebook\n",
        "import warnings\n",
        "warnings.filterwarnings('ignore')\n",
        "\n",
        "pd.set_option('display.float_format', lambda x: '%.3f' % x)"
      ]
    },
    {
      "cell_type": "markdown",
      "metadata": {
        "id": "8csw4u6_L_PN"
      },
      "source": [
        "## 1. 1. Helper functions to avoid copy paste"
      ]
    },
    {
      "cell_type": "code",
      "execution_count": 185,
      "metadata": {
        "id": "Ked78mXLL_PN"
      },
      "outputs": [],
      "source": [
        "def convert_to_list_type(data: pd.DataFrame, columns: List[str]) -> pd.DataFrame:\n",
        "    for col in columns:\n",
        "        data[col] = data[col].apply(lambda x: ast.literal_eval(x) if isinstance(x, str) else x)\n",
        "    return data\n"
      ]
    },
    {
      "cell_type": "code",
      "execution_count": 186,
      "metadata": {},
      "outputs": [],
      "source": [
        "def read_parquet_from_gdrive(url):\n",
        "    \"\"\"\n",
        "    gets csv data from a given url (taken from file -> share -> copy link)\n",
        "    :url: example https://drive.google.com/file/d/1BlZfCLLs5A13tbNSJZ1GPkHLWQOnPlE4/view?usp=share_link\n",
        "    \"\"\"\n",
        "    file_id = url.split('/')[-2]\n",
        "    file_path = 'https://drive.google.com/uc?export=download&id=' + file_id\n",
        "    data = pd.read_parquet(file_path, engine='pyarrow')\n",
        "\n",
        "    return data"
      ]
    },
    {
      "cell_type": "markdown",
      "metadata": {
        "id": "BUS1UZfhL_PN"
      },
      "source": [
        "# 2. Main"
      ]
    },
    {
      "cell_type": "markdown",
      "metadata": {
        "id": "e4eHz39PL_PO"
      },
      "source": [
        "## 2.1. Load Data"
      ]
    },
    {
      "cell_type": "markdown",
      "metadata": {
        "id": "z4jlHbjZL_PO"
      },
      "source": [
        "`interactions` dataset shows list of movies that users watched, along with given `total_dur` in seconds and `watched_pct` proportion:"
      ]
    },
    {
      "cell_type": "code",
      "execution_count": 187,
      "metadata": {
        "colab": {
          "base_uri": "https://localhost:8080/",
          "height": 206
        },
        "id": "nju5iWqUL_PO",
        "outputId": "79f51cb8-9e01-47bb-b27d-093dd1a63a62"
      },
      "outputs": [
        {
          "data": {
            "text/html": [
              "<div>\n",
              "<style scoped>\n",
              "    .dataframe tbody tr th:only-of-type {\n",
              "        vertical-align: middle;\n",
              "    }\n",
              "\n",
              "    .dataframe tbody tr th {\n",
              "        vertical-align: top;\n",
              "    }\n",
              "\n",
              "    .dataframe thead th {\n",
              "        text-align: right;\n",
              "    }\n",
              "</style>\n",
              "<table border=\"1\" class=\"dataframe\">\n",
              "  <thead>\n",
              "    <tr style=\"text-align: right;\">\n",
              "      <th></th>\n",
              "      <th>year</th>\n",
              "      <th>month</th>\n",
              "      <th>day</th>\n",
              "      <th>user_id</th>\n",
              "      <th>movie_id</th>\n",
              "      <th>watch_duration_minutes</th>\n",
              "    </tr>\n",
              "  </thead>\n",
              "  <tbody>\n",
              "    <tr>\n",
              "      <th>776583</th>\n",
              "      <td>2022</td>\n",
              "      <td>11</td>\n",
              "      <td>9</td>\n",
              "      <td>239438050</td>\n",
              "      <td>fbc33563-88d0-464c-a517-2f1bf3bae0e1</td>\n",
              "      <td>75.100</td>\n",
              "    </tr>\n",
              "    <tr>\n",
              "      <th>487382</th>\n",
              "      <td>2022</td>\n",
              "      <td>10</td>\n",
              "      <td>25</td>\n",
              "      <td>228143214</td>\n",
              "      <td>80a34904-2a75-4d40-a77b-db120e68b2b9</td>\n",
              "      <td>0.100</td>\n",
              "    </tr>\n",
              "    <tr>\n",
              "      <th>1012537</th>\n",
              "      <td>2022</td>\n",
              "      <td>11</td>\n",
              "      <td>21</td>\n",
              "      <td>228279085</td>\n",
              "      <td>4fd7d857-4718-4e72-bff6-6448d2cd0a1e</td>\n",
              "      <td>9.900</td>\n",
              "    </tr>\n",
              "    <tr>\n",
              "      <th>345279</th>\n",
              "      <td>2022</td>\n",
              "      <td>10</td>\n",
              "      <td>18</td>\n",
              "      <td>23385727</td>\n",
              "      <td>fd0134c9-031f-4fad-84db-cd6d515760c6</td>\n",
              "      <td>30.267</td>\n",
              "    </tr>\n",
              "    <tr>\n",
              "      <th>1613105</th>\n",
              "      <td>2022</td>\n",
              "      <td>12</td>\n",
              "      <td>21</td>\n",
              "      <td>238851289</td>\n",
              "      <td>56c278aa-39f4-4ccf-a95a-050f70d1445d</td>\n",
              "      <td>71.983</td>\n",
              "    </tr>\n",
              "  </tbody>\n",
              "</table>\n",
              "</div>"
            ],
            "text/plain": [
              "         year  month  day    user_id                              movie_id  \\\n",
              "776583   2022     11    9  239438050  fbc33563-88d0-464c-a517-2f1bf3bae0e1   \n",
              "487382   2022     10   25  228143214  80a34904-2a75-4d40-a77b-db120e68b2b9   \n",
              "1012537  2022     11   21  228279085  4fd7d857-4718-4e72-bff6-6448d2cd0a1e   \n",
              "345279   2022     10   18   23385727  fd0134c9-031f-4fad-84db-cd6d515760c6   \n",
              "1613105  2022     12   21  238851289  56c278aa-39f4-4ccf-a95a-050f70d1445d   \n",
              "\n",
              "         watch_duration_minutes  \n",
              "776583                   75.100  \n",
              "487382                    0.100  \n",
              "1012537                   9.900  \n",
              "345279                   30.267  \n",
              "1613105                  71.983  "
            ]
          },
          "execution_count": 187,
          "metadata": {},
          "output_type": "execute_result"
        }
      ],
      "source": [
        "# interactions data\n",
        "interactions = read_parquet_from_gdrive(INTERACTIONS_PATH)\n",
        "interactions.sample(5)"
      ]
    },
    {
      "cell_type": "markdown",
      "metadata": {
        "id": "HP0_ERfYL_PP"
      },
      "source": [
        "`movies_metadata` dataset shows the list of movies existing on OKKO platform:"
      ]
    },
    {
      "cell_type": "code",
      "execution_count": 188,
      "metadata": {
        "colab": {
          "base_uri": "https://localhost:8080/",
          "height": 406
        },
        "id": "SdgoSd4rL_PP",
        "outputId": "7bce7e94-3d42-44d8-a2f0-2387d687dac0"
      },
      "outputs": [
        {
          "data": {
            "text/html": [
              "<div>\n",
              "<style scoped>\n",
              "    .dataframe tbody tr th:only-of-type {\n",
              "        vertical-align: middle;\n",
              "    }\n",
              "\n",
              "    .dataframe tbody tr th {\n",
              "        vertical-align: top;\n",
              "    }\n",
              "\n",
              "    .dataframe thead th {\n",
              "        text-align: right;\n",
              "    }\n",
              "</style>\n",
              "<table border=\"1\" class=\"dataframe\">\n",
              "  <thead>\n",
              "    <tr style=\"text-align: right;\">\n",
              "      <th></th>\n",
              "      <th>movie_id</th>\n",
              "      <th>title</th>\n",
              "      <th>entity_type</th>\n",
              "      <th>genres</th>\n",
              "      <th>actors</th>\n",
              "      <th>director</th>\n",
              "      <th>country</th>\n",
              "      <th>release_world</th>\n",
              "      <th>age_rating</th>\n",
              "      <th>duration</th>\n",
              "    </tr>\n",
              "  </thead>\n",
              "  <tbody>\n",
              "    <tr>\n",
              "      <th>221149</th>\n",
              "      <td>213742e7-f17c-4f6b-9dc6-dd9895f94b4e</td>\n",
              "      <td>Чудо-дино из школы Эр</td>\n",
              "      <td>Сезон</td>\n",
              "      <td>[Комедии, Мультфильмы]</td>\n",
              "      <td>[-]</td>\n",
              "      <td>[Чжао Ляньхуа, Чжан Шеньсян]</td>\n",
              "      <td>[Китай]</td>\n",
              "      <td>None</td>\n",
              "      <td>6.000</td>\n",
              "      <td>NaN</td>\n",
              "    </tr>\n",
              "    <tr>\n",
              "      <th>94359</th>\n",
              "      <td>ad5c8ff3-5608-4f30-bd58-b3c0b4b9bd7f</td>\n",
              "      <td>Близкая угроза</td>\n",
              "      <td>Сериал</td>\n",
              "      <td>None</td>\n",
              "      <td>None</td>\n",
              "      <td>None</td>\n",
              "      <td>None</td>\n",
              "      <td>None</td>\n",
              "      <td>NaN</td>\n",
              "      <td>0.000</td>\n",
              "    </tr>\n",
              "    <tr>\n",
              "      <th>73684</th>\n",
              "      <td>57158b4c-aec4-4c70-8dfe-25fef33a3b6d</td>\n",
              "      <td>Бруклин 9-9</td>\n",
              "      <td>Серия</td>\n",
              "      <td>[Криминальное, Комедии]</td>\n",
              "      <td>[Энди Сэмберг, Андре Брауэр, Терри Крюс, Стефа...</td>\n",
              "      <td>[Майкл МакДональд, Дин Холлэнд, Линда Мендоса]</td>\n",
              "      <td>[США]</td>\n",
              "      <td>2013-09-17</td>\n",
              "      <td>18.000</td>\n",
              "      <td>22.000</td>\n",
              "    </tr>\n",
              "    <tr>\n",
              "      <th>96879</th>\n",
              "      <td>8df799b2-2286-4969-b7bf-e9645e0d3bc5</td>\n",
              "      <td>Тобол</td>\n",
              "      <td>Серия</td>\n",
              "      <td>[Историческое, Драмы]</td>\n",
              "      <td>[Евгений Дятлов, Дмитрий Дюжев, Дмитрий Назаро...</td>\n",
              "      <td>[Игорь Зайцев]</td>\n",
              "      <td>[Россия]</td>\n",
              "      <td>2019-03-01</td>\n",
              "      <td>18.000</td>\n",
              "      <td>57.000</td>\n",
              "    </tr>\n",
              "    <tr>\n",
              "      <th>154659</th>\n",
              "      <td>05c60117-d576-4cfd-ba78-d2d4c87ca4b8</td>\n",
              "      <td>Султан Разия</td>\n",
              "      <td>Серия</td>\n",
              "      <td>[Боевики, Историческое, Биографии, Драмы]</td>\n",
              "      <td>[Панкури Авастхи, Рия Дипси, Анкит Арора, Сура...</td>\n",
              "      <td>[Ариф Али Ансари, Хаснан Хидерабадвала]</td>\n",
              "      <td>[Индия]</td>\n",
              "      <td>2015-02-01</td>\n",
              "      <td>12.000</td>\n",
              "      <td>21.000</td>\n",
              "    </tr>\n",
              "  </tbody>\n",
              "</table>\n",
              "</div>"
            ],
            "text/plain": [
              "                                    movie_id                  title  \\\n",
              "221149  213742e7-f17c-4f6b-9dc6-dd9895f94b4e  Чудо-дино из школы Эр   \n",
              "94359   ad5c8ff3-5608-4f30-bd58-b3c0b4b9bd7f         Близкая угроза   \n",
              "73684   57158b4c-aec4-4c70-8dfe-25fef33a3b6d            Бруклин 9-9   \n",
              "96879   8df799b2-2286-4969-b7bf-e9645e0d3bc5                  Тобол   \n",
              "154659  05c60117-d576-4cfd-ba78-d2d4c87ca4b8           Султан Разия   \n",
              "\n",
              "       entity_type                                     genres  \\\n",
              "221149       Сезон                     [Комедии, Мультфильмы]   \n",
              "94359       Сериал                                       None   \n",
              "73684        Серия                    [Криминальное, Комедии]   \n",
              "96879        Серия                      [Историческое, Драмы]   \n",
              "154659       Серия  [Боевики, Историческое, Биографии, Драмы]   \n",
              "\n",
              "                                                   actors  \\\n",
              "221149                                                [-]   \n",
              "94359                                                None   \n",
              "73684   [Энди Сэмберг, Андре Брауэр, Терри Крюс, Стефа...   \n",
              "96879   [Евгений Дятлов, Дмитрий Дюжев, Дмитрий Назаро...   \n",
              "154659  [Панкури Авастхи, Рия Дипси, Анкит Арора, Сура...   \n",
              "\n",
              "                                              director   country  \\\n",
              "221149                    [Чжао Ляньхуа, Чжан Шеньсян]   [Китай]   \n",
              "94359                                             None      None   \n",
              "73684   [Майкл МакДональд, Дин Холлэнд, Линда Мендоса]     [США]   \n",
              "96879                                   [Игорь Зайцев]  [Россия]   \n",
              "154659         [Ариф Али Ансари, Хаснан Хидерабадвала]   [Индия]   \n",
              "\n",
              "       release_world  age_rating  duration  \n",
              "221149          None       6.000       NaN  \n",
              "94359           None         NaN     0.000  \n",
              "73684     2013-09-17      18.000    22.000  \n",
              "96879     2019-03-01      18.000    57.000  \n",
              "154659    2015-02-01      12.000    21.000  "
            ]
          },
          "execution_count": 188,
          "metadata": {},
          "output_type": "execute_result"
        }
      ],
      "source": [
        "# information about films etc\n",
        "movies_metadata = read_parquet_from_gdrive(ITEMS_METADATA_PATH)\n",
        "movies_metadata.sample(5)"
      ]
    },
    {
      "cell_type": "code",
      "execution_count": 189,
      "metadata": {
        "colab": {
          "base_uri": "https://localhost:8080/",
          "height": 687
        },
        "id": "GcQcr9dwL_PP",
        "outputId": "c8436ec3-8b16-494c-85c0-3d2bf35884a4"
      },
      "outputs": [
        {
          "data": {
            "text/html": [
              "<div>\n",
              "<style scoped>\n",
              "    .dataframe tbody tr th:only-of-type {\n",
              "        vertical-align: middle;\n",
              "    }\n",
              "\n",
              "    .dataframe tbody tr th {\n",
              "        vertical-align: top;\n",
              "    }\n",
              "\n",
              "    .dataframe thead th {\n",
              "        text-align: right;\n",
              "    }\n",
              "</style>\n",
              "<table border=\"1\" class=\"dataframe\">\n",
              "  <thead>\n",
              "    <tr style=\"text-align: right;\">\n",
              "      <th></th>\n",
              "      <th>year</th>\n",
              "      <th>month</th>\n",
              "      <th>day</th>\n",
              "      <th>user_id</th>\n",
              "      <th>movie_id</th>\n",
              "      <th>watch_duration_minutes</th>\n",
              "      <th>datetime</th>\n",
              "      <th>title</th>\n",
              "      <th>entity_type</th>\n",
              "      <th>genres</th>\n",
              "      <th>actors</th>\n",
              "      <th>director</th>\n",
              "      <th>country</th>\n",
              "      <th>release_world</th>\n",
              "      <th>age_rating</th>\n",
              "      <th>duration</th>\n",
              "      <th>watched_pct</th>\n",
              "    </tr>\n",
              "  </thead>\n",
              "  <tbody>\n",
              "    <tr>\n",
              "      <th>933287</th>\n",
              "      <td>2022</td>\n",
              "      <td>11</td>\n",
              "      <td>17</td>\n",
              "      <td>211253884</td>\n",
              "      <td>cab51ef5-4458-45c1-9a5e-b8738b6298a2</td>\n",
              "      <td>0.500</td>\n",
              "      <td>2022-11-17</td>\n",
              "      <td>Белый слон</td>\n",
              "      <td>Фильм</td>\n",
              "      <td>[Криминальное, Боевики, Триллеры]</td>\n",
              "      <td>[Брюс Уиллис, Джон Малкович, Майкл Рукер, Крис...</td>\n",
              "      <td>[Джесси Джонсон]</td>\n",
              "      <td>[США]</td>\n",
              "      <td>2022-06-03</td>\n",
              "      <td>18.000</td>\n",
              "      <td>92.000</td>\n",
              "      <td>0.543</td>\n",
              "    </tr>\n",
              "    <tr>\n",
              "      <th>1591787</th>\n",
              "      <td>2022</td>\n",
              "      <td>12</td>\n",
              "      <td>20</td>\n",
              "      <td>238805298</td>\n",
              "      <td>f5e92e8a-00c1-4b0c-804a-4a936097cb20</td>\n",
              "      <td>1.467</td>\n",
              "      <td>2022-12-20</td>\n",
              "      <td>Эмоджи фильм</td>\n",
              "      <td>Фильм</td>\n",
              "      <td>[Семейное, Мультфильмы]</td>\n",
              "      <td>[Патрик Стюарт, ТиДжей Миллер, Майя Рудольф, А...</td>\n",
              "      <td>[Энтони Леондис]</td>\n",
              "      <td>[США]</td>\n",
              "      <td>2017-07-28</td>\n",
              "      <td>6.000</td>\n",
              "      <td>83.000</td>\n",
              "      <td>1.767</td>\n",
              "    </tr>\n",
              "    <tr>\n",
              "      <th>1655759</th>\n",
              "      <td>2022</td>\n",
              "      <td>12</td>\n",
              "      <td>23</td>\n",
              "      <td>23761707</td>\n",
              "      <td>dfc7e56e-1a1b-40fe-b902-a6561b46bfcc</td>\n",
              "      <td>92.200</td>\n",
              "      <td>2022-12-23</td>\n",
              "      <td>Монстры на каникулах 3: Море зовёт</td>\n",
              "      <td>Фильм</td>\n",
              "      <td>[Семейное, Приключения, Комедии, Фэнтези, Муль...</td>\n",
              "      <td>[Стив Бушеми, Кэтрин Хан, Энди Сэмберг, Адам С...</td>\n",
              "      <td>[Генндий Тартаковский]</td>\n",
              "      <td>[США]</td>\n",
              "      <td>2018-06-13</td>\n",
              "      <td>6.000</td>\n",
              "      <td>98.000</td>\n",
              "      <td>94.082</td>\n",
              "    </tr>\n",
              "    <tr>\n",
              "      <th>976433</th>\n",
              "      <td>2022</td>\n",
              "      <td>11</td>\n",
              "      <td>19</td>\n",
              "      <td>1328799</td>\n",
              "      <td>2e964b6c-17b4-4c47-bdf4-5a044b667bb6</td>\n",
              "      <td>86.783</td>\n",
              "      <td>2022-11-19</td>\n",
              "      <td>Танки</td>\n",
              "      <td>Фильм</td>\n",
              "      <td>[Военное, Приключения, Историческое]</td>\n",
              "      <td>[Андрей Мерзликин, Александр Тютин, Аглая Тара...</td>\n",
              "      <td>[Ким Дружинин]</td>\n",
              "      <td>[Россия]</td>\n",
              "      <td>2018-04-26</td>\n",
              "      <td>12.000</td>\n",
              "      <td>90.000</td>\n",
              "      <td>96.426</td>\n",
              "    </tr>\n",
              "    <tr>\n",
              "      <th>1254173</th>\n",
              "      <td>2022</td>\n",
              "      <td>12</td>\n",
              "      <td>3</td>\n",
              "      <td>238747035</td>\n",
              "      <td>0436e58d-2544-4328-a25d-f28b20b8dacf</td>\n",
              "      <td>64.917</td>\n",
              "      <td>2022-12-03</td>\n",
              "      <td>Стражи Галактики</td>\n",
              "      <td>Фильм</td>\n",
              "      <td>[Боевики, Приключения, Фантастика]</td>\n",
              "      <td>[Зои Салдана, Вин Дизель, Брэдли Купер, Крис П...</td>\n",
              "      <td>[Джеймс Ганн]</td>\n",
              "      <td>[США, Великобритания]</td>\n",
              "      <td>2014-07-21</td>\n",
              "      <td>12.000</td>\n",
              "      <td>117.000</td>\n",
              "      <td>55.484</td>\n",
              "    </tr>\n",
              "  </tbody>\n",
              "</table>\n",
              "</div>"
            ],
            "text/plain": [
              "         year  month  day    user_id                              movie_id  \\\n",
              "933287   2022     11   17  211253884  cab51ef5-4458-45c1-9a5e-b8738b6298a2   \n",
              "1591787  2022     12   20  238805298  f5e92e8a-00c1-4b0c-804a-4a936097cb20   \n",
              "1655759  2022     12   23   23761707  dfc7e56e-1a1b-40fe-b902-a6561b46bfcc   \n",
              "976433   2022     11   19    1328799  2e964b6c-17b4-4c47-bdf4-5a044b667bb6   \n",
              "1254173  2022     12    3  238747035  0436e58d-2544-4328-a25d-f28b20b8dacf   \n",
              "\n",
              "         watch_duration_minutes   datetime  \\\n",
              "933287                    0.500 2022-11-17   \n",
              "1591787                   1.467 2022-12-20   \n",
              "1655759                  92.200 2022-12-23   \n",
              "976433                   86.783 2022-11-19   \n",
              "1254173                  64.917 2022-12-03   \n",
              "\n",
              "                                      title entity_type  \\\n",
              "933287                           Белый слон       Фильм   \n",
              "1591787                        Эмоджи фильм       Фильм   \n",
              "1655759  Монстры на каникулах 3: Море зовёт       Фильм   \n",
              "976433                                Танки       Фильм   \n",
              "1254173                    Стражи Галактики       Фильм   \n",
              "\n",
              "                                                    genres  \\\n",
              "933287                   [Криминальное, Боевики, Триллеры]   \n",
              "1591787                            [Семейное, Мультфильмы]   \n",
              "1655759  [Семейное, Приключения, Комедии, Фэнтези, Муль...   \n",
              "976433                [Военное, Приключения, Историческое]   \n",
              "1254173                 [Боевики, Приключения, Фантастика]   \n",
              "\n",
              "                                                    actors  \\\n",
              "933287   [Брюс Уиллис, Джон Малкович, Майкл Рукер, Крис...   \n",
              "1591787  [Патрик Стюарт, ТиДжей Миллер, Майя Рудольф, А...   \n",
              "1655759  [Стив Бушеми, Кэтрин Хан, Энди Сэмберг, Адам С...   \n",
              "976433   [Андрей Мерзликин, Александр Тютин, Аглая Тара...   \n",
              "1254173  [Зои Салдана, Вин Дизель, Брэдли Купер, Крис П...   \n",
              "\n",
              "                       director                country release_world  \\\n",
              "933287         [Джесси Джонсон]                  [США]    2022-06-03   \n",
              "1591787        [Энтони Леондис]                  [США]    2017-07-28   \n",
              "1655759  [Генндий Тартаковский]                  [США]    2018-06-13   \n",
              "976433           [Ким Дружинин]               [Россия]    2018-04-26   \n",
              "1254173           [Джеймс Ганн]  [США, Великобритания]    2014-07-21   \n",
              "\n",
              "         age_rating  duration  watched_pct  \n",
              "933287       18.000    92.000        0.543  \n",
              "1591787       6.000    83.000        1.767  \n",
              "1655759       6.000    98.000       94.082  \n",
              "976433       12.000    90.000       96.426  \n",
              "1254173      12.000   117.000       55.484  "
            ]
          },
          "execution_count": 189,
          "metadata": {},
          "output_type": "execute_result"
        }
      ],
      "source": [
        "# Не запускалось через ссылку)))\n",
        "interactions_merged = pd.read_parquet('interactions_merged_1.parquet', engine='pyarrow')\n",
        "interactions_merged.sample(5)"
      ]
    },
    {
      "cell_type": "code",
      "execution_count": 190,
      "metadata": {
        "colab": {
          "base_uri": "https://localhost:8080/",
          "height": 206
        },
        "id": "hyAj2UeVd8Vm",
        "outputId": "0cbf746f-f8e0-41ef-9afd-3fdaaed2d72c"
      },
      "outputs": [
        {
          "data": {
            "text/html": [
              "<div>\n",
              "<style scoped>\n",
              "    .dataframe tbody tr th:only-of-type {\n",
              "        vertical-align: middle;\n",
              "    }\n",
              "\n",
              "    .dataframe tbody tr th {\n",
              "        vertical-align: top;\n",
              "    }\n",
              "\n",
              "    .dataframe thead th {\n",
              "        text-align: right;\n",
              "    }\n",
              "</style>\n",
              "<table border=\"1\" class=\"dataframe\">\n",
              "  <thead>\n",
              "    <tr style=\"text-align: right;\">\n",
              "      <th></th>\n",
              "      <th>user_id</th>\n",
              "      <th>movie_id</th>\n",
              "      <th>datetime</th>\n",
              "      <th>watch_duration_minutes</th>\n",
              "      <th>watched_pct</th>\n",
              "    </tr>\n",
              "  </thead>\n",
              "  <tbody>\n",
              "    <tr>\n",
              "      <th>64220</th>\n",
              "      <td>23306981</td>\n",
              "      <td>851671a2-de46-4426-afb6-57120ecab9f1</td>\n",
              "      <td>2022-10-04</td>\n",
              "      <td>47.817</td>\n",
              "      <td>57.610</td>\n",
              "    </tr>\n",
              "    <tr>\n",
              "      <th>1694660</th>\n",
              "      <td>23501174</td>\n",
              "      <td>b7cf945d-1f06-45c7-914b-f7ee0b16d2fb</td>\n",
              "      <td>2022-12-25</td>\n",
              "      <td>86.267</td>\n",
              "      <td>95.852</td>\n",
              "    </tr>\n",
              "    <tr>\n",
              "      <th>1667731</th>\n",
              "      <td>654276</td>\n",
              "      <td>2f15a7b8-7a2c-492f-80fa-06e245706de2</td>\n",
              "      <td>2022-12-24</td>\n",
              "      <td>64.400</td>\n",
              "      <td>75.765</td>\n",
              "    </tr>\n",
              "    <tr>\n",
              "      <th>536152</th>\n",
              "      <td>219506067</td>\n",
              "      <td>ee48def6-c311-4b73-a878-1a5d3d1679a3</td>\n",
              "      <td>2022-10-27</td>\n",
              "      <td>47.967</td>\n",
              "      <td>5.597</td>\n",
              "    </tr>\n",
              "    <tr>\n",
              "      <th>1255275</th>\n",
              "      <td>238775620</td>\n",
              "      <td>e76aa207-8b7b-4f6c-95cc-463db49ef2a1</td>\n",
              "      <td>2022-12-03</td>\n",
              "      <td>89.533</td>\n",
              "      <td>90.438</td>\n",
              "    </tr>\n",
              "  </tbody>\n",
              "</table>\n",
              "</div>"
            ],
            "text/plain": [
              "           user_id                              movie_id   datetime  \\\n",
              "64220     23306981  851671a2-de46-4426-afb6-57120ecab9f1 2022-10-04   \n",
              "1694660   23501174  b7cf945d-1f06-45c7-914b-f7ee0b16d2fb 2022-12-25   \n",
              "1667731     654276  2f15a7b8-7a2c-492f-80fa-06e245706de2 2022-12-24   \n",
              "536152   219506067  ee48def6-c311-4b73-a878-1a5d3d1679a3 2022-10-27   \n",
              "1255275  238775620  e76aa207-8b7b-4f6c-95cc-463db49ef2a1 2022-12-03   \n",
              "\n",
              "         watch_duration_minutes  watched_pct  \n",
              "64220                    47.817       57.610  \n",
              "1694660                  86.267       95.852  \n",
              "1667731                  64.400       75.765  \n",
              "536152                   47.967        5.597  \n",
              "1255275                  89.533       90.438  "
            ]
          },
          "execution_count": 190,
          "metadata": {},
          "output_type": "execute_result"
        }
      ],
      "source": [
        "interactions_merged = interactions_merged[['user_id', 'movie_id', 'datetime', 'watch_duration_minutes', 'watched_pct']]\n",
        "interactions_merged.sample(5)"
      ]
    },
    {
      "cell_type": "markdown",
      "metadata": {
        "id": "0yv91ZJsL_PP"
      },
      "source": [
        "## 2.2. Train/test split"
      ]
    },
    {
      "cell_type": "markdown",
      "metadata": {
        "id": "UGzjsQEIL_PQ"
      },
      "source": [
        "## 2.3 Data preparation using LightFM Dataset (first-level model)"
      ]
    },
    {
      "cell_type": "markdown",
      "metadata": {
        "id": "QpGSo8R6L_PQ"
      },
      "source": [
        "To use implicit kNN method `fit` we need a sparse matrix in COOrdinate format. To achieve that we will use `scipy.sparse.coo_matrix` from scipy;\n"
      ]
    },
    {
      "cell_type": "code",
      "execution_count": 191,
      "metadata": {
        "id": "g8IDfghTL_PQ"
      },
      "outputs": [],
      "source": [
        "# remove redundant data points\n",
        "interactions_filtered = interactions_merged.loc[interactions_merged['watch_duration_minutes'] > 20].reset_index(drop = True)"
      ]
    },
    {
      "cell_type": "code",
      "execution_count": 192,
      "metadata": {
        "colab": {
          "base_uri": "https://localhost:8080/"
        },
        "id": "EjwIGEJNL_PQ",
        "outputId": "872e7429-2ade-4682-8ac2-22fa7530d605"
      },
      "outputs": [
        {
          "name": "stdout",
          "output_type": "stream",
          "text": [
            "(1800000, 5) (1143689, 5)\n"
          ]
        }
      ],
      "source": [
        "print(interactions_merged.shape, interactions_filtered.shape)"
      ]
    },
    {
      "cell_type": "code",
      "execution_count": 193,
      "metadata": {
        "id": "y3TRKAKdL_PR"
      },
      "outputs": [],
      "source": [
        "interactions_filtered['datetime'] = pd.to_datetime(interactions_filtered['datetime'])"
      ]
    },
    {
      "cell_type": "code",
      "execution_count": 194,
      "metadata": {
        "colab": {
          "base_uri": "https://localhost:8080/"
        },
        "id": "Zd_iTuPGL_PR",
        "outputId": "017dc86b-c275-4aa4-86b6-be77d75ac80b"
      },
      "outputs": [
        {
          "name": "stdout",
          "output_type": "stream",
          "text": [
            "min date in filtered interactions: 2022-12-30 00:00:00\n",
            "max date in filtered interactions:: 2022-10-01 00:00:00\n"
          ]
        }
      ],
      "source": [
        "# set dates params for filter\n",
        "MAX_DATE = interactions_filtered['datetime'].max()\n",
        "MIN_DATE = interactions_filtered['datetime'].min()\n",
        "TEST_INTERVAL_DAYS = 14\n",
        "\n",
        "print(f\"min date in filtered interactions: {MAX_DATE}\")\n",
        "print(f\"max date in filtered interactions:: {MIN_DATE}\")"
      ]
    },
    {
      "cell_type": "code",
      "execution_count": 195,
      "metadata": {
        "id": "GEyxWGcTL_PR"
      },
      "outputs": [],
      "source": [
        "TEST_MAX_DATE = MAX_DATE - dt.timedelta(days = TEST_INTERVAL_DAYS)"
      ]
    },
    {
      "cell_type": "code",
      "execution_count": 196,
      "metadata": {
        "colab": {
          "base_uri": "https://localhost:8080/"
        },
        "id": "j2TgKoVzL_PR",
        "outputId": "fed014e7-644a-4404-c888-c5df8fdf1736"
      },
      "outputs": [
        {
          "name": "stdout",
          "output_type": "stream",
          "text": [
            "(952163, 5) (191526, 5)\n"
          ]
        }
      ],
      "source": [
        "# define global train and test\n",
        "global_train = interactions_filtered.loc[interactions_filtered['datetime'] < TEST_MAX_DATE]\n",
        "global_test = interactions_filtered.loc[interactions_filtered['datetime'] >= TEST_MAX_DATE]\n",
        "\n",
        "print(global_train.shape, global_test.shape)"
      ]
    },
    {
      "cell_type": "code",
      "execution_count": 197,
      "metadata": {
        "colab": {
          "base_uri": "https://localhost:8080/"
        },
        "id": "r59WU4FsL_PS",
        "outputId": "67364c44-4266-4491-bffe-5d581b80f475"
      },
      "outputs": [
        {
          "name": "stdout",
          "output_type": "stream",
          "text": [
            "2022-11-23 00:00:00\n"
          ]
        }
      ],
      "source": [
        "# now, we define \"local\" train and test to use some part of the global train for ranker\n",
        "local_train_thresh = global_train['datetime'].quantile(q = .7, interpolation = 'nearest')\n",
        "print(local_train_thresh)"
      ]
    },
    {
      "cell_type": "code",
      "execution_count": 198,
      "metadata": {
        "id": "c-jUinmrL_PS"
      },
      "outputs": [],
      "source": [
        "global_train = global_train.dropna().reset_index(drop = True)"
      ]
    },
    {
      "cell_type": "code",
      "execution_count": 199,
      "metadata": {
        "colab": {
          "base_uri": "https://localhost:8080/"
        },
        "id": "XO9GoUmzL_PS",
        "outputId": "ceef0745-36d3-410d-a5c7-fa2d1e963675"
      },
      "outputs": [
        {
          "name": "stdout",
          "output_type": "stream",
          "text": [
            "(655837, 5) (296326, 5)\n"
          ]
        }
      ],
      "source": [
        "local_train = global_train.loc[global_train['datetime'] < local_train_thresh]\n",
        "local_test = global_train.loc[global_train['datetime'] >= local_train_thresh]\n",
        "\n",
        "print(local_train.shape, local_test.shape)"
      ]
    },
    {
      "cell_type": "code",
      "execution_count": 200,
      "metadata": {
        "colab": {
          "base_uri": "https://localhost:8080/"
        },
        "id": "CA54w_dJL_PS",
        "outputId": "09a303db-b3ca-4323-aa6a-8fd2bbb78f65"
      },
      "outputs": [
        {
          "name": "stdout",
          "output_type": "stream",
          "text": [
            "(247109, 5)\n"
          ]
        }
      ],
      "source": [
        "# finally, we will focus on warm start -- remove cold start users\n",
        "local_test = local_test.loc[local_test['user_id'].isin(local_train['user_id'].unique())]\n",
        "print(local_test.shape)"
      ]
    },
    {
      "cell_type": "code",
      "execution_count": 201,
      "metadata": {
        "id": "Ssaj3dqUL_PT"
      },
      "outputs": [],
      "source": [
        "# init class\n",
        "dataset = Dataset()\n",
        "\n",
        "# fit tuple of user and movie interactions\n",
        "dataset.fit(local_train['user_id'].unique(), local_train['movie_id'].unique())"
      ]
    },
    {
      "cell_type": "code",
      "execution_count": 202,
      "metadata": {
        "id": "L7L9CEtOL_PT"
      },
      "outputs": [],
      "source": [
        "# now, we define lightfm mapper to use it later for checks\n",
        "lightfm_mapping = dataset.mapping()\n",
        "# lightfm_mapping"
      ]
    },
    {
      "cell_type": "code",
      "execution_count": 203,
      "metadata": {
        "colab": {
          "base_uri": "https://localhost:8080/"
        },
        "id": "DkVmv9VeL_PT",
        "outputId": "04d1ec9b-c3b5-4cff-cdd3-260b1fdd27ae"
      },
      "outputs": [
        {
          "name": "stdout",
          "output_type": "stream",
          "text": [
            "user mapper length -  86199\n",
            "user features mapper length -  86199\n",
            "movies mapper length -  12262\n",
            "Users movie features mapper length -  12262\n"
          ]
        }
      ],
      "source": [
        "lightfm_mapping = {\n",
        "    'users_mapping': lightfm_mapping[0],\n",
        "    'user_features_mapping': lightfm_mapping[1],\n",
        "    'items_mapping': lightfm_mapping[2],\n",
        "    'item_features_mapping': lightfm_mapping[3],\n",
        "}\n",
        "print('user mapper length - ', len(lightfm_mapping['users_mapping']))\n",
        "print('user features mapper length - ', len(lightfm_mapping['user_features_mapping']))\n",
        "print('movies mapper length - ', len(lightfm_mapping['items_mapping']))\n",
        "print('Users movie features mapper length - ', len(lightfm_mapping['item_features_mapping']))"
      ]
    },
    {
      "cell_type": "code",
      "execution_count": 204,
      "metadata": {
        "id": "-XgC-syUL_PT"
      },
      "outputs": [],
      "source": [
        "# here we create inverted mappers to check recommendations later\n",
        "lightfm_mapping['users_inv_mapping'] = {v: k for k, v in lightfm_mapping['users_mapping'].items()}\n",
        "lightfm_mapping['items_inv_mapping'] = {v: k for k, v in lightfm_mapping['items_mapping'].items()}"
      ]
    },
    {
      "cell_type": "code",
      "execution_count": 205,
      "metadata": {
        "id": "tKPlwkw8L_PU"
      },
      "outputs": [],
      "source": [
        "# special iterator to use with lightfm\n",
        "def df_to_tuple_iterator(df: pd.DataFrame):\n",
        "    '''\n",
        "    :df: pd.DataFrame, interactions dataframe\n",
        "    returs iterator\n",
        "    '''\n",
        "    return zip(*df.values.T)\n",
        "\n",
        "def concat_last_to_list(t):\n",
        "    return (t[0], list(t[1:])[0])\n",
        "\n",
        "def df_to_tuple_list_iterator(df):\n",
        "    return map(concat_last_to_list, zip(*df.values.T))"
      ]
    },
    {
      "cell_type": "code",
      "execution_count": 206,
      "metadata": {
        "id": "kFeG4GokL_PU"
      },
      "outputs": [],
      "source": [
        "# defining train set on the whole interactions dataset (as HW you will have to split into test and train for evaluation)\n",
        "train_mat, train_mat_weights = dataset.build_interactions(df_to_tuple_iterator(local_train[['user_id', 'movie_id']]))"
      ]
    },
    {
      "cell_type": "code",
      "execution_count": 207,
      "metadata": {
        "colab": {
          "base_uri": "https://localhost:8080/"
        },
        "id": "RX5cmU-xL_PU",
        "outputId": "627dfcf2-9f68-4a9d-9fb3-0db9138f9c5f"
      },
      "outputs": [
        {
          "data": {
            "text/plain": [
              "<86199x12262 sparse matrix of type '<class 'numpy.int32'>'\n",
              "\twith 655837 stored elements in COOrdinate format>"
            ]
          },
          "execution_count": 207,
          "metadata": {},
          "output_type": "execute_result"
        }
      ],
      "source": [
        "train_mat"
      ]
    },
    {
      "cell_type": "code",
      "execution_count": 208,
      "metadata": {
        "colab": {
          "base_uri": "https://localhost:8080/"
        },
        "id": "NPHTHkihL_PU",
        "outputId": "778d7f1d-f9b9-460a-f551-c03e51eb86e5"
      },
      "outputs": [
        {
          "data": {
            "text/plain": [
              "<86199x12262 sparse matrix of type '<class 'numpy.float32'>'\n",
              "\twith 655837 stored elements in COOrdinate format>"
            ]
          },
          "execution_count": 208,
          "metadata": {},
          "output_type": "execute_result"
        }
      ],
      "source": [
        "train_mat_weights"
      ]
    },
    {
      "cell_type": "markdown",
      "metadata": {
        "id": "Jrc5q2gTL_PU"
      },
      "source": [
        "## 2.4. Train LigthFM model"
      ]
    },
    {
      "cell_type": "code",
      "execution_count": 209,
      "metadata": {
        "id": "BbKvdEGrL_PU"
      },
      "outputs": [],
      "source": [
        "# set params - last HW\n",
        "# NO_COMPONENTS = 10\n",
        "# LEARNING_RATE = .05\n",
        "# LOSS = 'logistic'\n",
        "# MAX_SAMPLED = 10\n",
        "# RANDOM_STATE = 42\n",
        "# EPOCHS = 10\n",
        "\n",
        "# set params\n",
        "NO_COMPONENTS = 64\n",
        "LEARNING_RATE = .03\n",
        "LOSS = 'warp'\n",
        "MAX_SAMPLED = 5\n",
        "RANDOM_STATE = 42\n",
        "EPOCHS = 20"
      ]
    },
    {
      "cell_type": "code",
      "execution_count": 210,
      "metadata": {
        "id": "EYSLmx07L_PV"
      },
      "outputs": [],
      "source": [
        "# init model\n",
        "lfm_model = LightFM(\n",
        "    no_components = NO_COMPONENTS,\n",
        "    learning_rate = LEARNING_RATE,\n",
        "    loss = LOSS,\n",
        "    max_sampled = MAX_SAMPLED,\n",
        "    random_state = RANDOM_STATE\n",
        "    )"
      ]
    },
    {
      "cell_type": "code",
      "execution_count": 211,
      "metadata": {
        "colab": {
          "base_uri": "https://localhost:8080/",
          "height": 49,
          "referenced_widgets": [
            "9d22d79ac6944661aaabe97860893b81",
            "f5c583c3d5cc47f0a87d0db8518d4313",
            "087e77e986804861b65845d2a7f1ad04",
            "25417b09cdf84c028819f8baa6e2ea1a",
            "3b34330b9b85433892cd6e3be652e890",
            "c9c8c148934a4e37aa698061e3da01e6",
            "a44fb6a6e694466da7d045c05bcbec71",
            "9c01e731783542248afa050028eee2e5",
            "76d751d4f00d4ec7be936f19e883ab6e",
            "ae1a55ad9fc2451aa32a62ce4e386e36",
            "b8a91b2be03947b9bca6e1c3dc5482d3"
          ]
        },
        "id": "W_JZ-kx2L_PV",
        "outputId": "b61ea8ad-0c1c-47ca-f2eb-7d7f1af3edba"
      },
      "outputs": [
        {
          "data": {
            "application/vnd.jupyter.widget-view+json": {
              "model_id": "30f26e1284194772aa258abca6a43193",
              "version_major": 2,
              "version_minor": 0
            },
            "text/plain": [
              "  0%|          | 0/20 [00:00<?, ?it/s]"
            ]
          },
          "metadata": {},
          "output_type": "display_data"
        }
      ],
      "source": [
        "# execute training\n",
        "for _ in tqdm_notebook(range(EPOCHS), total = EPOCHS):\n",
        "    lfm_model.fit_partial(\n",
        "        train_mat,\n",
        "        num_threads = 4\n",
        "    )"
      ]
    },
    {
      "cell_type": "code",
      "execution_count": 212,
      "metadata": {
        "colab": {
          "base_uri": "https://localhost:8080/"
        },
        "id": "VY9sleaOL_PV",
        "outputId": "01f24f08-5c8d-4989-8fac-60d1e4ccc2d6"
      },
      "outputs": [
        {
          "name": "stdout",
          "output_type": "stream",
          "text": [
            "Rekko for user 150513, row number in matrix - 72\n"
          ]
        }
      ],
      "source": [
        "# let's make sense-check\n",
        "top_N = 10\n",
        "user_id = local_train['user_id'][100]\n",
        "row_id = lightfm_mapping['users_mapping'][user_id]\n",
        "print(f'Rekko for user {user_id}, row number in matrix - {row_id}')"
      ]
    },
    {
      "cell_type": "code",
      "execution_count": 213,
      "metadata": {
        "colab": {
          "base_uri": "https://localhost:8080/"
        },
        "id": "AofwSFHtL_PV",
        "outputId": "69ae7f5d-f090-4d50-dec6-10e2d16758d0"
      },
      "outputs": [
        {
          "data": {
            "text/plain": [
              "12262"
            ]
          },
          "execution_count": 213,
          "metadata": {},
          "output_type": "execute_result"
        }
      ],
      "source": [
        "all_cols = list(lightfm_mapping['items_mapping'].values())\n",
        "len(all_cols)"
      ]
    },
    {
      "cell_type": "code",
      "execution_count": 214,
      "metadata": {
        "colab": {
          "base_uri": "https://localhost:8080/"
        },
        "id": "G0XDhVniL_PV",
        "outputId": "ac6c32ba-d46f-42ec-f4b1-eb34ba974e59"
      },
      "outputs": [
        {
          "data": {
            "text/plain": [
              "(array([ 3.354821  ,  0.9085439 , -0.18029648, ..., -2.8115    ,\n",
              "        -2.301799  , -2.6046305 ], dtype=float32),\n",
              " (12262,))"
            ]
          },
          "execution_count": 214,
          "metadata": {},
          "output_type": "execute_result"
        }
      ],
      "source": [
        "pred = lfm_model.predict(\n",
        "    row_id,\n",
        "    all_cols,\n",
        "    num_threads = 4)\n",
        "pred, pred.shape"
      ]
    },
    {
      "cell_type": "code",
      "execution_count": 215,
      "metadata": {
        "colab": {
          "base_uri": "https://localhost:8080/"
        },
        "id": "8GcF9rlJL_PW",
        "outputId": "4b424356-e553-412b-c64c-3b048f20b004"
      },
      "outputs": [
        {
          "data": {
            "text/plain": [
              "array([ 9910,     0,   325, 10939,  7861, 10946, 10938,    12, 11559,\n",
              "        8597])"
            ]
          },
          "execution_count": 215,
          "metadata": {},
          "output_type": "execute_result"
        }
      ],
      "source": [
        "top_cols = np.argpartition(pred, -np.arange(top_N))[-top_N:][::-1]\n",
        "top_cols"
      ]
    },
    {
      "cell_type": "code",
      "execution_count": 216,
      "metadata": {
        "id": "nXHDLrkML_PW"
      },
      "outputs": [],
      "source": [
        "# crate mapper for movieId and title names\n",
        "item_name_mapper = dict(zip(movies_metadata['movie_id'], movies_metadata['title']))"
      ]
    },
    {
      "cell_type": "code",
      "execution_count": 217,
      "metadata": {
        "colab": {
          "base_uri": "https://localhost:8080/",
          "height": 363
        },
        "id": "BZQpQZydL_PW",
        "outputId": "0b0bd7c1-6a68-4c50-c655-ef5088de8c63"
      },
      "outputs": [
        {
          "data": {
            "text/html": [
              "<div>\n",
              "<style scoped>\n",
              "    .dataframe tbody tr th:only-of-type {\n",
              "        vertical-align: middle;\n",
              "    }\n",
              "\n",
              "    .dataframe tbody tr th {\n",
              "        vertical-align: top;\n",
              "    }\n",
              "\n",
              "    .dataframe thead th {\n",
              "        text-align: right;\n",
              "    }\n",
              "</style>\n",
              "<table border=\"1\" class=\"dataframe\">\n",
              "  <thead>\n",
              "    <tr style=\"text-align: right;\">\n",
              "      <th></th>\n",
              "      <th>col_id</th>\n",
              "      <th>movie_id</th>\n",
              "      <th>title</th>\n",
              "    </tr>\n",
              "  </thead>\n",
              "  <tbody>\n",
              "    <tr>\n",
              "      <th>0</th>\n",
              "      <td>9910</td>\n",
              "      <td>0f33af53-5d2d-4c82-a2e9-307fcabdcb2d</td>\n",
              "      <td>Кунгур</td>\n",
              "    </tr>\n",
              "    <tr>\n",
              "      <th>1</th>\n",
              "      <td>0</td>\n",
              "      <td>91f9d892-a508-4962-91e9-abacd93e0830</td>\n",
              "      <td>1703</td>\n",
              "    </tr>\n",
              "    <tr>\n",
              "      <th>2</th>\n",
              "      <td>325</td>\n",
              "      <td>42f5cb31-f333-426c-a95b-8e106741de38</td>\n",
              "      <td>Вышка</td>\n",
              "    </tr>\n",
              "    <tr>\n",
              "      <th>3</th>\n",
              "      <td>10939</td>\n",
              "      <td>5a3bf8a0-3054-448b-b524-025abea0cac3</td>\n",
              "      <td>Аксентьев</td>\n",
              "    </tr>\n",
              "    <tr>\n",
              "      <th>4</th>\n",
              "      <td>7861</td>\n",
              "      <td>703b202e-1774-4b93-8a0c-e848d7d3abcc</td>\n",
              "      <td>Начать сначала</td>\n",
              "    </tr>\n",
              "    <tr>\n",
              "      <th>5</th>\n",
              "      <td>10946</td>\n",
              "      <td>7dcc3cf7-943b-4964-9b86-a7d9ab5c767d</td>\n",
              "      <td>Три тысячи лет желаний</td>\n",
              "    </tr>\n",
              "    <tr>\n",
              "      <th>6</th>\n",
              "      <td>10938</td>\n",
              "      <td>e5f48804-89a0-45d0-900b-5e88d465954f</td>\n",
              "      <td>Красная Шапочка</td>\n",
              "    </tr>\n",
              "    <tr>\n",
              "      <th>7</th>\n",
              "      <td>12</td>\n",
              "      <td>25ef7e77-d83d-46d1-999a-ca36a045ab9a</td>\n",
              "      <td>Химера</td>\n",
              "    </tr>\n",
              "    <tr>\n",
              "      <th>8</th>\n",
              "      <td>11559</td>\n",
              "      <td>ec0a8ccf-f614-4124-8fd3-dade8dace293</td>\n",
              "      <td>Суперпозиция</td>\n",
              "    </tr>\n",
              "    <tr>\n",
              "      <th>9</th>\n",
              "      <td>8597</td>\n",
              "      <td>28509b56-b1b5-4568-93d6-de7611ef5a2e</td>\n",
              "      <td>Лэйт Найт Скул</td>\n",
              "    </tr>\n",
              "  </tbody>\n",
              "</table>\n",
              "</div>"
            ],
            "text/plain": [
              "   col_id                              movie_id                   title\n",
              "0    9910  0f33af53-5d2d-4c82-a2e9-307fcabdcb2d                  Кунгур\n",
              "1       0  91f9d892-a508-4962-91e9-abacd93e0830                    1703\n",
              "2     325  42f5cb31-f333-426c-a95b-8e106741de38                   Вышка\n",
              "3   10939  5a3bf8a0-3054-448b-b524-025abea0cac3               Аксентьев\n",
              "4    7861  703b202e-1774-4b93-8a0c-e848d7d3abcc          Начать сначала\n",
              "5   10946  7dcc3cf7-943b-4964-9b86-a7d9ab5c767d  Три тысячи лет желаний\n",
              "6   10938  e5f48804-89a0-45d0-900b-5e88d465954f         Красная Шапочка\n",
              "7      12  25ef7e77-d83d-46d1-999a-ca36a045ab9a                  Химера\n",
              "8   11559  ec0a8ccf-f614-4124-8fd3-dade8dace293            Суперпозиция\n",
              "9    8597  28509b56-b1b5-4568-93d6-de7611ef5a2e          Лэйт Найт Скул"
            ]
          },
          "execution_count": 217,
          "metadata": {},
          "output_type": "execute_result"
        }
      ],
      "source": [
        "recs = pd.DataFrame({'col_id': top_cols})\n",
        "recs['movie_id'] = recs['col_id'].map(lightfm_mapping['items_inv_mapping'].get)\n",
        "recs['title'] = recs['movie_id'].map(item_name_mapper)\n",
        "recs"
      ]
    },
    {
      "cell_type": "code",
      "execution_count": 218,
      "metadata": {
        "colab": {
          "base_uri": "https://localhost:8080/"
        },
        "id": "fxkXco09L_PW",
        "outputId": "61592b5b-0905-401b-a8a6-849afc5a4765"
      },
      "outputs": [
        {
          "name": "stdout",
          "output_type": "stream",
          "text": [
            "Rekko for user 219132313, row number in matrix - 671\n"
          ]
        }
      ],
      "source": [
        "# let's make sense-check\n",
        "top_N = 10\n",
        "user_id = local_train['user_id'][1000]\n",
        "row_id = lightfm_mapping['users_mapping'][user_id]\n",
        "print(f'Rekko for user {user_id}, row number in matrix - {row_id}')"
      ]
    },
    {
      "cell_type": "code",
      "execution_count": 219,
      "metadata": {
        "colab": {
          "base_uri": "https://localhost:8080/"
        },
        "id": "_-h5xUOlL_PW",
        "outputId": "8fba5771-dc13-412c-ec9e-a2055d7bc87b"
      },
      "outputs": [
        {
          "data": {
            "text/plain": [
              "(array([ 2.6169252 , -0.20646223, -1.4186534 , ..., -2.2275174 ,\n",
              "        -1.9879644 , -2.3659043 ], dtype=float32),\n",
              " (12262,))"
            ]
          },
          "execution_count": 219,
          "metadata": {},
          "output_type": "execute_result"
        }
      ],
      "source": [
        "pred = lfm_model.predict(\n",
        "    row_id,\n",
        "    all_cols,\n",
        "    num_threads = 4)\n",
        "pred, pred.shape\n"
      ]
    },
    {
      "cell_type": "code",
      "execution_count": 220,
      "metadata": {
        "colab": {
          "base_uri": "https://localhost:8080/"
        },
        "id": "oob_aa9iL_PX",
        "outputId": "4a29c90e-4e96-411e-b318-4a76a8822aad"
      },
      "outputs": [
        {
          "data": {
            "text/plain": [
              "array([    0, 10939,  9910,  6827,    65,    74, 10938,   216,  7861,\n",
              "          12])"
            ]
          },
          "execution_count": 220,
          "metadata": {},
          "output_type": "execute_result"
        }
      ],
      "source": [
        "top_cols = np.argpartition(pred, -np.arange(top_N))[-top_N:][::-1]\n",
        "top_cols"
      ]
    },
    {
      "cell_type": "code",
      "execution_count": 221,
      "metadata": {
        "colab": {
          "base_uri": "https://localhost:8080/",
          "height": 363
        },
        "id": "mafNVYZ0L_PX",
        "outputId": "c1137f68-ee7a-4f19-d092-6c91ead902f7"
      },
      "outputs": [
        {
          "data": {
            "text/html": [
              "<div>\n",
              "<style scoped>\n",
              "    .dataframe tbody tr th:only-of-type {\n",
              "        vertical-align: middle;\n",
              "    }\n",
              "\n",
              "    .dataframe tbody tr th {\n",
              "        vertical-align: top;\n",
              "    }\n",
              "\n",
              "    .dataframe thead th {\n",
              "        text-align: right;\n",
              "    }\n",
              "</style>\n",
              "<table border=\"1\" class=\"dataframe\">\n",
              "  <thead>\n",
              "    <tr style=\"text-align: right;\">\n",
              "      <th></th>\n",
              "      <th>col_id</th>\n",
              "      <th>movie_id</th>\n",
              "      <th>title</th>\n",
              "    </tr>\n",
              "  </thead>\n",
              "  <tbody>\n",
              "    <tr>\n",
              "      <th>0</th>\n",
              "      <td>0</td>\n",
              "      <td>91f9d892-a508-4962-91e9-abacd93e0830</td>\n",
              "      <td>1703</td>\n",
              "    </tr>\n",
              "    <tr>\n",
              "      <th>1</th>\n",
              "      <td>10939</td>\n",
              "      <td>5a3bf8a0-3054-448b-b524-025abea0cac3</td>\n",
              "      <td>Аксентьев</td>\n",
              "    </tr>\n",
              "    <tr>\n",
              "      <th>2</th>\n",
              "      <td>9910</td>\n",
              "      <td>0f33af53-5d2d-4c82-a2e9-307fcabdcb2d</td>\n",
              "      <td>Кунгур</td>\n",
              "    </tr>\n",
              "    <tr>\n",
              "      <th>3</th>\n",
              "      <td>6827</td>\n",
              "      <td>d722f09d-a99d-4c7f-853c-0c77fcd45f35</td>\n",
              "      <td>Барбоскины Team</td>\n",
              "    </tr>\n",
              "    <tr>\n",
              "      <th>4</th>\n",
              "      <td>65</td>\n",
              "      <td>537ece24-2358-4108-a419-85cfd5952607</td>\n",
              "      <td>Пес-самурай и город кошек</td>\n",
              "    </tr>\n",
              "    <tr>\n",
              "      <th>5</th>\n",
              "      <td>74</td>\n",
              "      <td>3cfb5023-3c07-4384-8acf-d488d5a0ffa4</td>\n",
              "      <td>Ворона</td>\n",
              "    </tr>\n",
              "    <tr>\n",
              "      <th>6</th>\n",
              "      <td>10938</td>\n",
              "      <td>e5f48804-89a0-45d0-900b-5e88d465954f</td>\n",
              "      <td>Красная Шапочка</td>\n",
              "    </tr>\n",
              "    <tr>\n",
              "      <th>7</th>\n",
              "      <td>216</td>\n",
              "      <td>37957168-d3fe-4273-89ee-f59a3a1d7c14</td>\n",
              "      <td>Кощей. Похититель невест</td>\n",
              "    </tr>\n",
              "    <tr>\n",
              "      <th>8</th>\n",
              "      <td>7861</td>\n",
              "      <td>703b202e-1774-4b93-8a0c-e848d7d3abcc</td>\n",
              "      <td>Начать сначала</td>\n",
              "    </tr>\n",
              "    <tr>\n",
              "      <th>9</th>\n",
              "      <td>12</td>\n",
              "      <td>25ef7e77-d83d-46d1-999a-ca36a045ab9a</td>\n",
              "      <td>Химера</td>\n",
              "    </tr>\n",
              "  </tbody>\n",
              "</table>\n",
              "</div>"
            ],
            "text/plain": [
              "   col_id                              movie_id                      title\n",
              "0       0  91f9d892-a508-4962-91e9-abacd93e0830                       1703\n",
              "1   10939  5a3bf8a0-3054-448b-b524-025abea0cac3                  Аксентьев\n",
              "2    9910  0f33af53-5d2d-4c82-a2e9-307fcabdcb2d                     Кунгур\n",
              "3    6827  d722f09d-a99d-4c7f-853c-0c77fcd45f35            Барбоскины Team\n",
              "4      65  537ece24-2358-4108-a419-85cfd5952607  Пес-самурай и город кошек\n",
              "5      74  3cfb5023-3c07-4384-8acf-d488d5a0ffa4                     Ворона\n",
              "6   10938  e5f48804-89a0-45d0-900b-5e88d465954f            Красная Шапочка\n",
              "7     216  37957168-d3fe-4273-89ee-f59a3a1d7c14   Кощей. Похититель невест\n",
              "8    7861  703b202e-1774-4b93-8a0c-e848d7d3abcc             Начать сначала\n",
              "9      12  25ef7e77-d83d-46d1-999a-ca36a045ab9a                     Химера"
            ]
          },
          "execution_count": 221,
          "metadata": {},
          "output_type": "execute_result"
        }
      ],
      "source": [
        "recs = pd.DataFrame({'col_id': top_cols})\n",
        "recs['movie_id'] = recs['col_id'].map(lightfm_mapping['items_inv_mapping'].get)\n",
        "recs['title'] = recs['movie_id'].map(item_name_mapper)\n",
        "recs"
      ]
    },
    {
      "cell_type": "code",
      "execution_count": 222,
      "metadata": {
        "colab": {
          "base_uri": "https://localhost:8080/"
        },
        "id": "YVWhjY9vL_PX",
        "outputId": "ca3bfedf-ec76-44ca-bc2b-58546d3d539f"
      },
      "outputs": [
        {
          "data": {
            "text/plain": [
              "37570"
            ]
          },
          "execution_count": 222,
          "metadata": {},
          "output_type": "execute_result"
        }
      ],
      "source": [
        "# let's make predictions for all users in test\n",
        "test_preds = pd.DataFrame({\n",
        "    'user_id': local_test['user_id'].unique()\n",
        "})\n",
        "len(test_preds)"
      ]
    },
    {
      "cell_type": "code",
      "execution_count": 223,
      "metadata": {
        "id": "ZGJA_geuL_PX"
      },
      "outputs": [],
      "source": [
        "# all_recs = pd.DataFrame()\n",
        "# for user in tqdm_notebook(users_mapping.keys()):\n",
        "#     row_id = users_mapping[user]\n",
        "#     pred = lfm_model.predict(\n",
        "#         row_id,\n",
        "#         all_cols,\n",
        "#         num_threads = 4)\n",
        "#     top_cols = np.argpartition(pred, -np.arange(top_N))[-top_N:][::-1]\n",
        "#     user_recs = pd.DataFrame({'col_id': top_cols})\n",
        "#     user_recs['item_id'] = user_recs['col_id'].map(lightfm_mapping['items_inv_mapping'].get)\n",
        "#     user_recs['title'] = user_recs['item_id'].map(item_name_mapper)\n",
        "\n",
        "#     all_recs = pd.concat([all_recs, user_recs], ignore_index = True)"
      ]
    },
    {
      "cell_type": "code",
      "execution_count": 224,
      "metadata": {
        "id": "nQFw5LdgL_PX"
      },
      "outputs": [],
      "source": [
        "def generate_lightfm_recs_mapper(\n",
        "        model: object,\n",
        "        item_ids: list,\n",
        "        known_items: dict,\n",
        "        user_features: list,\n",
        "        item_features: list,\n",
        "        N: int,\n",
        "        user_mapping: dict,\n",
        "        item_inv_mapping: dict,\n",
        "        num_threads: int = 4\n",
        "        ):\n",
        "    def _recs_mapper(user):\n",
        "        user_id = user_mapping[user]\n",
        "        recs = model.predict(\n",
        "            user_id,\n",
        "            item_ids,\n",
        "            user_features = user_features,\n",
        "            item_features = item_features,\n",
        "            num_threads = num_threads)\n",
        "        \n",
        "        additional_N = len(known_items[user_id]) if user_id in known_items else 0\n",
        "        total_N = N + additional_N\n",
        "        top_cols = np.argpartition(recs, -np.arange(total_N))[-total_N:][::-1]\n",
        "        \n",
        "        final_recs = [item_inv_mapping[item] for item in top_cols]\n",
        "        if additional_N > 0:\n",
        "            filter_items = known_items[user_id]\n",
        "            final_recs = [item for item in final_recs if item not in filter_items]\n",
        "        return final_recs[:N]\n",
        "    return _recs_mapper"
      ]
    },
    {
      "cell_type": "code",
      "execution_count": 225,
      "metadata": {
        "id": "PYr2KNPxL_PY"
      },
      "outputs": [],
      "source": [
        "mapper = generate_lightfm_recs_mapper(\n",
        "    lfm_model, \n",
        "    item_ids = all_cols, \n",
        "    known_items = dict(),\n",
        "    N = 20,\n",
        "    user_features = None, \n",
        "    item_features = None, \n",
        "    user_mapping = lightfm_mapping['users_mapping'],\n",
        "    item_inv_mapping = lightfm_mapping['items_inv_mapping'],\n",
        ")"
      ]
    },
    {
      "cell_type": "code",
      "execution_count": 226,
      "metadata": {
        "id": "o6dJz8iuL_PY"
      },
      "outputs": [],
      "source": [
        "test_preds['movie_id'] = test_preds['user_id'].map(mapper)"
      ]
    },
    {
      "cell_type": "code",
      "execution_count": 227,
      "metadata": {
        "colab": {
          "base_uri": "https://localhost:8080/",
          "height": 424
        },
        "id": "MYTwG1Q9u1b_",
        "outputId": "324eb101-89f8-4e86-e663-ec51760c7218"
      },
      "outputs": [
        {
          "data": {
            "text/html": [
              "<div>\n",
              "<style scoped>\n",
              "    .dataframe tbody tr th:only-of-type {\n",
              "        vertical-align: middle;\n",
              "    }\n",
              "\n",
              "    .dataframe tbody tr th {\n",
              "        vertical-align: top;\n",
              "    }\n",
              "\n",
              "    .dataframe thead th {\n",
              "        text-align: right;\n",
              "    }\n",
              "</style>\n",
              "<table border=\"1\" class=\"dataframe\">\n",
              "  <thead>\n",
              "    <tr style=\"text-align: right;\">\n",
              "      <th></th>\n",
              "      <th>user_id</th>\n",
              "      <th>movie_id</th>\n",
              "    </tr>\n",
              "  </thead>\n",
              "  <tbody>\n",
              "    <tr>\n",
              "      <th>0</th>\n",
              "      <td>56250</td>\n",
              "      <td>[91f9d892-a508-4962-91e9-abacd93e0830, 7dcc3cf...</td>\n",
              "    </tr>\n",
              "    <tr>\n",
              "      <th>1</th>\n",
              "      <td>59460</td>\n",
              "      <td>[2ee2fc0c-f650-4f1b-946e-a55a91009178, 3eaf9b2...</td>\n",
              "    </tr>\n",
              "    <tr>\n",
              "      <th>2</th>\n",
              "      <td>59783</td>\n",
              "      <td>[91f9d892-a508-4962-91e9-abacd93e0830, 0f33af5...</td>\n",
              "    </tr>\n",
              "    <tr>\n",
              "      <th>3</th>\n",
              "      <td>60318</td>\n",
              "      <td>[d722f09d-a99d-4c7f-853c-0c77fcd45f35, 70503f6...</td>\n",
              "    </tr>\n",
              "    <tr>\n",
              "      <th>4</th>\n",
              "      <td>62084</td>\n",
              "      <td>[91f9d892-a508-4962-91e9-abacd93e0830, 0f33af5...</td>\n",
              "    </tr>\n",
              "    <tr>\n",
              "      <th>...</th>\n",
              "      <td>...</td>\n",
              "      <td>...</td>\n",
              "    </tr>\n",
              "    <tr>\n",
              "      <th>37565</th>\n",
              "      <td>85017437</td>\n",
              "      <td>[91f9d892-a508-4962-91e9-abacd93e0830, 42f5cb3...</td>\n",
              "    </tr>\n",
              "    <tr>\n",
              "      <th>37566</th>\n",
              "      <td>85018192</td>\n",
              "      <td>[329687f6-5666-4be5-91a8-0112754f35db, 45d2348...</td>\n",
              "    </tr>\n",
              "    <tr>\n",
              "      <th>37567</th>\n",
              "      <td>228375850</td>\n",
              "      <td>[91f9d892-a508-4962-91e9-abacd93e0830, 42f5cb3...</td>\n",
              "    </tr>\n",
              "    <tr>\n",
              "      <th>37568</th>\n",
              "      <td>228375929</td>\n",
              "      <td>[91f9d892-a508-4962-91e9-abacd93e0830, 9db5e3e...</td>\n",
              "    </tr>\n",
              "    <tr>\n",
              "      <th>37569</th>\n",
              "      <td>228376582</td>\n",
              "      <td>[c829f262-ddf1-46b7-a896-a7efc205028c, 7dcc3cf...</td>\n",
              "    </tr>\n",
              "  </tbody>\n",
              "</table>\n",
              "<p>37570 rows × 2 columns</p>\n",
              "</div>"
            ],
            "text/plain": [
              "         user_id                                           movie_id\n",
              "0          56250  [91f9d892-a508-4962-91e9-abacd93e0830, 7dcc3cf...\n",
              "1          59460  [2ee2fc0c-f650-4f1b-946e-a55a91009178, 3eaf9b2...\n",
              "2          59783  [91f9d892-a508-4962-91e9-abacd93e0830, 0f33af5...\n",
              "3          60318  [d722f09d-a99d-4c7f-853c-0c77fcd45f35, 70503f6...\n",
              "4          62084  [91f9d892-a508-4962-91e9-abacd93e0830, 0f33af5...\n",
              "...          ...                                                ...\n",
              "37565   85017437  [91f9d892-a508-4962-91e9-abacd93e0830, 42f5cb3...\n",
              "37566   85018192  [329687f6-5666-4be5-91a8-0112754f35db, 45d2348...\n",
              "37567  228375850  [91f9d892-a508-4962-91e9-abacd93e0830, 42f5cb3...\n",
              "37568  228375929  [91f9d892-a508-4962-91e9-abacd93e0830, 9db5e3e...\n",
              "37569  228376582  [c829f262-ddf1-46b7-a896-a7efc205028c, 7dcc3cf...\n",
              "\n",
              "[37570 rows x 2 columns]"
            ]
          },
          "execution_count": 227,
          "metadata": {},
          "output_type": "execute_result"
        }
      ],
      "source": [
        "test_preds"
      ]
    },
    {
      "cell_type": "code",
      "execution_count": 228,
      "metadata": {
        "colab": {
          "base_uri": "https://localhost:8080/"
        },
        "id": "S4IoldOWL_PY",
        "outputId": "bb8f6f38-4c0d-4cd8-f8f8-758b0e50d874"
      },
      "outputs": [
        {
          "data": {
            "text/plain": [
              "(751400, 2)"
            ]
          },
          "execution_count": 228,
          "metadata": {},
          "output_type": "execute_result"
        }
      ],
      "source": [
        "test_preds = test_preds.explode('movie_id')\n",
        "test_preds.shape"
      ]
    },
    {
      "cell_type": "code",
      "execution_count": 229,
      "metadata": {
        "id": "mJf-pII5L_PY"
      },
      "outputs": [],
      "source": [
        "test_preds['rank'] = test_preds.groupby('user_id').cumcount() + 1 "
      ]
    },
    {
      "cell_type": "code",
      "execution_count": 230,
      "metadata": {
        "colab": {
          "base_uri": "https://localhost:8080/",
          "height": 206
        },
        "id": "nCSwXbleL_PY",
        "outputId": "20875925-97cd-43c5-9b54-5cfdf1a625f9"
      },
      "outputs": [
        {
          "data": {
            "text/html": [
              "<div>\n",
              "<style scoped>\n",
              "    .dataframe tbody tr th:only-of-type {\n",
              "        vertical-align: middle;\n",
              "    }\n",
              "\n",
              "    .dataframe tbody tr th {\n",
              "        vertical-align: top;\n",
              "    }\n",
              "\n",
              "    .dataframe thead th {\n",
              "        text-align: right;\n",
              "    }\n",
              "</style>\n",
              "<table border=\"1\" class=\"dataframe\">\n",
              "  <thead>\n",
              "    <tr style=\"text-align: right;\">\n",
              "      <th></th>\n",
              "      <th>user_id</th>\n",
              "      <th>movie_id</th>\n",
              "      <th>rank</th>\n",
              "    </tr>\n",
              "  </thead>\n",
              "  <tbody>\n",
              "    <tr>\n",
              "      <th>0</th>\n",
              "      <td>56250</td>\n",
              "      <td>91f9d892-a508-4962-91e9-abacd93e0830</td>\n",
              "      <td>1</td>\n",
              "    </tr>\n",
              "    <tr>\n",
              "      <th>0</th>\n",
              "      <td>56250</td>\n",
              "      <td>7dcc3cf7-943b-4964-9b86-a7d9ab5c767d</td>\n",
              "      <td>2</td>\n",
              "    </tr>\n",
              "    <tr>\n",
              "      <th>0</th>\n",
              "      <td>56250</td>\n",
              "      <td>62541c49-7a32-45d0-8981-44ee6968d329</td>\n",
              "      <td>3</td>\n",
              "    </tr>\n",
              "    <tr>\n",
              "      <th>0</th>\n",
              "      <td>56250</td>\n",
              "      <td>7dcafba8-7fde-4e85-bf83-e65bada687eb</td>\n",
              "      <td>4</td>\n",
              "    </tr>\n",
              "    <tr>\n",
              "      <th>0</th>\n",
              "      <td>56250</td>\n",
              "      <td>1dbd646f-1c33-4584-b411-efc9da56c702</td>\n",
              "      <td>5</td>\n",
              "    </tr>\n",
              "  </tbody>\n",
              "</table>\n",
              "</div>"
            ],
            "text/plain": [
              "   user_id                              movie_id  rank\n",
              "0    56250  91f9d892-a508-4962-91e9-abacd93e0830     1\n",
              "0    56250  7dcc3cf7-943b-4964-9b86-a7d9ab5c767d     2\n",
              "0    56250  62541c49-7a32-45d0-8981-44ee6968d329     3\n",
              "0    56250  7dcafba8-7fde-4e85-bf83-e65bada687eb     4\n",
              "0    56250  1dbd646f-1c33-4584-b411-efc9da56c702     5"
            ]
          },
          "execution_count": 230,
          "metadata": {},
          "output_type": "execute_result"
        }
      ],
      "source": [
        "test_preds.head()"
      ]
    },
    {
      "cell_type": "code",
      "execution_count": 231,
      "metadata": {
        "colab": {
          "base_uri": "https://localhost:8080/",
          "height": 206
        },
        "id": "cOX2gam4L_PZ",
        "outputId": "3bc8892a-0e64-4db5-aceb-a2ef19ecfe30"
      },
      "outputs": [
        {
          "data": {
            "text/html": [
              "<div>\n",
              "<style scoped>\n",
              "    .dataframe tbody tr th:only-of-type {\n",
              "        vertical-align: middle;\n",
              "    }\n",
              "\n",
              "    .dataframe tbody tr th {\n",
              "        vertical-align: top;\n",
              "    }\n",
              "\n",
              "    .dataframe thead th {\n",
              "        text-align: right;\n",
              "    }\n",
              "</style>\n",
              "<table border=\"1\" class=\"dataframe\">\n",
              "  <thead>\n",
              "    <tr style=\"text-align: right;\">\n",
              "      <th></th>\n",
              "      <th>user_id</th>\n",
              "      <th>movie_id</th>\n",
              "      <th>rank</th>\n",
              "      <th>movie_name</th>\n",
              "    </tr>\n",
              "  </thead>\n",
              "  <tbody>\n",
              "    <tr>\n",
              "      <th>0</th>\n",
              "      <td>56250</td>\n",
              "      <td>91f9d892-a508-4962-91e9-abacd93e0830</td>\n",
              "      <td>1</td>\n",
              "      <td>1703</td>\n",
              "    </tr>\n",
              "    <tr>\n",
              "      <th>0</th>\n",
              "      <td>56250</td>\n",
              "      <td>7dcc3cf7-943b-4964-9b86-a7d9ab5c767d</td>\n",
              "      <td>2</td>\n",
              "      <td>Три тысячи лет желаний</td>\n",
              "    </tr>\n",
              "    <tr>\n",
              "      <th>0</th>\n",
              "      <td>56250</td>\n",
              "      <td>62541c49-7a32-45d0-8981-44ee6968d329</td>\n",
              "      <td>3</td>\n",
              "      <td>Дом Дракона</td>\n",
              "    </tr>\n",
              "    <tr>\n",
              "      <th>0</th>\n",
              "      <td>56250</td>\n",
              "      <td>7dcafba8-7fde-4e85-bf83-e65bada687eb</td>\n",
              "      <td>4</td>\n",
              "      <td>9 Рота</td>\n",
              "    </tr>\n",
              "    <tr>\n",
              "      <th>0</th>\n",
              "      <td>56250</td>\n",
              "      <td>1dbd646f-1c33-4584-b411-efc9da56c702</td>\n",
              "      <td>5</td>\n",
              "      <td>RRR: Рядом ревет революция</td>\n",
              "    </tr>\n",
              "  </tbody>\n",
              "</table>\n",
              "</div>"
            ],
            "text/plain": [
              "   user_id                              movie_id  rank  \\\n",
              "0    56250  91f9d892-a508-4962-91e9-abacd93e0830     1   \n",
              "0    56250  7dcc3cf7-943b-4964-9b86-a7d9ab5c767d     2   \n",
              "0    56250  62541c49-7a32-45d0-8981-44ee6968d329     3   \n",
              "0    56250  7dcafba8-7fde-4e85-bf83-e65bada687eb     4   \n",
              "0    56250  1dbd646f-1c33-4584-b411-efc9da56c702     5   \n",
              "\n",
              "                   movie_name  \n",
              "0                        1703  \n",
              "0      Три тысячи лет желаний  \n",
              "0                 Дом Дракона  \n",
              "0                      9 Рота  \n",
              "0  RRR: Рядом ревет революция  "
            ]
          },
          "execution_count": 231,
          "metadata": {},
          "output_type": "execute_result"
        }
      ],
      "source": [
        "test_preds['movie_name'] = test_preds['movie_id'].map(item_name_mapper)\n",
        "test_preds.head()"
      ]
    },
    {
      "cell_type": "code",
      "execution_count": 232,
      "metadata": {
        "colab": {
          "base_uri": "https://localhost:8080/"
        },
        "id": "ZWWvWGGK6oSt",
        "outputId": "93cfe35b-726c-4f62-bbf9-ac59fffedcb7"
      },
      "outputs": [
        {
          "data": {
            "text/plain": [
              "(37570,)"
            ]
          },
          "execution_count": 232,
          "metadata": {},
          "output_type": "execute_result"
        }
      ],
      "source": [
        "test_preds['user_id'].unique().shape"
      ]
    },
    {
      "cell_type": "code",
      "execution_count": 233,
      "metadata": {
        "colab": {
          "base_uri": "https://localhost:8080/"
        },
        "id": "Mhp2eerv6u3s",
        "outputId": "b39a650a-a308-44d0-ae48-9f3dcc78ce80"
      },
      "outputs": [
        {
          "data": {
            "text/plain": [
              "20.0"
            ]
          },
          "execution_count": 233,
          "metadata": {},
          "output_type": "execute_result"
        }
      ],
      "source": [
        "test_preds.shape[0] / test_preds['user_id'].unique().shape[0]"
      ]
    },
    {
      "cell_type": "code",
      "execution_count": 234,
      "metadata": {
        "colab": {
          "base_uri": "https://localhost:8080/"
        },
        "id": "l7wCLQp_L_PZ",
        "outputId": "a1e86263-ac5e-44f5-815b-7968749a5056"
      },
      "outputs": [
        {
          "data": {
            "text/plain": [
              "3234"
            ]
          },
          "execution_count": 234,
          "metadata": {},
          "output_type": "execute_result"
        }
      ],
      "source": [
        "# sense check for diversity of recommendations\n",
        "test_preds['movie_id'].nunique()"
      ]
    },
    {
      "cell_type": "code",
      "execution_count": 235,
      "metadata": {
        "colab": {
          "base_uri": "https://localhost:8080/",
          "height": 424
        },
        "id": "RLMZl5rqdSRz",
        "outputId": "656210bd-4edc-4d02-ba22-83b5f1023a5c"
      },
      "outputs": [
        {
          "data": {
            "text/html": [
              "<div>\n",
              "<style scoped>\n",
              "    .dataframe tbody tr th:only-of-type {\n",
              "        vertical-align: middle;\n",
              "    }\n",
              "\n",
              "    .dataframe tbody tr th {\n",
              "        vertical-align: top;\n",
              "    }\n",
              "\n",
              "    .dataframe thead th {\n",
              "        text-align: right;\n",
              "    }\n",
              "</style>\n",
              "<table border=\"1\" class=\"dataframe\">\n",
              "  <thead>\n",
              "    <tr style=\"text-align: right;\">\n",
              "      <th></th>\n",
              "      <th>user_id</th>\n",
              "      <th>movie_id</th>\n",
              "      <th>rank</th>\n",
              "      <th>movie_name</th>\n",
              "    </tr>\n",
              "  </thead>\n",
              "  <tbody>\n",
              "    <tr>\n",
              "      <th>0</th>\n",
              "      <td>56250</td>\n",
              "      <td>91f9d892-a508-4962-91e9-abacd93e0830</td>\n",
              "      <td>1</td>\n",
              "      <td>1703</td>\n",
              "    </tr>\n",
              "    <tr>\n",
              "      <th>0</th>\n",
              "      <td>56250</td>\n",
              "      <td>7dcc3cf7-943b-4964-9b86-a7d9ab5c767d</td>\n",
              "      <td>2</td>\n",
              "      <td>Три тысячи лет желаний</td>\n",
              "    </tr>\n",
              "    <tr>\n",
              "      <th>0</th>\n",
              "      <td>56250</td>\n",
              "      <td>62541c49-7a32-45d0-8981-44ee6968d329</td>\n",
              "      <td>3</td>\n",
              "      <td>Дом Дракона</td>\n",
              "    </tr>\n",
              "    <tr>\n",
              "      <th>0</th>\n",
              "      <td>56250</td>\n",
              "      <td>7dcafba8-7fde-4e85-bf83-e65bada687eb</td>\n",
              "      <td>4</td>\n",
              "      <td>9 Рота</td>\n",
              "    </tr>\n",
              "    <tr>\n",
              "      <th>0</th>\n",
              "      <td>56250</td>\n",
              "      <td>1dbd646f-1c33-4584-b411-efc9da56c702</td>\n",
              "      <td>5</td>\n",
              "      <td>RRR: Рядом ревет революция</td>\n",
              "    </tr>\n",
              "    <tr>\n",
              "      <th>...</th>\n",
              "      <td>...</td>\n",
              "      <td>...</td>\n",
              "      <td>...</td>\n",
              "      <td>...</td>\n",
              "    </tr>\n",
              "    <tr>\n",
              "      <th>37569</th>\n",
              "      <td>228376582</td>\n",
              "      <td>1c881a11-5f22-47a0-a5df-1e045061de97</td>\n",
              "      <td>16</td>\n",
              "      <td>Пятьдесят оттенков серого</td>\n",
              "    </tr>\n",
              "    <tr>\n",
              "      <th>37569</th>\n",
              "      <td>228376582</td>\n",
              "      <td>b8f3f92c-d773-429e-8797-38dcb01bd3cc</td>\n",
              "      <td>17</td>\n",
              "      <td>Притворись моей женой</td>\n",
              "    </tr>\n",
              "    <tr>\n",
              "      <th>37569</th>\n",
              "      <td>228376582</td>\n",
              "      <td>742a37ae-b5c8-4553-8bde-f333d36b4290</td>\n",
              "      <td>18</td>\n",
              "      <td>После. Долго и счастливо</td>\n",
              "    </tr>\n",
              "    <tr>\n",
              "      <th>37569</th>\n",
              "      <td>228376582</td>\n",
              "      <td>0f33af53-5d2d-4c82-a2e9-307fcabdcb2d</td>\n",
              "      <td>19</td>\n",
              "      <td>Кунгур</td>\n",
              "    </tr>\n",
              "    <tr>\n",
              "      <th>37569</th>\n",
              "      <td>228376582</td>\n",
              "      <td>390aae86-4a2e-458c-9b35-98ab843dfa52</td>\n",
              "      <td>20</td>\n",
              "      <td>Молчание ягнят</td>\n",
              "    </tr>\n",
              "  </tbody>\n",
              "</table>\n",
              "<p>751400 rows × 4 columns</p>\n",
              "</div>"
            ],
            "text/plain": [
              "         user_id                              movie_id  rank  \\\n",
              "0          56250  91f9d892-a508-4962-91e9-abacd93e0830     1   \n",
              "0          56250  7dcc3cf7-943b-4964-9b86-a7d9ab5c767d     2   \n",
              "0          56250  62541c49-7a32-45d0-8981-44ee6968d329     3   \n",
              "0          56250  7dcafba8-7fde-4e85-bf83-e65bada687eb     4   \n",
              "0          56250  1dbd646f-1c33-4584-b411-efc9da56c702     5   \n",
              "...          ...                                   ...   ...   \n",
              "37569  228376582  1c881a11-5f22-47a0-a5df-1e045061de97    16   \n",
              "37569  228376582  b8f3f92c-d773-429e-8797-38dcb01bd3cc    17   \n",
              "37569  228376582  742a37ae-b5c8-4553-8bde-f333d36b4290    18   \n",
              "37569  228376582  0f33af53-5d2d-4c82-a2e9-307fcabdcb2d    19   \n",
              "37569  228376582  390aae86-4a2e-458c-9b35-98ab843dfa52    20   \n",
              "\n",
              "                       movie_name  \n",
              "0                            1703  \n",
              "0          Три тысячи лет желаний  \n",
              "0                     Дом Дракона  \n",
              "0                          9 Рота  \n",
              "0      RRR: Рядом ревет революция  \n",
              "...                           ...  \n",
              "37569   Пятьдесят оттенков серого  \n",
              "37569       Притворись моей женой  \n",
              "37569    После. Долго и счастливо  \n",
              "37569                      Кунгур  \n",
              "37569              Молчание ягнят  \n",
              "\n",
              "[751400 rows x 4 columns]"
            ]
          },
          "execution_count": 235,
          "metadata": {},
          "output_type": "execute_result"
        }
      ],
      "source": [
        "test_preds"
      ]
    },
    {
      "cell_type": "code",
      "execution_count": 236,
      "metadata": {
        "colab": {
          "base_uri": "https://localhost:8080/",
          "height": 424
        },
        "id": "Jm2J88FsdUeQ",
        "outputId": "a2dd6f0c-6887-4e87-b7eb-7958dd953d5b"
      },
      "outputs": [
        {
          "data": {
            "text/html": [
              "<div>\n",
              "<style scoped>\n",
              "    .dataframe tbody tr th:only-of-type {\n",
              "        vertical-align: middle;\n",
              "    }\n",
              "\n",
              "    .dataframe tbody tr th {\n",
              "        vertical-align: top;\n",
              "    }\n",
              "\n",
              "    .dataframe thead th {\n",
              "        text-align: right;\n",
              "    }\n",
              "</style>\n",
              "<table border=\"1\" class=\"dataframe\">\n",
              "  <thead>\n",
              "    <tr style=\"text-align: right;\">\n",
              "      <th></th>\n",
              "      <th>user_id</th>\n",
              "      <th>movie_id</th>\n",
              "      <th>datetime</th>\n",
              "      <th>watch_duration_minutes</th>\n",
              "      <th>watched_pct</th>\n",
              "    </tr>\n",
              "  </thead>\n",
              "  <tbody>\n",
              "    <tr>\n",
              "      <th>655837</th>\n",
              "      <td>56250</td>\n",
              "      <td>2cfa34b9-ead0-4fae-b5ea-9292cb90e804</td>\n",
              "      <td>2022-11-23</td>\n",
              "      <td>113.167</td>\n",
              "      <td>87.051</td>\n",
              "    </tr>\n",
              "    <tr>\n",
              "      <th>655838</th>\n",
              "      <td>59460</td>\n",
              "      <td>b7b03ab1-5e77-48a0-8f68-56eaa8dd3c7c</td>\n",
              "      <td>2022-11-23</td>\n",
              "      <td>51.967</td>\n",
              "      <td>54.702</td>\n",
              "    </tr>\n",
              "    <tr>\n",
              "      <th>655839</th>\n",
              "      <td>59783</td>\n",
              "      <td>414e6e2c-71ce-4449-97c8-84f62bb07505</td>\n",
              "      <td>2022-11-23</td>\n",
              "      <td>56.867</td>\n",
              "      <td>56.867</td>\n",
              "    </tr>\n",
              "    <tr>\n",
              "      <th>655840</th>\n",
              "      <td>59783</td>\n",
              "      <td>9c98f362-737c-47eb-a500-046c998fa888</td>\n",
              "      <td>2022-11-23</td>\n",
              "      <td>68.133</td>\n",
              "      <td>63.676</td>\n",
              "    </tr>\n",
              "    <tr>\n",
              "      <th>655841</th>\n",
              "      <td>60318</td>\n",
              "      <td>d2f3976f-db5c-4009-8a05-668673f577a0</td>\n",
              "      <td>2022-11-23</td>\n",
              "      <td>194.533</td>\n",
              "      <td>243.167</td>\n",
              "    </tr>\n",
              "    <tr>\n",
              "      <th>...</th>\n",
              "      <td>...</td>\n",
              "      <td>...</td>\n",
              "      <td>...</td>\n",
              "      <td>...</td>\n",
              "      <td>...</td>\n",
              "    </tr>\n",
              "    <tr>\n",
              "      <th>952153</th>\n",
              "      <td>219494372</td>\n",
              "      <td>1e839199-ebfc-498a-bf87-c53cd405715a</td>\n",
              "      <td>2022-12-15</td>\n",
              "      <td>57.633</td>\n",
              "      <td>42.691</td>\n",
              "    </tr>\n",
              "    <tr>\n",
              "      <th>952155</th>\n",
              "      <td>219496169</td>\n",
              "      <td>799fcf33-cce1-4fc9-ae31-cbfb3cd15c62</td>\n",
              "      <td>2022-12-15</td>\n",
              "      <td>105.517</td>\n",
              "      <td>96.804</td>\n",
              "    </tr>\n",
              "    <tr>\n",
              "      <th>952156</th>\n",
              "      <td>219496310</td>\n",
              "      <td>28acee6f-09b6-4704-866d-acd6b93788ef</td>\n",
              "      <td>2022-12-15</td>\n",
              "      <td>89.033</td>\n",
              "      <td>100.037</td>\n",
              "    </tr>\n",
              "    <tr>\n",
              "      <th>952160</th>\n",
              "      <td>2240699</td>\n",
              "      <td>52179ae0-41d8-45ed-8f5f-a7c110efd6a6</td>\n",
              "      <td>2022-12-15</td>\n",
              "      <td>43.550</td>\n",
              "      <td>33.500</td>\n",
              "    </tr>\n",
              "    <tr>\n",
              "      <th>952161</th>\n",
              "      <td>2240699</td>\n",
              "      <td>2552fff3-256b-43a6-b470-f198c0dd8e0d</td>\n",
              "      <td>2022-12-15</td>\n",
              "      <td>44.967</td>\n",
              "      <td>52.902</td>\n",
              "    </tr>\n",
              "  </tbody>\n",
              "</table>\n",
              "<p>247109 rows × 5 columns</p>\n",
              "</div>"
            ],
            "text/plain": [
              "          user_id                              movie_id   datetime  \\\n",
              "655837      56250  2cfa34b9-ead0-4fae-b5ea-9292cb90e804 2022-11-23   \n",
              "655838      59460  b7b03ab1-5e77-48a0-8f68-56eaa8dd3c7c 2022-11-23   \n",
              "655839      59783  414e6e2c-71ce-4449-97c8-84f62bb07505 2022-11-23   \n",
              "655840      59783  9c98f362-737c-47eb-a500-046c998fa888 2022-11-23   \n",
              "655841      60318  d2f3976f-db5c-4009-8a05-668673f577a0 2022-11-23   \n",
              "...           ...                                   ...        ...   \n",
              "952153  219494372  1e839199-ebfc-498a-bf87-c53cd405715a 2022-12-15   \n",
              "952155  219496169  799fcf33-cce1-4fc9-ae31-cbfb3cd15c62 2022-12-15   \n",
              "952156  219496310  28acee6f-09b6-4704-866d-acd6b93788ef 2022-12-15   \n",
              "952160    2240699  52179ae0-41d8-45ed-8f5f-a7c110efd6a6 2022-12-15   \n",
              "952161    2240699  2552fff3-256b-43a6-b470-f198c0dd8e0d 2022-12-15   \n",
              "\n",
              "        watch_duration_minutes  watched_pct  \n",
              "655837                 113.167       87.051  \n",
              "655838                  51.967       54.702  \n",
              "655839                  56.867       56.867  \n",
              "655840                  68.133       63.676  \n",
              "655841                 194.533      243.167  \n",
              "...                        ...          ...  \n",
              "952153                  57.633       42.691  \n",
              "952155                 105.517       96.804  \n",
              "952156                  89.033      100.037  \n",
              "952160                  43.550       33.500  \n",
              "952161                  44.967       52.902  \n",
              "\n",
              "[247109 rows x 5 columns]"
            ]
          },
          "execution_count": 236,
          "metadata": {},
          "output_type": "execute_result"
        }
      ],
      "source": [
        "local_test"
      ]
    },
    {
      "cell_type": "markdown",
      "metadata": {
        "id": "trzbd4pqL_PZ"
      },
      "source": [
        "## 2.5. CatBoostClassifier"
      ]
    },
    {
      "cell_type": "markdown",
      "metadata": {
        "id": "LTBwp5ZuL_PZ"
      },
      "source": [
        "### 2.5.1. Data Preparation"
      ]
    },
    {
      "cell_type": "markdown",
      "metadata": {
        "id": "Kek_K4naL_PZ"
      },
      "source": [
        "Now, we need to creat 0/1 as indication of interaction:\n",
        "\n",
        "- positive event -- 1, if watch_pct is not null;\n",
        "- negative event -- 0 otherwise"
      ]
    },
    {
      "cell_type": "code",
      "execution_count": 237,
      "metadata": {
        "colab": {
          "base_uri": "https://localhost:8080/"
        },
        "id": "wlWI3pKAL_PZ",
        "outputId": "77c05781-7757-4ca6-82ef-f59f205ad5b4"
      },
      "outputs": [
        {
          "data": {
            "text/plain": [
              "(27863, 8)"
            ]
          },
          "execution_count": 237,
          "metadata": {},
          "output_type": "execute_result"
        }
      ],
      "source": [
        "positive_preds = pd.merge(test_preds, local_test, how = 'inner', on = ['user_id', 'movie_id'])\n",
        "positive_preds['target'] = 1\n",
        "positive_preds.shape"
      ]
    },
    {
      "cell_type": "code",
      "execution_count": 238,
      "metadata": {
        "colab": {
          "base_uri": "https://localhost:8080/"
        },
        "id": "6y0jyX_1L_Pa",
        "outputId": "13ab0628-ad4e-4b7d-a4a0-ba4eab0f05f2"
      },
      "outputs": [
        {
          "data": {
            "text/plain": [
              "(146223, 8)"
            ]
          },
          "execution_count": 238,
          "metadata": {},
          "output_type": "execute_result"
        }
      ],
      "source": [
        "negative_preds = pd.merge(test_preds, local_test, how = 'left', on = ['user_id', 'movie_id'])\n",
        "negative_preds = negative_preds.loc[negative_preds['watched_pct'].isnull()].sample(frac = .2)\n",
        "negative_preds['target'] = 0\n",
        "negative_preds.shape"
      ]
    },
    {
      "cell_type": "code",
      "execution_count": 239,
      "metadata": {
        "id": "1L7zJrQ4L_Pa"
      },
      "outputs": [],
      "source": [
        "# random split to train ranker\n",
        "train_users, test_users = train_test_split(\n",
        "    local_test['user_id'].unique(),\n",
        "    test_size = .2,\n",
        "    random_state = 13\n",
        "    )"
      ]
    },
    {
      "cell_type": "code",
      "execution_count": 240,
      "metadata": {
        "id": "fco3DvV-L_Pa"
      },
      "outputs": [],
      "source": [
        "cbm_train_set = shuffle(\n",
        "    pd.concat(\n",
        "    [positive_preds.loc[positive_preds['user_id'].isin(train_users)],\n",
        "    negative_preds.loc[negative_preds['user_id'].isin(train_users)]]\n",
        "    )\n",
        ")"
      ]
    },
    {
      "cell_type": "code",
      "execution_count": 241,
      "metadata": {
        "id": "PpC5pZ-bL_Pa"
      },
      "outputs": [],
      "source": [
        "cbm_test_set = shuffle(\n",
        "    pd.concat(\n",
        "    [positive_preds.loc[positive_preds['user_id'].isin(test_users)],\n",
        "    negative_preds.loc[negative_preds['user_id'].isin(test_users)]]\n",
        "    )\n",
        ")"
      ]
    },
    {
      "cell_type": "code",
      "execution_count": 242,
      "metadata": {
        "colab": {
          "base_uri": "https://localhost:8080/"
        },
        "id": "ArM4lVbtL_Pa",
        "outputId": "af23f985-e58f-4fb4-9300-8418085c622b"
      },
      "outputs": [
        {
          "name": "stdout",
          "output_type": "stream",
          "text": [
            "TRAIN:             user_id       rank  watch_duration_minutes  watched_pct     target\n",
            "count    139093.000 139093.000               22078.000    22078.000 139093.000\n",
            "mean  154630190.140     10.167                  71.977       65.507      0.159\n",
            "std    97560174.807      5.827                  42.882       46.532      0.365\n",
            "min       56250.000      1.000                  20.017        0.286      0.000\n",
            "25%    23907828.000      5.000                  42.850       30.917      0.000\n",
            "50%   211273696.000     10.000                  66.583       66.402      0.000\n",
            "75%   228377650.000     15.000                  92.329       93.465      0.000\n",
            "max   239441262.000     20.000                 787.650      896.462      1.000 \n",
            ", TEST:             user_id      rank  watch_duration_minutes  watched_pct    target\n",
            "count     34993.000 34993.000                5785.000     5785.000 34993.000\n",
            "mean  156601000.608    10.154                  72.585       67.741     0.165\n",
            "std    96937388.624     5.827                  45.766       48.646     0.371\n",
            "min       57687.000     1.000                  20.050        0.306     0.000\n",
            "25%    24017660.000     5.000                  42.750       31.949     0.000\n",
            "50%   211295073.000    10.000                  68.033       68.551     0.000\n",
            "75%   228378878.000    15.000                  92.783       94.150     0.000\n",
            "max   239437227.000    20.000                1244.400      915.000     1.000\n"
          ]
        }
      ],
      "source": [
        "print(f'TRAIN: {cbm_train_set.describe()} \\n, TEST: {cbm_test_set.describe()}')"
      ]
    },
    {
      "cell_type": "code",
      "execution_count": 243,
      "metadata": {
        "colab": {
          "base_uri": "https://localhost:8080/",
          "height": 406
        },
        "id": "9hb50CHwi_eg",
        "outputId": "63e62c96-30b6-4060-814c-9eca8cdeb841"
      },
      "outputs": [
        {
          "data": {
            "text/html": [
              "<div>\n",
              "<style scoped>\n",
              "    .dataframe tbody tr th:only-of-type {\n",
              "        vertical-align: middle;\n",
              "    }\n",
              "\n",
              "    .dataframe tbody tr th {\n",
              "        vertical-align: top;\n",
              "    }\n",
              "\n",
              "    .dataframe thead th {\n",
              "        text-align: right;\n",
              "    }\n",
              "</style>\n",
              "<table border=\"1\" class=\"dataframe\">\n",
              "  <thead>\n",
              "    <tr style=\"text-align: right;\">\n",
              "      <th></th>\n",
              "      <th>movie_id</th>\n",
              "      <th>title</th>\n",
              "      <th>entity_type</th>\n",
              "      <th>genres</th>\n",
              "      <th>actors</th>\n",
              "      <th>director</th>\n",
              "      <th>country</th>\n",
              "      <th>release_world</th>\n",
              "      <th>age_rating</th>\n",
              "      <th>duration</th>\n",
              "    </tr>\n",
              "  </thead>\n",
              "  <tbody>\n",
              "    <tr>\n",
              "      <th>173098</th>\n",
              "      <td>e0c9d4c8-87f9-48e9-93b3-362af4c9f34b</td>\n",
              "      <td>Мишо и Робин</td>\n",
              "      <td>Серия</td>\n",
              "      <td>[Семейное, Мультфильмы]</td>\n",
              "      <td>[Векослав Зывкович, Денис Аленти]</td>\n",
              "      <td>[Векослав Зывкович, Денис Аленти]</td>\n",
              "      <td>[Хорватия]</td>\n",
              "      <td>2016-01-01</td>\n",
              "      <td>0.000</td>\n",
              "      <td>6.000</td>\n",
              "    </tr>\n",
              "    <tr>\n",
              "      <th>219645</th>\n",
              "      <td>b6944ee2-e8d7-41ff-8617-c93273fbc369</td>\n",
              "      <td>Вольф Мессинг: Видевший сквозь время</td>\n",
              "      <td>Серия</td>\n",
              "      <td>[Драмы]</td>\n",
              "      <td>[Михаил Горевой, Евгений Князев, Тара Амирхано...</td>\n",
              "      <td>[Владимир Краснопольский, Валерий Усков]</td>\n",
              "      <td>[Россия]</td>\n",
              "      <td>2009-11-15</td>\n",
              "      <td>12.000</td>\n",
              "      <td>49.000</td>\n",
              "    </tr>\n",
              "    <tr>\n",
              "      <th>182316</th>\n",
              "      <td>442b49e4-4240-4ad3-a24c-d0a25ee0938d</td>\n",
              "      <td>Мой странный герой</td>\n",
              "      <td>Серия</td>\n",
              "      <td>[Мелодрамы, Драмы]</td>\n",
              "      <td>[Ю Сын-хо, Ким Ми-гён, Ким Гван-гю, Квак Тон-ё...</td>\n",
              "      <td>[Пак Сон-хо, Хам Джун-хо]</td>\n",
              "      <td>[Корея Южная]</td>\n",
              "      <td>2006-12-01</td>\n",
              "      <td>16.000</td>\n",
              "      <td>57.000</td>\n",
              "    </tr>\n",
              "    <tr>\n",
              "      <th>20152</th>\n",
              "      <td>34e5ec5f-051b-4a9d-9f7d-6543f1591854</td>\n",
              "      <td>Лайк Настя</td>\n",
              "      <td>Серия</td>\n",
              "      <td>[ТВ-шоу]</td>\n",
              "      <td>[Анастасия Радзинская]</td>\n",
              "      <td>[-]</td>\n",
              "      <td>[Россия]</td>\n",
              "      <td>2022-07-15</td>\n",
              "      <td>0.000</td>\n",
              "      <td>6.000</td>\n",
              "    </tr>\n",
              "    <tr>\n",
              "      <th>131418</th>\n",
              "      <td>1d75884c-6577-4a17-aeeb-91c7ea89dde3</td>\n",
              "      <td>Книга джунглей</td>\n",
              "      <td>Серия</td>\n",
              "      <td>[Семейное, Комедии, Приключения, Мультфильмы]</td>\n",
              "      <td>[Тереза Галахер, Джимми Хибберт, Эмма Тейт, Дэ...</td>\n",
              "      <td>[Тапаас Чакраварти]</td>\n",
              "      <td>[Германия, Франция, Индия]</td>\n",
              "      <td>2010-11-22</td>\n",
              "      <td>6.000</td>\n",
              "      <td>11.000</td>\n",
              "    </tr>\n",
              "  </tbody>\n",
              "</table>\n",
              "</div>"
            ],
            "text/plain": [
              "                                    movie_id  \\\n",
              "173098  e0c9d4c8-87f9-48e9-93b3-362af4c9f34b   \n",
              "219645  b6944ee2-e8d7-41ff-8617-c93273fbc369   \n",
              "182316  442b49e4-4240-4ad3-a24c-d0a25ee0938d   \n",
              "20152   34e5ec5f-051b-4a9d-9f7d-6543f1591854   \n",
              "131418  1d75884c-6577-4a17-aeeb-91c7ea89dde3   \n",
              "\n",
              "                                       title entity_type  \\\n",
              "173098                          Мишо и Робин       Серия   \n",
              "219645  Вольф Мессинг: Видевший сквозь время       Серия   \n",
              "182316                    Мой странный герой       Серия   \n",
              "20152                             Лайк Настя       Серия   \n",
              "131418                        Книга джунглей       Серия   \n",
              "\n",
              "                                               genres  \\\n",
              "173098                        [Семейное, Мультфильмы]   \n",
              "219645                                        [Драмы]   \n",
              "182316                             [Мелодрамы, Драмы]   \n",
              "20152                                        [ТВ-шоу]   \n",
              "131418  [Семейное, Комедии, Приключения, Мультфильмы]   \n",
              "\n",
              "                                                   actors  \\\n",
              "173098                  [Векослав Зывкович, Денис Аленти]   \n",
              "219645  [Михаил Горевой, Евгений Князев, Тара Амирхано...   \n",
              "182316  [Ю Сын-хо, Ким Ми-гён, Ким Гван-гю, Квак Тон-ё...   \n",
              "20152                              [Анастасия Радзинская]   \n",
              "131418  [Тереза Галахер, Джимми Хибберт, Эмма Тейт, Дэ...   \n",
              "\n",
              "                                        director                     country  \\\n",
              "173098         [Векослав Зывкович, Денис Аленти]                  [Хорватия]   \n",
              "219645  [Владимир Краснопольский, Валерий Усков]                    [Россия]   \n",
              "182316                 [Пак Сон-хо, Хам Джун-хо]               [Корея Южная]   \n",
              "20152                                        [-]                    [Россия]   \n",
              "131418                       [Тапаас Чакраварти]  [Германия, Франция, Индия]   \n",
              "\n",
              "       release_world  age_rating  duration  \n",
              "173098    2016-01-01       0.000     6.000  \n",
              "219645    2009-11-15      12.000    49.000  \n",
              "182316    2006-12-01      16.000    57.000  \n",
              "20152     2022-07-15       0.000     6.000  \n",
              "131418    2010-11-22       6.000    11.000  "
            ]
          },
          "execution_count": 243,
          "metadata": {},
          "output_type": "execute_result"
        }
      ],
      "source": [
        "movies_metadata = convert_to_list_type(\n",
        "    data=movies_metadata,\n",
        "    columns=['genres', 'actors', 'director', 'country']\n",
        ")\n",
        "movies_metadata.sample(5)"
      ]
    },
    {
      "cell_type": "code",
      "execution_count": 244,
      "metadata": {
        "id": "BaZPjFHoj3qr"
      },
      "outputs": [],
      "source": [
        "# формируем дамми жанры\n",
        "genres_metadata = pd.get_dummies(movies_metadata['genres'].explode()).sum(level=0)\n",
        "genres_metadata = genres_metadata[genres_metadata.columns[1:]]"
      ]
    },
    {
      "cell_type": "code",
      "execution_count": 245,
      "metadata": {
        "id": "9cdoLT9btxdG"
      },
      "outputs": [],
      "source": [
        "# формируем дамми страны\n",
        "countries_metadata = pd.get_dummies(movies_metadata['country'].explode()).sum(level=0)\n",
        "countries_metadata = countries_metadata[countries_metadata.columns[2:]]"
      ]
    },
    {
      "cell_type": "code",
      "execution_count": 246,
      "metadata": {
        "id": "8VD8lRDQkZHL"
      },
      "outputs": [],
      "source": [
        "genres_list = genres_metadata.columns.to_list()\n",
        "countries_list = countries_metadata.columns.to_list()"
      ]
    },
    {
      "cell_type": "code",
      "execution_count": 247,
      "metadata": {
        "id": "4e_kYl51kk2A"
      },
      "outputs": [],
      "source": [
        "movies_metadata = pd.concat([movies_metadata, genres_metadata], axis=1)\n",
        "movies_metadata = pd.concat([movies_metadata, countries_metadata], axis=1)"
      ]
    },
    {
      "cell_type": "code",
      "execution_count": 248,
      "metadata": {},
      "outputs": [],
      "source": [
        "le = LabelEncoder()\n",
        "movies_metadata['entity_type'] = le.fit_transform(movies_metadata['entity_type'])"
      ]
    },
    {
      "cell_type": "code",
      "execution_count": 249,
      "metadata": {
        "colab": {
          "base_uri": "https://localhost:8080/",
          "height": 734
        },
        "id": "C2xBhC2bkP6a",
        "outputId": "c2b121f6-d062-4521-f8ba-aeec4bd23c55"
      },
      "outputs": [
        {
          "data": {
            "text/html": [
              "<div>\n",
              "<style scoped>\n",
              "    .dataframe tbody tr th:only-of-type {\n",
              "        vertical-align: middle;\n",
              "    }\n",
              "\n",
              "    .dataframe tbody tr th {\n",
              "        vertical-align: top;\n",
              "    }\n",
              "\n",
              "    .dataframe thead th {\n",
              "        text-align: right;\n",
              "    }\n",
              "</style>\n",
              "<table border=\"1\" class=\"dataframe\">\n",
              "  <thead>\n",
              "    <tr style=\"text-align: right;\">\n",
              "      <th></th>\n",
              "      <th>movie_id</th>\n",
              "      <th>title</th>\n",
              "      <th>entity_type</th>\n",
              "      <th>genres</th>\n",
              "      <th>actors</th>\n",
              "      <th>director</th>\n",
              "      <th>country</th>\n",
              "      <th>release_world</th>\n",
              "      <th>age_rating</th>\n",
              "      <th>duration</th>\n",
              "      <th>...</th>\n",
              "      <th>Чехия</th>\n",
              "      <th>Чехословакия</th>\n",
              "      <th>Чили</th>\n",
              "      <th>Швейцария</th>\n",
              "      <th>Швеция</th>\n",
              "      <th>Шри-Ланка</th>\n",
              "      <th>Эстония</th>\n",
              "      <th>ЮАР</th>\n",
              "      <th>Югославия (ФР)</th>\n",
              "      <th>Япония</th>\n",
              "    </tr>\n",
              "  </thead>\n",
              "  <tbody>\n",
              "    <tr>\n",
              "      <th>21574</th>\n",
              "      <td>15f97d2d-364b-4be6-84fd-b0ec0b4ad1bc</td>\n",
              "      <td>История одной фотографии</td>\n",
              "      <td>2</td>\n",
              "      <td>[Лекции]</td>\n",
              "      <td>[Светлана Мельникова]</td>\n",
              "      <td>[Павел Шебанков, Мария Данилова]</td>\n",
              "      <td>[Россия]</td>\n",
              "      <td>2005-02-01</td>\n",
              "      <td>0.000</td>\n",
              "      <td>164.000</td>\n",
              "      <td>...</td>\n",
              "      <td>0</td>\n",
              "      <td>0</td>\n",
              "      <td>0</td>\n",
              "      <td>0</td>\n",
              "      <td>0</td>\n",
              "      <td>0</td>\n",
              "      <td>0</td>\n",
              "      <td>0</td>\n",
              "      <td>0</td>\n",
              "      <td>0</td>\n",
              "    </tr>\n",
              "    <tr>\n",
              "      <th>86231</th>\n",
              "      <td>40fa07f4-23f5-464d-9b0f-ae9595496155</td>\n",
              "      <td>Выжившие: Подростки</td>\n",
              "      <td>2</td>\n",
              "      <td>[Триллеры, Фантастика, Драмы]</td>\n",
              "      <td>[Артур Мухамадияров, Диана Енакаева, Георгий К...</td>\n",
              "      <td>[Павел Тимофеев]</td>\n",
              "      <td>[Россия]</td>\n",
              "      <td>2021-02-01</td>\n",
              "      <td>18.000</td>\n",
              "      <td>117.000</td>\n",
              "      <td>...</td>\n",
              "      <td>0</td>\n",
              "      <td>0</td>\n",
              "      <td>0</td>\n",
              "      <td>0</td>\n",
              "      <td>0</td>\n",
              "      <td>0</td>\n",
              "      <td>0</td>\n",
              "      <td>0</td>\n",
              "      <td>0</td>\n",
              "      <td>0</td>\n",
              "    </tr>\n",
              "    <tr>\n",
              "      <th>84518</th>\n",
              "      <td>0a48cbbf-9ed0-472c-b20d-a73205878416</td>\n",
              "      <td>Мир Аоту</td>\n",
              "      <td>3</td>\n",
              "      <td>[Приключения, Мультфильмы]</td>\n",
              "      <td>[-]</td>\n",
              "      <td>[Чжоу Лян]</td>\n",
              "      <td>[Китай]</td>\n",
              "      <td>2016-01-01</td>\n",
              "      <td>6.000</td>\n",
              "      <td>28.000</td>\n",
              "      <td>...</td>\n",
              "      <td>0</td>\n",
              "      <td>0</td>\n",
              "      <td>0</td>\n",
              "      <td>0</td>\n",
              "      <td>0</td>\n",
              "      <td>0</td>\n",
              "      <td>0</td>\n",
              "      <td>0</td>\n",
              "      <td>0</td>\n",
              "      <td>0</td>\n",
              "    </tr>\n",
              "    <tr>\n",
              "      <th>158884</th>\n",
              "      <td>2ab2276c-9b8d-4c5d-a470-1ecf94fba06a</td>\n",
              "      <td>Дикие скричеры</td>\n",
              "      <td>3</td>\n",
              "      <td>[Мультфильмы]</td>\n",
              "      <td>[Крис Кентис, Шон Чиплок, Люсьен Додж, Спайк С...</td>\n",
              "      <td>[Тодд Резник]</td>\n",
              "      <td>[Китай]</td>\n",
              "      <td>2018-07-28</td>\n",
              "      <td>6.000</td>\n",
              "      <td>23.000</td>\n",
              "      <td>...</td>\n",
              "      <td>0</td>\n",
              "      <td>0</td>\n",
              "      <td>0</td>\n",
              "      <td>0</td>\n",
              "      <td>0</td>\n",
              "      <td>0</td>\n",
              "      <td>0</td>\n",
              "      <td>0</td>\n",
              "      <td>0</td>\n",
              "      <td>0</td>\n",
              "    </tr>\n",
              "    <tr>\n",
              "      <th>118391</th>\n",
              "      <td>ab23d26b-3585-4091-bdf5-df162cfcd6d6</td>\n",
              "      <td>Как я встретил вашу маму</td>\n",
              "      <td>3</td>\n",
              "      <td>[Комедии, Драмы]</td>\n",
              "      <td>[Нил Патрик Харрис, Джейсон Сигел, Элисон Хэнн...</td>\n",
              "      <td>[Роб Гринберг, Памела Фрайман, Майкл Дж. Ши]</td>\n",
              "      <td>[США]</td>\n",
              "      <td>2005-09-19</td>\n",
              "      <td>18.000</td>\n",
              "      <td>22.000</td>\n",
              "      <td>...</td>\n",
              "      <td>0</td>\n",
              "      <td>0</td>\n",
              "      <td>0</td>\n",
              "      <td>0</td>\n",
              "      <td>0</td>\n",
              "      <td>0</td>\n",
              "      <td>0</td>\n",
              "      <td>0</td>\n",
              "      <td>0</td>\n",
              "      <td>0</td>\n",
              "    </tr>\n",
              "  </tbody>\n",
              "</table>\n",
              "<p>5 rows × 177 columns</p>\n",
              "</div>"
            ],
            "text/plain": [
              "                                    movie_id                     title  \\\n",
              "21574   15f97d2d-364b-4be6-84fd-b0ec0b4ad1bc  История одной фотографии   \n",
              "86231   40fa07f4-23f5-464d-9b0f-ae9595496155       Выжившие: Подростки   \n",
              "84518   0a48cbbf-9ed0-472c-b20d-a73205878416                  Мир Аоту   \n",
              "158884  2ab2276c-9b8d-4c5d-a470-1ecf94fba06a            Дикие скричеры   \n",
              "118391  ab23d26b-3585-4091-bdf5-df162cfcd6d6  Как я встретил вашу маму   \n",
              "\n",
              "        entity_type                         genres  \\\n",
              "21574             2                       [Лекции]   \n",
              "86231             2  [Триллеры, Фантастика, Драмы]   \n",
              "84518             3     [Приключения, Мультфильмы]   \n",
              "158884            3                  [Мультфильмы]   \n",
              "118391            3               [Комедии, Драмы]   \n",
              "\n",
              "                                                   actors  \\\n",
              "21574                               [Светлана Мельникова]   \n",
              "86231   [Артур Мухамадияров, Диана Енакаева, Георгий К...   \n",
              "84518                                                 [-]   \n",
              "158884  [Крис Кентис, Шон Чиплок, Люсьен Додж, Спайк С...   \n",
              "118391  [Нил Патрик Харрис, Джейсон Сигел, Элисон Хэнн...   \n",
              "\n",
              "                                            director   country release_world  \\\n",
              "21574               [Павел Шебанков, Мария Данилова]  [Россия]    2005-02-01   \n",
              "86231                               [Павел Тимофеев]  [Россия]    2021-02-01   \n",
              "84518                                     [Чжоу Лян]   [Китай]    2016-01-01   \n",
              "158884                                 [Тодд Резник]   [Китай]    2018-07-28   \n",
              "118391  [Роб Гринберг, Памела Фрайман, Майкл Дж. Ши]     [США]    2005-09-19   \n",
              "\n",
              "        age_rating  duration  ...  Чехия  Чехословакия  Чили  Швейцария  \\\n",
              "21574        0.000   164.000  ...      0             0     0          0   \n",
              "86231       18.000   117.000  ...      0             0     0          0   \n",
              "84518        6.000    28.000  ...      0             0     0          0   \n",
              "158884       6.000    23.000  ...      0             0     0          0   \n",
              "118391      18.000    22.000  ...      0             0     0          0   \n",
              "\n",
              "        Швеция  Шри-Ланка  Эстония  ЮАР  Югославия (ФР)  Япония  \n",
              "21574        0          0        0    0               0       0  \n",
              "86231        0          0        0    0               0       0  \n",
              "84518        0          0        0    0               0       0  \n",
              "158884       0          0        0    0               0       0  \n",
              "118391       0          0        0    0               0       0  \n",
              "\n",
              "[5 rows x 177 columns]"
            ]
          },
          "execution_count": 249,
          "metadata": {},
          "output_type": "execute_result"
        }
      ],
      "source": [
        "movies_metadata.sample(5)"
      ]
    },
    {
      "cell_type": "code",
      "execution_count": 250,
      "metadata": {
        "colab": {
          "base_uri": "https://localhost:8080/"
        },
        "id": "PRR6Y8Bkautq",
        "outputId": "590c5d21-b3f8-4056-bf84-c11c7d887a1b"
      },
      "outputs": [
        {
          "data": {
            "text/plain": [
              "Index(['movie_id', 'title', 'entity_type', 'genres', 'actors', 'director',\n",
              "       'country', 'release_world', 'age_rating', 'duration',\n",
              "       ...\n",
              "       'Чехия', 'Чехословакия', 'Чили', 'Швейцария', 'Швеция', 'Шри-Ланка',\n",
              "       'Эстония', 'ЮАР', 'Югославия (ФР)', 'Япония'],\n",
              "      dtype='object', length=177)"
            ]
          },
          "execution_count": 250,
          "metadata": {},
          "output_type": "execute_result"
        }
      ],
      "source": [
        "movies_metadata.columns"
      ]
    },
    {
      "cell_type": "code",
      "execution_count": 251,
      "metadata": {
        "id": "e5pV5Fl-L_Pa"
      },
      "outputs": [],
      "source": [
        "# in this tutorial, I will not do any feature aggregation - use default ones from data\n",
        "# USER_FEATURES = ['age', 'income', 'sex', 'kids_flg'] - у нас их нет((\n",
        "ITEM_FEATURES = ['entity_type', 'release_world', 'age_rating'] + genres_list + countries_list"
      ]
    },
    {
      "cell_type": "code",
      "execution_count": 252,
      "metadata": {
        "id": "9aIkM-4-L_Pb"
      },
      "outputs": [],
      "source": [
        "# joins item features\n",
        "cbm_train_set = pd.merge(cbm_train_set, movies_metadata[['movie_id'] + ITEM_FEATURES],\n",
        "                         how = 'left', on = ['movie_id'])\n",
        "cbm_test_set = pd.merge(cbm_test_set, movies_metadata[['movie_id'] + ITEM_FEATURES],\n",
        "                        how = 'left', on = ['movie_id'])\n"
      ]
    },
    {
      "cell_type": "code",
      "execution_count": 253,
      "metadata": {
        "colab": {
          "base_uri": "https://localhost:8080/"
        },
        "id": "4ou-sQSVL_Pb",
        "outputId": "05102525-b3e3-499f-ee9a-3936e3239555"
      },
      "outputs": [
        {
          "name": "stdout",
          "output_type": "stream",
          "text": [
            "(139093, 178) (34993, 178)\n"
          ]
        }
      ],
      "source": [
        "print(cbm_train_set.shape, cbm_test_set.shape)"
      ]
    },
    {
      "cell_type": "code",
      "execution_count": 254,
      "metadata": {
        "id": "HbZ-A4gogmEQ"
      },
      "outputs": [],
      "source": [
        "cbm_train_set['year'] = cbm_train_set['release_world'].apply(lambda x: x.split('-')[0] if pd.isna(x) is False else x)\n",
        "cbm_test_set['year'] = cbm_test_set['release_world'].apply(lambda x: x.split('-')[0] if pd.isna(x) is False else x)"
      ]
    },
    {
      "cell_type": "code",
      "execution_count": 255,
      "metadata": {},
      "outputs": [],
      "source": [
        "def year_to_cat_transformer(df: pd.DataFrame, col: str):\n",
        "\n",
        "    # create sample dataframe with year feature as object type\n",
        "    # convert year feature to datetime object and extract year\n",
        "    df[col] = pd.to_datetime(df[col], format='%Y')\n",
        "    df['year_category'] = pd.cut(df['year'].dt.year, bins=9, labels=[1, 2, 3, 4, 5, 6, 7, 8, 9])\n",
        "    return df\n",
        "\n",
        "# use cut function to convert year feature into categories"
      ]
    },
    {
      "cell_type": "code",
      "execution_count": 256,
      "metadata": {},
      "outputs": [],
      "source": [
        "ens_train_set = cbm_train_set.copy()\n",
        "ens_test_set = cbm_test_set.copy()"
      ]
    },
    {
      "cell_type": "code",
      "execution_count": 257,
      "metadata": {},
      "outputs": [],
      "source": [
        "ens_train_set = year_to_cat_transformer(ens_train_set, col='year')\n",
        "ens_test_set = year_to_cat_transformer(ens_test_set, col='year')"
      ]
    },
    {
      "cell_type": "code",
      "execution_count": 258,
      "metadata": {},
      "outputs": [],
      "source": [
        "#Сомнительно\n",
        "# cbm_train_set = pd.get_dummies(cbm_train_set, columns=['year_category'])\n",
        "# cbm_test_set = pd.get_dummies(cbm_test_set, columns=['year_category'])"
      ]
    },
    {
      "cell_type": "code",
      "execution_count": 259,
      "metadata": {},
      "outputs": [
        {
          "name": "stdout",
          "output_type": "stream",
          "text": [
            "(139093, 179) (34993, 179)\n"
          ]
        }
      ],
      "source": [
        "print(cbm_train_set.shape, cbm_test_set.shape)"
      ]
    },
    {
      "cell_type": "code",
      "execution_count": 260,
      "metadata": {
        "id": "mgIpqHxNL_Pb"
      },
      "outputs": [],
      "source": [
        "ID_COLS = ['user_id', 'movie_id']\n",
        "TARGET = ['target']\n",
        "CATEGORICAL_COLS = ['entity_type']\n",
        "DROP_COLS = ['movie_name', 'release_world', 'datetime', 'watched_pct', 'watch_duration_minutes', 'year']\n",
        "CBM_DROP_COLS = ['movie_name', 'release_world', 'datetime', 'watched_pct', 'watch_duration_minutes']"
      ]
    },
    {
      "cell_type": "code",
      "execution_count": 261,
      "metadata": {
        "colab": {
          "base_uri": "https://localhost:8080/"
        },
        "id": "t_d5XYERL_Pc",
        "outputId": "1ec10e1f-62bd-424d-de87-1770ef5bc09a"
      },
      "outputs": [
        {
          "name": "stdout",
          "output_type": "stream",
          "text": [
            "(139093, 171) (34993, 171)\n"
          ]
        }
      ],
      "source": [
        "X_train_cbm, y_train_cbm = cbm_train_set.drop(ID_COLS + CBM_DROP_COLS + TARGET, axis = 1), cbm_train_set[TARGET]\n",
        "X_test_cbm, y_test_cbm = cbm_test_set.drop(ID_COLS + CBM_DROP_COLS + TARGET, axis = 1), cbm_test_set[TARGET]\n",
        "print(X_train_cbm.shape, X_test_cbm.shape)"
      ]
    },
    {
      "cell_type": "code",
      "execution_count": 262,
      "metadata": {},
      "outputs": [
        {
          "name": "stdout",
          "output_type": "stream",
          "text": [
            "(139093, 171) (34993, 171)\n"
          ]
        }
      ],
      "source": [
        "X_train, y_train = ens_train_set.drop(ID_COLS + DROP_COLS + TARGET, axis = 1), ens_train_set[TARGET]\n",
        "X_test, y_test = ens_test_set.drop(ID_COLS + DROP_COLS + TARGET, axis = 1), ens_test_set[TARGET]\n",
        "print(X_train.shape, X_test.shape)"
      ]
    },
    {
      "cell_type": "code",
      "execution_count": 263,
      "metadata": {
        "colab": {
          "base_uri": "https://localhost:8080/",
          "height": 317
        },
        "id": "iDJji1WWL_Pc",
        "outputId": "a162d9aa-d264-41f8-dbe7-3733456ba017"
      },
      "outputs": [
        {
          "data": {
            "text/html": [
              "<div>\n",
              "<style scoped>\n",
              "    .dataframe tbody tr th:only-of-type {\n",
              "        vertical-align: middle;\n",
              "    }\n",
              "\n",
              "    .dataframe tbody tr th {\n",
              "        vertical-align: top;\n",
              "    }\n",
              "\n",
              "    .dataframe thead th {\n",
              "        text-align: right;\n",
              "    }\n",
              "</style>\n",
              "<table border=\"1\" class=\"dataframe\">\n",
              "  <thead>\n",
              "    <tr style=\"text-align: right;\">\n",
              "      <th></th>\n",
              "      <th>rank</th>\n",
              "      <th>entity_type</th>\n",
              "      <th>age_rating</th>\n",
              "      <th>Аниме</th>\n",
              "      <th>Артхаус</th>\n",
              "      <th>Биографии</th>\n",
              "      <th>Блоги</th>\n",
              "      <th>Боевики</th>\n",
              "      <th>Вестерны</th>\n",
              "      <th>Видеообзор</th>\n",
              "      <th>...</th>\n",
              "      <th>Чехословакия</th>\n",
              "      <th>Чили</th>\n",
              "      <th>Швейцария</th>\n",
              "      <th>Швеция</th>\n",
              "      <th>Шри-Ланка</th>\n",
              "      <th>Эстония</th>\n",
              "      <th>ЮАР</th>\n",
              "      <th>Югославия (ФР)</th>\n",
              "      <th>Япония</th>\n",
              "      <th>year_category</th>\n",
              "    </tr>\n",
              "  </thead>\n",
              "  <tbody>\n",
              "    <tr>\n",
              "      <th>0</th>\n",
              "      <td>17</td>\n",
              "      <td>2</td>\n",
              "      <td>18.000</td>\n",
              "      <td>0</td>\n",
              "      <td>0</td>\n",
              "      <td>0</td>\n",
              "      <td>0</td>\n",
              "      <td>0</td>\n",
              "      <td>0</td>\n",
              "      <td>0</td>\n",
              "      <td>...</td>\n",
              "      <td>0</td>\n",
              "      <td>0</td>\n",
              "      <td>0</td>\n",
              "      <td>0</td>\n",
              "      <td>0</td>\n",
              "      <td>0</td>\n",
              "      <td>0</td>\n",
              "      <td>0</td>\n",
              "      <td>0</td>\n",
              "      <td>9</td>\n",
              "    </tr>\n",
              "    <tr>\n",
              "      <th>1</th>\n",
              "      <td>17</td>\n",
              "      <td>5</td>\n",
              "      <td>12.000</td>\n",
              "      <td>0</td>\n",
              "      <td>0</td>\n",
              "      <td>0</td>\n",
              "      <td>0</td>\n",
              "      <td>1</td>\n",
              "      <td>0</td>\n",
              "      <td>0</td>\n",
              "      <td>...</td>\n",
              "      <td>0</td>\n",
              "      <td>0</td>\n",
              "      <td>0</td>\n",
              "      <td>0</td>\n",
              "      <td>0</td>\n",
              "      <td>0</td>\n",
              "      <td>0</td>\n",
              "      <td>0</td>\n",
              "      <td>0</td>\n",
              "      <td>8</td>\n",
              "    </tr>\n",
              "    <tr>\n",
              "      <th>2</th>\n",
              "      <td>15</td>\n",
              "      <td>5</td>\n",
              "      <td>6.000</td>\n",
              "      <td>0</td>\n",
              "      <td>0</td>\n",
              "      <td>0</td>\n",
              "      <td>0</td>\n",
              "      <td>0</td>\n",
              "      <td>0</td>\n",
              "      <td>0</td>\n",
              "      <td>...</td>\n",
              "      <td>0</td>\n",
              "      <td>0</td>\n",
              "      <td>0</td>\n",
              "      <td>0</td>\n",
              "      <td>0</td>\n",
              "      <td>0</td>\n",
              "      <td>0</td>\n",
              "      <td>0</td>\n",
              "      <td>0</td>\n",
              "      <td>8</td>\n",
              "    </tr>\n",
              "    <tr>\n",
              "      <th>3</th>\n",
              "      <td>5</td>\n",
              "      <td>5</td>\n",
              "      <td>12.000</td>\n",
              "      <td>0</td>\n",
              "      <td>0</td>\n",
              "      <td>0</td>\n",
              "      <td>0</td>\n",
              "      <td>0</td>\n",
              "      <td>0</td>\n",
              "      <td>0</td>\n",
              "      <td>...</td>\n",
              "      <td>0</td>\n",
              "      <td>0</td>\n",
              "      <td>0</td>\n",
              "      <td>0</td>\n",
              "      <td>0</td>\n",
              "      <td>0</td>\n",
              "      <td>0</td>\n",
              "      <td>0</td>\n",
              "      <td>0</td>\n",
              "      <td>8</td>\n",
              "    </tr>\n",
              "    <tr>\n",
              "      <th>4</th>\n",
              "      <td>6</td>\n",
              "      <td>2</td>\n",
              "      <td>18.000</td>\n",
              "      <td>0</td>\n",
              "      <td>0</td>\n",
              "      <td>0</td>\n",
              "      <td>0</td>\n",
              "      <td>0</td>\n",
              "      <td>0</td>\n",
              "      <td>0</td>\n",
              "      <td>...</td>\n",
              "      <td>0</td>\n",
              "      <td>0</td>\n",
              "      <td>0</td>\n",
              "      <td>0</td>\n",
              "      <td>0</td>\n",
              "      <td>0</td>\n",
              "      <td>0</td>\n",
              "      <td>0</td>\n",
              "      <td>0</td>\n",
              "      <td>9</td>\n",
              "    </tr>\n",
              "  </tbody>\n",
              "</table>\n",
              "<p>5 rows × 171 columns</p>\n",
              "</div>"
            ],
            "text/plain": [
              "   rank  entity_type  age_rating  Аниме  Артхаус  Биографии  Блоги  Боевики  \\\n",
              "0    17            2      18.000      0        0          0      0        0   \n",
              "1    17            5      12.000      0        0          0      0        1   \n",
              "2    15            5       6.000      0        0          0      0        0   \n",
              "3     5            5      12.000      0        0          0      0        0   \n",
              "4     6            2      18.000      0        0          0      0        0   \n",
              "\n",
              "   Вестерны  Видеообзор  ...  Чехословакия  Чили  Швейцария  Швеция  \\\n",
              "0         0           0  ...             0     0          0       0   \n",
              "1         0           0  ...             0     0          0       0   \n",
              "2         0           0  ...             0     0          0       0   \n",
              "3         0           0  ...             0     0          0       0   \n",
              "4         0           0  ...             0     0          0       0   \n",
              "\n",
              "   Шри-Ланка  Эстония  ЮАР  Югославия (ФР)  Япония  year_category  \n",
              "0          0        0    0               0       0              9  \n",
              "1          0        0    0               0       0              8  \n",
              "2          0        0    0               0       0              8  \n",
              "3          0        0    0               0       0              8  \n",
              "4          0        0    0               0       0              9  \n",
              "\n",
              "[5 rows x 171 columns]"
            ]
          },
          "execution_count": 263,
          "metadata": {},
          "output_type": "execute_result"
        }
      ],
      "source": [
        "X_train.head()"
      ]
    },
    {
      "cell_type": "code",
      "execution_count": 264,
      "metadata": {
        "id": "3e6-wviVL_Pc"
      },
      "outputs": [],
      "source": [
        "X_train = X_train.fillna(X_train.mode().iloc[0])\n",
        "X_test = X_test.fillna(X_test.mode().iloc[0])\n",
        "X_train_cbm = X_train_cbm.fillna(X_train_cbm.mode().iloc[0])\n",
        "X_test_cbm = X_test_cbm.fillna(X_test_cbm.mode().iloc[0])"
      ]
    },
    {
      "cell_type": "code",
      "execution_count": 265,
      "metadata": {},
      "outputs": [],
      "source": [
        "X_train['year_category'] = X_train['year_category'].astype(int)"
      ]
    },
    {
      "cell_type": "markdown",
      "metadata": {
        "id": "SVvJS1I-L_Pc"
      },
      "source": [
        "## 2.5.2. Train Model"
      ]
    },
    {
      "cell_type": "code",
      "execution_count": 266,
      "metadata": {
        "id": "A_pHD9oHL_Pc"
      },
      "outputs": [],
      "source": [
        "cbm_classifier = CatBoostClassifier(\n",
        "    loss_function = 'CrossEntropy',\n",
        "    iterations = 5000,\n",
        "    learning_rate = .1,\n",
        "    depth = 6,\n",
        "    random_state = 1234,\n",
        "    verbose = True\n",
        ")"
      ]
    },
    {
      "cell_type": "code",
      "execution_count": 267,
      "metadata": {
        "colab": {
          "base_uri": "https://localhost:8080/"
        },
        "id": "w3wA4UCOL_Pc",
        "outputId": "4ba00e99-4d6b-4404-a661-c12e1e636748"
      },
      "outputs": [
        {
          "name": "stdout",
          "output_type": "stream",
          "text": [
            "0:\tlearn: 0.6266964\ttest: 0.6276446\tbest: 0.6276446 (0)\ttotal: 31.4ms\tremaining: 2m 36s\n",
            "1:\tlearn: 0.5754805\ttest: 0.5773873\tbest: 0.5773873 (1)\ttotal: 57.7ms\tremaining: 2m 24s\n",
            "2:\tlearn: 0.5364273\ttest: 0.5390079\tbest: 0.5390079 (2)\ttotal: 81.8ms\tremaining: 2m 16s\n",
            "3:\tlearn: 0.5059854\ttest: 0.5091641\tbest: 0.5091641 (3)\ttotal: 107ms\tremaining: 2m 13s\n",
            "4:\tlearn: 0.4817163\ttest: 0.4855234\tbest: 0.4855234 (4)\ttotal: 130ms\tremaining: 2m 9s\n",
            "5:\tlearn: 0.4630532\ttest: 0.4672271\tbest: 0.4672271 (5)\ttotal: 154ms\tremaining: 2m 8s\n",
            "6:\tlearn: 0.4487359\ttest: 0.4534263\tbest: 0.4534263 (6)\ttotal: 179ms\tremaining: 2m 7s\n",
            "7:\tlearn: 0.4376539\ttest: 0.4428757\tbest: 0.4428757 (7)\ttotal: 205ms\tremaining: 2m 7s\n",
            "8:\tlearn: 0.4280246\ttest: 0.4335616\tbest: 0.4335616 (8)\ttotal: 230ms\tremaining: 2m 7s\n",
            "9:\tlearn: 0.4213524\ttest: 0.4273047\tbest: 0.4273047 (9)\ttotal: 255ms\tremaining: 2m 7s\n",
            "10:\tlearn: 0.4157240\ttest: 0.4219304\tbest: 0.4219304 (10)\ttotal: 279ms\tremaining: 2m 6s\n",
            "11:\tlearn: 0.4110232\ttest: 0.4175042\tbest: 0.4175042 (11)\ttotal: 303ms\tremaining: 2m 6s\n",
            "12:\tlearn: 0.4077650\ttest: 0.4145224\tbest: 0.4145224 (12)\ttotal: 328ms\tremaining: 2m 5s\n",
            "13:\tlearn: 0.4045492\ttest: 0.4115588\tbest: 0.4115588 (13)\ttotal: 352ms\tremaining: 2m 5s\n",
            "14:\tlearn: 0.4021238\ttest: 0.4092992\tbest: 0.4092992 (14)\ttotal: 377ms\tremaining: 2m 5s\n",
            "15:\tlearn: 0.3998473\ttest: 0.4073065\tbest: 0.4073065 (15)\ttotal: 401ms\tremaining: 2m 4s\n",
            "16:\tlearn: 0.3980381\ttest: 0.4054984\tbest: 0.4054984 (16)\ttotal: 427ms\tremaining: 2m 5s\n",
            "17:\tlearn: 0.3968025\ttest: 0.4044147\tbest: 0.4044147 (17)\ttotal: 451ms\tremaining: 2m 4s\n",
            "18:\tlearn: 0.3956266\ttest: 0.4033328\tbest: 0.4033328 (18)\ttotal: 475ms\tremaining: 2m 4s\n",
            "19:\tlearn: 0.3945227\ttest: 0.4022579\tbest: 0.4022579 (19)\ttotal: 500ms\tremaining: 2m 4s\n",
            "20:\tlearn: 0.3930974\ttest: 0.4010131\tbest: 0.4010131 (20)\ttotal: 524ms\tremaining: 2m 4s\n",
            "21:\tlearn: 0.3920528\ttest: 0.4000398\tbest: 0.4000398 (21)\ttotal: 547ms\tremaining: 2m 3s\n",
            "22:\tlearn: 0.3913982\ttest: 0.3994822\tbest: 0.3994822 (22)\ttotal: 572ms\tremaining: 2m 3s\n",
            "23:\tlearn: 0.3906038\ttest: 0.3987707\tbest: 0.3987707 (23)\ttotal: 593ms\tremaining: 2m 2s\n",
            "24:\tlearn: 0.3898960\ttest: 0.3981398\tbest: 0.3981398 (24)\ttotal: 615ms\tremaining: 2m 2s\n",
            "25:\tlearn: 0.3894062\ttest: 0.3976594\tbest: 0.3976594 (25)\ttotal: 640ms\tremaining: 2m 2s\n",
            "26:\tlearn: 0.3890487\ttest: 0.3972968\tbest: 0.3972968 (26)\ttotal: 665ms\tremaining: 2m 2s\n",
            "27:\tlearn: 0.3885942\ttest: 0.3967421\tbest: 0.3967421 (27)\ttotal: 692ms\tremaining: 2m 2s\n",
            "28:\tlearn: 0.3882455\ttest: 0.3964357\tbest: 0.3964357 (28)\ttotal: 716ms\tremaining: 2m 2s\n",
            "29:\tlearn: 0.3878108\ttest: 0.3958732\tbest: 0.3958732 (29)\ttotal: 741ms\tremaining: 2m 2s\n",
            "30:\tlearn: 0.3875742\ttest: 0.3957099\tbest: 0.3957099 (30)\ttotal: 766ms\tremaining: 2m 2s\n",
            "31:\tlearn: 0.3873433\ttest: 0.3954655\tbest: 0.3954655 (31)\ttotal: 791ms\tremaining: 2m 2s\n",
            "32:\tlearn: 0.3869681\ttest: 0.3950842\tbest: 0.3950842 (32)\ttotal: 814ms\tremaining: 2m 2s\n",
            "33:\tlearn: 0.3867587\ttest: 0.3948872\tbest: 0.3948872 (33)\ttotal: 838ms\tremaining: 2m 2s\n",
            "34:\tlearn: 0.3866276\ttest: 0.3948654\tbest: 0.3948654 (34)\ttotal: 865ms\tremaining: 2m 2s\n",
            "35:\tlearn: 0.3861583\ttest: 0.3942756\tbest: 0.3942756 (35)\ttotal: 888ms\tremaining: 2m 2s\n",
            "36:\tlearn: 0.3856565\ttest: 0.3936099\tbest: 0.3936099 (36)\ttotal: 912ms\tremaining: 2m 2s\n",
            "37:\tlearn: 0.3854566\ttest: 0.3934443\tbest: 0.3934443 (37)\ttotal: 935ms\tremaining: 2m 2s\n",
            "38:\tlearn: 0.3852406\ttest: 0.3932612\tbest: 0.3932612 (38)\ttotal: 959ms\tremaining: 2m 1s\n",
            "39:\tlearn: 0.3850450\ttest: 0.3930477\tbest: 0.3930477 (39)\ttotal: 985ms\tremaining: 2m 2s\n",
            "40:\tlearn: 0.3848799\ttest: 0.3929063\tbest: 0.3929063 (40)\ttotal: 1s\tremaining: 2m 1s\n",
            "41:\tlearn: 0.3847492\ttest: 0.3928277\tbest: 0.3928277 (41)\ttotal: 1.03s\tremaining: 2m 1s\n",
            "42:\tlearn: 0.3846760\ttest: 0.3927636\tbest: 0.3927636 (42)\ttotal: 1.05s\tremaining: 2m 1s\n",
            "43:\tlearn: 0.3845467\ttest: 0.3926731\tbest: 0.3926731 (43)\ttotal: 1.08s\tremaining: 2m 1s\n",
            "44:\tlearn: 0.3844767\ttest: 0.3926310\tbest: 0.3926310 (44)\ttotal: 1.1s\tremaining: 2m 1s\n",
            "45:\tlearn: 0.3843999\ttest: 0.3925973\tbest: 0.3925973 (45)\ttotal: 1.13s\tremaining: 2m 1s\n",
            "46:\tlearn: 0.3842413\ttest: 0.3925147\tbest: 0.3925147 (46)\ttotal: 1.15s\tremaining: 2m 1s\n",
            "47:\tlearn: 0.3841273\ttest: 0.3924295\tbest: 0.3924295 (47)\ttotal: 1.17s\tremaining: 2m\n",
            "48:\tlearn: 0.3839974\ttest: 0.3921477\tbest: 0.3921477 (48)\ttotal: 1.19s\tremaining: 2m\n",
            "49:\tlearn: 0.3838700\ttest: 0.3920720\tbest: 0.3920720 (49)\ttotal: 1.22s\tremaining: 2m\n",
            "50:\tlearn: 0.3837288\ttest: 0.3919388\tbest: 0.3919388 (50)\ttotal: 1.24s\tremaining: 2m\n",
            "51:\tlearn: 0.3836695\ttest: 0.3918915\tbest: 0.3918915 (51)\ttotal: 1.26s\tremaining: 2m\n",
            "52:\tlearn: 0.3835653\ttest: 0.3918064\tbest: 0.3918064 (52)\ttotal: 1.29s\tremaining: 2m\n",
            "53:\tlearn: 0.3835360\ttest: 0.3917749\tbest: 0.3917749 (53)\ttotal: 1.31s\tremaining: 2m\n",
            "54:\tlearn: 0.3834472\ttest: 0.3916907\tbest: 0.3916907 (54)\ttotal: 1.34s\tremaining: 2m\n",
            "55:\tlearn: 0.3833397\ttest: 0.3915785\tbest: 0.3915785 (55)\ttotal: 1.39s\tremaining: 2m 3s\n",
            "56:\tlearn: 0.3832991\ttest: 0.3915461\tbest: 0.3915461 (56)\ttotal: 1.42s\tremaining: 2m 3s\n",
            "57:\tlearn: 0.3832566\ttest: 0.3915290\tbest: 0.3915290 (57)\ttotal: 1.45s\tremaining: 2m 3s\n",
            "58:\tlearn: 0.3831762\ttest: 0.3914557\tbest: 0.3914557 (58)\ttotal: 1.47s\tremaining: 2m 3s\n",
            "59:\tlearn: 0.3831472\ttest: 0.3914276\tbest: 0.3914276 (59)\ttotal: 1.5s\tremaining: 2m 3s\n",
            "60:\tlearn: 0.3829907\ttest: 0.3912353\tbest: 0.3912353 (60)\ttotal: 1.52s\tremaining: 2m 3s\n",
            "61:\tlearn: 0.3829260\ttest: 0.3911629\tbest: 0.3911629 (61)\ttotal: 1.54s\tremaining: 2m 3s\n",
            "62:\tlearn: 0.3829066\ttest: 0.3911487\tbest: 0.3911487 (62)\ttotal: 1.56s\tremaining: 2m 2s\n",
            "63:\tlearn: 0.3828948\ttest: 0.3911311\tbest: 0.3911311 (63)\ttotal: 1.57s\tremaining: 2m 1s\n",
            "64:\tlearn: 0.3828362\ttest: 0.3910644\tbest: 0.3910644 (64)\ttotal: 1.6s\tremaining: 2m 1s\n",
            "65:\tlearn: 0.3827060\ttest: 0.3910627\tbest: 0.3910627 (65)\ttotal: 1.62s\tremaining: 2m 1s\n",
            "66:\tlearn: 0.3826239\ttest: 0.3910371\tbest: 0.3910371 (66)\ttotal: 1.64s\tremaining: 2m\n",
            "67:\tlearn: 0.3825902\ttest: 0.3910036\tbest: 0.3910036 (67)\ttotal: 1.67s\tremaining: 2m 1s\n",
            "68:\tlearn: 0.3825433\ttest: 0.3909969\tbest: 0.3909969 (68)\ttotal: 1.69s\tremaining: 2m 1s\n",
            "69:\tlearn: 0.3823786\ttest: 0.3908537\tbest: 0.3908537 (69)\ttotal: 1.72s\tremaining: 2m\n",
            "70:\tlearn: 0.3822864\ttest: 0.3907526\tbest: 0.3907526 (70)\ttotal: 1.74s\tremaining: 2m\n",
            "71:\tlearn: 0.3822819\ttest: 0.3907527\tbest: 0.3907526 (70)\ttotal: 1.75s\tremaining: 2m\n",
            "72:\tlearn: 0.3822002\ttest: 0.3907525\tbest: 0.3907525 (72)\ttotal: 1.78s\tremaining: 1m 59s\n",
            "73:\tlearn: 0.3821490\ttest: 0.3907156\tbest: 0.3907156 (73)\ttotal: 1.8s\tremaining: 2m\n",
            "74:\tlearn: 0.3820001\ttest: 0.3904993\tbest: 0.3904993 (74)\ttotal: 1.83s\tremaining: 2m\n",
            "75:\tlearn: 0.3818508\ttest: 0.3903778\tbest: 0.3903778 (75)\ttotal: 1.85s\tremaining: 1m 59s\n",
            "76:\tlearn: 0.3818146\ttest: 0.3903516\tbest: 0.3903516 (76)\ttotal: 1.87s\tremaining: 1m 59s\n",
            "77:\tlearn: 0.3817319\ttest: 0.3903762\tbest: 0.3903516 (76)\ttotal: 1.9s\tremaining: 1m 59s\n",
            "78:\tlearn: 0.3816063\ttest: 0.3902672\tbest: 0.3902672 (78)\ttotal: 1.92s\tremaining: 1m 59s\n",
            "79:\tlearn: 0.3814513\ttest: 0.3900499\tbest: 0.3900499 (79)\ttotal: 1.94s\tremaining: 1m 59s\n",
            "80:\tlearn: 0.3814432\ttest: 0.3900430\tbest: 0.3900430 (80)\ttotal: 1.97s\tremaining: 1m 59s\n",
            "81:\tlearn: 0.3814034\ttest: 0.3900494\tbest: 0.3900430 (80)\ttotal: 1.99s\tremaining: 1m 59s\n",
            "82:\tlearn: 0.3813404\ttest: 0.3900444\tbest: 0.3900430 (80)\ttotal: 2.01s\tremaining: 1m 59s\n",
            "83:\tlearn: 0.3813148\ttest: 0.3900211\tbest: 0.3900211 (83)\ttotal: 2.04s\tremaining: 1m 59s\n",
            "84:\tlearn: 0.3812393\ttest: 0.3899581\tbest: 0.3899581 (84)\ttotal: 2.06s\tremaining: 1m 59s\n",
            "85:\tlearn: 0.3811839\ttest: 0.3899275\tbest: 0.3899275 (85)\ttotal: 2.09s\tremaining: 1m 59s\n",
            "86:\tlearn: 0.3811468\ttest: 0.3899634\tbest: 0.3899275 (85)\ttotal: 2.11s\tremaining: 1m 59s\n",
            "87:\tlearn: 0.3810942\ttest: 0.3898650\tbest: 0.3898650 (87)\ttotal: 2.13s\tremaining: 1m 59s\n",
            "88:\tlearn: 0.3809725\ttest: 0.3896974\tbest: 0.3896974 (88)\ttotal: 2.16s\tremaining: 1m 59s\n",
            "89:\tlearn: 0.3809545\ttest: 0.3896821\tbest: 0.3896821 (89)\ttotal: 2.18s\tremaining: 1m 58s\n",
            "90:\tlearn: 0.3809394\ttest: 0.3896839\tbest: 0.3896821 (89)\ttotal: 2.2s\tremaining: 1m 58s\n",
            "91:\tlearn: 0.3808593\ttest: 0.3896586\tbest: 0.3896586 (91)\ttotal: 2.22s\tremaining: 1m 58s\n",
            "92:\tlearn: 0.3807710\ttest: 0.3895995\tbest: 0.3895995 (92)\ttotal: 2.25s\tremaining: 1m 58s\n",
            "93:\tlearn: 0.3807185\ttest: 0.3895931\tbest: 0.3895931 (93)\ttotal: 2.27s\tremaining: 1m 58s\n",
            "94:\tlearn: 0.3806092\ttest: 0.3894849\tbest: 0.3894849 (94)\ttotal: 2.3s\tremaining: 1m 58s\n",
            "95:\tlearn: 0.3804762\ttest: 0.3893741\tbest: 0.3893741 (95)\ttotal: 2.32s\tremaining: 1m 58s\n",
            "96:\tlearn: 0.3804068\ttest: 0.3893428\tbest: 0.3893428 (96)\ttotal: 2.34s\tremaining: 1m 58s\n",
            "97:\tlearn: 0.3803102\ttest: 0.3892997\tbest: 0.3892997 (97)\ttotal: 2.37s\tremaining: 1m 58s\n",
            "98:\tlearn: 0.3802503\ttest: 0.3892468\tbest: 0.3892468 (98)\ttotal: 2.39s\tremaining: 1m 58s\n",
            "99:\tlearn: 0.3802055\ttest: 0.3892083\tbest: 0.3892083 (99)\ttotal: 2.41s\tremaining: 1m 58s\n",
            "100:\tlearn: 0.3801591\ttest: 0.3891611\tbest: 0.3891611 (100)\ttotal: 2.44s\tremaining: 1m 58s\n",
            "101:\tlearn: 0.3801438\ttest: 0.3891558\tbest: 0.3891558 (101)\ttotal: 2.46s\tremaining: 1m 58s\n",
            "102:\tlearn: 0.3800940\ttest: 0.3892004\tbest: 0.3891558 (101)\ttotal: 2.49s\tremaining: 1m 58s\n",
            "103:\tlearn: 0.3800576\ttest: 0.3891735\tbest: 0.3891558 (101)\ttotal: 2.51s\tremaining: 1m 58s\n",
            "104:\tlearn: 0.3800372\ttest: 0.3891551\tbest: 0.3891551 (104)\ttotal: 2.54s\tremaining: 1m 58s\n",
            "105:\tlearn: 0.3799801\ttest: 0.3891047\tbest: 0.3891047 (105)\ttotal: 2.56s\tremaining: 1m 58s\n",
            "106:\tlearn: 0.3798817\ttest: 0.3890347\tbest: 0.3890347 (106)\ttotal: 2.58s\tremaining: 1m 58s\n",
            "107:\tlearn: 0.3798069\ttest: 0.3889690\tbest: 0.3889690 (107)\ttotal: 2.61s\tremaining: 1m 58s\n",
            "108:\tlearn: 0.3797469\ttest: 0.3889332\tbest: 0.3889332 (108)\ttotal: 2.63s\tremaining: 1m 58s\n",
            "109:\tlearn: 0.3797136\ttest: 0.3888922\tbest: 0.3888922 (109)\ttotal: 2.66s\tremaining: 1m 58s\n",
            "110:\tlearn: 0.3796966\ttest: 0.3889158\tbest: 0.3888922 (109)\ttotal: 2.68s\tremaining: 1m 58s\n",
            "111:\tlearn: 0.3796954\ttest: 0.3889153\tbest: 0.3888922 (109)\ttotal: 2.7s\tremaining: 1m 57s\n",
            "112:\tlearn: 0.3796645\ttest: 0.3889103\tbest: 0.3888922 (109)\ttotal: 2.72s\tremaining: 1m 57s\n",
            "113:\tlearn: 0.3795851\ttest: 0.3888740\tbest: 0.3888740 (113)\ttotal: 2.75s\tremaining: 1m 57s\n",
            "114:\tlearn: 0.3795570\ttest: 0.3888242\tbest: 0.3888242 (114)\ttotal: 2.77s\tremaining: 1m 57s\n",
            "115:\tlearn: 0.3795193\ttest: 0.3888049\tbest: 0.3888049 (115)\ttotal: 2.79s\tremaining: 1m 57s\n",
            "116:\tlearn: 0.3794464\ttest: 0.3887733\tbest: 0.3887733 (116)\ttotal: 2.82s\tremaining: 1m 57s\n",
            "117:\tlearn: 0.3793898\ttest: 0.3887427\tbest: 0.3887427 (117)\ttotal: 2.84s\tremaining: 1m 57s\n",
            "118:\tlearn: 0.3793708\ttest: 0.3887592\tbest: 0.3887427 (117)\ttotal: 2.87s\tremaining: 1m 57s\n",
            "119:\tlearn: 0.3793254\ttest: 0.3888117\tbest: 0.3887427 (117)\ttotal: 2.89s\tremaining: 1m 57s\n",
            "120:\tlearn: 0.3792750\ttest: 0.3887708\tbest: 0.3887427 (117)\ttotal: 2.91s\tremaining: 1m 57s\n",
            "121:\tlearn: 0.3792157\ttest: 0.3887544\tbest: 0.3887427 (117)\ttotal: 2.94s\tremaining: 1m 57s\n",
            "122:\tlearn: 0.3791832\ttest: 0.3887273\tbest: 0.3887273 (122)\ttotal: 2.96s\tremaining: 1m 57s\n",
            "123:\tlearn: 0.3791394\ttest: 0.3887244\tbest: 0.3887244 (123)\ttotal: 2.99s\tremaining: 1m 57s\n",
            "124:\tlearn: 0.3790891\ttest: 0.3886894\tbest: 0.3886894 (124)\ttotal: 3.01s\tremaining: 1m 57s\n",
            "125:\tlearn: 0.3790503\ttest: 0.3886544\tbest: 0.3886544 (125)\ttotal: 3.03s\tremaining: 1m 57s\n",
            "126:\tlearn: 0.3790193\ttest: 0.3885898\tbest: 0.3885898 (126)\ttotal: 3.06s\tremaining: 1m 57s\n",
            "127:\tlearn: 0.3788736\ttest: 0.3884356\tbest: 0.3884356 (127)\ttotal: 3.08s\tremaining: 1m 57s\n",
            "128:\tlearn: 0.3788560\ttest: 0.3884141\tbest: 0.3884141 (128)\ttotal: 3.1s\tremaining: 1m 57s\n",
            "129:\tlearn: 0.3787246\ttest: 0.3882065\tbest: 0.3882065 (129)\ttotal: 3.13s\tremaining: 1m 57s\n",
            "130:\tlearn: 0.3786847\ttest: 0.3881894\tbest: 0.3881894 (130)\ttotal: 3.15s\tremaining: 1m 57s\n",
            "131:\tlearn: 0.3786349\ttest: 0.3881617\tbest: 0.3881617 (131)\ttotal: 3.18s\tremaining: 1m 57s\n",
            "132:\tlearn: 0.3785867\ttest: 0.3881303\tbest: 0.3881303 (132)\ttotal: 3.2s\tremaining: 1m 57s\n",
            "133:\tlearn: 0.3785399\ttest: 0.3881234\tbest: 0.3881234 (133)\ttotal: 3.22s\tremaining: 1m 57s\n",
            "134:\tlearn: 0.3784865\ttest: 0.3881404\tbest: 0.3881234 (133)\ttotal: 3.25s\tremaining: 1m 57s\n",
            "135:\tlearn: 0.3784061\ttest: 0.3881237\tbest: 0.3881234 (133)\ttotal: 3.27s\tremaining: 1m 57s\n",
            "136:\tlearn: 0.3783483\ttest: 0.3881302\tbest: 0.3881234 (133)\ttotal: 3.3s\tremaining: 1m 57s\n",
            "137:\tlearn: 0.3783099\ttest: 0.3881201\tbest: 0.3881201 (137)\ttotal: 3.32s\tremaining: 1m 57s\n",
            "138:\tlearn: 0.3782709\ttest: 0.3880993\tbest: 0.3880993 (138)\ttotal: 3.35s\tremaining: 1m 57s\n",
            "139:\tlearn: 0.3782374\ttest: 0.3880637\tbest: 0.3880637 (139)\ttotal: 3.37s\tremaining: 1m 57s\n",
            "140:\tlearn: 0.3782218\ttest: 0.3880570\tbest: 0.3880570 (140)\ttotal: 3.39s\tremaining: 1m 56s\n",
            "141:\tlearn: 0.3781087\ttest: 0.3880211\tbest: 0.3880211 (141)\ttotal: 3.42s\tremaining: 1m 56s\n",
            "142:\tlearn: 0.3780864\ttest: 0.3880480\tbest: 0.3880211 (141)\ttotal: 3.44s\tremaining: 1m 56s\n",
            "143:\tlearn: 0.3780503\ttest: 0.3880407\tbest: 0.3880211 (141)\ttotal: 3.47s\tremaining: 1m 56s\n",
            "144:\tlearn: 0.3779815\ttest: 0.3880089\tbest: 0.3880089 (144)\ttotal: 3.49s\tremaining: 1m 56s\n",
            "145:\tlearn: 0.3779429\ttest: 0.3879981\tbest: 0.3879981 (145)\ttotal: 3.51s\tremaining: 1m 56s\n",
            "146:\tlearn: 0.3779009\ttest: 0.3880176\tbest: 0.3879981 (145)\ttotal: 3.54s\tremaining: 1m 56s\n",
            "147:\tlearn: 0.3778520\ttest: 0.3880375\tbest: 0.3879981 (145)\ttotal: 3.56s\tremaining: 1m 56s\n",
            "148:\tlearn: 0.3778508\ttest: 0.3880368\tbest: 0.3879981 (145)\ttotal: 3.58s\tremaining: 1m 56s\n",
            "149:\tlearn: 0.3777962\ttest: 0.3880097\tbest: 0.3879981 (145)\ttotal: 3.6s\tremaining: 1m 56s\n",
            "150:\tlearn: 0.3777491\ttest: 0.3879814\tbest: 0.3879814 (150)\ttotal: 3.63s\tremaining: 1m 56s\n",
            "151:\tlearn: 0.3777063\ttest: 0.3879380\tbest: 0.3879380 (151)\ttotal: 3.65s\tremaining: 1m 56s\n",
            "152:\tlearn: 0.3776698\ttest: 0.3880842\tbest: 0.3879380 (151)\ttotal: 3.67s\tremaining: 1m 56s\n",
            "153:\tlearn: 0.3776202\ttest: 0.3880406\tbest: 0.3879380 (151)\ttotal: 3.7s\tremaining: 1m 56s\n",
            "154:\tlearn: 0.3775897\ttest: 0.3880504\tbest: 0.3879380 (151)\ttotal: 3.72s\tremaining: 1m 56s\n",
            "155:\tlearn: 0.3775847\ttest: 0.3880492\tbest: 0.3879380 (151)\ttotal: 3.74s\tremaining: 1m 56s\n",
            "156:\tlearn: 0.3775354\ttest: 0.3880119\tbest: 0.3879380 (151)\ttotal: 3.77s\tremaining: 1m 56s\n",
            "157:\tlearn: 0.3774912\ttest: 0.3880063\tbest: 0.3879380 (151)\ttotal: 3.79s\tremaining: 1m 56s\n",
            "158:\tlearn: 0.3774418\ttest: 0.3880098\tbest: 0.3879380 (151)\ttotal: 3.82s\tremaining: 1m 56s\n",
            "159:\tlearn: 0.3774103\ttest: 0.3880291\tbest: 0.3879380 (151)\ttotal: 3.84s\tremaining: 1m 56s\n",
            "160:\tlearn: 0.3773503\ttest: 0.3879863\tbest: 0.3879380 (151)\ttotal: 3.86s\tremaining: 1m 56s\n",
            "161:\tlearn: 0.3773163\ttest: 0.3879636\tbest: 0.3879380 (151)\ttotal: 3.89s\tremaining: 1m 56s\n",
            "162:\tlearn: 0.3772833\ttest: 0.3879734\tbest: 0.3879380 (151)\ttotal: 3.91s\tremaining: 1m 56s\n",
            "163:\tlearn: 0.3772450\ttest: 0.3879621\tbest: 0.3879380 (151)\ttotal: 3.94s\tremaining: 1m 56s\n",
            "164:\tlearn: 0.3772216\ttest: 0.3879350\tbest: 0.3879350 (164)\ttotal: 3.96s\tremaining: 1m 56s\n",
            "165:\tlearn: 0.3771981\ttest: 0.3878853\tbest: 0.3878853 (165)\ttotal: 3.98s\tremaining: 1m 56s\n",
            "166:\tlearn: 0.3771612\ttest: 0.3878846\tbest: 0.3878846 (166)\ttotal: 4.01s\tremaining: 1m 55s\n",
            "167:\tlearn: 0.3771407\ttest: 0.3878795\tbest: 0.3878795 (167)\ttotal: 4.03s\tremaining: 1m 55s\n",
            "168:\tlearn: 0.3770654\ttest: 0.3878826\tbest: 0.3878795 (167)\ttotal: 4.05s\tremaining: 1m 55s\n",
            "169:\tlearn: 0.3770045\ttest: 0.3878328\tbest: 0.3878328 (169)\ttotal: 4.08s\tremaining: 1m 55s\n",
            "170:\tlearn: 0.3769611\ttest: 0.3878504\tbest: 0.3878328 (169)\ttotal: 4.1s\tremaining: 1m 55s\n",
            "171:\tlearn: 0.3768800\ttest: 0.3877904\tbest: 0.3877904 (171)\ttotal: 4.12s\tremaining: 1m 55s\n",
            "172:\tlearn: 0.3768765\ttest: 0.3877896\tbest: 0.3877896 (172)\ttotal: 4.15s\tremaining: 1m 55s\n",
            "173:\tlearn: 0.3768466\ttest: 0.3877750\tbest: 0.3877750 (173)\ttotal: 4.17s\tremaining: 1m 55s\n",
            "174:\tlearn: 0.3768158\ttest: 0.3878093\tbest: 0.3877750 (173)\ttotal: 4.19s\tremaining: 1m 55s\n",
            "175:\tlearn: 0.3767582\ttest: 0.3877506\tbest: 0.3877506 (175)\ttotal: 4.22s\tremaining: 1m 55s\n",
            "176:\tlearn: 0.3767213\ttest: 0.3877682\tbest: 0.3877506 (175)\ttotal: 4.24s\tremaining: 1m 55s\n",
            "177:\tlearn: 0.3766833\ttest: 0.3877391\tbest: 0.3877391 (177)\ttotal: 4.26s\tremaining: 1m 55s\n",
            "178:\tlearn: 0.3766680\ttest: 0.3877385\tbest: 0.3877385 (178)\ttotal: 4.29s\tremaining: 1m 55s\n",
            "179:\tlearn: 0.3766456\ttest: 0.3877408\tbest: 0.3877385 (178)\ttotal: 4.31s\tremaining: 1m 55s\n",
            "180:\tlearn: 0.3766211\ttest: 0.3877326\tbest: 0.3877326 (180)\ttotal: 4.33s\tremaining: 1m 55s\n",
            "181:\tlearn: 0.3765658\ttest: 0.3877180\tbest: 0.3877180 (181)\ttotal: 4.36s\tremaining: 1m 55s\n",
            "182:\tlearn: 0.3764607\ttest: 0.3876794\tbest: 0.3876794 (182)\ttotal: 4.38s\tremaining: 1m 55s\n",
            "183:\tlearn: 0.3764311\ttest: 0.3876985\tbest: 0.3876794 (182)\ttotal: 4.41s\tremaining: 1m 55s\n",
            "184:\tlearn: 0.3763764\ttest: 0.3876936\tbest: 0.3876794 (182)\ttotal: 4.43s\tremaining: 1m 55s\n",
            "185:\tlearn: 0.3763306\ttest: 0.3877117\tbest: 0.3876794 (182)\ttotal: 4.45s\tremaining: 1m 55s\n",
            "186:\tlearn: 0.3763269\ttest: 0.3877112\tbest: 0.3876794 (182)\ttotal: 4.48s\tremaining: 1m 55s\n",
            "187:\tlearn: 0.3763044\ttest: 0.3877300\tbest: 0.3876794 (182)\ttotal: 4.5s\tremaining: 1m 55s\n",
            "188:\tlearn: 0.3762833\ttest: 0.3877426\tbest: 0.3876794 (182)\ttotal: 4.53s\tremaining: 1m 55s\n",
            "189:\tlearn: 0.3762190\ttest: 0.3881288\tbest: 0.3876794 (182)\ttotal: 4.55s\tremaining: 1m 55s\n",
            "190:\tlearn: 0.3762177\ttest: 0.3881284\tbest: 0.3876794 (182)\ttotal: 4.57s\tremaining: 1m 55s\n",
            "191:\tlearn: 0.3761814\ttest: 0.3881075\tbest: 0.3876794 (182)\ttotal: 4.6s\tremaining: 1m 55s\n",
            "192:\tlearn: 0.3761454\ttest: 0.3881048\tbest: 0.3876794 (182)\ttotal: 4.62s\tremaining: 1m 55s\n",
            "193:\tlearn: 0.3760896\ttest: 0.3880804\tbest: 0.3876794 (182)\ttotal: 4.64s\tremaining: 1m 55s\n",
            "194:\tlearn: 0.3760561\ttest: 0.3880982\tbest: 0.3876794 (182)\ttotal: 4.66s\tremaining: 1m 54s\n",
            "195:\tlearn: 0.3760321\ttest: 0.3881206\tbest: 0.3876794 (182)\ttotal: 4.68s\tremaining: 1m 54s\n",
            "196:\tlearn: 0.3760048\ttest: 0.3881255\tbest: 0.3876794 (182)\ttotal: 4.71s\tremaining: 1m 54s\n",
            "197:\tlearn: 0.3759792\ttest: 0.3881088\tbest: 0.3876794 (182)\ttotal: 4.73s\tremaining: 1m 54s\n",
            "198:\tlearn: 0.3759463\ttest: 0.3880849\tbest: 0.3876794 (182)\ttotal: 4.75s\tremaining: 1m 54s\n",
            "199:\tlearn: 0.3759216\ttest: 0.3880926\tbest: 0.3876794 (182)\ttotal: 4.78s\tremaining: 1m 54s\n",
            "200:\tlearn: 0.3758958\ttest: 0.3881055\tbest: 0.3876794 (182)\ttotal: 4.8s\tremaining: 1m 54s\n",
            "201:\tlearn: 0.3758631\ttest: 0.3881277\tbest: 0.3876794 (182)\ttotal: 4.83s\tremaining: 1m 54s\n",
            "202:\tlearn: 0.3758552\ttest: 0.3881275\tbest: 0.3876794 (182)\ttotal: 4.85s\tremaining: 1m 54s\n",
            "203:\tlearn: 0.3757913\ttest: 0.3880871\tbest: 0.3876794 (182)\ttotal: 4.87s\tremaining: 1m 54s\n",
            "204:\tlearn: 0.3757843\ttest: 0.3880921\tbest: 0.3876794 (182)\ttotal: 4.9s\tremaining: 1m 54s\n",
            "205:\tlearn: 0.3757435\ttest: 0.3880703\tbest: 0.3876794 (182)\ttotal: 4.92s\tremaining: 1m 54s\n",
            "206:\tlearn: 0.3756954\ttest: 0.3881162\tbest: 0.3876794 (182)\ttotal: 4.95s\tremaining: 1m 54s\n",
            "207:\tlearn: 0.3756693\ttest: 0.3881101\tbest: 0.3876794 (182)\ttotal: 4.97s\tremaining: 1m 54s\n",
            "208:\tlearn: 0.3756234\ttest: 0.3880488\tbest: 0.3876794 (182)\ttotal: 4.99s\tremaining: 1m 54s\n",
            "209:\tlearn: 0.3755943\ttest: 0.3880904\tbest: 0.3876794 (182)\ttotal: 5.02s\tremaining: 1m 54s\n",
            "210:\tlearn: 0.3755713\ttest: 0.3880888\tbest: 0.3876794 (182)\ttotal: 5.04s\tremaining: 1m 54s\n",
            "211:\tlearn: 0.3755684\ttest: 0.3880880\tbest: 0.3876794 (182)\ttotal: 5.06s\tremaining: 1m 54s\n",
            "212:\tlearn: 0.3755325\ttest: 0.3880930\tbest: 0.3876794 (182)\ttotal: 5.08s\tremaining: 1m 54s\n",
            "213:\tlearn: 0.3755168\ttest: 0.3880862\tbest: 0.3876794 (182)\ttotal: 5.11s\tremaining: 1m 54s\n",
            "214:\tlearn: 0.3755129\ttest: 0.3880861\tbest: 0.3876794 (182)\ttotal: 5.13s\tremaining: 1m 54s\n",
            "215:\tlearn: 0.3754993\ttest: 0.3880803\tbest: 0.3876794 (182)\ttotal: 5.16s\tremaining: 1m 54s\n",
            "216:\tlearn: 0.3754655\ttest: 0.3880759\tbest: 0.3876794 (182)\ttotal: 5.18s\tremaining: 1m 54s\n",
            "217:\tlearn: 0.3754131\ttest: 0.3880192\tbest: 0.3876794 (182)\ttotal: 5.2s\tremaining: 1m 54s\n",
            "218:\tlearn: 0.3753816\ttest: 0.3880156\tbest: 0.3876794 (182)\ttotal: 5.23s\tremaining: 1m 54s\n",
            "219:\tlearn: 0.3753562\ttest: 0.3880068\tbest: 0.3876794 (182)\ttotal: 5.25s\tremaining: 1m 54s\n",
            "220:\tlearn: 0.3753152\ttest: 0.3880208\tbest: 0.3876794 (182)\ttotal: 5.27s\tremaining: 1m 54s\n",
            "221:\tlearn: 0.3752200\ttest: 0.3879250\tbest: 0.3876794 (182)\ttotal: 5.3s\tremaining: 1m 54s\n",
            "222:\tlearn: 0.3752180\ttest: 0.3879245\tbest: 0.3876794 (182)\ttotal: 5.32s\tremaining: 1m 54s\n",
            "223:\tlearn: 0.3751526\ttest: 0.3879344\tbest: 0.3876794 (182)\ttotal: 5.34s\tremaining: 1m 53s\n",
            "224:\tlearn: 0.3751245\ttest: 0.3879154\tbest: 0.3876794 (182)\ttotal: 5.37s\tremaining: 1m 53s\n",
            "225:\tlearn: 0.3750931\ttest: 0.3879307\tbest: 0.3876794 (182)\ttotal: 5.39s\tremaining: 1m 53s\n",
            "226:\tlearn: 0.3750624\ttest: 0.3879219\tbest: 0.3876794 (182)\ttotal: 5.42s\tremaining: 1m 53s\n",
            "227:\tlearn: 0.3750233\ttest: 0.3878981\tbest: 0.3876794 (182)\ttotal: 5.45s\tremaining: 1m 54s\n",
            "228:\tlearn: 0.3749830\ttest: 0.3879119\tbest: 0.3876794 (182)\ttotal: 5.47s\tremaining: 1m 54s\n",
            "229:\tlearn: 0.3749478\ttest: 0.3879048\tbest: 0.3876794 (182)\ttotal: 5.5s\tremaining: 1m 53s\n",
            "230:\tlearn: 0.3749109\ttest: 0.3879002\tbest: 0.3876794 (182)\ttotal: 5.52s\tremaining: 1m 54s\n",
            "231:\tlearn: 0.3748755\ttest: 0.3879168\tbest: 0.3876794 (182)\ttotal: 5.55s\tremaining: 1m 53s\n",
            "232:\tlearn: 0.3748273\ttest: 0.3879183\tbest: 0.3876794 (182)\ttotal: 5.57s\tremaining: 1m 53s\n",
            "233:\tlearn: 0.3748044\ttest: 0.3879557\tbest: 0.3876794 (182)\ttotal: 5.59s\tremaining: 1m 53s\n",
            "234:\tlearn: 0.3748033\ttest: 0.3879552\tbest: 0.3876794 (182)\ttotal: 5.62s\tremaining: 1m 53s\n",
            "235:\tlearn: 0.3747674\ttest: 0.3879150\tbest: 0.3876794 (182)\ttotal: 5.64s\tremaining: 1m 53s\n",
            "236:\tlearn: 0.3747313\ttest: 0.3879077\tbest: 0.3876794 (182)\ttotal: 5.66s\tremaining: 1m 53s\n",
            "237:\tlearn: 0.3747305\ttest: 0.3879073\tbest: 0.3876794 (182)\ttotal: 5.69s\tremaining: 1m 53s\n",
            "238:\tlearn: 0.3746876\ttest: 0.3879223\tbest: 0.3876794 (182)\ttotal: 5.71s\tremaining: 1m 53s\n",
            "239:\tlearn: 0.3746400\ttest: 0.3879245\tbest: 0.3876794 (182)\ttotal: 5.74s\tremaining: 1m 53s\n",
            "240:\tlearn: 0.3746220\ttest: 0.3879299\tbest: 0.3876794 (182)\ttotal: 5.76s\tremaining: 1m 53s\n",
            "241:\tlearn: 0.3745908\ttest: 0.3879087\tbest: 0.3876794 (182)\ttotal: 5.78s\tremaining: 1m 53s\n",
            "242:\tlearn: 0.3745793\ttest: 0.3877353\tbest: 0.3876794 (182)\ttotal: 5.81s\tremaining: 1m 53s\n",
            "243:\tlearn: 0.3745475\ttest: 0.3877182\tbest: 0.3876794 (182)\ttotal: 5.83s\tremaining: 1m 53s\n",
            "244:\tlearn: 0.3745026\ttest: 0.3877176\tbest: 0.3876794 (182)\ttotal: 5.85s\tremaining: 1m 53s\n",
            "245:\tlearn: 0.3745017\ttest: 0.3877172\tbest: 0.3876794 (182)\ttotal: 5.88s\tremaining: 1m 53s\n",
            "246:\tlearn: 0.3744682\ttest: 0.3877169\tbest: 0.3876794 (182)\ttotal: 5.9s\tremaining: 1m 53s\n",
            "247:\tlearn: 0.3744434\ttest: 0.3876904\tbest: 0.3876794 (182)\ttotal: 5.92s\tremaining: 1m 53s\n",
            "248:\tlearn: 0.3743835\ttest: 0.3876623\tbest: 0.3876623 (248)\ttotal: 5.95s\tremaining: 1m 53s\n",
            "249:\tlearn: 0.3743569\ttest: 0.3876621\tbest: 0.3876621 (249)\ttotal: 5.97s\tremaining: 1m 53s\n",
            "250:\tlearn: 0.3743267\ttest: 0.3876264\tbest: 0.3876264 (250)\ttotal: 6s\tremaining: 1m 53s\n",
            "251:\tlearn: 0.3743160\ttest: 0.3876176\tbest: 0.3876176 (251)\ttotal: 6.02s\tremaining: 1m 53s\n",
            "252:\tlearn: 0.3743040\ttest: 0.3876463\tbest: 0.3876176 (251)\ttotal: 6.04s\tremaining: 1m 53s\n",
            "253:\tlearn: 0.3742815\ttest: 0.3876476\tbest: 0.3876176 (251)\ttotal: 6.06s\tremaining: 1m 53s\n",
            "254:\tlearn: 0.3742600\ttest: 0.3876510\tbest: 0.3876176 (251)\ttotal: 6.09s\tremaining: 1m 53s\n",
            "255:\tlearn: 0.3742392\ttest: 0.3876475\tbest: 0.3876176 (251)\ttotal: 6.11s\tremaining: 1m 53s\n",
            "256:\tlearn: 0.3742099\ttest: 0.3876540\tbest: 0.3876176 (251)\ttotal: 6.13s\tremaining: 1m 53s\n",
            "257:\tlearn: 0.3741878\ttest: 0.3876736\tbest: 0.3876176 (251)\ttotal: 6.15s\tremaining: 1m 53s\n",
            "258:\tlearn: 0.3741624\ttest: 0.3876817\tbest: 0.3876176 (251)\ttotal: 6.18s\tremaining: 1m 53s\n",
            "259:\tlearn: 0.3741079\ttest: 0.3876651\tbest: 0.3876176 (251)\ttotal: 6.2s\tremaining: 1m 53s\n",
            "260:\tlearn: 0.3740218\ttest: 0.3876701\tbest: 0.3876176 (251)\ttotal: 6.22s\tremaining: 1m 53s\n",
            "261:\tlearn: 0.3740212\ttest: 0.3876697\tbest: 0.3876176 (251)\ttotal: 6.25s\tremaining: 1m 52s\n",
            "262:\tlearn: 0.3739849\ttest: 0.3877040\tbest: 0.3876176 (251)\ttotal: 6.27s\tremaining: 1m 52s\n",
            "263:\tlearn: 0.3739613\ttest: 0.3877049\tbest: 0.3876176 (251)\ttotal: 6.29s\tremaining: 1m 52s\n",
            "264:\tlearn: 0.3739095\ttest: 0.3877069\tbest: 0.3876176 (251)\ttotal: 6.31s\tremaining: 1m 52s\n",
            "265:\tlearn: 0.3738982\ttest: 0.3877225\tbest: 0.3876176 (251)\ttotal: 6.34s\tremaining: 1m 52s\n",
            "266:\tlearn: 0.3738851\ttest: 0.3877256\tbest: 0.3876176 (251)\ttotal: 6.36s\tremaining: 1m 52s\n",
            "267:\tlearn: 0.3738449\ttest: 0.3877231\tbest: 0.3876176 (251)\ttotal: 6.38s\tremaining: 1m 52s\n",
            "268:\tlearn: 0.3738338\ttest: 0.3877203\tbest: 0.3876176 (251)\ttotal: 6.41s\tremaining: 1m 52s\n",
            "269:\tlearn: 0.3737755\ttest: 0.3876807\tbest: 0.3876176 (251)\ttotal: 6.43s\tremaining: 1m 52s\n",
            "270:\tlearn: 0.3737666\ttest: 0.3876785\tbest: 0.3876176 (251)\ttotal: 6.46s\tremaining: 1m 52s\n",
            "271:\tlearn: 0.3737369\ttest: 0.3876922\tbest: 0.3876176 (251)\ttotal: 6.48s\tremaining: 1m 52s\n",
            "272:\tlearn: 0.3737201\ttest: 0.3876892\tbest: 0.3876176 (251)\ttotal: 6.5s\tremaining: 1m 52s\n",
            "273:\tlearn: 0.3737023\ttest: 0.3876859\tbest: 0.3876176 (251)\ttotal: 6.52s\tremaining: 1m 52s\n",
            "274:\tlearn: 0.3736764\ttest: 0.3876875\tbest: 0.3876176 (251)\ttotal: 6.54s\tremaining: 1m 52s\n",
            "275:\tlearn: 0.3736199\ttest: 0.3876532\tbest: 0.3876176 (251)\ttotal: 6.57s\tremaining: 1m 52s\n",
            "276:\tlearn: 0.3735616\ttest: 0.3875977\tbest: 0.3875977 (276)\ttotal: 6.59s\tremaining: 1m 52s\n",
            "277:\tlearn: 0.3735145\ttest: 0.3876089\tbest: 0.3875977 (276)\ttotal: 6.61s\tremaining: 1m 52s\n",
            "278:\tlearn: 0.3734608\ttest: 0.3876167\tbest: 0.3875977 (276)\ttotal: 6.63s\tremaining: 1m 52s\n",
            "279:\tlearn: 0.3734418\ttest: 0.3875965\tbest: 0.3875965 (279)\ttotal: 6.66s\tremaining: 1m 52s\n",
            "280:\tlearn: 0.3734005\ttest: 0.3875774\tbest: 0.3875774 (280)\ttotal: 6.68s\tremaining: 1m 52s\n",
            "281:\tlearn: 0.3733748\ttest: 0.3875752\tbest: 0.3875752 (281)\ttotal: 6.7s\tremaining: 1m 52s\n",
            "282:\tlearn: 0.3733582\ttest: 0.3875650\tbest: 0.3875650 (282)\ttotal: 6.73s\tremaining: 1m 52s\n",
            "283:\tlearn: 0.3733397\ttest: 0.3875568\tbest: 0.3875568 (283)\ttotal: 6.75s\tremaining: 1m 52s\n",
            "284:\tlearn: 0.3733196\ttest: 0.3875549\tbest: 0.3875549 (284)\ttotal: 6.78s\tremaining: 1m 52s\n",
            "285:\tlearn: 0.3732893\ttest: 0.3875523\tbest: 0.3875523 (285)\ttotal: 6.8s\tremaining: 1m 52s\n",
            "286:\tlearn: 0.3732704\ttest: 0.3875796\tbest: 0.3875523 (285)\ttotal: 6.82s\tremaining: 1m 52s\n",
            "287:\tlearn: 0.3732496\ttest: 0.3875998\tbest: 0.3875523 (285)\ttotal: 6.85s\tremaining: 1m 52s\n",
            "288:\tlearn: 0.3732308\ttest: 0.3876292\tbest: 0.3875523 (285)\ttotal: 6.88s\tremaining: 1m 52s\n",
            "289:\tlearn: 0.3732047\ttest: 0.3876408\tbest: 0.3875523 (285)\ttotal: 6.91s\tremaining: 1m 52s\n",
            "290:\tlearn: 0.3731971\ttest: 0.3876402\tbest: 0.3875523 (285)\ttotal: 6.97s\tremaining: 1m 52s\n",
            "291:\tlearn: 0.3731828\ttest: 0.3876546\tbest: 0.3875523 (285)\ttotal: 7s\tremaining: 1m 52s\n",
            "292:\tlearn: 0.3731416\ttest: 0.3876699\tbest: 0.3875523 (285)\ttotal: 7.02s\tremaining: 1m 52s\n",
            "293:\tlearn: 0.3731344\ttest: 0.3876772\tbest: 0.3875523 (285)\ttotal: 7.05s\tremaining: 1m 52s\n",
            "294:\tlearn: 0.3731199\ttest: 0.3876684\tbest: 0.3875523 (285)\ttotal: 7.07s\tremaining: 1m 52s\n",
            "295:\tlearn: 0.3731030\ttest: 0.3876760\tbest: 0.3875523 (285)\ttotal: 7.1s\tremaining: 1m 52s\n",
            "296:\tlearn: 0.3730899\ttest: 0.3876703\tbest: 0.3875523 (285)\ttotal: 7.12s\tremaining: 1m 52s\n",
            "297:\tlearn: 0.3730652\ttest: 0.3876826\tbest: 0.3875523 (285)\ttotal: 7.15s\tremaining: 1m 52s\n",
            "298:\tlearn: 0.3730259\ttest: 0.3877580\tbest: 0.3875523 (285)\ttotal: 7.17s\tremaining: 1m 52s\n",
            "299:\tlearn: 0.3729535\ttest: 0.3877032\tbest: 0.3875523 (285)\ttotal: 7.2s\tremaining: 1m 52s\n",
            "300:\tlearn: 0.3729306\ttest: 0.3877050\tbest: 0.3875523 (285)\ttotal: 7.22s\tremaining: 1m 52s\n",
            "301:\tlearn: 0.3729095\ttest: 0.3877074\tbest: 0.3875523 (285)\ttotal: 7.25s\tremaining: 1m 52s\n",
            "302:\tlearn: 0.3728866\ttest: 0.3876753\tbest: 0.3875523 (285)\ttotal: 7.27s\tremaining: 1m 52s\n",
            "303:\tlearn: 0.3728582\ttest: 0.3876624\tbest: 0.3875523 (285)\ttotal: 7.29s\tremaining: 1m 52s\n",
            "304:\tlearn: 0.3728417\ttest: 0.3876581\tbest: 0.3875523 (285)\ttotal: 7.32s\tremaining: 1m 52s\n",
            "305:\tlearn: 0.3728344\ttest: 0.3876600\tbest: 0.3875523 (285)\ttotal: 7.33s\tremaining: 1m 52s\n",
            "306:\tlearn: 0.3727775\ttest: 0.3876741\tbest: 0.3875523 (285)\ttotal: 7.36s\tremaining: 1m 52s\n",
            "307:\tlearn: 0.3727552\ttest: 0.3876726\tbest: 0.3875523 (285)\ttotal: 7.38s\tremaining: 1m 52s\n",
            "308:\tlearn: 0.3727346\ttest: 0.3876868\tbest: 0.3875523 (285)\ttotal: 7.4s\tremaining: 1m 52s\n",
            "309:\tlearn: 0.3727099\ttest: 0.3876902\tbest: 0.3875523 (285)\ttotal: 7.43s\tremaining: 1m 52s\n",
            "310:\tlearn: 0.3726899\ttest: 0.3876988\tbest: 0.3875523 (285)\ttotal: 7.45s\tremaining: 1m 52s\n",
            "311:\tlearn: 0.3726458\ttest: 0.3876997\tbest: 0.3875523 (285)\ttotal: 7.48s\tremaining: 1m 52s\n",
            "312:\tlearn: 0.3726109\ttest: 0.3877134\tbest: 0.3875523 (285)\ttotal: 7.5s\tremaining: 1m 52s\n",
            "313:\tlearn: 0.3725967\ttest: 0.3877175\tbest: 0.3875523 (285)\ttotal: 7.52s\tremaining: 1m 52s\n",
            "314:\tlearn: 0.3725793\ttest: 0.3877109\tbest: 0.3875523 (285)\ttotal: 7.55s\tremaining: 1m 52s\n",
            "315:\tlearn: 0.3725487\ttest: 0.3877890\tbest: 0.3875523 (285)\ttotal: 7.57s\tremaining: 1m 52s\n",
            "316:\tlearn: 0.3725203\ttest: 0.3876976\tbest: 0.3875523 (285)\ttotal: 7.6s\tremaining: 1m 52s\n",
            "317:\tlearn: 0.3724795\ttest: 0.3876813\tbest: 0.3875523 (285)\ttotal: 7.62s\tremaining: 1m 52s\n",
            "318:\tlearn: 0.3724684\ttest: 0.3876897\tbest: 0.3875523 (285)\ttotal: 7.65s\tremaining: 1m 52s\n",
            "319:\tlearn: 0.3724316\ttest: 0.3877039\tbest: 0.3875523 (285)\ttotal: 7.67s\tremaining: 1m 52s\n",
            "320:\tlearn: 0.3724252\ttest: 0.3876979\tbest: 0.3875523 (285)\ttotal: 7.69s\tremaining: 1m 52s\n",
            "321:\tlearn: 0.3723708\ttest: 0.3876841\tbest: 0.3875523 (285)\ttotal: 7.71s\tremaining: 1m 52s\n",
            "322:\tlearn: 0.3723639\ttest: 0.3876928\tbest: 0.3875523 (285)\ttotal: 7.74s\tremaining: 1m 52s\n",
            "323:\tlearn: 0.3723332\ttest: 0.3876737\tbest: 0.3875523 (285)\ttotal: 7.76s\tremaining: 1m 51s\n",
            "324:\tlearn: 0.3723313\ttest: 0.3876744\tbest: 0.3875523 (285)\ttotal: 7.78s\tremaining: 1m 51s\n",
            "325:\tlearn: 0.3723304\ttest: 0.3876740\tbest: 0.3875523 (285)\ttotal: 7.8s\tremaining: 1m 51s\n",
            "326:\tlearn: 0.3723108\ttest: 0.3874773\tbest: 0.3874773 (326)\ttotal: 7.83s\tremaining: 1m 51s\n",
            "327:\tlearn: 0.3722734\ttest: 0.3874807\tbest: 0.3874773 (326)\ttotal: 7.85s\tremaining: 1m 51s\n",
            "328:\tlearn: 0.3722547\ttest: 0.3874788\tbest: 0.3874773 (326)\ttotal: 7.88s\tremaining: 1m 51s\n",
            "329:\tlearn: 0.3721983\ttest: 0.3872666\tbest: 0.3872666 (329)\ttotal: 7.9s\tremaining: 1m 51s\n",
            "330:\tlearn: 0.3721871\ttest: 0.3872810\tbest: 0.3872666 (329)\ttotal: 7.92s\tremaining: 1m 51s\n",
            "331:\tlearn: 0.3721523\ttest: 0.3872835\tbest: 0.3872666 (329)\ttotal: 7.95s\tremaining: 1m 51s\n",
            "332:\tlearn: 0.3721410\ttest: 0.3872863\tbest: 0.3872666 (329)\ttotal: 7.97s\tremaining: 1m 51s\n",
            "333:\tlearn: 0.3721163\ttest: 0.3871861\tbest: 0.3871861 (333)\ttotal: 7.99s\tremaining: 1m 51s\n",
            "334:\tlearn: 0.3721063\ttest: 0.3871867\tbest: 0.3871861 (333)\ttotal: 8.02s\tremaining: 1m 51s\n",
            "335:\tlearn: 0.3720869\ttest: 0.3872119\tbest: 0.3871861 (333)\ttotal: 8.04s\tremaining: 1m 51s\n",
            "336:\tlearn: 0.3720644\ttest: 0.3872026\tbest: 0.3871861 (333)\ttotal: 8.06s\tremaining: 1m 51s\n",
            "337:\tlearn: 0.3720444\ttest: 0.3871955\tbest: 0.3871861 (333)\ttotal: 8.09s\tremaining: 1m 51s\n",
            "338:\tlearn: 0.3720044\ttest: 0.3872083\tbest: 0.3871861 (333)\ttotal: 8.11s\tremaining: 1m 51s\n",
            "339:\tlearn: 0.3719990\ttest: 0.3872094\tbest: 0.3871861 (333)\ttotal: 8.13s\tremaining: 1m 51s\n",
            "340:\tlearn: 0.3719873\ttest: 0.3872078\tbest: 0.3871861 (333)\ttotal: 8.15s\tremaining: 1m 51s\n",
            "341:\tlearn: 0.3719559\ttest: 0.3871845\tbest: 0.3871845 (341)\ttotal: 8.18s\tremaining: 1m 51s\n",
            "342:\tlearn: 0.3719425\ttest: 0.3871936\tbest: 0.3871845 (341)\ttotal: 8.2s\tremaining: 1m 51s\n",
            "343:\tlearn: 0.3719352\ttest: 0.3871868\tbest: 0.3871845 (341)\ttotal: 8.22s\tremaining: 1m 51s\n",
            "344:\tlearn: 0.3719157\ttest: 0.3871758\tbest: 0.3871758 (344)\ttotal: 8.25s\tremaining: 1m 51s\n",
            "345:\tlearn: 0.3719010\ttest: 0.3871744\tbest: 0.3871744 (345)\ttotal: 8.27s\tremaining: 1m 51s\n",
            "346:\tlearn: 0.3718963\ttest: 0.3871730\tbest: 0.3871730 (346)\ttotal: 8.29s\tremaining: 1m 51s\n",
            "347:\tlearn: 0.3718564\ttest: 0.3871985\tbest: 0.3871730 (346)\ttotal: 8.32s\tremaining: 1m 51s\n",
            "348:\tlearn: 0.3718504\ttest: 0.3872002\tbest: 0.3871730 (346)\ttotal: 8.34s\tremaining: 1m 51s\n",
            "349:\tlearn: 0.3718304\ttest: 0.3871999\tbest: 0.3871730 (346)\ttotal: 8.36s\tremaining: 1m 51s\n",
            "350:\tlearn: 0.3718200\ttest: 0.3872049\tbest: 0.3871730 (346)\ttotal: 8.39s\tremaining: 1m 51s\n",
            "351:\tlearn: 0.3718076\ttest: 0.3872116\tbest: 0.3871730 (346)\ttotal: 8.41s\tremaining: 1m 51s\n",
            "352:\tlearn: 0.3717632\ttest: 0.3872075\tbest: 0.3871730 (346)\ttotal: 8.44s\tremaining: 1m 51s\n",
            "353:\tlearn: 0.3717265\ttest: 0.3871788\tbest: 0.3871730 (346)\ttotal: 8.46s\tremaining: 1m 51s\n",
            "354:\tlearn: 0.3717183\ttest: 0.3871881\tbest: 0.3871730 (346)\ttotal: 8.48s\tremaining: 1m 51s\n",
            "355:\tlearn: 0.3717038\ttest: 0.3872008\tbest: 0.3871730 (346)\ttotal: 8.51s\tremaining: 1m 50s\n",
            "356:\tlearn: 0.3716929\ttest: 0.3871910\tbest: 0.3871730 (346)\ttotal: 8.53s\tremaining: 1m 50s\n",
            "357:\tlearn: 0.3716733\ttest: 0.3872186\tbest: 0.3871730 (346)\ttotal: 8.56s\tremaining: 1m 50s\n",
            "358:\tlearn: 0.3716691\ttest: 0.3872191\tbest: 0.3871730 (346)\ttotal: 8.58s\tremaining: 1m 50s\n",
            "359:\tlearn: 0.3716324\ttest: 0.3872161\tbest: 0.3871730 (346)\ttotal: 8.61s\tremaining: 1m 50s\n",
            "360:\tlearn: 0.3716256\ttest: 0.3872180\tbest: 0.3871730 (346)\ttotal: 8.63s\tremaining: 1m 50s\n",
            "361:\tlearn: 0.3716078\ttest: 0.3872283\tbest: 0.3871730 (346)\ttotal: 8.65s\tremaining: 1m 50s\n",
            "362:\tlearn: 0.3715947\ttest: 0.3872291\tbest: 0.3871730 (346)\ttotal: 8.68s\tremaining: 1m 50s\n",
            "363:\tlearn: 0.3715766\ttest: 0.3872433\tbest: 0.3871730 (346)\ttotal: 8.7s\tremaining: 1m 50s\n",
            "364:\tlearn: 0.3715514\ttest: 0.3872535\tbest: 0.3871730 (346)\ttotal: 8.73s\tremaining: 1m 50s\n",
            "365:\tlearn: 0.3715381\ttest: 0.3872349\tbest: 0.3871730 (346)\ttotal: 8.75s\tremaining: 1m 50s\n",
            "366:\tlearn: 0.3715115\ttest: 0.3872138\tbest: 0.3871730 (346)\ttotal: 8.77s\tremaining: 1m 50s\n",
            "367:\tlearn: 0.3715027\ttest: 0.3872075\tbest: 0.3871730 (346)\ttotal: 8.8s\tremaining: 1m 50s\n",
            "368:\tlearn: 0.3714763\ttest: 0.3872137\tbest: 0.3871730 (346)\ttotal: 8.82s\tremaining: 1m 50s\n",
            "369:\tlearn: 0.3714654\ttest: 0.3872624\tbest: 0.3871730 (346)\ttotal: 8.85s\tremaining: 1m 50s\n",
            "370:\tlearn: 0.3714534\ttest: 0.3872722\tbest: 0.3871730 (346)\ttotal: 8.87s\tremaining: 1m 50s\n",
            "371:\tlearn: 0.3714489\ttest: 0.3872782\tbest: 0.3871730 (346)\ttotal: 8.89s\tremaining: 1m 50s\n",
            "372:\tlearn: 0.3714464\ttest: 0.3872802\tbest: 0.3871730 (346)\ttotal: 8.91s\tremaining: 1m 50s\n",
            "373:\tlearn: 0.3713826\ttest: 0.3872512\tbest: 0.3871730 (346)\ttotal: 8.94s\tremaining: 1m 50s\n",
            "374:\tlearn: 0.3713084\ttest: 0.3872102\tbest: 0.3871730 (346)\ttotal: 8.96s\tremaining: 1m 50s\n",
            "375:\tlearn: 0.3712790\ttest: 0.3871961\tbest: 0.3871730 (346)\ttotal: 8.99s\tremaining: 1m 50s\n",
            "376:\tlearn: 0.3712784\ttest: 0.3871956\tbest: 0.3871730 (346)\ttotal: 9.01s\tremaining: 1m 50s\n",
            "377:\tlearn: 0.3712743\ttest: 0.3871948\tbest: 0.3871730 (346)\ttotal: 9.04s\tremaining: 1m 50s\n",
            "378:\tlearn: 0.3712527\ttest: 0.3871835\tbest: 0.3871730 (346)\ttotal: 9.06s\tremaining: 1m 50s\n",
            "379:\tlearn: 0.3712493\ttest: 0.3871832\tbest: 0.3871730 (346)\ttotal: 9.08s\tremaining: 1m 50s\n",
            "380:\tlearn: 0.3712476\ttest: 0.3871812\tbest: 0.3871730 (346)\ttotal: 9.11s\tremaining: 1m 50s\n",
            "381:\tlearn: 0.3712304\ttest: 0.3871933\tbest: 0.3871730 (346)\ttotal: 9.13s\tremaining: 1m 50s\n",
            "382:\tlearn: 0.3712114\ttest: 0.3871703\tbest: 0.3871703 (382)\ttotal: 9.15s\tremaining: 1m 50s\n",
            "383:\tlearn: 0.3711941\ttest: 0.3871595\tbest: 0.3871595 (383)\ttotal: 9.17s\tremaining: 1m 50s\n",
            "384:\tlearn: 0.3711719\ttest: 0.3871584\tbest: 0.3871584 (384)\ttotal: 9.2s\tremaining: 1m 50s\n",
            "385:\tlearn: 0.3711632\ttest: 0.3871588\tbest: 0.3871584 (384)\ttotal: 9.22s\tremaining: 1m 50s\n",
            "386:\tlearn: 0.3711478\ttest: 0.3871801\tbest: 0.3871584 (384)\ttotal: 9.24s\tremaining: 1m 50s\n",
            "387:\tlearn: 0.3711295\ttest: 0.3872047\tbest: 0.3871584 (384)\ttotal: 9.27s\tremaining: 1m 50s\n",
            "388:\tlearn: 0.3711050\ttest: 0.3871915\tbest: 0.3871584 (384)\ttotal: 9.29s\tremaining: 1m 50s\n",
            "389:\tlearn: 0.3710785\ttest: 0.3871813\tbest: 0.3871584 (384)\ttotal: 9.31s\tremaining: 1m 50s\n",
            "390:\tlearn: 0.3710535\ttest: 0.3871868\tbest: 0.3871584 (384)\ttotal: 9.34s\tremaining: 1m 50s\n",
            "391:\tlearn: 0.3710364\ttest: 0.3871937\tbest: 0.3871584 (384)\ttotal: 9.36s\tremaining: 1m 50s\n",
            "392:\tlearn: 0.3710249\ttest: 0.3871901\tbest: 0.3871584 (384)\ttotal: 9.38s\tremaining: 1m 49s\n",
            "393:\tlearn: 0.3710188\ttest: 0.3872027\tbest: 0.3871584 (384)\ttotal: 9.4s\tremaining: 1m 49s\n",
            "394:\tlearn: 0.3710005\ttest: 0.3872150\tbest: 0.3871584 (384)\ttotal: 9.43s\tremaining: 1m 49s\n",
            "395:\tlearn: 0.3709911\ttest: 0.3872144\tbest: 0.3871584 (384)\ttotal: 9.45s\tremaining: 1m 49s\n",
            "396:\tlearn: 0.3709870\ttest: 0.3872157\tbest: 0.3871584 (384)\ttotal: 9.47s\tremaining: 1m 49s\n",
            "397:\tlearn: 0.3709782\ttest: 0.3872158\tbest: 0.3871584 (384)\ttotal: 9.5s\tremaining: 1m 49s\n",
            "398:\tlearn: 0.3709752\ttest: 0.3872176\tbest: 0.3871584 (384)\ttotal: 9.52s\tremaining: 1m 49s\n",
            "399:\tlearn: 0.3709562\ttest: 0.3872197\tbest: 0.3871584 (384)\ttotal: 9.55s\tremaining: 1m 49s\n",
            "400:\tlearn: 0.3709452\ttest: 0.3872225\tbest: 0.3871584 (384)\ttotal: 9.57s\tremaining: 1m 49s\n",
            "401:\tlearn: 0.3709005\ttest: 0.3872344\tbest: 0.3871584 (384)\ttotal: 9.6s\tremaining: 1m 49s\n",
            "402:\tlearn: 0.3708809\ttest: 0.3872279\tbest: 0.3871584 (384)\ttotal: 9.62s\tremaining: 1m 49s\n",
            "403:\tlearn: 0.3708637\ttest: 0.3872448\tbest: 0.3871584 (384)\ttotal: 9.64s\tremaining: 1m 49s\n",
            "404:\tlearn: 0.3708524\ttest: 0.3872401\tbest: 0.3871584 (384)\ttotal: 9.67s\tremaining: 1m 49s\n",
            "405:\tlearn: 0.3708343\ttest: 0.3872593\tbest: 0.3871584 (384)\ttotal: 9.69s\tremaining: 1m 49s\n",
            "406:\tlearn: 0.3708151\ttest: 0.3872623\tbest: 0.3871584 (384)\ttotal: 9.71s\tremaining: 1m 49s\n",
            "407:\tlearn: 0.3707993\ttest: 0.3872510\tbest: 0.3871584 (384)\ttotal: 9.74s\tremaining: 1m 49s\n",
            "408:\tlearn: 0.3707948\ttest: 0.3872526\tbest: 0.3871584 (384)\ttotal: 9.76s\tremaining: 1m 49s\n",
            "409:\tlearn: 0.3707876\ttest: 0.3872517\tbest: 0.3871584 (384)\ttotal: 9.79s\tremaining: 1m 49s\n",
            "410:\tlearn: 0.3707709\ttest: 0.3872527\tbest: 0.3871584 (384)\ttotal: 9.81s\tremaining: 1m 49s\n",
            "411:\tlearn: 0.3707669\ttest: 0.3872602\tbest: 0.3871584 (384)\ttotal: 9.83s\tremaining: 1m 49s\n",
            "412:\tlearn: 0.3707511\ttest: 0.3872474\tbest: 0.3871584 (384)\ttotal: 9.86s\tremaining: 1m 49s\n",
            "413:\tlearn: 0.3707328\ttest: 0.3872615\tbest: 0.3871584 (384)\ttotal: 9.88s\tremaining: 1m 49s\n",
            "414:\tlearn: 0.3706999\ttest: 0.3873051\tbest: 0.3871584 (384)\ttotal: 9.9s\tremaining: 1m 49s\n",
            "415:\tlearn: 0.3706861\ttest: 0.3873000\tbest: 0.3871584 (384)\ttotal: 9.93s\tremaining: 1m 49s\n",
            "416:\tlearn: 0.3706441\ttest: 0.3872941\tbest: 0.3871584 (384)\ttotal: 9.95s\tremaining: 1m 49s\n",
            "417:\tlearn: 0.3706256\ttest: 0.3873133\tbest: 0.3871584 (384)\ttotal: 9.97s\tremaining: 1m 49s\n",
            "418:\tlearn: 0.3706224\ttest: 0.3873215\tbest: 0.3871584 (384)\ttotal: 9.99s\tremaining: 1m 49s\n",
            "419:\tlearn: 0.3706220\ttest: 0.3873213\tbest: 0.3871584 (384)\ttotal: 10s\tremaining: 1m 49s\n",
            "420:\tlearn: 0.3706189\ttest: 0.3873213\tbest: 0.3871584 (384)\ttotal: 10s\tremaining: 1m 49s\n",
            "421:\tlearn: 0.3706159\ttest: 0.3873205\tbest: 0.3871584 (384)\ttotal: 10.1s\tremaining: 1m 49s\n",
            "422:\tlearn: 0.3705734\ttest: 0.3873174\tbest: 0.3871584 (384)\ttotal: 10.1s\tremaining: 1m 49s\n",
            "423:\tlearn: 0.3705631\ttest: 0.3873738\tbest: 0.3871584 (384)\ttotal: 10.1s\tremaining: 1m 49s\n",
            "424:\tlearn: 0.3705609\ttest: 0.3873760\tbest: 0.3871584 (384)\ttotal: 10.1s\tremaining: 1m 49s\n",
            "425:\tlearn: 0.3705387\ttest: 0.3873792\tbest: 0.3871584 (384)\ttotal: 10.2s\tremaining: 1m 49s\n",
            "426:\tlearn: 0.3705302\ttest: 0.3873751\tbest: 0.3871584 (384)\ttotal: 10.2s\tremaining: 1m 49s\n",
            "427:\tlearn: 0.3705267\ttest: 0.3874106\tbest: 0.3871584 (384)\ttotal: 10.2s\tremaining: 1m 49s\n",
            "428:\tlearn: 0.3705067\ttest: 0.3874470\tbest: 0.3871584 (384)\ttotal: 10.2s\tremaining: 1m 49s\n",
            "429:\tlearn: 0.3705046\ttest: 0.3874456\tbest: 0.3871584 (384)\ttotal: 10.3s\tremaining: 1m 49s\n",
            "430:\tlearn: 0.3704816\ttest: 0.3874488\tbest: 0.3871584 (384)\ttotal: 10.3s\tremaining: 1m 49s\n",
            "431:\tlearn: 0.3704344\ttest: 0.3874432\tbest: 0.3871584 (384)\ttotal: 10.3s\tremaining: 1m 49s\n",
            "432:\tlearn: 0.3704246\ttest: 0.3874486\tbest: 0.3871584 (384)\ttotal: 10.3s\tremaining: 1m 49s\n",
            "433:\tlearn: 0.3704229\ttest: 0.3874481\tbest: 0.3871584 (384)\ttotal: 10.4s\tremaining: 1m 49s\n",
            "434:\tlearn: 0.3703964\ttest: 0.3874505\tbest: 0.3871584 (384)\ttotal: 10.4s\tremaining: 1m 49s\n",
            "435:\tlearn: 0.3703747\ttest: 0.3874602\tbest: 0.3871584 (384)\ttotal: 10.4s\tremaining: 1m 48s\n",
            "436:\tlearn: 0.3703576\ttest: 0.3874727\tbest: 0.3871584 (384)\ttotal: 10.4s\tremaining: 1m 48s\n",
            "437:\tlearn: 0.3703413\ttest: 0.3874739\tbest: 0.3871584 (384)\ttotal: 10.5s\tremaining: 1m 48s\n",
            "438:\tlearn: 0.3703186\ttest: 0.3874639\tbest: 0.3871584 (384)\ttotal: 10.5s\tremaining: 1m 48s\n",
            "439:\tlearn: 0.3703061\ttest: 0.3874631\tbest: 0.3871584 (384)\ttotal: 10.5s\tremaining: 1m 48s\n",
            "440:\tlearn: 0.3702986\ttest: 0.3874633\tbest: 0.3871584 (384)\ttotal: 10.5s\tremaining: 1m 48s\n",
            "441:\tlearn: 0.3702959\ttest: 0.3875033\tbest: 0.3871584 (384)\ttotal: 10.6s\tremaining: 1m 48s\n",
            "442:\tlearn: 0.3702894\ttest: 0.3875069\tbest: 0.3871584 (384)\ttotal: 10.6s\tremaining: 1m 48s\n",
            "443:\tlearn: 0.3702822\ttest: 0.3875015\tbest: 0.3871584 (384)\ttotal: 10.6s\tremaining: 1m 48s\n",
            "444:\tlearn: 0.3702698\ttest: 0.3875021\tbest: 0.3871584 (384)\ttotal: 10.6s\tremaining: 1m 48s\n",
            "445:\tlearn: 0.3702612\ttest: 0.3875083\tbest: 0.3871584 (384)\ttotal: 10.6s\tremaining: 1m 48s\n",
            "446:\tlearn: 0.3702478\ttest: 0.3875126\tbest: 0.3871584 (384)\ttotal: 10.7s\tremaining: 1m 48s\n",
            "447:\tlearn: 0.3702152\ttest: 0.3874471\tbest: 0.3871584 (384)\ttotal: 10.7s\tremaining: 1m 48s\n",
            "448:\tlearn: 0.3702147\ttest: 0.3874468\tbest: 0.3871584 (384)\ttotal: 10.7s\tremaining: 1m 48s\n",
            "449:\tlearn: 0.3702026\ttest: 0.3874368\tbest: 0.3871584 (384)\ttotal: 10.7s\tremaining: 1m 48s\n",
            "450:\tlearn: 0.3701928\ttest: 0.3874446\tbest: 0.3871584 (384)\ttotal: 10.8s\tremaining: 1m 48s\n",
            "451:\tlearn: 0.3701277\ttest: 0.3874224\tbest: 0.3871584 (384)\ttotal: 10.8s\tremaining: 1m 48s\n",
            "452:\tlearn: 0.3701010\ttest: 0.3874186\tbest: 0.3871584 (384)\ttotal: 10.8s\tremaining: 1m 48s\n",
            "453:\tlearn: 0.3700933\ttest: 0.3874241\tbest: 0.3871584 (384)\ttotal: 10.8s\tremaining: 1m 48s\n",
            "454:\tlearn: 0.3700891\ttest: 0.3874224\tbest: 0.3871584 (384)\ttotal: 10.9s\tremaining: 1m 48s\n",
            "455:\tlearn: 0.3700844\ttest: 0.3874261\tbest: 0.3871584 (384)\ttotal: 10.9s\tremaining: 1m 48s\n",
            "456:\tlearn: 0.3700761\ttest: 0.3874226\tbest: 0.3871584 (384)\ttotal: 10.9s\tremaining: 1m 48s\n",
            "457:\tlearn: 0.3700749\ttest: 0.3874257\tbest: 0.3871584 (384)\ttotal: 10.9s\tremaining: 1m 48s\n",
            "458:\tlearn: 0.3700689\ttest: 0.3874303\tbest: 0.3871584 (384)\ttotal: 11s\tremaining: 1m 48s\n",
            "459:\tlearn: 0.3700621\ttest: 0.3874385\tbest: 0.3871584 (384)\ttotal: 11s\tremaining: 1m 48s\n",
            "460:\tlearn: 0.3700468\ttest: 0.3874301\tbest: 0.3871584 (384)\ttotal: 11s\tremaining: 1m 48s\n",
            "461:\tlearn: 0.3700465\ttest: 0.3874299\tbest: 0.3871584 (384)\ttotal: 11s\tremaining: 1m 48s\n",
            "462:\tlearn: 0.3700345\ttest: 0.3874270\tbest: 0.3871584 (384)\ttotal: 11s\tremaining: 1m 48s\n",
            "463:\tlearn: 0.3700316\ttest: 0.3874296\tbest: 0.3871584 (384)\ttotal: 11.1s\tremaining: 1m 48s\n",
            "464:\tlearn: 0.3700125\ttest: 0.3874377\tbest: 0.3871584 (384)\ttotal: 11.1s\tremaining: 1m 48s\n",
            "465:\tlearn: 0.3699912\ttest: 0.3874299\tbest: 0.3871584 (384)\ttotal: 11.1s\tremaining: 1m 48s\n",
            "466:\tlearn: 0.3699779\ttest: 0.3874258\tbest: 0.3871584 (384)\ttotal: 11.1s\tremaining: 1m 48s\n",
            "467:\tlearn: 0.3699683\ttest: 0.3874172\tbest: 0.3871584 (384)\ttotal: 11.2s\tremaining: 1m 48s\n",
            "468:\tlearn: 0.3699650\ttest: 0.3874299\tbest: 0.3871584 (384)\ttotal: 11.2s\tremaining: 1m 48s\n",
            "469:\tlearn: 0.3699331\ttest: 0.3874035\tbest: 0.3871584 (384)\ttotal: 11.2s\tremaining: 1m 48s\n",
            "470:\tlearn: 0.3699138\ttest: 0.3874275\tbest: 0.3871584 (384)\ttotal: 11.2s\tremaining: 1m 48s\n",
            "471:\tlearn: 0.3698911\ttest: 0.3874328\tbest: 0.3871584 (384)\ttotal: 11.3s\tremaining: 1m 48s\n",
            "472:\tlearn: 0.3698856\ttest: 0.3874349\tbest: 0.3871584 (384)\ttotal: 11.3s\tremaining: 1m 48s\n",
            "473:\tlearn: 0.3698756\ttest: 0.3874322\tbest: 0.3871584 (384)\ttotal: 11.3s\tremaining: 1m 48s\n",
            "474:\tlearn: 0.3698710\ttest: 0.3874342\tbest: 0.3871584 (384)\ttotal: 11.3s\tremaining: 1m 47s\n",
            "475:\tlearn: 0.3698575\ttest: 0.3874513\tbest: 0.3871584 (384)\ttotal: 11.4s\tremaining: 1m 47s\n",
            "476:\tlearn: 0.3698265\ttest: 0.3874691\tbest: 0.3871584 (384)\ttotal: 11.4s\tremaining: 1m 47s\n",
            "477:\tlearn: 0.3698198\ttest: 0.3874756\tbest: 0.3871584 (384)\ttotal: 11.4s\tremaining: 1m 47s\n",
            "478:\tlearn: 0.3698155\ttest: 0.3874773\tbest: 0.3871584 (384)\ttotal: 11.4s\tremaining: 1m 47s\n",
            "479:\tlearn: 0.3698084\ttest: 0.3874861\tbest: 0.3871584 (384)\ttotal: 11.4s\tremaining: 1m 47s\n",
            "480:\tlearn: 0.3697991\ttest: 0.3874831\tbest: 0.3871584 (384)\ttotal: 11.5s\tremaining: 1m 47s\n",
            "481:\tlearn: 0.3697902\ttest: 0.3874857\tbest: 0.3871584 (384)\ttotal: 11.5s\tremaining: 1m 47s\n",
            "482:\tlearn: 0.3697692\ttest: 0.3874895\tbest: 0.3871584 (384)\ttotal: 11.5s\tremaining: 1m 47s\n",
            "483:\tlearn: 0.3697328\ttest: 0.3875118\tbest: 0.3871584 (384)\ttotal: 11.5s\tremaining: 1m 47s\n",
            "484:\tlearn: 0.3697233\ttest: 0.3875093\tbest: 0.3871584 (384)\ttotal: 11.6s\tremaining: 1m 47s\n",
            "Stopped by overfitting detector  (100 iterations wait)\n",
            "\n",
            "bestTest = 0.3871584157\n",
            "bestIteration = 384\n",
            "\n",
            "Shrink model to first 385 iterations.\n"
          ]
        },
        {
          "data": {
            "text/plain": [
              "<catboost.core.CatBoostClassifier at 0x7f7df1c5e070>"
            ]
          },
          "execution_count": 267,
          "metadata": {},
          "output_type": "execute_result"
        }
      ],
      "source": [
        "cbm_classifier.fit(\n",
        "    X_train_cbm, y_train_cbm,\n",
        "    eval_set=(X_test_cbm, y_test_cbm),\n",
        "    early_stopping_rounds = 100, # to avoid overfitting,\n",
        "    cat_features = CATEGORICAL_COLS \n",
        ")"
      ]
    },
    {
      "cell_type": "code",
      "execution_count": 268,
      "metadata": {},
      "outputs": [],
      "source": [
        "rf_classifier = RandomForestClassifier(\n",
        "    n_estimators=150,\n",
        "    max_depth=10\n",
        ")"
      ]
    },
    {
      "cell_type": "code",
      "execution_count": 269,
      "metadata": {},
      "outputs": [
        {
          "data": {
            "text/plain": [
              "RandomForestClassifier(max_depth=10, n_estimators=150)"
            ]
          },
          "execution_count": 269,
          "metadata": {},
          "output_type": "execute_result"
        }
      ],
      "source": [
        "rf_classifier.fit(\n",
        "    X_train,\n",
        "    y_train\n",
        ")"
      ]
    },
    {
      "cell_type": "code",
      "execution_count": 270,
      "metadata": {},
      "outputs": [
        {
          "name": "stdout",
          "output_type": "stream",
          "text": [
            "[LightGBM] [Warning] Found whitespace in feature_names, replace with underlines\n",
            "[LightGBM] [Info] Number of positive: 22078, number of negative: 117015\n",
            "[LightGBM] [Warning] Auto-choosing row-wise multi-threading, the overhead of testing was 0.013769 seconds.\n",
            "You can set `force_row_wise=true` to remove the overhead.\n",
            "And if memory is not enough, you can set `force_col_wise=true`.\n",
            "[LightGBM] [Info] Total Bins 183\n",
            "[LightGBM] [Info] Number of data points in the train set: 139093, number of used features: 75\n",
            "[LightGBM] [Info] [binary:BoostFromScore]: pavg=0.158728 -> initscore=-1.667720\n",
            "[LightGBM] [Info] Start training from score -1.667720\n"
          ]
        }
      ],
      "source": [
        "#train lbm\n",
        "\n",
        "params = {\n",
        "    'objective': 'binary',\n",
        "    'metric': 'binary_logloss',\n",
        "    'boosting_type': 'gbdt',\n",
        "    'num_leaves': 31,\n",
        "    'learning_rate': 0.05,\n",
        "    'feature_fraction': 0.9\n",
        "}\n",
        "lgb_train = lgb.Dataset(X_train, label=y_train)\n",
        "model = lgb.train(\n",
        "    params, \n",
        "    lgb_train, \n",
        "    num_boost_round=100\n",
        "    )"
      ]
    },
    {
      "cell_type": "code",
      "execution_count": 271,
      "metadata": {},
      "outputs": [
        {
          "data": {
            "text/plain": [
              "XGBClassifier(base_score=0.5, booster='gbtree', callbacks=None,\n",
              "              colsample_bylevel=1, colsample_bynode=1, colsample_bytree=1,\n",
              "              early_stopping_rounds=None, enable_categorical=False,\n",
              "              eval_metric=None, feature_types=None, gamma=0, gpu_id=-1,\n",
              "              grow_policy='depthwise', importance_type=None,\n",
              "              interaction_constraints='', learning_rate=0.300000012,\n",
              "              max_bin=256, max_cat_threshold=64, max_cat_to_onehot=4,\n",
              "              max_delta_step=0, max_depth=6, max_leaves=0, min_child_weight=1,\n",
              "              missing=nan, monotone_constraints='()', n_estimators=100,\n",
              "              n_jobs=0, num_parallel_tree=1, predictor='auto', random_state=0, ...)"
            ]
          },
          "execution_count": 271,
          "metadata": {},
          "output_type": "execute_result"
        }
      ],
      "source": [
        "#train xgboost\n",
        "\n",
        "xg = XGBClassifier()\n",
        "xg.fit(X_train, y_train)"
      ]
    },
    {
      "cell_type": "code",
      "execution_count": 272,
      "metadata": {},
      "outputs": [],
      "source": [
        "X_test['year_category'] = X_test['year_category'].astype(int)"
      ]
    },
    {
      "cell_type": "code",
      "execution_count": 273,
      "metadata": {},
      "outputs": [],
      "source": [
        "ctb_pred = cbm_classifier.predict_proba(X_test_cbm)[:,1]\n",
        "rf_pred = rf_classifier.predict_proba(X_test)[:,1]\n",
        "xg_pred = xg.predict_proba(X_test)[:,1]\n",
        "ldb_pred = model.predict(X_test)\n",
        "blend = (0.4 * ctb_pred) + (0.2 * xg_pred) + (0.2 * rf_pred) + (0.2 * ldb_pred)"
      ]
    },
    {
      "cell_type": "code",
      "execution_count": 274,
      "metadata": {},
      "outputs": [
        {
          "data": {
            "text/plain": [
              "LogisticRegression()"
            ]
          },
          "execution_count": 274,
          "metadata": {},
          "output_type": "execute_result"
        }
      ],
      "source": [
        "lr = LogisticRegression()\n",
        "lr.fit(blend.reshape(-1, 1), y_test)"
      ]
    },
    {
      "cell_type": "markdown",
      "metadata": {
        "id": "EpsdExMAL_Pd"
      },
      "source": [
        "## 2.5.3. Model Evaluation"
      ]
    },
    {
      "cell_type": "markdown",
      "metadata": {
        "id": "VhctC0LdL_Pd"
      },
      "source": [
        "Let's make basic shapley plot to investigate feature importance"
      ]
    },
    {
      "cell_type": "code",
      "execution_count": 275,
      "metadata": {
        "id": "zRCSimKrL_Pd"
      },
      "outputs": [],
      "source": [
        "explainer = shap.TreeExplainer(cbm_classifier)\n",
        "shap_values = explainer.shap_values(X_train_cbm)"
      ]
    },
    {
      "cell_type": "code",
      "execution_count": 276,
      "metadata": {
        "colab": {
          "base_uri": "https://localhost:8080/",
          "height": 957
        },
        "id": "v_TEjsjLL_Pd",
        "outputId": "d8a5d59f-3681-4b4c-e415-f0064108e74a"
      },
      "outputs": [
        {
          "data": {
            "image/png": "[encoded data removed]",
            "text/plain": [
              "<Figure size 800x950 with 1 Axes>"
            ]
          },
          "metadata": {},
          "output_type": "display_data"
        }
      ],
      "source": [
        "shap.summary_plot(shap_values, X_train_cbm, show = False, color_bar = False)"
      ]
    },
    {
      "cell_type": "code",
      "execution_count": 277,
      "metadata": {
        "id": "2j8_vTOJL_Pd"
      },
      "outputs": [],
      "source": [
        "# predictions on test\n",
        "y_test_pred = cbm_classifier.predict_proba(X_test_cbm)"
      ]
    },
    {
      "cell_type": "code",
      "execution_count": 278,
      "metadata": {},
      "outputs": [],
      "source": [
        "ens_test_pred = lr.predict_proba(blend.reshape(-1, 1))[:,1]"
      ]
    },
    {
      "cell_type": "code",
      "execution_count": 279,
      "metadata": {
        "colab": {
          "base_uri": "https://localhost:8080/"
        },
        "id": "rrvqSbwG1Tfs",
        "outputId": "95554697-7e5d-4f22-df94-3fc2fdea8092"
      },
      "outputs": [
        {
          "data": {
            "text/plain": [
              "array([0.42988855, 0.06087025, 0.19432526, ..., 0.07370756, 0.15143939,\n",
              "       0.18300474])"
            ]
          },
          "execution_count": 279,
          "metadata": {},
          "output_type": "execute_result"
        }
      ],
      "source": [
        "y_test_pred[:, 1]\n"
      ]
    },
    {
      "cell_type": "code",
      "execution_count": 280,
      "metadata": {
        "colab": {
          "base_uri": "https://localhost:8080/"
        },
        "id": "LjORKT7_L_Pd",
        "outputId": "81b6b09b-fd25-49af-c2b6-bc3bc61febfe"
      },
      "outputs": [
        {
          "name": "stdout",
          "output_type": "stream",
          "text": [
            "ROC AUC score = 0.75500\n",
            "ROC AUC score = 0.75347\n"
          ]
        }
      ],
      "source": [
        "print(f\"ROC AUC score = {roc_auc_score(y_test, y_test_pred[:, 1]):.5f}\")\n",
        "print(f\"ROC AUC score = {roc_auc_score(y_test, ens_test_pred):.5f}\")"
      ]
    },
    {
      "cell_type": "markdown",
      "metadata": {
        "id": "T8rjtJPoL_Pe"
      },
      "source": [
        "# TODO\n",
        "- Estimate the performance of the model on the test set using Precision@K, MRR, MAP@K: LightFM seperately, LightFM + Ranker"
      ]
    },
    {
      "cell_type": "code",
      "execution_count": 281,
      "metadata": {
        "id": "R8Ywh-lKQv9l"
      },
      "outputs": [],
      "source": [
        "def compute_metrics(df_true: pd.DataFrame, \n",
        "                    df_pred: pd.DataFrame, \n",
        "                    K: int, \n",
        "                    rank_col: str = 'rank') -> pd.DataFrame:\n",
        "\n",
        "    result = pd.DataFrame(columns=['Metric', 'Value'])\n",
        "\n",
        "    test_recs = df_true.set_index(['user_id', 'movie_id']).join(df_pred.set_index(['user_id', 'movie_id']))\n",
        "    test_recs = test_recs.sort_values(by=['user_id', rank_col])\n",
        "\n",
        "    test_recs['users_item_count'] = test_recs.groupby(level='user_id')[rank_col].transform(np.size)\n",
        "    test_recs['reciprocal_rank'] = (1 / test_recs[rank_col]).fillna(0)\n",
        "    test_recs['cumulative_rank'] = test_recs.groupby(level='user_id').cumcount() + 1\n",
        "    test_recs['cumulative_rank'] = test_recs['cumulative_rank'] / test_recs[rank_col]\n",
        "    \n",
        "    users_count = test_recs.index.get_level_values('user_id').nunique()\n",
        "\n",
        "    for k in range(1, K + 1):\n",
        "        hit_k = f'hit@{k}'\n",
        "        test_recs[hit_k] = test_recs[rank_col] <= k\n",
        "        result.loc[len(result.index)] = [f'Precision@{k}', (test_recs[hit_k] / k).sum() / users_count]\n",
        "\n",
        "    result.loc[len(result.index)] = [f'MAP@{K}', (test_recs['cumulative_rank'] / test_recs['users_item_count']).sum() / users_count]\n",
        "    result.loc[len(result.index)] = [f'MRR', test_recs.groupby(level='user_id')['reciprocal_rank'].max().mean()]\n",
        "    \n",
        "    return result"
      ]
    },
    {
      "cell_type": "code",
      "execution_count": 282,
      "metadata": {
        "id": "vt-cZTWMhi0I"
      },
      "outputs": [],
      "source": [
        "# we will focus on warm start - remove cold start users\n",
        "global_test = global_test[global_test['user_id'].isin(local_train['user_id'].unique())]"
      ]
    },
    {
      "cell_type": "code",
      "execution_count": 283,
      "metadata": {
        "id": "XtSOtUDOhnid"
      },
      "outputs": [],
      "source": [
        "top_N = 100\n",
        "\n",
        "# let's make predictions for all users in global test\n",
        "global_test_preds = pd.DataFrame({\n",
        "    'user_id': global_test['user_id'].unique()\n",
        "    })\n",
        "\n",
        "# form user-known items\n",
        "known_items = {user_id: item_id_gr['movie_id'].to_list() for user_id, item_id_gr in local_train[['user_id', 'movie_id']].groupby('user_id')}"
      ]
    },
    {
      "cell_type": "code",
      "execution_count": 284,
      "metadata": {
        "id": "v2CFj7VLhnln"
      },
      "outputs": [],
      "source": [
        "mapper = generate_lightfm_recs_mapper(\n",
        "    lfm_model, \n",
        "    item_ids=all_cols, \n",
        "    known_items=known_items,\n",
        "    N=top_N,\n",
        "    user_features=None, \n",
        "    item_features=None, \n",
        "    user_mapping=lightfm_mapping['users_mapping'],\n",
        "    item_inv_mapping=lightfm_mapping['items_inv_mapping'],\n",
        "    num_threads=20\n",
        ")\n",
        "\n",
        "global_test_preds['movie_id'] = global_test_preds['user_id'].map(mapper)\n",
        "global_test_preds = global_test_preds.explode('movie_id').reset_index(drop=True)\n",
        "global_test_preds['rank'] = global_test_preds.groupby('user_id').cumcount() + 1 "
      ]
    },
    {
      "cell_type": "code",
      "execution_count": 285,
      "metadata": {
        "id": "UBgvy30Oheb6"
      },
      "outputs": [
        {
          "data": {
            "text/html": [
              "<div>\n",
              "<style scoped>\n",
              "    .dataframe tbody tr th:only-of-type {\n",
              "        vertical-align: middle;\n",
              "    }\n",
              "\n",
              "    .dataframe tbody tr th {\n",
              "        vertical-align: top;\n",
              "    }\n",
              "\n",
              "    .dataframe thead th {\n",
              "        text-align: right;\n",
              "    }\n",
              "</style>\n",
              "<table border=\"1\" class=\"dataframe\">\n",
              "  <thead>\n",
              "    <tr style=\"text-align: right;\">\n",
              "      <th></th>\n",
              "      <th>Metric</th>\n",
              "      <th>Value</th>\n",
              "    </tr>\n",
              "  </thead>\n",
              "  <tbody>\n",
              "    <tr>\n",
              "      <th>0</th>\n",
              "      <td>Precision@1</td>\n",
              "      <td>0.084</td>\n",
              "    </tr>\n",
              "    <tr>\n",
              "      <th>1</th>\n",
              "      <td>Precision@2</td>\n",
              "      <td>0.077</td>\n",
              "    </tr>\n",
              "    <tr>\n",
              "      <th>2</th>\n",
              "      <td>Precision@3</td>\n",
              "      <td>0.072</td>\n",
              "    </tr>\n",
              "    <tr>\n",
              "      <th>3</th>\n",
              "      <td>Precision@4</td>\n",
              "      <td>0.067</td>\n",
              "    </tr>\n",
              "    <tr>\n",
              "      <th>4</th>\n",
              "      <td>Precision@5</td>\n",
              "      <td>0.062</td>\n",
              "    </tr>\n",
              "    <tr>\n",
              "      <th>5</th>\n",
              "      <td>Precision@6</td>\n",
              "      <td>0.059</td>\n",
              "    </tr>\n",
              "    <tr>\n",
              "      <th>6</th>\n",
              "      <td>Precision@7</td>\n",
              "      <td>0.056</td>\n",
              "    </tr>\n",
              "    <tr>\n",
              "      <th>7</th>\n",
              "      <td>Precision@8</td>\n",
              "      <td>0.053</td>\n",
              "    </tr>\n",
              "    <tr>\n",
              "      <th>8</th>\n",
              "      <td>Precision@9</td>\n",
              "      <td>0.051</td>\n",
              "    </tr>\n",
              "    <tr>\n",
              "      <th>9</th>\n",
              "      <td>Precision@10</td>\n",
              "      <td>0.049</td>\n",
              "    </tr>\n",
              "    <tr>\n",
              "      <th>10</th>\n",
              "      <td>MAP@10</td>\n",
              "      <td>0.053</td>\n",
              "    </tr>\n",
              "    <tr>\n",
              "      <th>11</th>\n",
              "      <td>MRR</td>\n",
              "      <td>0.111</td>\n",
              "    </tr>\n",
              "  </tbody>\n",
              "</table>\n",
              "</div>"
            ],
            "text/plain": [
              "          Metric  Value\n",
              "0    Precision@1  0.084\n",
              "1    Precision@2  0.077\n",
              "2    Precision@3  0.072\n",
              "3    Precision@4  0.067\n",
              "4    Precision@5  0.062\n",
              "5    Precision@6  0.059\n",
              "6    Precision@7  0.056\n",
              "7    Precision@8  0.053\n",
              "8    Precision@9  0.051\n",
              "9   Precision@10  0.049\n",
              "10        MAP@10  0.053\n",
              "11           MRR  0.111"
            ]
          },
          "execution_count": 285,
          "metadata": {},
          "output_type": "execute_result"
        }
      ],
      "source": [
        "lfm_metrics = compute_metrics(local_test[['user_id', 'movie_id']],\n",
        "                              test_preds, \n",
        "                              K=10)\n",
        "lfm_metrics"
      ]
    },
    {
      "cell_type": "code",
      "execution_count": 286,
      "metadata": {
        "id": "gXQh-PlrhzbP"
      },
      "outputs": [],
      "source": [
        "global_test_lfm_ctb_preds = global_test_preds.copy()\n",
        "\n",
        "# joins user features\n",
        "# global_test_lfm_ctb_set = pd.merge(global_test_lfm_ctb_preds, \n",
        "#                                    users_data[['user_id'] + USER_FEATURES],\n",
        "#                                    how='left', on=['user_id'])\n",
        "# joins item features\n",
        "global_test_lfm_ctb_set = pd.merge(global_test_lfm_ctb_preds, \n",
        "                                   movies_metadata[['movie_id'] + ITEM_FEATURES],\n",
        "                                   how='left', on=['movie_id'])\n",
        "\n",
        "global_test_lfm_ctb_set = global_test_lfm_ctb_set.fillna(global_test_lfm_ctb_set.mode().iloc[0])\n",
        "global_test_lfm_ens_set = global_test_lfm_ctb_set.copy()"
      ]
    },
    {
      "cell_type": "code",
      "execution_count": 287,
      "metadata": {},
      "outputs": [],
      "source": [
        "# Для cbm\n",
        "global_test_lfm_ctb_set['year'] = global_test_lfm_ctb_set['release_world'].apply(lambda x: x.split('-')[0] if pd.isna(x) is False else x)\n",
        "#Для ens\n",
        "global_test_lfm_ens_set['year'] = global_test_lfm_ens_set['release_world'].apply(lambda x: x.split('-')[0] if pd.isna(x) is False else x)\n",
        "global_test_lfm_ens_set = year_to_cat_transformer(global_test_lfm_ens_set, col='year')\n",
        "global_test_lfm_ens_set['year_category'] = global_test_lfm_ens_set['year_category'].astype(int)"
      ]
    },
    {
      "cell_type": "code",
      "execution_count": 288,
      "metadata": {
        "id": "xY29ijSXhzeH"
      },
      "outputs": [
        {
          "data": {
            "text/html": [
              "<div>\n",
              "<style scoped>\n",
              "    .dataframe tbody tr th:only-of-type {\n",
              "        vertical-align: middle;\n",
              "    }\n",
              "\n",
              "    .dataframe tbody tr th {\n",
              "        vertical-align: top;\n",
              "    }\n",
              "\n",
              "    .dataframe thead th {\n",
              "        text-align: right;\n",
              "    }\n",
              "</style>\n",
              "<table border=\"1\" class=\"dataframe\">\n",
              "  <thead>\n",
              "    <tr style=\"text-align: right;\">\n",
              "      <th></th>\n",
              "      <th>user_id</th>\n",
              "      <th>movie_id</th>\n",
              "      <th>rank</th>\n",
              "      <th>ctb_pred</th>\n",
              "    </tr>\n",
              "  </thead>\n",
              "  <tbody>\n",
              "    <tr>\n",
              "      <th>0</th>\n",
              "      <td>58953</td>\n",
              "      <td>0f33af53-5d2d-4c82-a2e9-307fcabdcb2d</td>\n",
              "      <td>1</td>\n",
              "      <td>0.177</td>\n",
              "    </tr>\n",
              "    <tr>\n",
              "      <th>1</th>\n",
              "      <td>58953</td>\n",
              "      <td>91f9d892-a508-4962-91e9-abacd93e0830</td>\n",
              "      <td>2</td>\n",
              "      <td>0.183</td>\n",
              "    </tr>\n",
              "    <tr>\n",
              "      <th>2</th>\n",
              "      <td>58953</td>\n",
              "      <td>5a3bf8a0-3054-448b-b524-025abea0cac3</td>\n",
              "      <td>3</td>\n",
              "      <td>0.166</td>\n",
              "    </tr>\n",
              "    <tr>\n",
              "      <th>3</th>\n",
              "      <td>58953</td>\n",
              "      <td>fbc33563-88d0-464c-a517-2f1bf3bae0e1</td>\n",
              "      <td>4</td>\n",
              "      <td>0.067</td>\n",
              "    </tr>\n",
              "    <tr>\n",
              "      <th>4</th>\n",
              "      <td>58953</td>\n",
              "      <td>42f5cb31-f333-426c-a95b-8e106741de38</td>\n",
              "      <td>5</td>\n",
              "      <td>0.115</td>\n",
              "    </tr>\n",
              "  </tbody>\n",
              "</table>\n",
              "</div>"
            ],
            "text/plain": [
              "   user_id                              movie_id  rank  ctb_pred\n",
              "0    58953  0f33af53-5d2d-4c82-a2e9-307fcabdcb2d     1     0.177\n",
              "1    58953  91f9d892-a508-4962-91e9-abacd93e0830     2     0.183\n",
              "2    58953  5a3bf8a0-3054-448b-b524-025abea0cac3     3     0.166\n",
              "3    58953  fbc33563-88d0-464c-a517-2f1bf3bae0e1     4     0.067\n",
              "4    58953  42f5cb31-f333-426c-a95b-8e106741de38     5     0.115"
            ]
          },
          "execution_count": 288,
          "metadata": {},
          "output_type": "execute_result"
        }
      ],
      "source": [
        "ctb_prediction = cbm_classifier.predict_proba(global_test_lfm_ctb_set.drop(ID_COLS + ['release_world'], axis=1, errors='ignore'))\n",
        "\n",
        "global_test_lfm_ctb_preds['ctb_pred'] = ctb_prediction[:, 1]\n",
        "global_test_lfm_ctb_preds.head()"
      ]
    },
    {
      "cell_type": "code",
      "execution_count": 289,
      "metadata": {
        "id": "beg19W9fhzgu"
      },
      "outputs": [
        {
          "data": {
            "text/html": [
              "<div>\n",
              "<style scoped>\n",
              "    .dataframe tbody tr th:only-of-type {\n",
              "        vertical-align: middle;\n",
              "    }\n",
              "\n",
              "    .dataframe tbody tr th {\n",
              "        vertical-align: top;\n",
              "    }\n",
              "\n",
              "    .dataframe thead th {\n",
              "        text-align: right;\n",
              "    }\n",
              "</style>\n",
              "<table border=\"1\" class=\"dataframe\">\n",
              "  <thead>\n",
              "    <tr style=\"text-align: right;\">\n",
              "      <th></th>\n",
              "      <th>user_id</th>\n",
              "      <th>movie_id</th>\n",
              "      <th>rank</th>\n",
              "      <th>ctb_pred</th>\n",
              "      <th>rank_ctb</th>\n",
              "    </tr>\n",
              "  </thead>\n",
              "  <tbody>\n",
              "    <tr>\n",
              "      <th>1198703</th>\n",
              "      <td>56250</td>\n",
              "      <td>7dcafba8-7fde-4e85-bf83-e65bada687eb</td>\n",
              "      <td>4</td>\n",
              "      <td>0.470</td>\n",
              "      <td>1</td>\n",
              "    </tr>\n",
              "    <tr>\n",
              "      <th>1198709</th>\n",
              "      <td>56250</td>\n",
              "      <td>886cdfce-027d-4375-8b0f-5f2c36661239</td>\n",
              "      <td>10</td>\n",
              "      <td>0.315</td>\n",
              "      <td>2</td>\n",
              "    </tr>\n",
              "    <tr>\n",
              "      <th>1198701</th>\n",
              "      <td>56250</td>\n",
              "      <td>7dcc3cf7-943b-4964-9b86-a7d9ab5c767d</td>\n",
              "      <td>2</td>\n",
              "      <td>0.253</td>\n",
              "      <td>3</td>\n",
              "    </tr>\n",
              "    <tr>\n",
              "      <th>1198716</th>\n",
              "      <td>56250</td>\n",
              "      <td>e3d7520c-be9c-4fd7-a62f-695b97c397eb</td>\n",
              "      <td>17</td>\n",
              "      <td>0.232</td>\n",
              "      <td>4</td>\n",
              "    </tr>\n",
              "    <tr>\n",
              "      <th>1198700</th>\n",
              "      <td>56250</td>\n",
              "      <td>91f9d892-a508-4962-91e9-abacd93e0830</td>\n",
              "      <td>1</td>\n",
              "      <td>0.205</td>\n",
              "      <td>5</td>\n",
              "    </tr>\n",
              "    <tr>\n",
              "      <th>1198794</th>\n",
              "      <td>56250</td>\n",
              "      <td>5bdf3c78-e3a1-4813-be53-1e67c0b639c4</td>\n",
              "      <td>95</td>\n",
              "      <td>0.197</td>\n",
              "      <td>6</td>\n",
              "    </tr>\n",
              "    <tr>\n",
              "      <th>1198731</th>\n",
              "      <td>56250</td>\n",
              "      <td>c6dcfd37-1104-472a-8968-3362f702b6bc</td>\n",
              "      <td>32</td>\n",
              "      <td>0.196</td>\n",
              "      <td>7</td>\n",
              "    </tr>\n",
              "    <tr>\n",
              "      <th>1198799</th>\n",
              "      <td>56250</td>\n",
              "      <td>09cc576b-e693-4155-af36-65c146ca6e75</td>\n",
              "      <td>100</td>\n",
              "      <td>0.170</td>\n",
              "      <td>8</td>\n",
              "    </tr>\n",
              "    <tr>\n",
              "      <th>1198717</th>\n",
              "      <td>56250</td>\n",
              "      <td>2160ce47-2962-4c87-9ccf-81d942ad84c8</td>\n",
              "      <td>18</td>\n",
              "      <td>0.159</td>\n",
              "      <td>9</td>\n",
              "    </tr>\n",
              "    <tr>\n",
              "      <th>1198729</th>\n",
              "      <td>56250</td>\n",
              "      <td>85ca7944-a8b9-4936-a1dd-1b0622f51482</td>\n",
              "      <td>30</td>\n",
              "      <td>0.150</td>\n",
              "      <td>10</td>\n",
              "    </tr>\n",
              "  </tbody>\n",
              "</table>\n",
              "</div>"
            ],
            "text/plain": [
              "         user_id                              movie_id  rank  ctb_pred  \\\n",
              "1198703    56250  7dcafba8-7fde-4e85-bf83-e65bada687eb     4     0.470   \n",
              "1198709    56250  886cdfce-027d-4375-8b0f-5f2c36661239    10     0.315   \n",
              "1198701    56250  7dcc3cf7-943b-4964-9b86-a7d9ab5c767d     2     0.253   \n",
              "1198716    56250  e3d7520c-be9c-4fd7-a62f-695b97c397eb    17     0.232   \n",
              "1198700    56250  91f9d892-a508-4962-91e9-abacd93e0830     1     0.205   \n",
              "1198794    56250  5bdf3c78-e3a1-4813-be53-1e67c0b639c4    95     0.197   \n",
              "1198731    56250  c6dcfd37-1104-472a-8968-3362f702b6bc    32     0.196   \n",
              "1198799    56250  09cc576b-e693-4155-af36-65c146ca6e75   100     0.170   \n",
              "1198717    56250  2160ce47-2962-4c87-9ccf-81d942ad84c8    18     0.159   \n",
              "1198729    56250  85ca7944-a8b9-4936-a1dd-1b0622f51482    30     0.150   \n",
              "\n",
              "         rank_ctb  \n",
              "1198703         1  \n",
              "1198709         2  \n",
              "1198701         3  \n",
              "1198716         4  \n",
              "1198700         5  \n",
              "1198794         6  \n",
              "1198731         7  \n",
              "1198799         8  \n",
              "1198717         9  \n",
              "1198729        10  "
            ]
          },
          "execution_count": 289,
          "metadata": {},
          "output_type": "execute_result"
        }
      ],
      "source": [
        "global_test_lfm_ctb_preds = global_test_lfm_ctb_preds.sort_values(by=['user_id', 'ctb_pred'], \n",
        "                                                                  ascending=[True, False])\n",
        "global_test_lfm_ctb_preds['rank_ctb'] = global_test_lfm_ctb_preds.groupby('user_id').cumcount() + 1\n",
        "global_test_lfm_ctb_preds.head(10)"
      ]
    },
    {
      "cell_type": "code",
      "execution_count": 290,
      "metadata": {
        "id": "CBdFTuP2hJuY"
      },
      "outputs": [
        {
          "data": {
            "text/html": [
              "<div>\n",
              "<style scoped>\n",
              "    .dataframe tbody tr th:only-of-type {\n",
              "        vertical-align: middle;\n",
              "    }\n",
              "\n",
              "    .dataframe tbody tr th {\n",
              "        vertical-align: top;\n",
              "    }\n",
              "\n",
              "    .dataframe thead th {\n",
              "        text-align: right;\n",
              "    }\n",
              "</style>\n",
              "<table border=\"1\" class=\"dataframe\">\n",
              "  <thead>\n",
              "    <tr style=\"text-align: right;\">\n",
              "      <th></th>\n",
              "      <th>Metric</th>\n",
              "      <th>Value</th>\n",
              "    </tr>\n",
              "  </thead>\n",
              "  <tbody>\n",
              "    <tr>\n",
              "      <th>0</th>\n",
              "      <td>Precision@1</td>\n",
              "      <td>0.052</td>\n",
              "    </tr>\n",
              "    <tr>\n",
              "      <th>1</th>\n",
              "      <td>Precision@2</td>\n",
              "      <td>0.048</td>\n",
              "    </tr>\n",
              "    <tr>\n",
              "      <th>2</th>\n",
              "      <td>Precision@3</td>\n",
              "      <td>0.044</td>\n",
              "    </tr>\n",
              "    <tr>\n",
              "      <th>3</th>\n",
              "      <td>Precision@4</td>\n",
              "      <td>0.041</td>\n",
              "    </tr>\n",
              "    <tr>\n",
              "      <th>4</th>\n",
              "      <td>Precision@5</td>\n",
              "      <td>0.038</td>\n",
              "    </tr>\n",
              "    <tr>\n",
              "      <th>5</th>\n",
              "      <td>Precision@6</td>\n",
              "      <td>0.036</td>\n",
              "    </tr>\n",
              "    <tr>\n",
              "      <th>6</th>\n",
              "      <td>Precision@7</td>\n",
              "      <td>0.034</td>\n",
              "    </tr>\n",
              "    <tr>\n",
              "      <th>7</th>\n",
              "      <td>Precision@8</td>\n",
              "      <td>0.033</td>\n",
              "    </tr>\n",
              "    <tr>\n",
              "      <th>8</th>\n",
              "      <td>Precision@9</td>\n",
              "      <td>0.032</td>\n",
              "    </tr>\n",
              "    <tr>\n",
              "      <th>9</th>\n",
              "      <td>Precision@10</td>\n",
              "      <td>0.031</td>\n",
              "    </tr>\n",
              "    <tr>\n",
              "      <th>10</th>\n",
              "      <td>MAP@10</td>\n",
              "      <td>0.038</td>\n",
              "    </tr>\n",
              "    <tr>\n",
              "      <th>11</th>\n",
              "      <td>MRR</td>\n",
              "      <td>0.077</td>\n",
              "    </tr>\n",
              "  </tbody>\n",
              "</table>\n",
              "</div>"
            ],
            "text/plain": [
              "          Metric  Value\n",
              "0    Precision@1  0.052\n",
              "1    Precision@2  0.048\n",
              "2    Precision@3  0.044\n",
              "3    Precision@4  0.041\n",
              "4    Precision@5  0.038\n",
              "5    Precision@6  0.036\n",
              "6    Precision@7  0.034\n",
              "7    Precision@8  0.033\n",
              "8    Precision@9  0.032\n",
              "9   Precision@10  0.031\n",
              "10        MAP@10  0.038\n",
              "11           MRR  0.077"
            ]
          },
          "execution_count": 290,
          "metadata": {},
          "output_type": "execute_result"
        }
      ],
      "source": [
        "lfm_cbm_metrics = compute_metrics(global_test[['user_id', 'movie_id']],\n",
        "                                  global_test_lfm_ctb_preds, \n",
        "                                  K=10, \n",
        "                                  rank_col='rank_ctb')\n",
        "lfm_cbm_metrics"
      ]
    },
    {
      "attachments": {},
      "cell_type": "markdown",
      "metadata": {},
      "source": [
        "## ENSEMBLE"
      ]
    },
    {
      "cell_type": "code",
      "execution_count": 291,
      "metadata": {
        "id": "fbD0F4TBs_FH"
      },
      "outputs": [],
      "source": [
        "X_pred_test = global_test_lfm_ens_set.drop(ID_COLS + ['release_world']+ ['year'], axis=1, errors='ignore')\n",
        "ctb_prediction = ctb_prediction[:, 1]\n",
        "rf_prediction = rf_classifier.predict_proba(X_pred_test)[:,1]\n",
        "xg_prediction = xg.predict_proba(X_pred_test)[:,1]\n",
        "ldb_prediction = model.predict(X_pred_test)\n",
        "f_blend = (0.4 * ctb_prediction) + (0.2 * xg_prediction) + (0.2 * rf_prediction) + (0.2 * ldb_prediction)"
      ]
    },
    {
      "cell_type": "code",
      "execution_count": 292,
      "metadata": {
        "id": "nzv9pcVHhefP"
      },
      "outputs": [
        {
          "data": {
            "text/html": [
              "<div>\n",
              "<style scoped>\n",
              "    .dataframe tbody tr th:only-of-type {\n",
              "        vertical-align: middle;\n",
              "    }\n",
              "\n",
              "    .dataframe tbody tr th {\n",
              "        vertical-align: top;\n",
              "    }\n",
              "\n",
              "    .dataframe thead th {\n",
              "        text-align: right;\n",
              "    }\n",
              "</style>\n",
              "<table border=\"1\" class=\"dataframe\">\n",
              "  <thead>\n",
              "    <tr style=\"text-align: right;\">\n",
              "      <th></th>\n",
              "      <th>user_id</th>\n",
              "      <th>movie_id</th>\n",
              "      <th>rank</th>\n",
              "      <th>ens_pred</th>\n",
              "    </tr>\n",
              "  </thead>\n",
              "  <tbody>\n",
              "    <tr>\n",
              "      <th>0</th>\n",
              "      <td>58953</td>\n",
              "      <td>0f33af53-5d2d-4c82-a2e9-307fcabdcb2d</td>\n",
              "      <td>1</td>\n",
              "      <td>0.150</td>\n",
              "    </tr>\n",
              "    <tr>\n",
              "      <th>1</th>\n",
              "      <td>58953</td>\n",
              "      <td>91f9d892-a508-4962-91e9-abacd93e0830</td>\n",
              "      <td>2</td>\n",
              "      <td>0.157</td>\n",
              "    </tr>\n",
              "    <tr>\n",
              "      <th>2</th>\n",
              "      <td>58953</td>\n",
              "      <td>5a3bf8a0-3054-448b-b524-025abea0cac3</td>\n",
              "      <td>3</td>\n",
              "      <td>0.153</td>\n",
              "    </tr>\n",
              "    <tr>\n",
              "      <th>3</th>\n",
              "      <td>58953</td>\n",
              "      <td>fbc33563-88d0-464c-a517-2f1bf3bae0e1</td>\n",
              "      <td>4</td>\n",
              "      <td>0.080</td>\n",
              "    </tr>\n",
              "    <tr>\n",
              "      <th>4</th>\n",
              "      <td>58953</td>\n",
              "      <td>42f5cb31-f333-426c-a95b-8e106741de38</td>\n",
              "      <td>5</td>\n",
              "      <td>0.104</td>\n",
              "    </tr>\n",
              "  </tbody>\n",
              "</table>\n",
              "</div>"
            ],
            "text/plain": [
              "   user_id                              movie_id  rank  ens_pred\n",
              "0    58953  0f33af53-5d2d-4c82-a2e9-307fcabdcb2d     1     0.150\n",
              "1    58953  91f9d892-a508-4962-91e9-abacd93e0830     2     0.157\n",
              "2    58953  5a3bf8a0-3054-448b-b524-025abea0cac3     3     0.153\n",
              "3    58953  fbc33563-88d0-464c-a517-2f1bf3bae0e1     4     0.080\n",
              "4    58953  42f5cb31-f333-426c-a95b-8e106741de38     5     0.104"
            ]
          },
          "execution_count": 292,
          "metadata": {},
          "output_type": "execute_result"
        }
      ],
      "source": [
        "global_test_lfm_ens_preds = global_test_preds.copy()\n",
        "global_test_lfm_ens_preds['ens_pred'] = lr.predict_proba(f_blend.reshape(-1, 1))[:,1]\n",
        "global_test_lfm_ens_preds.head()"
      ]
    },
    {
      "cell_type": "code",
      "execution_count": 293,
      "metadata": {},
      "outputs": [
        {
          "data": {
            "text/html": [
              "<div>\n",
              "<style scoped>\n",
              "    .dataframe tbody tr th:only-of-type {\n",
              "        vertical-align: middle;\n",
              "    }\n",
              "\n",
              "    .dataframe tbody tr th {\n",
              "        vertical-align: top;\n",
              "    }\n",
              "\n",
              "    .dataframe thead th {\n",
              "        text-align: right;\n",
              "    }\n",
              "</style>\n",
              "<table border=\"1\" class=\"dataframe\">\n",
              "  <thead>\n",
              "    <tr style=\"text-align: right;\">\n",
              "      <th></th>\n",
              "      <th>user_id</th>\n",
              "      <th>movie_id</th>\n",
              "      <th>rank</th>\n",
              "      <th>ens_pred</th>\n",
              "      <th>rank_ens</th>\n",
              "    </tr>\n",
              "  </thead>\n",
              "  <tbody>\n",
              "    <tr>\n",
              "      <th>1198703</th>\n",
              "      <td>56250</td>\n",
              "      <td>7dcafba8-7fde-4e85-bf83-e65bada687eb</td>\n",
              "      <td>4</td>\n",
              "      <td>0.544</td>\n",
              "      <td>1</td>\n",
              "    </tr>\n",
              "    <tr>\n",
              "      <th>1198709</th>\n",
              "      <td>56250</td>\n",
              "      <td>886cdfce-027d-4375-8b0f-5f2c36661239</td>\n",
              "      <td>10</td>\n",
              "      <td>0.339</td>\n",
              "      <td>2</td>\n",
              "    </tr>\n",
              "    <tr>\n",
              "      <th>1198794</th>\n",
              "      <td>56250</td>\n",
              "      <td>5bdf3c78-e3a1-4813-be53-1e67c0b639c4</td>\n",
              "      <td>95</td>\n",
              "      <td>0.263</td>\n",
              "      <td>3</td>\n",
              "    </tr>\n",
              "    <tr>\n",
              "      <th>1198759</th>\n",
              "      <td>56250</td>\n",
              "      <td>05f4998d-3ef3-4daa-ba15-6fb1002bf40b</td>\n",
              "      <td>60</td>\n",
              "      <td>0.236</td>\n",
              "      <td>4</td>\n",
              "    </tr>\n",
              "    <tr>\n",
              "      <th>1198701</th>\n",
              "      <td>56250</td>\n",
              "      <td>7dcc3cf7-943b-4964-9b86-a7d9ab5c767d</td>\n",
              "      <td>2</td>\n",
              "      <td>0.212</td>\n",
              "      <td>5</td>\n",
              "    </tr>\n",
              "    <tr>\n",
              "      <th>1198711</th>\n",
              "      <td>56250</td>\n",
              "      <td>f40dfca2-27ef-40b3-9119-a20dfe965013</td>\n",
              "      <td>12</td>\n",
              "      <td>0.190</td>\n",
              "      <td>6</td>\n",
              "    </tr>\n",
              "    <tr>\n",
              "      <th>1198731</th>\n",
              "      <td>56250</td>\n",
              "      <td>c6dcfd37-1104-472a-8968-3362f702b6bc</td>\n",
              "      <td>32</td>\n",
              "      <td>0.186</td>\n",
              "      <td>7</td>\n",
              "    </tr>\n",
              "    <tr>\n",
              "      <th>1198700</th>\n",
              "      <td>56250</td>\n",
              "      <td>91f9d892-a508-4962-91e9-abacd93e0830</td>\n",
              "      <td>1</td>\n",
              "      <td>0.174</td>\n",
              "      <td>8</td>\n",
              "    </tr>\n",
              "    <tr>\n",
              "      <th>1198716</th>\n",
              "      <td>56250</td>\n",
              "      <td>e3d7520c-be9c-4fd7-a62f-695b97c397eb</td>\n",
              "      <td>17</td>\n",
              "      <td>0.168</td>\n",
              "      <td>9</td>\n",
              "    </tr>\n",
              "    <tr>\n",
              "      <th>1198799</th>\n",
              "      <td>56250</td>\n",
              "      <td>09cc576b-e693-4155-af36-65c146ca6e75</td>\n",
              "      <td>100</td>\n",
              "      <td>0.165</td>\n",
              "      <td>10</td>\n",
              "    </tr>\n",
              "  </tbody>\n",
              "</table>\n",
              "</div>"
            ],
            "text/plain": [
              "         user_id                              movie_id  rank  ens_pred  \\\n",
              "1198703    56250  7dcafba8-7fde-4e85-bf83-e65bada687eb     4     0.544   \n",
              "1198709    56250  886cdfce-027d-4375-8b0f-5f2c36661239    10     0.339   \n",
              "1198794    56250  5bdf3c78-e3a1-4813-be53-1e67c0b639c4    95     0.263   \n",
              "1198759    56250  05f4998d-3ef3-4daa-ba15-6fb1002bf40b    60     0.236   \n",
              "1198701    56250  7dcc3cf7-943b-4964-9b86-a7d9ab5c767d     2     0.212   \n",
              "1198711    56250  f40dfca2-27ef-40b3-9119-a20dfe965013    12     0.190   \n",
              "1198731    56250  c6dcfd37-1104-472a-8968-3362f702b6bc    32     0.186   \n",
              "1198700    56250  91f9d892-a508-4962-91e9-abacd93e0830     1     0.174   \n",
              "1198716    56250  e3d7520c-be9c-4fd7-a62f-695b97c397eb    17     0.168   \n",
              "1198799    56250  09cc576b-e693-4155-af36-65c146ca6e75   100     0.165   \n",
              "\n",
              "         rank_ens  \n",
              "1198703         1  \n",
              "1198709         2  \n",
              "1198794         3  \n",
              "1198759         4  \n",
              "1198701         5  \n",
              "1198711         6  \n",
              "1198731         7  \n",
              "1198700         8  \n",
              "1198716         9  \n",
              "1198799        10  "
            ]
          },
          "execution_count": 293,
          "metadata": {},
          "output_type": "execute_result"
        }
      ],
      "source": [
        "global_test_lfm_ens_preds = global_test_lfm_ens_preds.sort_values(by=['user_id', 'ens_pred'], \n",
        "                                                                  ascending=[True, False])\n",
        "global_test_lfm_ens_preds['rank_ens'] = global_test_lfm_ens_preds.groupby('user_id').cumcount() + 1\n",
        "global_test_lfm_ens_preds.head(10)"
      ]
    },
    {
      "cell_type": "code",
      "execution_count": 294,
      "metadata": {},
      "outputs": [
        {
          "name": "stdout",
          "output_type": "stream",
          "text": [
            "          Metric  Value\n",
            "0    Precision@1  0.052\n",
            "1    Precision@2  0.048\n",
            "2    Precision@3  0.044\n",
            "3    Precision@4  0.041\n",
            "4    Precision@5  0.038\n",
            "5    Precision@6  0.036\n",
            "6    Precision@7  0.034\n",
            "7    Precision@8  0.033\n",
            "8    Precision@9  0.032\n",
            "9   Precision@10  0.031\n",
            "10        MAP@10  0.038\n",
            "11           MRR  0.077\n",
            "          Metric  Value\n",
            "0    Precision@1  0.060\n",
            "1    Precision@2  0.052\n",
            "2    Precision@3  0.046\n",
            "3    Precision@4  0.042\n",
            "4    Precision@5  0.039\n",
            "5    Precision@6  0.037\n",
            "6    Precision@7  0.035\n",
            "7    Precision@8  0.033\n",
            "8    Precision@9  0.032\n",
            "9   Precision@10  0.031\n",
            "10        MAP@10  0.039\n",
            "11           MRR  0.082\n"
          ]
        }
      ],
      "source": [
        "lfm_ens_metrics = compute_metrics(global_test[['user_id', 'movie_id']],\n",
        "                                  global_test_lfm_ens_preds, \n",
        "                                  K=10, \n",
        "                                  rank_col='rank_ens')\n",
        "print(lfm_cbm_metrics)\n",
        "print(lfm_ens_metrics)"
      ]
    }
  ],
  "metadata": {
    "colab": {
      "provenance": []
    },
    "kernelspec": {
      "display_name": "Python 3",
      "language": "python",
      "name": "python3"
    },
    "language_info": {
      "codemirror_mode": {
        "name": "ipython",
        "version": 3
      },
      "file_extension": ".py",
      "mimetype": "text/x-python",
      "name": "python",
      "nbconvert_exporter": "python",
      "pygments_lexer": "ipython3",
      "version": "3.9.13"
    },
    "vscode": {
      "interpreter": {
        "hash": "f2d007ce7c74fe41dcd6cb53c80a05eb04c24d9c4918ecd21236b3a1c808c520"
      }
    },
    "widgets": {
      "application/vnd.jupyter.widget-state+json": {
        "087e77e986804861b65845d2a7f1ad04": {
          "model_module": "@jupyter-widgets/controls",
          "model_module_version": "1.5.0",
          "model_name": "FloatProgressModel",
          "state": {
            "_dom_classes": [],
            "_model_module": "@jupyter-widgets/controls",
            "_model_module_version": "1.5.0",
            "_model_name": "FloatProgressModel",
            "_view_count": null,
            "_view_module": "@jupyter-widgets/controls",
            "_view_module_version": "1.5.0",
            "_view_name": "ProgressView",
            "bar_style": "success",
            "description": "",
            "description_tooltip": null,
            "layout": "IPY_MODEL_9c01e731783542248afa050028eee2e5",
            "max": 20,
            "min": 0,
            "orientation": "horizontal",
            "style": "IPY_MODEL_76d751d4f00d4ec7be936f19e883ab6e",
            "value": 20
          }
        },
        "25417b09cdf84c028819f8baa6e2ea1a": {
          "model_module": "@jupyter-widgets/controls",
          "model_module_version": "1.5.0",
          "model_name": "HTMLModel",
          "state": {
            "_dom_classes": [],
            "_model_module": "@jupyter-widgets/controls",
            "_model_module_version": "1.5.0",
            "_model_name": "HTMLModel",
            "_view_count": null,
            "_view_module": "@jupyter-widgets/controls",
            "_view_module_version": "1.5.0",
            "_view_name": "HTMLView",
            "description": "",
            "description_tooltip": null,
            "layout": "IPY_MODEL_ae1a55ad9fc2451aa32a62ce4e386e36",
            "placeholder": "​",
            "style": "IPY_MODEL_b8a91b2be03947b9bca6e1c3dc5482d3",
            "value": " 20/20 [00:37&lt;00:00,  1.59s/it]"
          }
        },
        "3b34330b9b85433892cd6e3be652e890": {
          "model_module": "@jupyter-widgets/base",
          "model_module_version": "1.2.0",
          "model_name": "LayoutModel",
          "state": {
            "_model_module": "@jupyter-widgets/base",
            "_model_module_version": "1.2.0",
            "_model_name": "LayoutModel",
            "_view_count": null,
            "_view_module": "@jupyter-widgets/base",
            "_view_module_version": "1.2.0",
            "_view_name": "LayoutView",
            "align_content": null,
            "align_items": null,
            "align_self": null,
            "border": null,
            "bottom": null,
            "display": null,
            "flex": null,
            "flex_flow": null,
            "grid_area": null,
            "grid_auto_columns": null,
            "grid_auto_flow": null,
            "grid_auto_rows": null,
            "grid_column": null,
            "grid_gap": null,
            "grid_row": null,
            "grid_template_areas": null,
            "grid_template_columns": null,
            "grid_template_rows": null,
            "height": null,
            "justify_content": null,
            "justify_items": null,
            "left": null,
            "margin": null,
            "max_height": null,
            "max_width": null,
            "min_height": null,
            "min_width": null,
            "object_fit": null,
            "object_position": null,
            "order": null,
            "overflow": null,
            "overflow_x": null,
            "overflow_y": null,
            "padding": null,
            "right": null,
            "top": null,
            "visibility": null,
            "width": null
          }
        },
        "76d751d4f00d4ec7be936f19e883ab6e": {
          "model_module": "@jupyter-widgets/controls",
          "model_module_version": "1.5.0",
          "model_name": "ProgressStyleModel",
          "state": {
            "_model_module": "@jupyter-widgets/controls",
            "_model_module_version": "1.5.0",
            "_model_name": "ProgressStyleModel",
            "_view_count": null,
            "_view_module": "@jupyter-widgets/base",
            "_view_module_version": "1.2.0",
            "_view_name": "StyleView",
            "bar_color": null,
            "description_width": ""
          }
        },
        "9c01e731783542248afa050028eee2e5": {
          "model_module": "@jupyter-widgets/base",
          "model_module_version": "1.2.0",
          "model_name": "LayoutModel",
          "state": {
            "_model_module": "@jupyter-widgets/base",
            "_model_module_version": "1.2.0",
            "_model_name": "LayoutModel",
            "_view_count": null,
            "_view_module": "@jupyter-widgets/base",
            "_view_module_version": "1.2.0",
            "_view_name": "LayoutView",
            "align_content": null,
            "align_items": null,
            "align_self": null,
            "border": null,
            "bottom": null,
            "display": null,
            "flex": null,
            "flex_flow": null,
            "grid_area": null,
            "grid_auto_columns": null,
            "grid_auto_flow": null,
            "grid_auto_rows": null,
            "grid_column": null,
            "grid_gap": null,
            "grid_row": null,
            "grid_template_areas": null,
            "grid_template_columns": null,
            "grid_template_rows": null,
            "height": null,
            "justify_content": null,
            "justify_items": null,
            "left": null,
            "margin": null,
            "max_height": null,
            "max_width": null,
            "min_height": null,
            "min_width": null,
            "object_fit": null,
            "object_position": null,
            "order": null,
            "overflow": null,
            "overflow_x": null,
            "overflow_y": null,
            "padding": null,
            "right": null,
            "top": null,
            "visibility": null,
            "width": null
          }
        },
        "9d22d79ac6944661aaabe97860893b81": {
          "model_module": "@jupyter-widgets/controls",
          "model_module_version": "1.5.0",
          "model_name": "HBoxModel",
          "state": {
            "_dom_classes": [],
            "_model_module": "@jupyter-widgets/controls",
            "_model_module_version": "1.5.0",
            "_model_name": "HBoxModel",
            "_view_count": null,
            "_view_module": "@jupyter-widgets/controls",
            "_view_module_version": "1.5.0",
            "_view_name": "HBoxView",
            "box_style": "",
            "children": [
              "IPY_MODEL_f5c583c3d5cc47f0a87d0db8518d4313",
              "IPY_MODEL_087e77e986804861b65845d2a7f1ad04",
              "IPY_MODEL_25417b09cdf84c028819f8baa6e2ea1a"
            ],
            "layout": "IPY_MODEL_3b34330b9b85433892cd6e3be652e890"
          }
        },
        "a44fb6a6e694466da7d045c05bcbec71": {
          "model_module": "@jupyter-widgets/controls",
          "model_module_version": "1.5.0",
          "model_name": "DescriptionStyleModel",
          "state": {
            "_model_module": "@jupyter-widgets/controls",
            "_model_module_version": "1.5.0",
            "_model_name": "DescriptionStyleModel",
            "_view_count": null,
            "_view_module": "@jupyter-widgets/base",
            "_view_module_version": "1.2.0",
            "_view_name": "StyleView",
            "description_width": ""
          }
        },
        "ae1a55ad9fc2451aa32a62ce4e386e36": {
          "model_module": "@jupyter-widgets/base",
          "model_module_version": "1.2.0",
          "model_name": "LayoutModel",
          "state": {
            "_model_module": "@jupyter-widgets/base",
            "_model_module_version": "1.2.0",
            "_model_name": "LayoutModel",
            "_view_count": null,
            "_view_module": "@jupyter-widgets/base",
            "_view_module_version": "1.2.0",
            "_view_name": "LayoutView",
            "align_content": null,
            "align_items": null,
            "align_self": null,
            "border": null,
            "bottom": null,
            "display": null,
            "flex": null,
            "flex_flow": null,
            "grid_area": null,
            "grid_auto_columns": null,
            "grid_auto_flow": null,
            "grid_auto_rows": null,
            "grid_column": null,
            "grid_gap": null,
            "grid_row": null,
            "grid_template_areas": null,
            "grid_template_columns": null,
            "grid_template_rows": null,
            "height": null,
            "justify_content": null,
            "justify_items": null,
            "left": null,
            "margin": null,
            "max_height": null,
            "max_width": null,
            "min_height": null,
            "min_width": null,
            "object_fit": null,
            "object_position": null,
            "order": null,
            "overflow": null,
            "overflow_x": null,
            "overflow_y": null,
            "padding": null,
            "right": null,
            "top": null,
            "visibility": null,
            "width": null
          }
        },
        "b8a91b2be03947b9bca6e1c3dc5482d3": {
          "model_module": "@jupyter-widgets/controls",
          "model_module_version": "1.5.0",
          "model_name": "DescriptionStyleModel",
          "state": {
            "_model_module": "@jupyter-widgets/controls",
            "_model_module_version": "1.5.0",
            "_model_name": "DescriptionStyleModel",
            "_view_count": null,
            "_view_module": "@jupyter-widgets/base",
            "_view_module_version": "1.2.0",
            "_view_name": "StyleView",
            "description_width": ""
          }
        },
        "c9c8c148934a4e37aa698061e3da01e6": {
          "model_module": "@jupyter-widgets/base",
          "model_module_version": "1.2.0",
          "model_name": "LayoutModel",
          "state": {
            "_model_module": "@jupyter-widgets/base",
            "_model_module_version": "1.2.0",
            "_model_name": "LayoutModel",
            "_view_count": null,
            "_view_module": "@jupyter-widgets/base",
            "_view_module_version": "1.2.0",
            "_view_name": "LayoutView",
            "align_content": null,
            "align_items": null,
            "align_self": null,
            "border": null,
            "bottom": null,
            "display": null,
            "flex": null,
            "flex_flow": null,
            "grid_area": null,
            "grid_auto_columns": null,
            "grid_auto_flow": null,
            "grid_auto_rows": null,
            "grid_column": null,
            "grid_gap": null,
            "grid_row": null,
            "grid_template_areas": null,
            "grid_template_columns": null,
            "grid_template_rows": null,
            "height": null,
            "justify_content": null,
            "justify_items": null,
            "left": null,
            "margin": null,
            "max_height": null,
            "max_width": null,
            "min_height": null,
            "min_width": null,
            "object_fit": null,
            "object_position": null,
            "order": null,
            "overflow": null,
            "overflow_x": null,
            "overflow_y": null,
            "padding": null,
            "right": null,
            "top": null,
            "visibility": null,
            "width": null
          }
        },
        "f5c583c3d5cc47f0a87d0db8518d4313": {
          "model_module": "@jupyter-widgets/controls",
          "model_module_version": "1.5.0",
          "model_name": "HTMLModel",
          "state": {
            "_dom_classes": [],
            "_model_module": "@jupyter-widgets/controls",
            "_model_module_version": "1.5.0",
            "_model_name": "HTMLModel",
            "_view_count": null,
            "_view_module": "@jupyter-widgets/controls",
            "_view_module_version": "1.5.0",
            "_view_name": "HTMLView",
            "description": "",
            "description_tooltip": null,
            "layout": "IPY_MODEL_c9c8c148934a4e37aa698061e3da01e6",
            "placeholder": "​",
            "style": "IPY_MODEL_a44fb6a6e694466da7d045c05bcbec71",
            "value": "100%"
          }
        }
      }
    }
  },
  "nbformat": 4,
  "nbformat_minor": 0
}
