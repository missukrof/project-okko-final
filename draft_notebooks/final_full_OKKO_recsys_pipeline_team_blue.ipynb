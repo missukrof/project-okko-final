{
  "cells": [
    {
      "cell_type": "code",
      "execution_count": null,
      "metadata": {
        "id": "sEIFFFLTL_PK"
      },
      "outputs": [],
      "source": [
        "# !pip install shap\n",
        "# !pip install lightfm\n",
        "# !pip install catboost\n",
        "# !pip install pyarrow"
      ]
    },
    {
      "cell_type": "markdown",
      "metadata": {
        "id": "xRLiS62DL_PH"
      },
      "source": [
        "# 0. Configuration"
      ]
    },
    {
      "cell_type": "code",
      "execution_count": null,
      "metadata": {
        "id": "cwhkECPUL_PJ"
      },
      "outputs": [],
      "source": [
        "INTERACTIONS_PATH = 'https://drive.google.com/file/d/1-D2I1KrjdJGSUmdzWlAIcwFTkVsveqft/view?usp=share_link'\n",
        "# ITEMS_METADATA_PATH = 'https://drive.google.com/file/d/1aHmS2LweBJCzNjUTxhYlPX5mbitcTU2Z/view?usp=share_link'\n",
        "ITEMS_METADATA_PATH = 'https://drive.google.com/file/d/1-6CEu02dbSNazHBo4hElBq2T2tX3ZY5o/view?usp=share_link'\n",
        "USERS_METADATA_PATH = 'https://drive.google.com/file/d/1aJDGjCRwfMnIC1-RKTgGAsr-sOyjM6fY/view?usp=share_link'"
      ]
    },
    {
      "cell_type": "markdown",
      "metadata": {
        "id": "lzih9CB9L_PL"
      },
      "source": [
        "# 1. Modules and functions"
      ]
    },
    {
      "cell_type": "code",
      "execution_count": null,
      "metadata": {
        "id": "dRoEEq4nL_PL"
      },
      "outputs": [],
      "source": [
        "# just to make it available to download w/o SSL verification\n",
        "import ssl\n",
        "ssl._create_default_https_context = ssl._create_unverified_context\n",
        "\n",
        "import shap\n",
        "import numpy as np\n",
        "import pandas as pd\n",
        "import datetime as dt\n",
        "\n",
        "from typing import List\n",
        "from collections import Counter\n",
        "\n",
        "from sklearn.utils import shuffle\n",
        "from sklearn.model_selection import train_test_split\n",
        "from imblearn.over_sampling import SMOTE\n",
        "\n",
        "from lightfm.data import Dataset\n",
        "from lightfm import LightFM\n",
        "\n",
        "from catboost import CatBoostClassifier\n",
        "\n",
        "from tqdm import tqdm_notebook\n",
        "import warnings\n",
        "warnings.filterwarnings('ignore')\n",
        "\n",
        "pd.set_option('display.float_format', lambda x: '%.3f' % x)"
      ]
    },
    {
      "cell_type": "markdown",
      "metadata": {
        "id": "8csw4u6_L_PN"
      },
      "source": [
        "## 1. 1. Helper functions to avoid copy paste"
      ]
    },
    {
      "cell_type": "code",
      "source": [
        "def read_parquet_from_gdrive(url):\n",
        "    \"\"\"\n",
        "    gets csv data from a given url (taken from file -> share -> copy link)\n",
        "    :url: example https://drive.google.com/file/d/1BlZfCLLs5A13tbNSJZ1GPkHLWQOnPlE4/view?usp=share_link\n",
        "    \"\"\"\n",
        "    file_id = url.split('/')[-2]\n",
        "    file_path = 'https://drive.google.com/uc?export=download&id=' + file_id\n",
        "    data = pd.read_parquet(file_path, engine='pyarrow')\n",
        "\n",
        "    return data"
      ],
      "metadata": {
        "id": "RLEtYifCXlaq"
      },
      "execution_count": null,
      "outputs": []
    },
    {
      "cell_type": "markdown",
      "metadata": {
        "id": "BUS1UZfhL_PN"
      },
      "source": [
        "# 2. Main"
      ]
    },
    {
      "cell_type": "markdown",
      "metadata": {
        "id": "e4eHz39PL_PO"
      },
      "source": [
        "## 2.1. Load Data"
      ]
    },
    {
      "cell_type": "markdown",
      "metadata": {
        "id": "z4jlHbjZL_PO"
      },
      "source": [
        "`interactions` dataset shows list of movies that users watched, along with given `total_dur` in seconds and `watched_pct` proportion:"
      ]
    },
    {
      "cell_type": "code",
      "execution_count": null,
      "metadata": {
        "id": "nju5iWqUL_PO",
        "colab": {
          "base_uri": "https://localhost:8080/",
          "height": 206
        },
        "outputId": "9addcf3c-0020-4d00-d639-a257be67797b"
      },
      "outputs": [
        {
          "output_type": "execute_result",
          "data": {
            "text/plain": [
              "         year  month  day    user_id                              movie_id  \\\n",
              "922296   2022     11   17  228059660  fd8ce585-39b2-457d-8779-6d19f2d337a5   \n",
              "1281240  2022     12    5   71307875  5500ac94-eb17-4588-b1fb-423f49b68df4   \n",
              "1332850  2022     12    7  203030838  09ad6c80-43a5-4afe-aa59-d413dafca498   \n",
              "574728   2022     10   29  211196885  0909a5c0-f49f-47ba-bdd3-bb58ae61df23   \n",
              "207777   2022     10   11  211191555  aa95d980-55ad-4631-8b1a-bbfb4eea5663   \n",
              "\n",
              "         watch_duration_minutes   datetime  watched_pct  \n",
              "922296                   44.517 2022-11-17       33.982  \n",
              "1281240                 100.500 2022-12-05       96.635  \n",
              "1332850                  42.983 2022-12-07       40.937  \n",
              "574728                  229.300 2022-10-29      266.628  \n",
              "207777                   75.900 2022-10-11       90.357  "
            ],
            "text/html": [
              "\n",
              "  <div id=\"df-18612128-7ca8-4369-9d9b-1c167b8bfd40\">\n",
              "    <div class=\"colab-df-container\">\n",
              "      <div>\n",
              "<style scoped>\n",
              "    .dataframe tbody tr th:only-of-type {\n",
              "        vertical-align: middle;\n",
              "    }\n",
              "\n",
              "    .dataframe tbody tr th {\n",
              "        vertical-align: top;\n",
              "    }\n",
              "\n",
              "    .dataframe thead th {\n",
              "        text-align: right;\n",
              "    }\n",
              "</style>\n",
              "<table border=\"1\" class=\"dataframe\">\n",
              "  <thead>\n",
              "    <tr style=\"text-align: right;\">\n",
              "      <th></th>\n",
              "      <th>year</th>\n",
              "      <th>month</th>\n",
              "      <th>day</th>\n",
              "      <th>user_id</th>\n",
              "      <th>movie_id</th>\n",
              "      <th>watch_duration_minutes</th>\n",
              "      <th>datetime</th>\n",
              "      <th>watched_pct</th>\n",
              "    </tr>\n",
              "  </thead>\n",
              "  <tbody>\n",
              "    <tr>\n",
              "      <th>922296</th>\n",
              "      <td>2022</td>\n",
              "      <td>11</td>\n",
              "      <td>17</td>\n",
              "      <td>228059660</td>\n",
              "      <td>fd8ce585-39b2-457d-8779-6d19f2d337a5</td>\n",
              "      <td>44.517</td>\n",
              "      <td>2022-11-17</td>\n",
              "      <td>33.982</td>\n",
              "    </tr>\n",
              "    <tr>\n",
              "      <th>1281240</th>\n",
              "      <td>2022</td>\n",
              "      <td>12</td>\n",
              "      <td>5</td>\n",
              "      <td>71307875</td>\n",
              "      <td>5500ac94-eb17-4588-b1fb-423f49b68df4</td>\n",
              "      <td>100.500</td>\n",
              "      <td>2022-12-05</td>\n",
              "      <td>96.635</td>\n",
              "    </tr>\n",
              "    <tr>\n",
              "      <th>1332850</th>\n",
              "      <td>2022</td>\n",
              "      <td>12</td>\n",
              "      <td>7</td>\n",
              "      <td>203030838</td>\n",
              "      <td>09ad6c80-43a5-4afe-aa59-d413dafca498</td>\n",
              "      <td>42.983</td>\n",
              "      <td>2022-12-07</td>\n",
              "      <td>40.937</td>\n",
              "    </tr>\n",
              "    <tr>\n",
              "      <th>574728</th>\n",
              "      <td>2022</td>\n",
              "      <td>10</td>\n",
              "      <td>29</td>\n",
              "      <td>211196885</td>\n",
              "      <td>0909a5c0-f49f-47ba-bdd3-bb58ae61df23</td>\n",
              "      <td>229.300</td>\n",
              "      <td>2022-10-29</td>\n",
              "      <td>266.628</td>\n",
              "    </tr>\n",
              "    <tr>\n",
              "      <th>207777</th>\n",
              "      <td>2022</td>\n",
              "      <td>10</td>\n",
              "      <td>11</td>\n",
              "      <td>211191555</td>\n",
              "      <td>aa95d980-55ad-4631-8b1a-bbfb4eea5663</td>\n",
              "      <td>75.900</td>\n",
              "      <td>2022-10-11</td>\n",
              "      <td>90.357</td>\n",
              "    </tr>\n",
              "  </tbody>\n",
              "</table>\n",
              "</div>\n",
              "      <button class=\"colab-df-convert\" onclick=\"convertToInteractive('df-18612128-7ca8-4369-9d9b-1c167b8bfd40')\"\n",
              "              title=\"Convert this dataframe to an interactive table.\"\n",
              "              style=\"display:none;\">\n",
              "        \n",
              "  <svg xmlns=\"http://www.w3.org/2000/svg\" height=\"24px\"viewBox=\"0 0 24 24\"\n",
              "       width=\"24px\">\n",
              "    <path d=\"M0 0h24v24H0V0z\" fill=\"none\"/>\n",
              "    <path d=\"M18.56 5.44l.94 2.06.94-2.06 2.06-.94-2.06-.94-.94-2.06-.94 2.06-2.06.94zm-11 1L8.5 8.5l.94-2.06 2.06-.94-2.06-.94L8.5 2.5l-.94 2.06-2.06.94zm10 10l.94 2.06.94-2.06 2.06-.94-2.06-.94-.94-2.06-.94 2.06-2.06.94z\"/><path d=\"M17.41 7.96l-1.37-1.37c-.4-.4-.92-.59-1.43-.59-.52 0-1.04.2-1.43.59L10.3 9.45l-7.72 7.72c-.78.78-.78 2.05 0 2.83L4 21.41c.39.39.9.59 1.41.59.51 0 1.02-.2 1.41-.59l7.78-7.78 2.81-2.81c.8-.78.8-2.07 0-2.86zM5.41 20L4 18.59l7.72-7.72 1.47 1.35L5.41 20z\"/>\n",
              "  </svg>\n",
              "      </button>\n",
              "      \n",
              "  <style>\n",
              "    .colab-df-container {\n",
              "      display:flex;\n",
              "      flex-wrap:wrap;\n",
              "      gap: 12px;\n",
              "    }\n",
              "\n",
              "    .colab-df-convert {\n",
              "      background-color: #E8F0FE;\n",
              "      border: none;\n",
              "      border-radius: 50%;\n",
              "      cursor: pointer;\n",
              "      display: none;\n",
              "      fill: #1967D2;\n",
              "      height: 32px;\n",
              "      padding: 0 0 0 0;\n",
              "      width: 32px;\n",
              "    }\n",
              "\n",
              "    .colab-df-convert:hover {\n",
              "      background-color: #E2EBFA;\n",
              "      box-shadow: 0px 1px 2px rgba(60, 64, 67, 0.3), 0px 1px 3px 1px rgba(60, 64, 67, 0.15);\n",
              "      fill: #174EA6;\n",
              "    }\n",
              "\n",
              "    [theme=dark] .colab-df-convert {\n",
              "      background-color: #3B4455;\n",
              "      fill: #D2E3FC;\n",
              "    }\n",
              "\n",
              "    [theme=dark] .colab-df-convert:hover {\n",
              "      background-color: #434B5C;\n",
              "      box-shadow: 0px 1px 3px 1px rgba(0, 0, 0, 0.15);\n",
              "      filter: drop-shadow(0px 1px 2px rgba(0, 0, 0, 0.3));\n",
              "      fill: #FFFFFF;\n",
              "    }\n",
              "  </style>\n",
              "\n",
              "      <script>\n",
              "        const buttonEl =\n",
              "          document.querySelector('#df-18612128-7ca8-4369-9d9b-1c167b8bfd40 button.colab-df-convert');\n",
              "        buttonEl.style.display =\n",
              "          google.colab.kernel.accessAllowed ? 'block' : 'none';\n",
              "\n",
              "        async function convertToInteractive(key) {\n",
              "          const element = document.querySelector('#df-18612128-7ca8-4369-9d9b-1c167b8bfd40');\n",
              "          const dataTable =\n",
              "            await google.colab.kernel.invokeFunction('convertToInteractive',\n",
              "                                                     [key], {});\n",
              "          if (!dataTable) return;\n",
              "\n",
              "          const docLinkHtml = 'Like what you see? Visit the ' +\n",
              "            '<a target=\"_blank\" href=https://colab.research.google.com/notebooks/data_table.ipynb>data table notebook</a>'\n",
              "            + ' to learn more about interactive tables.';\n",
              "          element.innerHTML = '';\n",
              "          dataTable['output_type'] = 'display_data';\n",
              "          await google.colab.output.renderOutput(dataTable, element);\n",
              "          const docLink = document.createElement('div');\n",
              "          docLink.innerHTML = docLinkHtml;\n",
              "          element.appendChild(docLink);\n",
              "        }\n",
              "      </script>\n",
              "    </div>\n",
              "  </div>\n",
              "  "
            ]
          },
          "metadata": {},
          "execution_count": 6
        }
      ],
      "source": [
        "# interactions data\n",
        "interactions = read_parquet_from_gdrive(INTERACTIONS_PATH)\n",
        "interactions.sample(5)"
      ]
    },
    {
      "cell_type": "markdown",
      "source": [
        "`users_metadata` dataset shows the list of user features existing on OKKO platform:"
      ],
      "metadata": {
        "id": "Pzm50WSobqZw"
      }
    },
    {
      "cell_type": "code",
      "source": [
        "# information about users etc\n",
        "users_metadata = read_parquet_from_gdrive(USERS_METADATA_PATH)\n",
        "users_metadata.sample(5)"
      ],
      "metadata": {
        "colab": {
          "base_uri": "https://localhost:8080/",
          "height": 206
        },
        "id": "bfVgrBuebooa",
        "outputId": "e5e274aa-0334-43d5-8c2b-04a6f3612666"
      },
      "execution_count": null,
      "outputs": [
        {
          "output_type": "execute_result",
          "data": {
            "text/plain": [
              "          user_id          fav_actors           fav_director fav_genres  \\\n",
              "23791      662494  Александр Боярский  Константин Феоктистов      Драмы   \n",
              "71110   228136927     Алексей Макаров          Кирилл Алехин    Комедии   \n",
              "95330   239048935        Али Мухаммад         Джесси Джонсон   Вестерны   \n",
              "94308   239029142       Андрей Шишков         Антон Ланшаков    Комедии   \n",
              "106457  219461054          Аарон Фриш     Джон Майкл МакДона  Детективы   \n",
              "\n",
              "       fav_country  kids_flg  \n",
              "23791          США     1.000  \n",
              "71110       Россия     0.000  \n",
              "95330       Канада     0.000  \n",
              "94308       Россия     1.000  \n",
              "106457     Австрия     0.000  "
            ],
            "text/html": [
              "\n",
              "  <div id=\"df-3f9401e4-e376-400e-b5c1-1e532b5d86b5\">\n",
              "    <div class=\"colab-df-container\">\n",
              "      <div>\n",
              "<style scoped>\n",
              "    .dataframe tbody tr th:only-of-type {\n",
              "        vertical-align: middle;\n",
              "    }\n",
              "\n",
              "    .dataframe tbody tr th {\n",
              "        vertical-align: top;\n",
              "    }\n",
              "\n",
              "    .dataframe thead th {\n",
              "        text-align: right;\n",
              "    }\n",
              "</style>\n",
              "<table border=\"1\" class=\"dataframe\">\n",
              "  <thead>\n",
              "    <tr style=\"text-align: right;\">\n",
              "      <th></th>\n",
              "      <th>user_id</th>\n",
              "      <th>fav_actors</th>\n",
              "      <th>fav_director</th>\n",
              "      <th>fav_genres</th>\n",
              "      <th>fav_country</th>\n",
              "      <th>kids_flg</th>\n",
              "    </tr>\n",
              "  </thead>\n",
              "  <tbody>\n",
              "    <tr>\n",
              "      <th>23791</th>\n",
              "      <td>662494</td>\n",
              "      <td>Александр Боярский</td>\n",
              "      <td>Константин Феоктистов</td>\n",
              "      <td>Драмы</td>\n",
              "      <td>США</td>\n",
              "      <td>1.000</td>\n",
              "    </tr>\n",
              "    <tr>\n",
              "      <th>71110</th>\n",
              "      <td>228136927</td>\n",
              "      <td>Алексей Макаров</td>\n",
              "      <td>Кирилл Алехин</td>\n",
              "      <td>Комедии</td>\n",
              "      <td>Россия</td>\n",
              "      <td>0.000</td>\n",
              "    </tr>\n",
              "    <tr>\n",
              "      <th>95330</th>\n",
              "      <td>239048935</td>\n",
              "      <td>Али Мухаммад</td>\n",
              "      <td>Джесси Джонсон</td>\n",
              "      <td>Вестерны</td>\n",
              "      <td>Канада</td>\n",
              "      <td>0.000</td>\n",
              "    </tr>\n",
              "    <tr>\n",
              "      <th>94308</th>\n",
              "      <td>239029142</td>\n",
              "      <td>Андрей Шишков</td>\n",
              "      <td>Антон Ланшаков</td>\n",
              "      <td>Комедии</td>\n",
              "      <td>Россия</td>\n",
              "      <td>1.000</td>\n",
              "    </tr>\n",
              "    <tr>\n",
              "      <th>106457</th>\n",
              "      <td>219461054</td>\n",
              "      <td>Аарон Фриш</td>\n",
              "      <td>Джон Майкл МакДона</td>\n",
              "      <td>Детективы</td>\n",
              "      <td>Австрия</td>\n",
              "      <td>0.000</td>\n",
              "    </tr>\n",
              "  </tbody>\n",
              "</table>\n",
              "</div>\n",
              "      <button class=\"colab-df-convert\" onclick=\"convertToInteractive('df-3f9401e4-e376-400e-b5c1-1e532b5d86b5')\"\n",
              "              title=\"Convert this dataframe to an interactive table.\"\n",
              "              style=\"display:none;\">\n",
              "        \n",
              "  <svg xmlns=\"http://www.w3.org/2000/svg\" height=\"24px\"viewBox=\"0 0 24 24\"\n",
              "       width=\"24px\">\n",
              "    <path d=\"M0 0h24v24H0V0z\" fill=\"none\"/>\n",
              "    <path d=\"M18.56 5.44l.94 2.06.94-2.06 2.06-.94-2.06-.94-.94-2.06-.94 2.06-2.06.94zm-11 1L8.5 8.5l.94-2.06 2.06-.94-2.06-.94L8.5 2.5l-.94 2.06-2.06.94zm10 10l.94 2.06.94-2.06 2.06-.94-2.06-.94-.94-2.06-.94 2.06-2.06.94z\"/><path d=\"M17.41 7.96l-1.37-1.37c-.4-.4-.92-.59-1.43-.59-.52 0-1.04.2-1.43.59L10.3 9.45l-7.72 7.72c-.78.78-.78 2.05 0 2.83L4 21.41c.39.39.9.59 1.41.59.51 0 1.02-.2 1.41-.59l7.78-7.78 2.81-2.81c.8-.78.8-2.07 0-2.86zM5.41 20L4 18.59l7.72-7.72 1.47 1.35L5.41 20z\"/>\n",
              "  </svg>\n",
              "      </button>\n",
              "      \n",
              "  <style>\n",
              "    .colab-df-container {\n",
              "      display:flex;\n",
              "      flex-wrap:wrap;\n",
              "      gap: 12px;\n",
              "    }\n",
              "\n",
              "    .colab-df-convert {\n",
              "      background-color: #E8F0FE;\n",
              "      border: none;\n",
              "      border-radius: 50%;\n",
              "      cursor: pointer;\n",
              "      display: none;\n",
              "      fill: #1967D2;\n",
              "      height: 32px;\n",
              "      padding: 0 0 0 0;\n",
              "      width: 32px;\n",
              "    }\n",
              "\n",
              "    .colab-df-convert:hover {\n",
              "      background-color: #E2EBFA;\n",
              "      box-shadow: 0px 1px 2px rgba(60, 64, 67, 0.3), 0px 1px 3px 1px rgba(60, 64, 67, 0.15);\n",
              "      fill: #174EA6;\n",
              "    }\n",
              "\n",
              "    [theme=dark] .colab-df-convert {\n",
              "      background-color: #3B4455;\n",
              "      fill: #D2E3FC;\n",
              "    }\n",
              "\n",
              "    [theme=dark] .colab-df-convert:hover {\n",
              "      background-color: #434B5C;\n",
              "      box-shadow: 0px 1px 3px 1px rgba(0, 0, 0, 0.15);\n",
              "      filter: drop-shadow(0px 1px 2px rgba(0, 0, 0, 0.3));\n",
              "      fill: #FFFFFF;\n",
              "    }\n",
              "  </style>\n",
              "\n",
              "      <script>\n",
              "        const buttonEl =\n",
              "          document.querySelector('#df-3f9401e4-e376-400e-b5c1-1e532b5d86b5 button.colab-df-convert');\n",
              "        buttonEl.style.display =\n",
              "          google.colab.kernel.accessAllowed ? 'block' : 'none';\n",
              "\n",
              "        async function convertToInteractive(key) {\n",
              "          const element = document.querySelector('#df-3f9401e4-e376-400e-b5c1-1e532b5d86b5');\n",
              "          const dataTable =\n",
              "            await google.colab.kernel.invokeFunction('convertToInteractive',\n",
              "                                                     [key], {});\n",
              "          if (!dataTable) return;\n",
              "\n",
              "          const docLinkHtml = 'Like what you see? Visit the ' +\n",
              "            '<a target=\"_blank\" href=https://colab.research.google.com/notebooks/data_table.ipynb>data table notebook</a>'\n",
              "            + ' to learn more about interactive tables.';\n",
              "          element.innerHTML = '';\n",
              "          dataTable['output_type'] = 'display_data';\n",
              "          await google.colab.output.renderOutput(dataTable, element);\n",
              "          const docLink = document.createElement('div');\n",
              "          docLink.innerHTML = docLinkHtml;\n",
              "          element.appendChild(docLink);\n",
              "        }\n",
              "      </script>\n",
              "    </div>\n",
              "  </div>\n",
              "  "
            ]
          },
          "metadata": {},
          "execution_count": 7
        }
      ]
    },
    {
      "cell_type": "markdown",
      "metadata": {
        "id": "HP0_ERfYL_PP"
      },
      "source": [
        "`movies_metadata` dataset shows the list of movies existing on OKKO platform:"
      ]
    },
    {
      "cell_type": "code",
      "execution_count": null,
      "metadata": {
        "id": "SdgoSd4rL_PP",
        "colab": {
          "base_uri": "https://localhost:8080/",
          "height": 768
        },
        "outputId": "410f128d-f8b7-46ef-ef00-0c34edaa1957"
      },
      "outputs": [
        {
          "output_type": "execute_result",
          "data": {
            "text/plain": [
              "                                    movie_id  \\\n",
              "124007  eda487f1-38ce-4d0e-824c-069e2c967b67   \n",
              "29329   b1bf6ee2-0b33-4f83-af83-f302b6fce592   \n",
              "223983  b8455a4c-175f-4b79-bfde-4dcf40ca6976   \n",
              "135301  0c88c463-78b2-40b9-a6a4-dae194a71255   \n",
              "43782   676be5ff-5c64-4e18-aca3-5145a0451c0e   \n",
              "\n",
              "                                    title entity_type  \\\n",
              "124007                          Континуум       Серия   \n",
              "29329                       Курс биологии       Серия   \n",
              "223983  Американская история преступлений       Серия   \n",
              "135301                      Зона комфорта       Серия   \n",
              "43782                      Можно и нельзя       Фильм   \n",
              "\n",
              "                                 genres  \\\n",
              "124007  [Боевики, Триллеры, Фантастика]   \n",
              "29329                         [Комедии]   \n",
              "223983                          [Драмы]   \n",
              "135301                        [Комедии]   \n",
              "43782      [Короткий метр, Мультфильмы]   \n",
              "\n",
              "                                                   actors  \\\n",
              "124007  [Лекса Дойг, Эрик Кнудсен, Рэйчел Николс, Брай...   \n",
              "29329   [Пэттон Освальт, Гленн Хауэртон, Лайрик Льюис,...   \n",
              "223983  [Джон Траволта, Кортни Б. Вэнс, Кьюба Гудинг м...   \n",
              "135301  [Евгений Сытый, Гарик Харламов, Степан Девонин...   \n",
              "43782    [Елена Понсова, Александр Граве, Клара Румянова]   \n",
              "\n",
              "                                                 director   country  \\\n",
              "124007         [Пэт Уильямс, Дэвид Фрэйзи, Уильям Варинг]  [Канада]   \n",
              "29329   [Кэти Лок О’Брайэн, Эндрю ДеЯнг, Османи Родригес]     [США]   \n",
              "223983     [Райан Мёрфи, Джон Синглтон, Энтони Хемингуэй]     [США]   \n",
              "135301                                    [Михаил Шулаев]  [Россия]   \n",
              "43782                                       [Лев Мильчин]    [СССР]   \n",
              "\n",
              "       release_world  age_rating  duration  ... Япония Мультфильм Сезон  \\\n",
              "124007    2012-05-27      16.000    42.000  ...      0          0     0   \n",
              "29329     2018-02-01      18.000    21.000  ...      0          0     0   \n",
              "223983    2016-02-02      18.000    56.000  ...      0          0     0   \n",
              "135301    2020-10-22      18.000    27.000  ...      0          0     0   \n",
              "43782     1964-02-01       0.000    19.000  ...      0          0     0   \n",
              "\n",
              "       Сериал  Серия  Серия многосерийного фильма  Фильм  \\\n",
              "124007      0      1                            0      0   \n",
              "29329       0      1                            0      0   \n",
              "223983      0      1                            0      0   \n",
              "135301      0      1                            0      0   \n",
              "43782       0      0                            0      1   \n",
              "\n",
              "        watch_duration_minutes_mean_by_movie  movie_meta_emb  movie_cast_emb  \n",
              "124007                                   NaN          -0.676          -0.956  \n",
              "29329                                    NaN          -0.098          -1.052  \n",
              "223983                                   NaN          -0.797          -0.881  \n",
              "135301                                   NaN          -0.406          -0.962  \n",
              "43782                                 17.000          -0.127          -0.616  \n",
              "\n",
              "[5 rows x 215 columns]"
            ],
            "text/html": [
              "\n",
              "  <div id=\"df-f7aa5dc2-f97d-4bf9-99e2-505db888715e\">\n",
              "    <div class=\"colab-df-container\">\n",
              "      <div>\n",
              "<style scoped>\n",
              "    .dataframe tbody tr th:only-of-type {\n",
              "        vertical-align: middle;\n",
              "    }\n",
              "\n",
              "    .dataframe tbody tr th {\n",
              "        vertical-align: top;\n",
              "    }\n",
              "\n",
              "    .dataframe thead th {\n",
              "        text-align: right;\n",
              "    }\n",
              "</style>\n",
              "<table border=\"1\" class=\"dataframe\">\n",
              "  <thead>\n",
              "    <tr style=\"text-align: right;\">\n",
              "      <th></th>\n",
              "      <th>movie_id</th>\n",
              "      <th>title</th>\n",
              "      <th>entity_type</th>\n",
              "      <th>genres</th>\n",
              "      <th>actors</th>\n",
              "      <th>director</th>\n",
              "      <th>country</th>\n",
              "      <th>release_world</th>\n",
              "      <th>age_rating</th>\n",
              "      <th>duration</th>\n",
              "      <th>...</th>\n",
              "      <th>Япония</th>\n",
              "      <th>Мультфильм</th>\n",
              "      <th>Сезон</th>\n",
              "      <th>Сериал</th>\n",
              "      <th>Серия</th>\n",
              "      <th>Серия многосерийного фильма</th>\n",
              "      <th>Фильм</th>\n",
              "      <th>watch_duration_minutes_mean_by_movie</th>\n",
              "      <th>movie_meta_emb</th>\n",
              "      <th>movie_cast_emb</th>\n",
              "    </tr>\n",
              "  </thead>\n",
              "  <tbody>\n",
              "    <tr>\n",
              "      <th>124007</th>\n",
              "      <td>eda487f1-38ce-4d0e-824c-069e2c967b67</td>\n",
              "      <td>Континуум</td>\n",
              "      <td>Серия</td>\n",
              "      <td>[Боевики, Триллеры, Фантастика]</td>\n",
              "      <td>[Лекса Дойг, Эрик Кнудсен, Рэйчел Николс, Брай...</td>\n",
              "      <td>[Пэт Уильямс, Дэвид Фрэйзи, Уильям Варинг]</td>\n",
              "      <td>[Канада]</td>\n",
              "      <td>2012-05-27</td>\n",
              "      <td>16.000</td>\n",
              "      <td>42.000</td>\n",
              "      <td>...</td>\n",
              "      <td>0</td>\n",
              "      <td>0</td>\n",
              "      <td>0</td>\n",
              "      <td>0</td>\n",
              "      <td>1</td>\n",
              "      <td>0</td>\n",
              "      <td>0</td>\n",
              "      <td>NaN</td>\n",
              "      <td>-0.676</td>\n",
              "      <td>-0.956</td>\n",
              "    </tr>\n",
              "    <tr>\n",
              "      <th>29329</th>\n",
              "      <td>b1bf6ee2-0b33-4f83-af83-f302b6fce592</td>\n",
              "      <td>Курс биологии</td>\n",
              "      <td>Серия</td>\n",
              "      <td>[Комедии]</td>\n",
              "      <td>[Пэттон Освальт, Гленн Хауэртон, Лайрик Льюис,...</td>\n",
              "      <td>[Кэти Лок О’Брайэн, Эндрю ДеЯнг, Османи Родригес]</td>\n",
              "      <td>[США]</td>\n",
              "      <td>2018-02-01</td>\n",
              "      <td>18.000</td>\n",
              "      <td>21.000</td>\n",
              "      <td>...</td>\n",
              "      <td>0</td>\n",
              "      <td>0</td>\n",
              "      <td>0</td>\n",
              "      <td>0</td>\n",
              "      <td>1</td>\n",
              "      <td>0</td>\n",
              "      <td>0</td>\n",
              "      <td>NaN</td>\n",
              "      <td>-0.098</td>\n",
              "      <td>-1.052</td>\n",
              "    </tr>\n",
              "    <tr>\n",
              "      <th>223983</th>\n",
              "      <td>b8455a4c-175f-4b79-bfde-4dcf40ca6976</td>\n",
              "      <td>Американская история преступлений</td>\n",
              "      <td>Серия</td>\n",
              "      <td>[Драмы]</td>\n",
              "      <td>[Джон Траволта, Кортни Б. Вэнс, Кьюба Гудинг м...</td>\n",
              "      <td>[Райан Мёрфи, Джон Синглтон, Энтони Хемингуэй]</td>\n",
              "      <td>[США]</td>\n",
              "      <td>2016-02-02</td>\n",
              "      <td>18.000</td>\n",
              "      <td>56.000</td>\n",
              "      <td>...</td>\n",
              "      <td>0</td>\n",
              "      <td>0</td>\n",
              "      <td>0</td>\n",
              "      <td>0</td>\n",
              "      <td>1</td>\n",
              "      <td>0</td>\n",
              "      <td>0</td>\n",
              "      <td>NaN</td>\n",
              "      <td>-0.797</td>\n",
              "      <td>-0.881</td>\n",
              "    </tr>\n",
              "    <tr>\n",
              "      <th>135301</th>\n",
              "      <td>0c88c463-78b2-40b9-a6a4-dae194a71255</td>\n",
              "      <td>Зона комфорта</td>\n",
              "      <td>Серия</td>\n",
              "      <td>[Комедии]</td>\n",
              "      <td>[Евгений Сытый, Гарик Харламов, Степан Девонин...</td>\n",
              "      <td>[Михаил Шулаев]</td>\n",
              "      <td>[Россия]</td>\n",
              "      <td>2020-10-22</td>\n",
              "      <td>18.000</td>\n",
              "      <td>27.000</td>\n",
              "      <td>...</td>\n",
              "      <td>0</td>\n",
              "      <td>0</td>\n",
              "      <td>0</td>\n",
              "      <td>0</td>\n",
              "      <td>1</td>\n",
              "      <td>0</td>\n",
              "      <td>0</td>\n",
              "      <td>NaN</td>\n",
              "      <td>-0.406</td>\n",
              "      <td>-0.962</td>\n",
              "    </tr>\n",
              "    <tr>\n",
              "      <th>43782</th>\n",
              "      <td>676be5ff-5c64-4e18-aca3-5145a0451c0e</td>\n",
              "      <td>Можно и нельзя</td>\n",
              "      <td>Фильм</td>\n",
              "      <td>[Короткий метр, Мультфильмы]</td>\n",
              "      <td>[Елена Понсова, Александр Граве, Клара Румянова]</td>\n",
              "      <td>[Лев Мильчин]</td>\n",
              "      <td>[СССР]</td>\n",
              "      <td>1964-02-01</td>\n",
              "      <td>0.000</td>\n",
              "      <td>19.000</td>\n",
              "      <td>...</td>\n",
              "      <td>0</td>\n",
              "      <td>0</td>\n",
              "      <td>0</td>\n",
              "      <td>0</td>\n",
              "      <td>0</td>\n",
              "      <td>0</td>\n",
              "      <td>1</td>\n",
              "      <td>17.000</td>\n",
              "      <td>-0.127</td>\n",
              "      <td>-0.616</td>\n",
              "    </tr>\n",
              "  </tbody>\n",
              "</table>\n",
              "<p>5 rows × 215 columns</p>\n",
              "</div>\n",
              "      <button class=\"colab-df-convert\" onclick=\"convertToInteractive('df-f7aa5dc2-f97d-4bf9-99e2-505db888715e')\"\n",
              "              title=\"Convert this dataframe to an interactive table.\"\n",
              "              style=\"display:none;\">\n",
              "        \n",
              "  <svg xmlns=\"http://www.w3.org/2000/svg\" height=\"24px\"viewBox=\"0 0 24 24\"\n",
              "       width=\"24px\">\n",
              "    <path d=\"M0 0h24v24H0V0z\" fill=\"none\"/>\n",
              "    <path d=\"M18.56 5.44l.94 2.06.94-2.06 2.06-.94-2.06-.94-.94-2.06-.94 2.06-2.06.94zm-11 1L8.5 8.5l.94-2.06 2.06-.94-2.06-.94L8.5 2.5l-.94 2.06-2.06.94zm10 10l.94 2.06.94-2.06 2.06-.94-2.06-.94-.94-2.06-.94 2.06-2.06.94z\"/><path d=\"M17.41 7.96l-1.37-1.37c-.4-.4-.92-.59-1.43-.59-.52 0-1.04.2-1.43.59L10.3 9.45l-7.72 7.72c-.78.78-.78 2.05 0 2.83L4 21.41c.39.39.9.59 1.41.59.51 0 1.02-.2 1.41-.59l7.78-7.78 2.81-2.81c.8-.78.8-2.07 0-2.86zM5.41 20L4 18.59l7.72-7.72 1.47 1.35L5.41 20z\"/>\n",
              "  </svg>\n",
              "      </button>\n",
              "      \n",
              "  <style>\n",
              "    .colab-df-container {\n",
              "      display:flex;\n",
              "      flex-wrap:wrap;\n",
              "      gap: 12px;\n",
              "    }\n",
              "\n",
              "    .colab-df-convert {\n",
              "      background-color: #E8F0FE;\n",
              "      border: none;\n",
              "      border-radius: 50%;\n",
              "      cursor: pointer;\n",
              "      display: none;\n",
              "      fill: #1967D2;\n",
              "      height: 32px;\n",
              "      padding: 0 0 0 0;\n",
              "      width: 32px;\n",
              "    }\n",
              "\n",
              "    .colab-df-convert:hover {\n",
              "      background-color: #E2EBFA;\n",
              "      box-shadow: 0px 1px 2px rgba(60, 64, 67, 0.3), 0px 1px 3px 1px rgba(60, 64, 67, 0.15);\n",
              "      fill: #174EA6;\n",
              "    }\n",
              "\n",
              "    [theme=dark] .colab-df-convert {\n",
              "      background-color: #3B4455;\n",
              "      fill: #D2E3FC;\n",
              "    }\n",
              "\n",
              "    [theme=dark] .colab-df-convert:hover {\n",
              "      background-color: #434B5C;\n",
              "      box-shadow: 0px 1px 3px 1px rgba(0, 0, 0, 0.15);\n",
              "      filter: drop-shadow(0px 1px 2px rgba(0, 0, 0, 0.3));\n",
              "      fill: #FFFFFF;\n",
              "    }\n",
              "  </style>\n",
              "\n",
              "      <script>\n",
              "        const buttonEl =\n",
              "          document.querySelector('#df-f7aa5dc2-f97d-4bf9-99e2-505db888715e button.colab-df-convert');\n",
              "        buttonEl.style.display =\n",
              "          google.colab.kernel.accessAllowed ? 'block' : 'none';\n",
              "\n",
              "        async function convertToInteractive(key) {\n",
              "          const element = document.querySelector('#df-f7aa5dc2-f97d-4bf9-99e2-505db888715e');\n",
              "          const dataTable =\n",
              "            await google.colab.kernel.invokeFunction('convertToInteractive',\n",
              "                                                     [key], {});\n",
              "          if (!dataTable) return;\n",
              "\n",
              "          const docLinkHtml = 'Like what you see? Visit the ' +\n",
              "            '<a target=\"_blank\" href=https://colab.research.google.com/notebooks/data_table.ipynb>data table notebook</a>'\n",
              "            + ' to learn more about interactive tables.';\n",
              "          element.innerHTML = '';\n",
              "          dataTable['output_type'] = 'display_data';\n",
              "          await google.colab.output.renderOutput(dataTable, element);\n",
              "          const docLink = document.createElement('div');\n",
              "          docLink.innerHTML = docLinkHtml;\n",
              "          element.appendChild(docLink);\n",
              "        }\n",
              "      </script>\n",
              "    </div>\n",
              "  </div>\n",
              "  "
            ]
          },
          "metadata": {},
          "execution_count": 8
        }
      ],
      "source": [
        "# information about films etc\n",
        "movies_metadata = read_parquet_from_gdrive(ITEMS_METADATA_PATH)\n",
        "movies_metadata.sample(5)"
      ]
    },
    {
      "cell_type": "code",
      "source": [
        "interactions = interactions[['user_id', 'movie_id', 'datetime', 'watch_duration_minutes', 'watched_pct']]\n",
        "interactions.sample(5)"
      ],
      "metadata": {
        "id": "hyAj2UeVd8Vm",
        "colab": {
          "base_uri": "https://localhost:8080/",
          "height": 206
        },
        "outputId": "beb46227-8e42-420f-ddc1-03edcf17307d"
      },
      "execution_count": null,
      "outputs": [
        {
          "output_type": "execute_result",
          "data": {
            "text/plain": [
              "           user_id                              movie_id   datetime  \\\n",
              "115247   239096641  c9f9a80a-13da-4614-9284-52ec7518ed9d 2022-10-06   \n",
              "1129779  228171881  d7bba92c-ffa1-4947-8096-6fad13f40790 2022-11-27   \n",
              "1134429   75756298  a8749d17-85fc-4ccf-ba56-75991c3a9da4 2022-11-27   \n",
              "283269   228057470  9cd4b771-64c8-4959-aad4-280f74ac971e 2022-10-15   \n",
              "102686   219181199  b0ba5c36-ae83-49fe-b03e-9fed6d0e43e7 2022-10-06   \n",
              "\n",
              "         watch_duration_minutes  watched_pct  \n",
              "115247                   34.133       31.605  \n",
              "1129779                  43.117       42.271  \n",
              "1134429                   1.900        1.418  \n",
              "283269                   62.517       71.042  \n",
              "102686                   55.933        5.690  "
            ],
            "text/html": [
              "\n",
              "  <div id=\"df-eaba0c0d-9964-4eb8-97d5-0d8d9a4fb7ba\">\n",
              "    <div class=\"colab-df-container\">\n",
              "      <div>\n",
              "<style scoped>\n",
              "    .dataframe tbody tr th:only-of-type {\n",
              "        vertical-align: middle;\n",
              "    }\n",
              "\n",
              "    .dataframe tbody tr th {\n",
              "        vertical-align: top;\n",
              "    }\n",
              "\n",
              "    .dataframe thead th {\n",
              "        text-align: right;\n",
              "    }\n",
              "</style>\n",
              "<table border=\"1\" class=\"dataframe\">\n",
              "  <thead>\n",
              "    <tr style=\"text-align: right;\">\n",
              "      <th></th>\n",
              "      <th>user_id</th>\n",
              "      <th>movie_id</th>\n",
              "      <th>datetime</th>\n",
              "      <th>watch_duration_minutes</th>\n",
              "      <th>watched_pct</th>\n",
              "    </tr>\n",
              "  </thead>\n",
              "  <tbody>\n",
              "    <tr>\n",
              "      <th>115247</th>\n",
              "      <td>239096641</td>\n",
              "      <td>c9f9a80a-13da-4614-9284-52ec7518ed9d</td>\n",
              "      <td>2022-10-06</td>\n",
              "      <td>34.133</td>\n",
              "      <td>31.605</td>\n",
              "    </tr>\n",
              "    <tr>\n",
              "      <th>1129779</th>\n",
              "      <td>228171881</td>\n",
              "      <td>d7bba92c-ffa1-4947-8096-6fad13f40790</td>\n",
              "      <td>2022-11-27</td>\n",
              "      <td>43.117</td>\n",
              "      <td>42.271</td>\n",
              "    </tr>\n",
              "    <tr>\n",
              "      <th>1134429</th>\n",
              "      <td>75756298</td>\n",
              "      <td>a8749d17-85fc-4ccf-ba56-75991c3a9da4</td>\n",
              "      <td>2022-11-27</td>\n",
              "      <td>1.900</td>\n",
              "      <td>1.418</td>\n",
              "    </tr>\n",
              "    <tr>\n",
              "      <th>283269</th>\n",
              "      <td>228057470</td>\n",
              "      <td>9cd4b771-64c8-4959-aad4-280f74ac971e</td>\n",
              "      <td>2022-10-15</td>\n",
              "      <td>62.517</td>\n",
              "      <td>71.042</td>\n",
              "    </tr>\n",
              "    <tr>\n",
              "      <th>102686</th>\n",
              "      <td>219181199</td>\n",
              "      <td>b0ba5c36-ae83-49fe-b03e-9fed6d0e43e7</td>\n",
              "      <td>2022-10-06</td>\n",
              "      <td>55.933</td>\n",
              "      <td>5.690</td>\n",
              "    </tr>\n",
              "  </tbody>\n",
              "</table>\n",
              "</div>\n",
              "      <button class=\"colab-df-convert\" onclick=\"convertToInteractive('df-eaba0c0d-9964-4eb8-97d5-0d8d9a4fb7ba')\"\n",
              "              title=\"Convert this dataframe to an interactive table.\"\n",
              "              style=\"display:none;\">\n",
              "        \n",
              "  <svg xmlns=\"http://www.w3.org/2000/svg\" height=\"24px\"viewBox=\"0 0 24 24\"\n",
              "       width=\"24px\">\n",
              "    <path d=\"M0 0h24v24H0V0z\" fill=\"none\"/>\n",
              "    <path d=\"M18.56 5.44l.94 2.06.94-2.06 2.06-.94-2.06-.94-.94-2.06-.94 2.06-2.06.94zm-11 1L8.5 8.5l.94-2.06 2.06-.94-2.06-.94L8.5 2.5l-.94 2.06-2.06.94zm10 10l.94 2.06.94-2.06 2.06-.94-2.06-.94-.94-2.06-.94 2.06-2.06.94z\"/><path d=\"M17.41 7.96l-1.37-1.37c-.4-.4-.92-.59-1.43-.59-.52 0-1.04.2-1.43.59L10.3 9.45l-7.72 7.72c-.78.78-.78 2.05 0 2.83L4 21.41c.39.39.9.59 1.41.59.51 0 1.02-.2 1.41-.59l7.78-7.78 2.81-2.81c.8-.78.8-2.07 0-2.86zM5.41 20L4 18.59l7.72-7.72 1.47 1.35L5.41 20z\"/>\n",
              "  </svg>\n",
              "      </button>\n",
              "      \n",
              "  <style>\n",
              "    .colab-df-container {\n",
              "      display:flex;\n",
              "      flex-wrap:wrap;\n",
              "      gap: 12px;\n",
              "    }\n",
              "\n",
              "    .colab-df-convert {\n",
              "      background-color: #E8F0FE;\n",
              "      border: none;\n",
              "      border-radius: 50%;\n",
              "      cursor: pointer;\n",
              "      display: none;\n",
              "      fill: #1967D2;\n",
              "      height: 32px;\n",
              "      padding: 0 0 0 0;\n",
              "      width: 32px;\n",
              "    }\n",
              "\n",
              "    .colab-df-convert:hover {\n",
              "      background-color: #E2EBFA;\n",
              "      box-shadow: 0px 1px 2px rgba(60, 64, 67, 0.3), 0px 1px 3px 1px rgba(60, 64, 67, 0.15);\n",
              "      fill: #174EA6;\n",
              "    }\n",
              "\n",
              "    [theme=dark] .colab-df-convert {\n",
              "      background-color: #3B4455;\n",
              "      fill: #D2E3FC;\n",
              "    }\n",
              "\n",
              "    [theme=dark] .colab-df-convert:hover {\n",
              "      background-color: #434B5C;\n",
              "      box-shadow: 0px 1px 3px 1px rgba(0, 0, 0, 0.15);\n",
              "      filter: drop-shadow(0px 1px 2px rgba(0, 0, 0, 0.3));\n",
              "      fill: #FFFFFF;\n",
              "    }\n",
              "  </style>\n",
              "\n",
              "      <script>\n",
              "        const buttonEl =\n",
              "          document.querySelector('#df-eaba0c0d-9964-4eb8-97d5-0d8d9a4fb7ba button.colab-df-convert');\n",
              "        buttonEl.style.display =\n",
              "          google.colab.kernel.accessAllowed ? 'block' : 'none';\n",
              "\n",
              "        async function convertToInteractive(key) {\n",
              "          const element = document.querySelector('#df-eaba0c0d-9964-4eb8-97d5-0d8d9a4fb7ba');\n",
              "          const dataTable =\n",
              "            await google.colab.kernel.invokeFunction('convertToInteractive',\n",
              "                                                     [key], {});\n",
              "          if (!dataTable) return;\n",
              "\n",
              "          const docLinkHtml = 'Like what you see? Visit the ' +\n",
              "            '<a target=\"_blank\" href=https://colab.research.google.com/notebooks/data_table.ipynb>data table notebook</a>'\n",
              "            + ' to learn more about interactive tables.';\n",
              "          element.innerHTML = '';\n",
              "          dataTable['output_type'] = 'display_data';\n",
              "          await google.colab.output.renderOutput(dataTable, element);\n",
              "          const docLink = document.createElement('div');\n",
              "          docLink.innerHTML = docLinkHtml;\n",
              "          element.appendChild(docLink);\n",
              "        }\n",
              "      </script>\n",
              "    </div>\n",
              "  </div>\n",
              "  "
            ]
          },
          "metadata": {},
          "execution_count": 9
        }
      ]
    },
    {
      "cell_type": "markdown",
      "metadata": {
        "id": "0yv91ZJsL_PP"
      },
      "source": [
        "## 2.2. Train/test split"
      ]
    },
    {
      "cell_type": "markdown",
      "metadata": {
        "id": "UGzjsQEIL_PQ"
      },
      "source": [
        "## 2.3 Data preparation using LightFM Dataset (first-level model)"
      ]
    },
    {
      "cell_type": "markdown",
      "metadata": {
        "id": "QpGSo8R6L_PQ"
      },
      "source": [
        "To use implicit kNN method `fit` we need a sparse matrix in COOrdinate format. To achieve that we will use `scipy.sparse.coo_matrix` from scipy;\n"
      ]
    },
    {
      "cell_type": "code",
      "source": [
        "interactions_merged = interactions.merge(movies_metadata, how='left')"
      ],
      "metadata": {
        "id": "3SN6TV6rZYeD"
      },
      "execution_count": null,
      "outputs": []
    },
    {
      "cell_type": "code",
      "source": [
        "interactions['watch_duration_minutes_cumsum'] = interactions_merged[(interactions_merged['entity_type'] == 'Сериал')].groupby(['user_id', 'movie_id']).cumsum()['watch_duration_minutes']\n",
        "interactions['watched_pct_cumsum'] = interactions_merged[(interactions_merged['entity_type'] == 'Сериал')].groupby(['user_id', 'movie_id']).cumsum()['watched_pct']"
      ],
      "metadata": {
        "id": "P9aG4784Y5hD"
      },
      "execution_count": null,
      "outputs": []
    },
    {
      "cell_type": "code",
      "source": [
        "interactions['watch_duration_minutes_cumsum'] = interactions['watch_duration_minutes_cumsum'].fillna(interactions['watch_duration_minutes'])\n",
        "interactions['watched_pct_cumsum'] = interactions['watched_pct_cumsum'].fillna(interactions['watched_pct'])"
      ],
      "metadata": {
        "id": "1nhIQOT0Y5kN"
      },
      "execution_count": null,
      "outputs": []
    },
    {
      "cell_type": "code",
      "source": [
        "del interactions_merged"
      ],
      "metadata": {
        "id": "4u9Bt3baZq2x"
      },
      "execution_count": null,
      "outputs": []
    },
    {
      "cell_type": "code",
      "execution_count": null,
      "metadata": {
        "id": "g8IDfghTL_PQ"
      },
      "outputs": [],
      "source": [
        "# remove redundant data points\n",
        "interactions_filtered = interactions.loc[interactions['watch_duration_minutes_cumsum'] > 20].reset_index(drop = True)"
      ]
    },
    {
      "cell_type": "code",
      "execution_count": null,
      "metadata": {
        "id": "EjwIGEJNL_PQ",
        "colab": {
          "base_uri": "https://localhost:8080/"
        },
        "outputId": "91c1b62c-2efe-428d-b8ff-f840f7b39b14"
      },
      "outputs": [
        {
          "output_type": "stream",
          "name": "stdout",
          "text": [
            "(1800000, 7) (1164164, 7)\n"
          ]
        }
      ],
      "source": [
        "print(interactions.shape, interactions_filtered.shape)"
      ]
    },
    {
      "cell_type": "code",
      "execution_count": null,
      "metadata": {
        "id": "y3TRKAKdL_PR"
      },
      "outputs": [],
      "source": [
        "interactions_filtered['datetime'] = pd.to_datetime(interactions_filtered['datetime'])"
      ]
    },
    {
      "cell_type": "code",
      "execution_count": null,
      "metadata": {
        "id": "Zd_iTuPGL_PR",
        "colab": {
          "base_uri": "https://localhost:8080/"
        },
        "outputId": "fe9c127a-786b-4392-b818-477a07aaba6d"
      },
      "outputs": [
        {
          "output_type": "stream",
          "name": "stdout",
          "text": [
            "min date in filtered interactions: 2022-12-30 00:00:00\n",
            "max date in filtered interactions:: 2022-10-01 00:00:00\n"
          ]
        }
      ],
      "source": [
        "# set dates params for filter\n",
        "MAX_DATE = interactions_filtered['datetime'].max()\n",
        "MIN_DATE = interactions_filtered['datetime'].min()\n",
        "TEST_INTERVAL_DAYS = 14\n",
        "\n",
        "print(f\"min date in filtered interactions: {MAX_DATE}\")\n",
        "print(f\"max date in filtered interactions:: {MIN_DATE}\")"
      ]
    },
    {
      "cell_type": "code",
      "execution_count": null,
      "metadata": {
        "id": "GEyxWGcTL_PR"
      },
      "outputs": [],
      "source": [
        "TEST_MAX_DATE = MAX_DATE - dt.timedelta(days = TEST_INTERVAL_DAYS)"
      ]
    },
    {
      "cell_type": "code",
      "execution_count": null,
      "metadata": {
        "id": "j2TgKoVzL_PR",
        "colab": {
          "base_uri": "https://localhost:8080/"
        },
        "outputId": "24814c32-d0f9-40b8-fe67-1fea667349e6"
      },
      "outputs": [
        {
          "output_type": "stream",
          "name": "stdout",
          "text": [
            "(969393, 7) (194771, 7)\n"
          ]
        }
      ],
      "source": [
        "# define global train and test\n",
        "global_train = interactions_filtered.loc[interactions_filtered['datetime'] < TEST_MAX_DATE]\n",
        "global_test = interactions_filtered.loc[interactions_filtered['datetime'] >= TEST_MAX_DATE]\n",
        "\n",
        "print(global_train.shape, global_test.shape)"
      ]
    },
    {
      "cell_type": "code",
      "execution_count": null,
      "metadata": {
        "id": "r59WU4FsL_PS",
        "colab": {
          "base_uri": "https://localhost:8080/"
        },
        "outputId": "c6bb297a-49a4-4650-a1c9-44f36f1a315f"
      },
      "outputs": [
        {
          "output_type": "stream",
          "name": "stdout",
          "text": [
            "2022-11-23 00:00:00\n"
          ]
        }
      ],
      "source": [
        "# now, we define \"local\" train and test to use some part of the global train for ranker\n",
        "local_train_thresh = global_train['datetime'].quantile(q = .7, interpolation = 'nearest')\n",
        "print(local_train_thresh)"
      ]
    },
    {
      "cell_type": "code",
      "execution_count": null,
      "metadata": {
        "id": "c-jUinmrL_PS"
      },
      "outputs": [],
      "source": [
        "global_train = global_train.dropna().reset_index(drop = True)"
      ]
    },
    {
      "cell_type": "code",
      "execution_count": null,
      "metadata": {
        "id": "XO9GoUmzL_PS",
        "colab": {
          "base_uri": "https://localhost:8080/"
        },
        "outputId": "473a899f-a5a6-4603-81b5-8559f8538e7b"
      },
      "outputs": [
        {
          "output_type": "stream",
          "name": "stdout",
          "text": [
            "(667617, 7) (301776, 7)\n"
          ]
        }
      ],
      "source": [
        "local_train = global_train.loc[global_train['datetime'] < local_train_thresh]\n",
        "local_test = global_train.loc[global_train['datetime'] >= local_train_thresh]\n",
        "\n",
        "print(local_train.shape, local_test.shape)"
      ]
    },
    {
      "cell_type": "code",
      "execution_count": null,
      "metadata": {
        "id": "CA54w_dJL_PS",
        "colab": {
          "base_uri": "https://localhost:8080/"
        },
        "outputId": "bfcd0235-5e44-4b06-b1ec-ed64f44d2bab"
      },
      "outputs": [
        {
          "output_type": "stream",
          "name": "stdout",
          "text": [
            "(251972, 7)\n"
          ]
        }
      ],
      "source": [
        "# finally, we will focus on warm start -- remove cold start users\n",
        "local_test = local_test.loc[local_test['user_id'].isin(local_train['user_id'].unique())]\n",
        "print(local_test.shape)"
      ]
    },
    {
      "cell_type": "code",
      "execution_count": null,
      "metadata": {
        "id": "Ssaj3dqUL_PT"
      },
      "outputs": [],
      "source": [
        "# init class\n",
        "dataset = Dataset()\n",
        "\n",
        "# fit tuple of user and movie interactions\n",
        "dataset.fit(local_train['user_id'].unique(), local_train['movie_id'].unique())"
      ]
    },
    {
      "cell_type": "code",
      "execution_count": null,
      "metadata": {
        "id": "L7L9CEtOL_PT"
      },
      "outputs": [],
      "source": [
        "# now, we define lightfm mapper to use it later for checks\n",
        "lightfm_mapping = dataset.mapping()\n",
        "# lightfm_mapping"
      ]
    },
    {
      "cell_type": "code",
      "execution_count": null,
      "metadata": {
        "id": "DkVmv9VeL_PT",
        "colab": {
          "base_uri": "https://localhost:8080/"
        },
        "outputId": "ad83b1da-867f-4f5e-f2c7-709585af18ad"
      },
      "outputs": [
        {
          "output_type": "stream",
          "name": "stdout",
          "text": [
            "user mapper length -  86321\n",
            "user features mapper length -  86321\n",
            "movies mapper length -  12354\n",
            "Users movie features mapper length -  12354\n"
          ]
        }
      ],
      "source": [
        "lightfm_mapping = {\n",
        "    'users_mapping': lightfm_mapping[0],\n",
        "    'user_features_mapping': lightfm_mapping[1],\n",
        "    'items_mapping': lightfm_mapping[2],\n",
        "    'item_features_mapping': lightfm_mapping[3],\n",
        "}\n",
        "print('user mapper length - ', len(lightfm_mapping['users_mapping']))\n",
        "print('user features mapper length - ', len(lightfm_mapping['user_features_mapping']))\n",
        "print('movies mapper length - ', len(lightfm_mapping['items_mapping']))\n",
        "print('Users movie features mapper length - ', len(lightfm_mapping['item_features_mapping']))"
      ]
    },
    {
      "cell_type": "code",
      "execution_count": null,
      "metadata": {
        "id": "-XgC-syUL_PT"
      },
      "outputs": [],
      "source": [
        "# here we create inverted mappers to check recommendations later\n",
        "lightfm_mapping['users_inv_mapping'] = {v: k for k, v in lightfm_mapping['users_mapping'].items()}\n",
        "lightfm_mapping['items_inv_mapping'] = {v: k for k, v in lightfm_mapping['items_mapping'].items()}"
      ]
    },
    {
      "cell_type": "code",
      "execution_count": null,
      "metadata": {
        "id": "tKPlwkw8L_PU"
      },
      "outputs": [],
      "source": [
        "# special iterator to use with lightfm\n",
        "def df_to_tuple_iterator(df: pd.DataFrame):\n",
        "    '''\n",
        "    :df: pd.DataFrame, interactions dataframe\n",
        "    returs iterator\n",
        "    '''\n",
        "    return zip(*df.values.T)\n",
        "\n",
        "def concat_last_to_list(t):\n",
        "    return (t[0], list(t[1:])[0])\n",
        "\n",
        "def df_to_tuple_list_iterator(df):\n",
        "    return map(concat_last_to_list, zip(*df.values.T))"
      ]
    },
    {
      "cell_type": "code",
      "execution_count": null,
      "metadata": {
        "id": "kFeG4GokL_PU"
      },
      "outputs": [],
      "source": [
        "# defining train set on the whole interactions dataset (as HW you will have to split into test and train for evaluation)\n",
        "train_mat, train_mat_weights = dataset.build_interactions(df_to_tuple_iterator(local_train[['user_id', 'movie_id']]))"
      ]
    },
    {
      "cell_type": "code",
      "execution_count": null,
      "metadata": {
        "id": "RX5cmU-xL_PU",
        "colab": {
          "base_uri": "https://localhost:8080/"
        },
        "outputId": "cb5bd365-f181-4796-c680-e43ee181b226"
      },
      "outputs": [
        {
          "output_type": "execute_result",
          "data": {
            "text/plain": [
              "<86321x12354 sparse matrix of type '<class 'numpy.int32'>'\n",
              "\twith 667617 stored elements in COOrdinate format>"
            ]
          },
          "metadata": {},
          "execution_count": 30
        }
      ],
      "source": [
        "train_mat"
      ]
    },
    {
      "cell_type": "code",
      "execution_count": null,
      "metadata": {
        "id": "NPHTHkihL_PU",
        "colab": {
          "base_uri": "https://localhost:8080/"
        },
        "outputId": "5a3ad79d-3e40-4d8c-9df9-8d277b2a36b8"
      },
      "outputs": [
        {
          "output_type": "execute_result",
          "data": {
            "text/plain": [
              "<86321x12354 sparse matrix of type '<class 'numpy.float32'>'\n",
              "\twith 667617 stored elements in COOrdinate format>"
            ]
          },
          "metadata": {},
          "execution_count": 31
        }
      ],
      "source": [
        "train_mat_weights"
      ]
    },
    {
      "cell_type": "markdown",
      "metadata": {
        "id": "Jrc5q2gTL_PU"
      },
      "source": [
        "## 2.4. Train LigthFM model"
      ]
    },
    {
      "cell_type": "code",
      "execution_count": null,
      "metadata": {
        "id": "BbKvdEGrL_PU"
      },
      "outputs": [],
      "source": [
        "# set params - last HW\n",
        "# NO_COMPONENTS = 10\n",
        "# LEARNING_RATE = .05\n",
        "# LOSS = 'logistic'\n",
        "# MAX_SAMPLED = 10\n",
        "# RANDOM_STATE = 42\n",
        "# EPOCHS = 10\n",
        "\n",
        "# set params\n",
        "NO_COMPONENTS = 64\n",
        "LEARNING_RATE = .03\n",
        "LOSS = 'warp'\n",
        "MAX_SAMPLED = 5\n",
        "RANDOM_STATE = 42\n",
        "EPOCHS = 20"
      ]
    },
    {
      "cell_type": "code",
      "execution_count": null,
      "metadata": {
        "id": "EYSLmx07L_PV"
      },
      "outputs": [],
      "source": [
        "# init model\n",
        "lfm_model = LightFM(\n",
        "    no_components = NO_COMPONENTS,\n",
        "    learning_rate = LEARNING_RATE,\n",
        "    loss = LOSS,\n",
        "    max_sampled = MAX_SAMPLED,\n",
        "    random_state = RANDOM_STATE\n",
        "    )"
      ]
    },
    {
      "cell_type": "code",
      "execution_count": null,
      "metadata": {
        "id": "W_JZ-kx2L_PV",
        "colab": {
          "base_uri": "https://localhost:8080/",
          "height": 49,
          "referenced_widgets": [
            "5b0d04dd1fb04300a0f8fb7eb5120cc7",
            "9a4ab03a62264b81b23b1643717b2491",
            "365f0c56e9644a578ddbd07d2a7b3dc7",
            "5fa1f1d8d7094e22affcce604aaa105f",
            "cefe26cef3e5423c83bfc495506d8bcb",
            "b947e6387af64dc0bfca7eb48cd679ee",
            "14aebf0a13574196803861d1a42fbf52",
            "524500407a6f45388e067d6999620901",
            "51105c1389734d06adc8b23af44b5665",
            "9219107138ee4498b271e6d05f8ab055",
            "59a40148afcc47d08aff7cf38527f9d6"
          ]
        },
        "outputId": "1b1715e4-ce7b-4a3d-cc18-72060132c58a"
      },
      "outputs": [
        {
          "output_type": "display_data",
          "data": {
            "text/plain": [
              "  0%|          | 0/20 [00:00<?, ?it/s]"
            ],
            "application/vnd.jupyter.widget-view+json": {
              "version_major": 2,
              "version_minor": 0,
              "model_id": "5b0d04dd1fb04300a0f8fb7eb5120cc7"
            }
          },
          "metadata": {}
        }
      ],
      "source": [
        "# execute training\n",
        "for _ in tqdm_notebook(range(EPOCHS), total = EPOCHS):\n",
        "    lfm_model.fit_partial(\n",
        "        train_mat,\n",
        "        num_threads = 4\n",
        "    )"
      ]
    },
    {
      "cell_type": "code",
      "execution_count": null,
      "metadata": {
        "id": "VY9sleaOL_PV",
        "colab": {
          "base_uri": "https://localhost:8080/"
        },
        "outputId": "50b10d99-ebf9-43a6-a692-e2bf34aa4640"
      },
      "outputs": [
        {
          "output_type": "stream",
          "name": "stdout",
          "text": [
            "Rekko for user 150513, row number in matrix - 72\n"
          ]
        }
      ],
      "source": [
        "# let's make sense-check\n",
        "top_N = 10\n",
        "user_id = local_train['user_id'][100]\n",
        "row_id = lightfm_mapping['users_mapping'][user_id]\n",
        "print(f'Rekko for user {user_id}, row number in matrix - {row_id}')"
      ]
    },
    {
      "cell_type": "code",
      "execution_count": null,
      "metadata": {
        "id": "AofwSFHtL_PV",
        "colab": {
          "base_uri": "https://localhost:8080/"
        },
        "outputId": "c363c773-95cc-4a7a-92b5-3d7cd8234785"
      },
      "outputs": [
        {
          "output_type": "execute_result",
          "data": {
            "text/plain": [
              "12354"
            ]
          },
          "metadata": {},
          "execution_count": 36
        }
      ],
      "source": [
        "all_cols = list(lightfm_mapping['items_mapping'].values())\n",
        "len(all_cols)"
      ]
    },
    {
      "cell_type": "code",
      "execution_count": null,
      "metadata": {
        "id": "G0XDhVniL_PV",
        "colab": {
          "base_uri": "https://localhost:8080/"
        },
        "outputId": "2d0fc2ef-349a-4de8-f290-b86d2ddf3e22"
      },
      "outputs": [
        {
          "output_type": "execute_result",
          "data": {
            "text/plain": [
              "(array([ 3.0393474 ,  0.5751401 , -0.86676985, ..., -2.1388266 ,\n",
              "        -1.8979303 , -1.8813995 ], dtype=float32),\n",
              " (12354,))"
            ]
          },
          "metadata": {},
          "execution_count": 37
        }
      ],
      "source": [
        "pred = lfm_model.predict(\n",
        "    row_id,\n",
        "    all_cols,\n",
        "    num_threads = 4)\n",
        "pred, pred.shape"
      ]
    },
    {
      "cell_type": "code",
      "execution_count": null,
      "metadata": {
        "id": "8GcF9rlJL_PW",
        "colab": {
          "base_uri": "https://localhost:8080/"
        },
        "outputId": "eb5a4235-483e-42c4-bcaf-c3b439e142c9"
      },
      "outputs": [
        {
          "output_type": "execute_result",
          "data": {
            "text/plain": [
              "array([    0,  9980,  7893,    12, 11019,  8641, 11018, 11640, 11026,\n",
              "          45])"
            ]
          },
          "metadata": {},
          "execution_count": 38
        }
      ],
      "source": [
        "top_cols = np.argpartition(pred, -np.arange(top_N))[-top_N:][::-1]\n",
        "top_cols"
      ]
    },
    {
      "cell_type": "code",
      "execution_count": null,
      "metadata": {
        "id": "nXHDLrkML_PW"
      },
      "outputs": [],
      "source": [
        "# crate mapper for movieId and title names\n",
        "item_name_mapper = dict(zip(movies_metadata['movie_id'], movies_metadata['title']))"
      ]
    },
    {
      "cell_type": "code",
      "execution_count": null,
      "metadata": {
        "id": "BZQpQZydL_PW",
        "colab": {
          "base_uri": "https://localhost:8080/",
          "height": 363
        },
        "outputId": "513f6479-1894-4aad-b0b3-7b007f68f740"
      },
      "outputs": [
        {
          "output_type": "execute_result",
          "data": {
            "text/plain": [
              "   col_id                              movie_id                   title\n",
              "0       0  91f9d892-a508-4962-91e9-abacd93e0830                    1703\n",
              "1    9980  0f33af53-5d2d-4c82-a2e9-307fcabdcb2d                  Кунгур\n",
              "2    7893  703b202e-1774-4b93-8a0c-e848d7d3abcc          Начать сначала\n",
              "3      12  25ef7e77-d83d-46d1-999a-ca36a045ab9a                  Химера\n",
              "4   11019  5a3bf8a0-3054-448b-b524-025abea0cac3               Аксентьев\n",
              "5    8641  28509b56-b1b5-4568-93d6-de7611ef5a2e          Лэйт Найт Скул\n",
              "6   11018  e5f48804-89a0-45d0-900b-5e88d465954f         Красная Шапочка\n",
              "7   11640  ec0a8ccf-f614-4124-8fd3-dade8dace293            Суперпозиция\n",
              "8   11026  7dcc3cf7-943b-4964-9b86-a7d9ab5c767d  Три тысячи лет желаний\n",
              "9      45  9c98f362-737c-47eb-a500-046c998fa888                   Дикая"
            ],
            "text/html": [
              "\n",
              "  <div id=\"df-813e4489-ec8e-4ce3-a3ad-32bb2c90e2d8\">\n",
              "    <div class=\"colab-df-container\">\n",
              "      <div>\n",
              "<style scoped>\n",
              "    .dataframe tbody tr th:only-of-type {\n",
              "        vertical-align: middle;\n",
              "    }\n",
              "\n",
              "    .dataframe tbody tr th {\n",
              "        vertical-align: top;\n",
              "    }\n",
              "\n",
              "    .dataframe thead th {\n",
              "        text-align: right;\n",
              "    }\n",
              "</style>\n",
              "<table border=\"1\" class=\"dataframe\">\n",
              "  <thead>\n",
              "    <tr style=\"text-align: right;\">\n",
              "      <th></th>\n",
              "      <th>col_id</th>\n",
              "      <th>movie_id</th>\n",
              "      <th>title</th>\n",
              "    </tr>\n",
              "  </thead>\n",
              "  <tbody>\n",
              "    <tr>\n",
              "      <th>0</th>\n",
              "      <td>0</td>\n",
              "      <td>91f9d892-a508-4962-91e9-abacd93e0830</td>\n",
              "      <td>1703</td>\n",
              "    </tr>\n",
              "    <tr>\n",
              "      <th>1</th>\n",
              "      <td>9980</td>\n",
              "      <td>0f33af53-5d2d-4c82-a2e9-307fcabdcb2d</td>\n",
              "      <td>Кунгур</td>\n",
              "    </tr>\n",
              "    <tr>\n",
              "      <th>2</th>\n",
              "      <td>7893</td>\n",
              "      <td>703b202e-1774-4b93-8a0c-e848d7d3abcc</td>\n",
              "      <td>Начать сначала</td>\n",
              "    </tr>\n",
              "    <tr>\n",
              "      <th>3</th>\n",
              "      <td>12</td>\n",
              "      <td>25ef7e77-d83d-46d1-999a-ca36a045ab9a</td>\n",
              "      <td>Химера</td>\n",
              "    </tr>\n",
              "    <tr>\n",
              "      <th>4</th>\n",
              "      <td>11019</td>\n",
              "      <td>5a3bf8a0-3054-448b-b524-025abea0cac3</td>\n",
              "      <td>Аксентьев</td>\n",
              "    </tr>\n",
              "    <tr>\n",
              "      <th>5</th>\n",
              "      <td>8641</td>\n",
              "      <td>28509b56-b1b5-4568-93d6-de7611ef5a2e</td>\n",
              "      <td>Лэйт Найт Скул</td>\n",
              "    </tr>\n",
              "    <tr>\n",
              "      <th>6</th>\n",
              "      <td>11018</td>\n",
              "      <td>e5f48804-89a0-45d0-900b-5e88d465954f</td>\n",
              "      <td>Красная Шапочка</td>\n",
              "    </tr>\n",
              "    <tr>\n",
              "      <th>7</th>\n",
              "      <td>11640</td>\n",
              "      <td>ec0a8ccf-f614-4124-8fd3-dade8dace293</td>\n",
              "      <td>Суперпозиция</td>\n",
              "    </tr>\n",
              "    <tr>\n",
              "      <th>8</th>\n",
              "      <td>11026</td>\n",
              "      <td>7dcc3cf7-943b-4964-9b86-a7d9ab5c767d</td>\n",
              "      <td>Три тысячи лет желаний</td>\n",
              "    </tr>\n",
              "    <tr>\n",
              "      <th>9</th>\n",
              "      <td>45</td>\n",
              "      <td>9c98f362-737c-47eb-a500-046c998fa888</td>\n",
              "      <td>Дикая</td>\n",
              "    </tr>\n",
              "  </tbody>\n",
              "</table>\n",
              "</div>\n",
              "      <button class=\"colab-df-convert\" onclick=\"convertToInteractive('df-813e4489-ec8e-4ce3-a3ad-32bb2c90e2d8')\"\n",
              "              title=\"Convert this dataframe to an interactive table.\"\n",
              "              style=\"display:none;\">\n",
              "        \n",
              "  <svg xmlns=\"http://www.w3.org/2000/svg\" height=\"24px\"viewBox=\"0 0 24 24\"\n",
              "       width=\"24px\">\n",
              "    <path d=\"M0 0h24v24H0V0z\" fill=\"none\"/>\n",
              "    <path d=\"M18.56 5.44l.94 2.06.94-2.06 2.06-.94-2.06-.94-.94-2.06-.94 2.06-2.06.94zm-11 1L8.5 8.5l.94-2.06 2.06-.94-2.06-.94L8.5 2.5l-.94 2.06-2.06.94zm10 10l.94 2.06.94-2.06 2.06-.94-2.06-.94-.94-2.06-.94 2.06-2.06.94z\"/><path d=\"M17.41 7.96l-1.37-1.37c-.4-.4-.92-.59-1.43-.59-.52 0-1.04.2-1.43.59L10.3 9.45l-7.72 7.72c-.78.78-.78 2.05 0 2.83L4 21.41c.39.39.9.59 1.41.59.51 0 1.02-.2 1.41-.59l7.78-7.78 2.81-2.81c.8-.78.8-2.07 0-2.86zM5.41 20L4 18.59l7.72-7.72 1.47 1.35L5.41 20z\"/>\n",
              "  </svg>\n",
              "      </button>\n",
              "      \n",
              "  <style>\n",
              "    .colab-df-container {\n",
              "      display:flex;\n",
              "      flex-wrap:wrap;\n",
              "      gap: 12px;\n",
              "    }\n",
              "\n",
              "    .colab-df-convert {\n",
              "      background-color: #E8F0FE;\n",
              "      border: none;\n",
              "      border-radius: 50%;\n",
              "      cursor: pointer;\n",
              "      display: none;\n",
              "      fill: #1967D2;\n",
              "      height: 32px;\n",
              "      padding: 0 0 0 0;\n",
              "      width: 32px;\n",
              "    }\n",
              "\n",
              "    .colab-df-convert:hover {\n",
              "      background-color: #E2EBFA;\n",
              "      box-shadow: 0px 1px 2px rgba(60, 64, 67, 0.3), 0px 1px 3px 1px rgba(60, 64, 67, 0.15);\n",
              "      fill: #174EA6;\n",
              "    }\n",
              "\n",
              "    [theme=dark] .colab-df-convert {\n",
              "      background-color: #3B4455;\n",
              "      fill: #D2E3FC;\n",
              "    }\n",
              "\n",
              "    [theme=dark] .colab-df-convert:hover {\n",
              "      background-color: #434B5C;\n",
              "      box-shadow: 0px 1px 3px 1px rgba(0, 0, 0, 0.15);\n",
              "      filter: drop-shadow(0px 1px 2px rgba(0, 0, 0, 0.3));\n",
              "      fill: #FFFFFF;\n",
              "    }\n",
              "  </style>\n",
              "\n",
              "      <script>\n",
              "        const buttonEl =\n",
              "          document.querySelector('#df-813e4489-ec8e-4ce3-a3ad-32bb2c90e2d8 button.colab-df-convert');\n",
              "        buttonEl.style.display =\n",
              "          google.colab.kernel.accessAllowed ? 'block' : 'none';\n",
              "\n",
              "        async function convertToInteractive(key) {\n",
              "          const element = document.querySelector('#df-813e4489-ec8e-4ce3-a3ad-32bb2c90e2d8');\n",
              "          const dataTable =\n",
              "            await google.colab.kernel.invokeFunction('convertToInteractive',\n",
              "                                                     [key], {});\n",
              "          if (!dataTable) return;\n",
              "\n",
              "          const docLinkHtml = 'Like what you see? Visit the ' +\n",
              "            '<a target=\"_blank\" href=https://colab.research.google.com/notebooks/data_table.ipynb>data table notebook</a>'\n",
              "            + ' to learn more about interactive tables.';\n",
              "          element.innerHTML = '';\n",
              "          dataTable['output_type'] = 'display_data';\n",
              "          await google.colab.output.renderOutput(dataTable, element);\n",
              "          const docLink = document.createElement('div');\n",
              "          docLink.innerHTML = docLinkHtml;\n",
              "          element.appendChild(docLink);\n",
              "        }\n",
              "      </script>\n",
              "    </div>\n",
              "  </div>\n",
              "  "
            ]
          },
          "metadata": {},
          "execution_count": 40
        }
      ],
      "source": [
        "recs = pd.DataFrame({'col_id': top_cols})\n",
        "recs['movie_id'] = recs['col_id'].map(lightfm_mapping['items_inv_mapping'].get)\n",
        "recs['title'] = recs['movie_id'].map(item_name_mapper)\n",
        "recs"
      ]
    },
    {
      "cell_type": "code",
      "execution_count": null,
      "metadata": {
        "id": "fxkXco09L_PW",
        "colab": {
          "base_uri": "https://localhost:8080/"
        },
        "outputId": "5ac3ca19-b5e5-4c59-acbc-97b4ce5bf4e3"
      },
      "outputs": [
        {
          "output_type": "stream",
          "name": "stdout",
          "text": [
            "Rekko for user 219132313, row number in matrix - 671\n"
          ]
        }
      ],
      "source": [
        "# let's make sense-check\n",
        "top_N = 10\n",
        "user_id = local_train['user_id'][1000]\n",
        "row_id = lightfm_mapping['users_mapping'][user_id]\n",
        "print(f'Rekko for user {user_id}, row number in matrix - {row_id}')"
      ]
    },
    {
      "cell_type": "code",
      "execution_count": null,
      "metadata": {
        "id": "_-h5xUOlL_PW",
        "colab": {
          "base_uri": "https://localhost:8080/"
        },
        "outputId": "6b806a90-3f9b-4a97-db80-d3d269bff35b"
      },
      "outputs": [
        {
          "output_type": "execute_result",
          "data": {
            "text/plain": [
              "(array([ 2.8953729 ,  0.12735814, -1.2256874 , ..., -2.1737726 ,\n",
              "        -2.0924094 , -2.049193  ], dtype=float32),\n",
              " (12354,))"
            ]
          },
          "metadata": {},
          "execution_count": 42
        }
      ],
      "source": [
        "pred = lfm_model.predict(\n",
        "    row_id,\n",
        "    all_cols,\n",
        "    num_threads = 4)\n",
        "pred, pred.shape\n"
      ]
    },
    {
      "cell_type": "code",
      "execution_count": null,
      "metadata": {
        "id": "oob_aa9iL_PX",
        "colab": {
          "base_uri": "https://localhost:8080/"
        },
        "outputId": "98c0ba13-5eab-4bf7-e949-76b6ac374f86"
      },
      "outputs": [
        {
          "output_type": "execute_result",
          "data": {
            "text/plain": [
              "array([    0,  9980,  6842, 11019,    74, 11018,    65,  8641,   216,\n",
              "        7893])"
            ]
          },
          "metadata": {},
          "execution_count": 43
        }
      ],
      "source": [
        "top_cols = np.argpartition(pred, -np.arange(top_N))[-top_N:][::-1]\n",
        "top_cols"
      ]
    },
    {
      "cell_type": "code",
      "execution_count": null,
      "metadata": {
        "id": "mafNVYZ0L_PX",
        "colab": {
          "base_uri": "https://localhost:8080/",
          "height": 363
        },
        "outputId": "cd64527e-1a34-4c3b-d4d5-f39b1eb5003b"
      },
      "outputs": [
        {
          "output_type": "execute_result",
          "data": {
            "text/plain": [
              "   col_id                              movie_id                      title\n",
              "0       0  91f9d892-a508-4962-91e9-abacd93e0830                       1703\n",
              "1    9980  0f33af53-5d2d-4c82-a2e9-307fcabdcb2d                     Кунгур\n",
              "2    6842  d722f09d-a99d-4c7f-853c-0c77fcd45f35            Барбоскины Team\n",
              "3   11019  5a3bf8a0-3054-448b-b524-025abea0cac3                  Аксентьев\n",
              "4      74  3cfb5023-3c07-4384-8acf-d488d5a0ffa4                     Ворона\n",
              "5   11018  e5f48804-89a0-45d0-900b-5e88d465954f            Красная Шапочка\n",
              "6      65  537ece24-2358-4108-a419-85cfd5952607  Пес-самурай и город кошек\n",
              "7    8641  28509b56-b1b5-4568-93d6-de7611ef5a2e             Лэйт Найт Скул\n",
              "8     216  37957168-d3fe-4273-89ee-f59a3a1d7c14   Кощей. Похититель невест\n",
              "9    7893  703b202e-1774-4b93-8a0c-e848d7d3abcc             Начать сначала"
            ],
            "text/html": [
              "\n",
              "  <div id=\"df-63f3cab6-1166-4fc2-b4c1-850183c8c23d\">\n",
              "    <div class=\"colab-df-container\">\n",
              "      <div>\n",
              "<style scoped>\n",
              "    .dataframe tbody tr th:only-of-type {\n",
              "        vertical-align: middle;\n",
              "    }\n",
              "\n",
              "    .dataframe tbody tr th {\n",
              "        vertical-align: top;\n",
              "    }\n",
              "\n",
              "    .dataframe thead th {\n",
              "        text-align: right;\n",
              "    }\n",
              "</style>\n",
              "<table border=\"1\" class=\"dataframe\">\n",
              "  <thead>\n",
              "    <tr style=\"text-align: right;\">\n",
              "      <th></th>\n",
              "      <th>col_id</th>\n",
              "      <th>movie_id</th>\n",
              "      <th>title</th>\n",
              "    </tr>\n",
              "  </thead>\n",
              "  <tbody>\n",
              "    <tr>\n",
              "      <th>0</th>\n",
              "      <td>0</td>\n",
              "      <td>91f9d892-a508-4962-91e9-abacd93e0830</td>\n",
              "      <td>1703</td>\n",
              "    </tr>\n",
              "    <tr>\n",
              "      <th>1</th>\n",
              "      <td>9980</td>\n",
              "      <td>0f33af53-5d2d-4c82-a2e9-307fcabdcb2d</td>\n",
              "      <td>Кунгур</td>\n",
              "    </tr>\n",
              "    <tr>\n",
              "      <th>2</th>\n",
              "      <td>6842</td>\n",
              "      <td>d722f09d-a99d-4c7f-853c-0c77fcd45f35</td>\n",
              "      <td>Барбоскины Team</td>\n",
              "    </tr>\n",
              "    <tr>\n",
              "      <th>3</th>\n",
              "      <td>11019</td>\n",
              "      <td>5a3bf8a0-3054-448b-b524-025abea0cac3</td>\n",
              "      <td>Аксентьев</td>\n",
              "    </tr>\n",
              "    <tr>\n",
              "      <th>4</th>\n",
              "      <td>74</td>\n",
              "      <td>3cfb5023-3c07-4384-8acf-d488d5a0ffa4</td>\n",
              "      <td>Ворона</td>\n",
              "    </tr>\n",
              "    <tr>\n",
              "      <th>5</th>\n",
              "      <td>11018</td>\n",
              "      <td>e5f48804-89a0-45d0-900b-5e88d465954f</td>\n",
              "      <td>Красная Шапочка</td>\n",
              "    </tr>\n",
              "    <tr>\n",
              "      <th>6</th>\n",
              "      <td>65</td>\n",
              "      <td>537ece24-2358-4108-a419-85cfd5952607</td>\n",
              "      <td>Пес-самурай и город кошек</td>\n",
              "    </tr>\n",
              "    <tr>\n",
              "      <th>7</th>\n",
              "      <td>8641</td>\n",
              "      <td>28509b56-b1b5-4568-93d6-de7611ef5a2e</td>\n",
              "      <td>Лэйт Найт Скул</td>\n",
              "    </tr>\n",
              "    <tr>\n",
              "      <th>8</th>\n",
              "      <td>216</td>\n",
              "      <td>37957168-d3fe-4273-89ee-f59a3a1d7c14</td>\n",
              "      <td>Кощей. Похититель невест</td>\n",
              "    </tr>\n",
              "    <tr>\n",
              "      <th>9</th>\n",
              "      <td>7893</td>\n",
              "      <td>703b202e-1774-4b93-8a0c-e848d7d3abcc</td>\n",
              "      <td>Начать сначала</td>\n",
              "    </tr>\n",
              "  </tbody>\n",
              "</table>\n",
              "</div>\n",
              "      <button class=\"colab-df-convert\" onclick=\"convertToInteractive('df-63f3cab6-1166-4fc2-b4c1-850183c8c23d')\"\n",
              "              title=\"Convert this dataframe to an interactive table.\"\n",
              "              style=\"display:none;\">\n",
              "        \n",
              "  <svg xmlns=\"http://www.w3.org/2000/svg\" height=\"24px\"viewBox=\"0 0 24 24\"\n",
              "       width=\"24px\">\n",
              "    <path d=\"M0 0h24v24H0V0z\" fill=\"none\"/>\n",
              "    <path d=\"M18.56 5.44l.94 2.06.94-2.06 2.06-.94-2.06-.94-.94-2.06-.94 2.06-2.06.94zm-11 1L8.5 8.5l.94-2.06 2.06-.94-2.06-.94L8.5 2.5l-.94 2.06-2.06.94zm10 10l.94 2.06.94-2.06 2.06-.94-2.06-.94-.94-2.06-.94 2.06-2.06.94z\"/><path d=\"M17.41 7.96l-1.37-1.37c-.4-.4-.92-.59-1.43-.59-.52 0-1.04.2-1.43.59L10.3 9.45l-7.72 7.72c-.78.78-.78 2.05 0 2.83L4 21.41c.39.39.9.59 1.41.59.51 0 1.02-.2 1.41-.59l7.78-7.78 2.81-2.81c.8-.78.8-2.07 0-2.86zM5.41 20L4 18.59l7.72-7.72 1.47 1.35L5.41 20z\"/>\n",
              "  </svg>\n",
              "      </button>\n",
              "      \n",
              "  <style>\n",
              "    .colab-df-container {\n",
              "      display:flex;\n",
              "      flex-wrap:wrap;\n",
              "      gap: 12px;\n",
              "    }\n",
              "\n",
              "    .colab-df-convert {\n",
              "      background-color: #E8F0FE;\n",
              "      border: none;\n",
              "      border-radius: 50%;\n",
              "      cursor: pointer;\n",
              "      display: none;\n",
              "      fill: #1967D2;\n",
              "      height: 32px;\n",
              "      padding: 0 0 0 0;\n",
              "      width: 32px;\n",
              "    }\n",
              "\n",
              "    .colab-df-convert:hover {\n",
              "      background-color: #E2EBFA;\n",
              "      box-shadow: 0px 1px 2px rgba(60, 64, 67, 0.3), 0px 1px 3px 1px rgba(60, 64, 67, 0.15);\n",
              "      fill: #174EA6;\n",
              "    }\n",
              "\n",
              "    [theme=dark] .colab-df-convert {\n",
              "      background-color: #3B4455;\n",
              "      fill: #D2E3FC;\n",
              "    }\n",
              "\n",
              "    [theme=dark] .colab-df-convert:hover {\n",
              "      background-color: #434B5C;\n",
              "      box-shadow: 0px 1px 3px 1px rgba(0, 0, 0, 0.15);\n",
              "      filter: drop-shadow(0px 1px 2px rgba(0, 0, 0, 0.3));\n",
              "      fill: #FFFFFF;\n",
              "    }\n",
              "  </style>\n",
              "\n",
              "      <script>\n",
              "        const buttonEl =\n",
              "          document.querySelector('#df-63f3cab6-1166-4fc2-b4c1-850183c8c23d button.colab-df-convert');\n",
              "        buttonEl.style.display =\n",
              "          google.colab.kernel.accessAllowed ? 'block' : 'none';\n",
              "\n",
              "        async function convertToInteractive(key) {\n",
              "          const element = document.querySelector('#df-63f3cab6-1166-4fc2-b4c1-850183c8c23d');\n",
              "          const dataTable =\n",
              "            await google.colab.kernel.invokeFunction('convertToInteractive',\n",
              "                                                     [key], {});\n",
              "          if (!dataTable) return;\n",
              "\n",
              "          const docLinkHtml = 'Like what you see? Visit the ' +\n",
              "            '<a target=\"_blank\" href=https://colab.research.google.com/notebooks/data_table.ipynb>data table notebook</a>'\n",
              "            + ' to learn more about interactive tables.';\n",
              "          element.innerHTML = '';\n",
              "          dataTable['output_type'] = 'display_data';\n",
              "          await google.colab.output.renderOutput(dataTable, element);\n",
              "          const docLink = document.createElement('div');\n",
              "          docLink.innerHTML = docLinkHtml;\n",
              "          element.appendChild(docLink);\n",
              "        }\n",
              "      </script>\n",
              "    </div>\n",
              "  </div>\n",
              "  "
            ]
          },
          "metadata": {},
          "execution_count": 44
        }
      ],
      "source": [
        "recs = pd.DataFrame({'col_id': top_cols})\n",
        "recs['movie_id'] = recs['col_id'].map(lightfm_mapping['items_inv_mapping'].get)\n",
        "recs['title'] = recs['movie_id'].map(item_name_mapper)\n",
        "recs"
      ]
    },
    {
      "cell_type": "code",
      "execution_count": null,
      "metadata": {
        "id": "YVWhjY9vL_PX",
        "colab": {
          "base_uri": "https://localhost:8080/"
        },
        "outputId": "7d3f58ff-a27f-4cdc-e224-53c03fceda14"
      },
      "outputs": [
        {
          "output_type": "execute_result",
          "data": {
            "text/plain": [
              "37784"
            ]
          },
          "metadata": {},
          "execution_count": 45
        }
      ],
      "source": [
        "# let's make predictions for all users in test\n",
        "test_preds = pd.DataFrame({\n",
        "    'user_id': local_test['user_id'].unique()\n",
        "})\n",
        "len(test_preds)"
      ]
    },
    {
      "cell_type": "code",
      "execution_count": null,
      "metadata": {
        "id": "ZGJA_geuL_PX"
      },
      "outputs": [],
      "source": [
        "# all_recs = pd.DataFrame()\n",
        "# for user in tqdm_notebook(users_mapping.keys()):\n",
        "#     row_id = users_mapping[user]\n",
        "#     pred = lfm_model.predict(\n",
        "#         row_id,\n",
        "#         all_cols,\n",
        "#         num_threads = 4)\n",
        "#     top_cols = np.argpartition(pred, -np.arange(top_N))[-top_N:][::-1]\n",
        "#     user_recs = pd.DataFrame({'col_id': top_cols})\n",
        "#     user_recs['item_id'] = user_recs['col_id'].map(lightfm_mapping['items_inv_mapping'].get)\n",
        "#     user_recs['title'] = user_recs['item_id'].map(item_name_mapper)\n",
        "\n",
        "#     all_recs = pd.concat([all_recs, user_recs], ignore_index = True)"
      ]
    },
    {
      "cell_type": "code",
      "execution_count": null,
      "metadata": {
        "id": "nQFw5LdgL_PX"
      },
      "outputs": [],
      "source": [
        "def generate_lightfm_recs_mapper(\n",
        "        model: object,\n",
        "        item_ids: list,\n",
        "        known_items: dict,\n",
        "        user_features: list,\n",
        "        item_features: list,\n",
        "        N: int,\n",
        "        user_mapping: dict,\n",
        "        item_inv_mapping: dict,\n",
        "        num_threads: int = 4\n",
        "        ):\n",
        "    def _recs_mapper(user):\n",
        "        user_id = user_mapping[user]\n",
        "        recs = model.predict(\n",
        "            user_id,\n",
        "            item_ids,\n",
        "            user_features = user_features,\n",
        "            item_features = item_features,\n",
        "            num_threads = num_threads)\n",
        "        \n",
        "        additional_N = len(known_items[user_id]) if user_id in known_items else 0\n",
        "        total_N = N + additional_N\n",
        "        top_cols = np.argpartition(recs, -np.arange(total_N))[-total_N:][::-1]\n",
        "        \n",
        "        final_recs = [item_inv_mapping[item] for item in top_cols]\n",
        "        if additional_N > 0:\n",
        "            filter_items = known_items[user_id]\n",
        "            final_recs = [item for item in final_recs if item not in filter_items]\n",
        "        return final_recs[:N]\n",
        "    return _recs_mapper"
      ]
    },
    {
      "cell_type": "code",
      "execution_count": null,
      "metadata": {
        "id": "PYr2KNPxL_PY"
      },
      "outputs": [],
      "source": [
        "mapper = generate_lightfm_recs_mapper(\n",
        "    lfm_model, \n",
        "    item_ids = all_cols, \n",
        "    known_items = dict(),\n",
        "    N = 30,\n",
        "    user_features = None, \n",
        "    item_features = None, \n",
        "    user_mapping = lightfm_mapping['users_mapping'],\n",
        "    item_inv_mapping = lightfm_mapping['items_inv_mapping'],\n",
        ")"
      ]
    },
    {
      "cell_type": "code",
      "execution_count": null,
      "metadata": {
        "id": "o6dJz8iuL_PY"
      },
      "outputs": [],
      "source": [
        "test_preds['movie_id'] = test_preds['user_id'].map(mapper)"
      ]
    },
    {
      "cell_type": "code",
      "execution_count": null,
      "metadata": {
        "id": "S4IoldOWL_PY",
        "colab": {
          "base_uri": "https://localhost:8080/"
        },
        "outputId": "90afb209-99d1-44ba-e445-6dfd5a14daa1"
      },
      "outputs": [
        {
          "output_type": "execute_result",
          "data": {
            "text/plain": [
              "(1133520, 2)"
            ]
          },
          "metadata": {},
          "execution_count": 50
        }
      ],
      "source": [
        "test_preds = test_preds.explode('movie_id')\n",
        "test_preds.shape"
      ]
    },
    {
      "cell_type": "code",
      "execution_count": null,
      "metadata": {
        "id": "mJf-pII5L_PY"
      },
      "outputs": [],
      "source": [
        "test_preds['rank'] = test_preds.groupby('user_id').cumcount() + 1 "
      ]
    },
    {
      "cell_type": "code",
      "execution_count": null,
      "metadata": {
        "id": "nCSwXbleL_PY",
        "colab": {
          "base_uri": "https://localhost:8080/",
          "height": 206
        },
        "outputId": "ad25f472-30a3-42ce-f93a-0b42475f47c9"
      },
      "outputs": [
        {
          "output_type": "execute_result",
          "data": {
            "text/plain": [
              "   user_id                              movie_id  rank\n",
              "0    56250  91f9d892-a508-4962-91e9-abacd93e0830     1\n",
              "0    56250  731e42d2-e501-4e77-aba6-28e96f9e8a19     2\n",
              "0    56250  d9dd799b-7669-4a85-a9d1-d42eb436229f     3\n",
              "0    56250  2bbe65ab-7fa9-42cc-91f9-868f1f694ddd     4\n",
              "0    56250  5b54d128-feb5-4ae6-bd32-44795b43f16c     5"
            ],
            "text/html": [
              "\n",
              "  <div id=\"df-ab80e90b-bc6a-4f92-9b20-9f3f3fe42ca5\">\n",
              "    <div class=\"colab-df-container\">\n",
              "      <div>\n",
              "<style scoped>\n",
              "    .dataframe tbody tr th:only-of-type {\n",
              "        vertical-align: middle;\n",
              "    }\n",
              "\n",
              "    .dataframe tbody tr th {\n",
              "        vertical-align: top;\n",
              "    }\n",
              "\n",
              "    .dataframe thead th {\n",
              "        text-align: right;\n",
              "    }\n",
              "</style>\n",
              "<table border=\"1\" class=\"dataframe\">\n",
              "  <thead>\n",
              "    <tr style=\"text-align: right;\">\n",
              "      <th></th>\n",
              "      <th>user_id</th>\n",
              "      <th>movie_id</th>\n",
              "      <th>rank</th>\n",
              "    </tr>\n",
              "  </thead>\n",
              "  <tbody>\n",
              "    <tr>\n",
              "      <th>0</th>\n",
              "      <td>56250</td>\n",
              "      <td>91f9d892-a508-4962-91e9-abacd93e0830</td>\n",
              "      <td>1</td>\n",
              "    </tr>\n",
              "    <tr>\n",
              "      <th>0</th>\n",
              "      <td>56250</td>\n",
              "      <td>731e42d2-e501-4e77-aba6-28e96f9e8a19</td>\n",
              "      <td>2</td>\n",
              "    </tr>\n",
              "    <tr>\n",
              "      <th>0</th>\n",
              "      <td>56250</td>\n",
              "      <td>d9dd799b-7669-4a85-a9d1-d42eb436229f</td>\n",
              "      <td>3</td>\n",
              "    </tr>\n",
              "    <tr>\n",
              "      <th>0</th>\n",
              "      <td>56250</td>\n",
              "      <td>2bbe65ab-7fa9-42cc-91f9-868f1f694ddd</td>\n",
              "      <td>4</td>\n",
              "    </tr>\n",
              "    <tr>\n",
              "      <th>0</th>\n",
              "      <td>56250</td>\n",
              "      <td>5b54d128-feb5-4ae6-bd32-44795b43f16c</td>\n",
              "      <td>5</td>\n",
              "    </tr>\n",
              "  </tbody>\n",
              "</table>\n",
              "</div>\n",
              "      <button class=\"colab-df-convert\" onclick=\"convertToInteractive('df-ab80e90b-bc6a-4f92-9b20-9f3f3fe42ca5')\"\n",
              "              title=\"Convert this dataframe to an interactive table.\"\n",
              "              style=\"display:none;\">\n",
              "        \n",
              "  <svg xmlns=\"http://www.w3.org/2000/svg\" height=\"24px\"viewBox=\"0 0 24 24\"\n",
              "       width=\"24px\">\n",
              "    <path d=\"M0 0h24v24H0V0z\" fill=\"none\"/>\n",
              "    <path d=\"M18.56 5.44l.94 2.06.94-2.06 2.06-.94-2.06-.94-.94-2.06-.94 2.06-2.06.94zm-11 1L8.5 8.5l.94-2.06 2.06-.94-2.06-.94L8.5 2.5l-.94 2.06-2.06.94zm10 10l.94 2.06.94-2.06 2.06-.94-2.06-.94-.94-2.06-.94 2.06-2.06.94z\"/><path d=\"M17.41 7.96l-1.37-1.37c-.4-.4-.92-.59-1.43-.59-.52 0-1.04.2-1.43.59L10.3 9.45l-7.72 7.72c-.78.78-.78 2.05 0 2.83L4 21.41c.39.39.9.59 1.41.59.51 0 1.02-.2 1.41-.59l7.78-7.78 2.81-2.81c.8-.78.8-2.07 0-2.86zM5.41 20L4 18.59l7.72-7.72 1.47 1.35L5.41 20z\"/>\n",
              "  </svg>\n",
              "      </button>\n",
              "      \n",
              "  <style>\n",
              "    .colab-df-container {\n",
              "      display:flex;\n",
              "      flex-wrap:wrap;\n",
              "      gap: 12px;\n",
              "    }\n",
              "\n",
              "    .colab-df-convert {\n",
              "      background-color: #E8F0FE;\n",
              "      border: none;\n",
              "      border-radius: 50%;\n",
              "      cursor: pointer;\n",
              "      display: none;\n",
              "      fill: #1967D2;\n",
              "      height: 32px;\n",
              "      padding: 0 0 0 0;\n",
              "      width: 32px;\n",
              "    }\n",
              "\n",
              "    .colab-df-convert:hover {\n",
              "      background-color: #E2EBFA;\n",
              "      box-shadow: 0px 1px 2px rgba(60, 64, 67, 0.3), 0px 1px 3px 1px rgba(60, 64, 67, 0.15);\n",
              "      fill: #174EA6;\n",
              "    }\n",
              "\n",
              "    [theme=dark] .colab-df-convert {\n",
              "      background-color: #3B4455;\n",
              "      fill: #D2E3FC;\n",
              "    }\n",
              "\n",
              "    [theme=dark] .colab-df-convert:hover {\n",
              "      background-color: #434B5C;\n",
              "      box-shadow: 0px 1px 3px 1px rgba(0, 0, 0, 0.15);\n",
              "      filter: drop-shadow(0px 1px 2px rgba(0, 0, 0, 0.3));\n",
              "      fill: #FFFFFF;\n",
              "    }\n",
              "  </style>\n",
              "\n",
              "      <script>\n",
              "        const buttonEl =\n",
              "          document.querySelector('#df-ab80e90b-bc6a-4f92-9b20-9f3f3fe42ca5 button.colab-df-convert');\n",
              "        buttonEl.style.display =\n",
              "          google.colab.kernel.accessAllowed ? 'block' : 'none';\n",
              "\n",
              "        async function convertToInteractive(key) {\n",
              "          const element = document.querySelector('#df-ab80e90b-bc6a-4f92-9b20-9f3f3fe42ca5');\n",
              "          const dataTable =\n",
              "            await google.colab.kernel.invokeFunction('convertToInteractive',\n",
              "                                                     [key], {});\n",
              "          if (!dataTable) return;\n",
              "\n",
              "          const docLinkHtml = 'Like what you see? Visit the ' +\n",
              "            '<a target=\"_blank\" href=https://colab.research.google.com/notebooks/data_table.ipynb>data table notebook</a>'\n",
              "            + ' to learn more about interactive tables.';\n",
              "          element.innerHTML = '';\n",
              "          dataTable['output_type'] = 'display_data';\n",
              "          await google.colab.output.renderOutput(dataTable, element);\n",
              "          const docLink = document.createElement('div');\n",
              "          docLink.innerHTML = docLinkHtml;\n",
              "          element.appendChild(docLink);\n",
              "        }\n",
              "      </script>\n",
              "    </div>\n",
              "  </div>\n",
              "  "
            ]
          },
          "metadata": {},
          "execution_count": 52
        }
      ],
      "source": [
        "test_preds.head()"
      ]
    },
    {
      "cell_type": "code",
      "execution_count": null,
      "metadata": {
        "id": "cOX2gam4L_PZ",
        "colab": {
          "base_uri": "https://localhost:8080/",
          "height": 206
        },
        "outputId": "0f68977c-2291-4938-9e33-2b02c48305eb"
      },
      "outputs": [
        {
          "output_type": "execute_result",
          "data": {
            "text/plain": [
              "   user_id                              movie_id  rank  \\\n",
              "0    56250  91f9d892-a508-4962-91e9-abacd93e0830     1   \n",
              "0    56250  731e42d2-e501-4e77-aba6-28e96f9e8a19     2   \n",
              "0    56250  d9dd799b-7669-4a85-a9d1-d42eb436229f     3   \n",
              "0    56250  2bbe65ab-7fa9-42cc-91f9-868f1f694ddd     4   \n",
              "0    56250  5b54d128-feb5-4ae6-bd32-44795b43f16c     5   \n",
              "\n",
              "                           movie_name  \n",
              "0                                1703  \n",
              "0                       Громкая связь  \n",
              "0               О чём говорят мужчины  \n",
              "0                      Обратная связь  \n",
              "0  Последний богатырь: Посланник Тьмы  "
            ],
            "text/html": [
              "\n",
              "  <div id=\"df-c0cd6050-5d72-4a8b-84da-7a8a13f7cf4f\">\n",
              "    <div class=\"colab-df-container\">\n",
              "      <div>\n",
              "<style scoped>\n",
              "    .dataframe tbody tr th:only-of-type {\n",
              "        vertical-align: middle;\n",
              "    }\n",
              "\n",
              "    .dataframe tbody tr th {\n",
              "        vertical-align: top;\n",
              "    }\n",
              "\n",
              "    .dataframe thead th {\n",
              "        text-align: right;\n",
              "    }\n",
              "</style>\n",
              "<table border=\"1\" class=\"dataframe\">\n",
              "  <thead>\n",
              "    <tr style=\"text-align: right;\">\n",
              "      <th></th>\n",
              "      <th>user_id</th>\n",
              "      <th>movie_id</th>\n",
              "      <th>rank</th>\n",
              "      <th>movie_name</th>\n",
              "    </tr>\n",
              "  </thead>\n",
              "  <tbody>\n",
              "    <tr>\n",
              "      <th>0</th>\n",
              "      <td>56250</td>\n",
              "      <td>91f9d892-a508-4962-91e9-abacd93e0830</td>\n",
              "      <td>1</td>\n",
              "      <td>1703</td>\n",
              "    </tr>\n",
              "    <tr>\n",
              "      <th>0</th>\n",
              "      <td>56250</td>\n",
              "      <td>731e42d2-e501-4e77-aba6-28e96f9e8a19</td>\n",
              "      <td>2</td>\n",
              "      <td>Громкая связь</td>\n",
              "    </tr>\n",
              "    <tr>\n",
              "      <th>0</th>\n",
              "      <td>56250</td>\n",
              "      <td>d9dd799b-7669-4a85-a9d1-d42eb436229f</td>\n",
              "      <td>3</td>\n",
              "      <td>О чём говорят мужчины</td>\n",
              "    </tr>\n",
              "    <tr>\n",
              "      <th>0</th>\n",
              "      <td>56250</td>\n",
              "      <td>2bbe65ab-7fa9-42cc-91f9-868f1f694ddd</td>\n",
              "      <td>4</td>\n",
              "      <td>Обратная связь</td>\n",
              "    </tr>\n",
              "    <tr>\n",
              "      <th>0</th>\n",
              "      <td>56250</td>\n",
              "      <td>5b54d128-feb5-4ae6-bd32-44795b43f16c</td>\n",
              "      <td>5</td>\n",
              "      <td>Последний богатырь: Посланник Тьмы</td>\n",
              "    </tr>\n",
              "  </tbody>\n",
              "</table>\n",
              "</div>\n",
              "      <button class=\"colab-df-convert\" onclick=\"convertToInteractive('df-c0cd6050-5d72-4a8b-84da-7a8a13f7cf4f')\"\n",
              "              title=\"Convert this dataframe to an interactive table.\"\n",
              "              style=\"display:none;\">\n",
              "        \n",
              "  <svg xmlns=\"http://www.w3.org/2000/svg\" height=\"24px\"viewBox=\"0 0 24 24\"\n",
              "       width=\"24px\">\n",
              "    <path d=\"M0 0h24v24H0V0z\" fill=\"none\"/>\n",
              "    <path d=\"M18.56 5.44l.94 2.06.94-2.06 2.06-.94-2.06-.94-.94-2.06-.94 2.06-2.06.94zm-11 1L8.5 8.5l.94-2.06 2.06-.94-2.06-.94L8.5 2.5l-.94 2.06-2.06.94zm10 10l.94 2.06.94-2.06 2.06-.94-2.06-.94-.94-2.06-.94 2.06-2.06.94z\"/><path d=\"M17.41 7.96l-1.37-1.37c-.4-.4-.92-.59-1.43-.59-.52 0-1.04.2-1.43.59L10.3 9.45l-7.72 7.72c-.78.78-.78 2.05 0 2.83L4 21.41c.39.39.9.59 1.41.59.51 0 1.02-.2 1.41-.59l7.78-7.78 2.81-2.81c.8-.78.8-2.07 0-2.86zM5.41 20L4 18.59l7.72-7.72 1.47 1.35L5.41 20z\"/>\n",
              "  </svg>\n",
              "      </button>\n",
              "      \n",
              "  <style>\n",
              "    .colab-df-container {\n",
              "      display:flex;\n",
              "      flex-wrap:wrap;\n",
              "      gap: 12px;\n",
              "    }\n",
              "\n",
              "    .colab-df-convert {\n",
              "      background-color: #E8F0FE;\n",
              "      border: none;\n",
              "      border-radius: 50%;\n",
              "      cursor: pointer;\n",
              "      display: none;\n",
              "      fill: #1967D2;\n",
              "      height: 32px;\n",
              "      padding: 0 0 0 0;\n",
              "      width: 32px;\n",
              "    }\n",
              "\n",
              "    .colab-df-convert:hover {\n",
              "      background-color: #E2EBFA;\n",
              "      box-shadow: 0px 1px 2px rgba(60, 64, 67, 0.3), 0px 1px 3px 1px rgba(60, 64, 67, 0.15);\n",
              "      fill: #174EA6;\n",
              "    }\n",
              "\n",
              "    [theme=dark] .colab-df-convert {\n",
              "      background-color: #3B4455;\n",
              "      fill: #D2E3FC;\n",
              "    }\n",
              "\n",
              "    [theme=dark] .colab-df-convert:hover {\n",
              "      background-color: #434B5C;\n",
              "      box-shadow: 0px 1px 3px 1px rgba(0, 0, 0, 0.15);\n",
              "      filter: drop-shadow(0px 1px 2px rgba(0, 0, 0, 0.3));\n",
              "      fill: #FFFFFF;\n",
              "    }\n",
              "  </style>\n",
              "\n",
              "      <script>\n",
              "        const buttonEl =\n",
              "          document.querySelector('#df-c0cd6050-5d72-4a8b-84da-7a8a13f7cf4f button.colab-df-convert');\n",
              "        buttonEl.style.display =\n",
              "          google.colab.kernel.accessAllowed ? 'block' : 'none';\n",
              "\n",
              "        async function convertToInteractive(key) {\n",
              "          const element = document.querySelector('#df-c0cd6050-5d72-4a8b-84da-7a8a13f7cf4f');\n",
              "          const dataTable =\n",
              "            await google.colab.kernel.invokeFunction('convertToInteractive',\n",
              "                                                     [key], {});\n",
              "          if (!dataTable) return;\n",
              "\n",
              "          const docLinkHtml = 'Like what you see? Visit the ' +\n",
              "            '<a target=\"_blank\" href=https://colab.research.google.com/notebooks/data_table.ipynb>data table notebook</a>'\n",
              "            + ' to learn more about interactive tables.';\n",
              "          element.innerHTML = '';\n",
              "          dataTable['output_type'] = 'display_data';\n",
              "          await google.colab.output.renderOutput(dataTable, element);\n",
              "          const docLink = document.createElement('div');\n",
              "          docLink.innerHTML = docLinkHtml;\n",
              "          element.appendChild(docLink);\n",
              "        }\n",
              "      </script>\n",
              "    </div>\n",
              "  </div>\n",
              "  "
            ]
          },
          "metadata": {},
          "execution_count": 53
        }
      ],
      "source": [
        "test_preds['movie_name'] = test_preds['movie_id'].map(item_name_mapper)\n",
        "test_preds.head()"
      ]
    },
    {
      "cell_type": "code",
      "source": [
        "test_preds['user_id'].unique().shape"
      ],
      "metadata": {
        "id": "ZWWvWGGK6oSt",
        "colab": {
          "base_uri": "https://localhost:8080/"
        },
        "outputId": "0562ef7d-d713-4803-b50f-1eb396ff5028"
      },
      "execution_count": null,
      "outputs": [
        {
          "output_type": "execute_result",
          "data": {
            "text/plain": [
              "(37784,)"
            ]
          },
          "metadata": {},
          "execution_count": 54
        }
      ]
    },
    {
      "cell_type": "code",
      "source": [
        "test_preds.shape[0] / test_preds['user_id'].unique().shape[0]"
      ],
      "metadata": {
        "id": "Mhp2eerv6u3s",
        "colab": {
          "base_uri": "https://localhost:8080/"
        },
        "outputId": "bcbb6aec-eb44-4b4f-ccdf-776cf4d25e23"
      },
      "execution_count": null,
      "outputs": [
        {
          "output_type": "execute_result",
          "data": {
            "text/plain": [
              "30.0"
            ]
          },
          "metadata": {},
          "execution_count": 55
        }
      ]
    },
    {
      "cell_type": "code",
      "execution_count": null,
      "metadata": {
        "id": "l7wCLQp_L_PZ",
        "colab": {
          "base_uri": "https://localhost:8080/"
        },
        "outputId": "606b9569-0331-41bd-8943-07abcb657085"
      },
      "outputs": [
        {
          "output_type": "execute_result",
          "data": {
            "text/plain": [
              "4057"
            ]
          },
          "metadata": {},
          "execution_count": 56
        }
      ],
      "source": [
        "# sense check for diversity of recommendations\n",
        "test_preds['movie_id'].nunique()"
      ]
    },
    {
      "cell_type": "markdown",
      "metadata": {
        "id": "trzbd4pqL_PZ"
      },
      "source": [
        "## 2.5. CatBoostClassifier"
      ]
    },
    {
      "cell_type": "markdown",
      "metadata": {
        "id": "LTBwp5ZuL_PZ"
      },
      "source": [
        "### 2.5.1. Data Preparation"
      ]
    },
    {
      "cell_type": "markdown",
      "metadata": {
        "id": "Kek_K4naL_PZ"
      },
      "source": [
        "Now, we need to creat 0/1 as indication of interaction:\n",
        "\n",
        "- positive event -- 1, if watch_pct is not null;\n",
        "- negative event -- 0 otherwise"
      ]
    },
    {
      "cell_type": "code",
      "execution_count": null,
      "metadata": {
        "id": "wlWI3pKAL_PZ",
        "colab": {
          "base_uri": "https://localhost:8080/"
        },
        "outputId": "3716ae55-b132-4699-8b74-f08e977be3c8"
      },
      "outputs": [
        {
          "output_type": "execute_result",
          "data": {
            "text/plain": [
              "(36348, 10)"
            ]
          },
          "metadata": {},
          "execution_count": 93
        }
      ],
      "source": [
        "positive_preds = pd.merge(test_preds, local_test, how = 'inner', on = ['user_id', 'movie_id'])\n",
        "positive_preds['target'] = 1\n",
        "positive_preds.shape"
      ]
    },
    {
      "cell_type": "code",
      "execution_count": null,
      "metadata": {
        "id": "6y0jyX_1L_Pa",
        "colab": {
          "base_uri": "https://localhost:8080/"
        },
        "outputId": "dd31d49d-1e3c-4fc6-e815-1ed3bf43be54"
      },
      "outputs": [
        {
          "output_type": "execute_result",
          "data": {
            "text/plain": [
              "(221406, 10)"
            ]
          },
          "metadata": {},
          "execution_count": 94
        }
      ],
      "source": [
        "negative_preds = pd.merge(test_preds, local_test, how = 'left', on = ['user_id', 'movie_id'])\n",
        "negative_preds = negative_preds.loc[negative_preds['watched_pct_cumsum'].isnull()].sample(frac = .2)\n",
        "negative_preds['target'] = 0\n",
        "negative_preds.shape"
      ]
    },
    {
      "cell_type": "code",
      "execution_count": null,
      "metadata": {
        "id": "1L7zJrQ4L_Pa"
      },
      "outputs": [],
      "source": [
        "# random split to train ranker\n",
        "train_users, test_users = train_test_split(\n",
        "    local_test['user_id'].unique(),\n",
        "    test_size = .2,\n",
        "    random_state = 13\n",
        "    )"
      ]
    },
    {
      "cell_type": "code",
      "execution_count": null,
      "metadata": {
        "id": "fco3DvV-L_Pa"
      },
      "outputs": [],
      "source": [
        "cbm_train_set = shuffle(\n",
        "    pd.concat(\n",
        "    [positive_preds.loc[positive_preds['user_id'].isin(train_users)],\n",
        "    negative_preds.loc[negative_preds['user_id'].isin(train_users)]]\n",
        "    )\n",
        ")"
      ]
    },
    {
      "cell_type": "code",
      "execution_count": null,
      "metadata": {
        "id": "PpC5pZ-bL_Pa"
      },
      "outputs": [],
      "source": [
        "cbm_test_set = shuffle(\n",
        "    pd.concat(\n",
        "    [positive_preds.loc[positive_preds['user_id'].isin(test_users)],\n",
        "    negative_preds.loc[negative_preds['user_id'].isin(test_users)]]\n",
        "    )\n",
        ")"
      ]
    },
    {
      "cell_type": "code",
      "execution_count": null,
      "metadata": {
        "id": "ArM4lVbtL_Pa",
        "colab": {
          "base_uri": "https://localhost:8080/"
        },
        "outputId": "63770ac2-132e-4d8c-f262-6169039d4436"
      },
      "outputs": [
        {
          "output_type": "stream",
          "name": "stdout",
          "text": [
            "TRAIN:             user_id       rank  watch_duration_minutes  watched_pct  \\\n",
            "count    206263.000 206263.000               29118.000    29118.000   \n",
            "mean  154963485.476     15.003                  69.497       64.308   \n",
            "std    97523805.784      8.763                  42.997       46.961   \n",
            "min       56250.000      1.000                   0.017        0.000   \n",
            "25%    23917743.500      7.000                  40.000       28.889   \n",
            "50%   211277358.000     15.000                  64.983       64.574   \n",
            "75%   228376221.000     23.000                  91.233       93.527   \n",
            "max   239439176.000     30.000                 787.650      896.462   \n",
            "\n",
            "       watch_duration_minutes_cumsum  watched_pct_cumsum     target  \n",
            "count                      29118.000           29118.000 206263.000  \n",
            "mean                          73.286              65.478      0.141  \n",
            "std                           45.068              46.540      0.348  \n",
            "min                           20.017               0.224      0.000  \n",
            "25%                           43.833              30.125      0.000  \n",
            "50%                           68.833              65.374      0.000  \n",
            "75%                           92.850              93.618      0.000  \n",
            "max                         1016.367             896.462      1.000   \n",
            ", TEST:             user_id      rank  watch_duration_minutes  watched_pct  \\\n",
            "count     51491.000 51491.000                7230.000     7230.000   \n",
            "mean  154892669.081    15.015                  67.723       61.321   \n",
            "std    97358754.865     8.763                  39.680       41.687   \n",
            "min       63652.000     1.000                   0.017        0.001   \n",
            "25%    23930103.000     7.000                  39.050       26.806   \n",
            "50%   211294055.000    15.000                  63.075       61.204   \n",
            "75%   228393273.000    23.000                  90.600       93.166   \n",
            "max   239441262.000    30.000                 651.733      658.317   \n",
            "\n",
            "       watch_duration_minutes_cumsum  watched_pct_cumsum    target  \n",
            "count                       7230.000            7230.000 51491.000  \n",
            "mean                          71.762              62.351     0.140  \n",
            "std                           42.916              40.938     0.347  \n",
            "min                           20.017               0.338     0.000  \n",
            "25%                           43.317              28.197     0.000  \n",
            "50%                           66.050              61.929     0.000  \n",
            "75%                           91.917              93.246     0.000  \n",
            "max                          651.733             658.317     1.000  \n"
          ]
        }
      ],
      "source": [
        "print(f'TRAIN: {cbm_train_set.describe()} \\n, TEST: {cbm_test_set.describe()}')"
      ]
    },
    {
      "cell_type": "code",
      "source": [
        "new_features_list = ['0.0',\n",
        " '12.0',\n",
        " '16.0',\n",
        " '6.0',\n",
        " 'for_adults',\n",
        " 'for_kids',\n",
        " 'main_actor',\n",
        " 'main_country',\n",
        " 'main_director',\n",
        " 'main_genre',\n",
        " 'movie_cast_emb',\n",
        " 'movie_meta_emb',\n",
        " 'popularity_country',\n",
        " 'popularity_genres',\n",
        " 'popularity_movie_id',\n",
        " 'watch_duration_minutes_mean_by_movie',\n",
        " 'year',\n",
        " 'year_cat',\n",
        " 'year_cat_1900s',\n",
        " 'year_cat_1910s',\n",
        " 'year_cat_1920s',\n",
        " 'year_cat_1930s',\n",
        " 'year_cat_1940s',\n",
        " 'year_cat_1950s',\n",
        " 'year_cat_1960s',\n",
        " 'year_cat_1970s',\n",
        " 'year_cat_1980s',\n",
        " 'year_cat_1990s',\n",
        " 'year_cat_2000s',\n",
        " 'year_cat_2010s',\n",
        " 'year_cat_2020s',\n",
        " 'year_cat_Unknown_release_year',\n",
        " 'Абхазия',\n",
        " 'Австралия',\n",
        " 'Австрия',\n",
        " 'Азербайджан',\n",
        " 'Албания',\n",
        " 'Алжир',\n",
        " 'Аниме',\n",
        " 'Аргентина',\n",
        " 'Армения',\n",
        " 'Артхаус',\n",
        " 'Аруба',\n",
        " 'Афганистан',\n",
        " 'Багамы',\n",
        " 'Бахрейн',\n",
        " 'Белоруссия',\n",
        " 'Бельгия',\n",
        " 'Биографии',\n",
        " 'Блоги',\n",
        " 'Боевики',\n",
        " 'Болгария',\n",
        " 'Босния-Герцеговина',\n",
        " 'Ботсвана',\n",
        " 'Бразилия',\n",
        " 'Бутан',\n",
        " 'Ватикан',\n",
        " 'Великобритания',\n",
        " 'Венгрия',\n",
        " 'Венесуэла',\n",
        " 'Вестерны',\n",
        " 'Видеообзор',\n",
        " 'Викторина',\n",
        " 'Военное',\n",
        " 'Вьетнам',\n",
        " 'Гваделупа',\n",
        " 'Германия',\n",
        " 'Германия (ГДР)',\n",
        " 'Германия (ФРГ)',\n",
        " 'Гонконг',\n",
        " 'Греция',\n",
        " 'Грузия',\n",
        " 'Дания',\n",
        " 'Детективы',\n",
        " 'Документальное',\n",
        " 'Доминикана',\n",
        " 'Драмы',\n",
        " 'Египет',\n",
        " 'Замбия',\n",
        " 'Зимбабве',\n",
        " 'Израиль',\n",
        " 'Индия',\n",
        " 'Индонезия',\n",
        " 'Интервью',\n",
        " 'Иран',\n",
        " 'Ирландия',\n",
        " 'Искусство',\n",
        " 'Исландия',\n",
        " 'Испания',\n",
        " 'Историческое',\n",
        " 'Италия',\n",
        " 'Казахстан',\n",
        " 'Каймановы острова',\n",
        " 'Камбоджа',\n",
        " 'Камерун',\n",
        " 'Канада',\n",
        " 'Караоке',\n",
        " 'Катар',\n",
        " 'Кения',\n",
        " 'Кипр',\n",
        " 'Киргизия',\n",
        " 'Китай',\n",
        " 'Колумбия',\n",
        " 'Комедии',\n",
        " 'Конго',\n",
        " 'Конференции',\n",
        " 'Концерты',\n",
        " 'Корея Северная',\n",
        " 'Корея Южная',\n",
        " 'Короткий метр',\n",
        " 'Криминальное',\n",
        " 'Куба',\n",
        " 'Курсы',\n",
        " 'Кыргызстан',\n",
        " 'Латвия',\n",
        " 'Лекции',\n",
        " 'Либерия',\n",
        " 'Ливан',\n",
        " 'Литва',\n",
        " 'Лихтенштейн',\n",
        " 'Люксембург',\n",
        " 'Македония',\n",
        " 'Малайзия',\n",
        " 'Мальта',\n",
        " 'Марокко',\n",
        " 'Мексика',\n",
        " 'Мелодрамы',\n",
        " 'Монако',\n",
        " 'Музыкальное',\n",
        " 'Мультфильм',\n",
        " 'Мультфильмы',\n",
        " 'Намибия',\n",
        " 'Нигерия',\n",
        " 'Нидерланды',\n",
        " 'Новая Зеландия',\n",
        " 'Норвегия',\n",
        " 'ОАЭ',\n",
        " 'Остров Мэн',\n",
        " 'Пакистан',\n",
        " 'Панама',\n",
        " 'Папуа - Новая Гвинея',\n",
        " 'Парагвай',\n",
        " 'Перу',\n",
        " 'Польша',\n",
        " 'Португалия',\n",
        " 'Презентации',\n",
        " 'Приключения',\n",
        " 'Природа',\n",
        " 'Путешествия',\n",
        " 'Пуэрто Рико',\n",
        " 'Реюньон',\n",
        " 'Россия',\n",
        " 'Руанда',\n",
        " 'Румыния',\n",
        " 'СССР',\n",
        " 'США',\n",
        " 'Саудовская Аравия',\n",
        " 'Сезон',\n",
        " 'Сейшельские острова',\n",
        " 'Семейное',\n",
        " 'Сенегал',\n",
        " 'Сербия',\n",
        " 'Сериал',\n",
        " 'Серия',\n",
        " 'Серия многосерийного фильма',\n",
        " 'Сингапур',\n",
        " 'Словакия',\n",
        " 'Словения',\n",
        " 'Советское',\n",
        " 'Спорт',\n",
        " 'ТВ-шоу',\n",
        " 'Таджикистан',\n",
        " 'Таиланд',\n",
        " 'Тайвань',\n",
        " 'Танзания',\n",
        " 'Театр',\n",
        " 'Триллеры',\n",
        " 'Тунис',\n",
        " 'Турция',\n",
        " 'Уганда',\n",
        " 'Ужасы',\n",
        " 'Узбекистан',\n",
        " 'Украина',\n",
        " 'Уругвай',\n",
        " 'Фантастика',\n",
        " 'Филиппины',\n",
        " 'Фильм',\n",
        " 'Фильмы для детей',\n",
        " 'Финляндия',\n",
        " 'Фитнес',\n",
        " 'Франция',\n",
        " 'Фэнтези',\n",
        " 'Хорватия',\n",
        " 'Черногория',\n",
        " 'Чехия',\n",
        " 'Чехословакия',\n",
        " 'Чили',\n",
        " 'Швейцария',\n",
        " 'Швеция',\n",
        " 'Шоу',\n",
        " 'Шри-Ланка',\n",
        " 'Эстония',\n",
        " 'ЮАР',\n",
        " 'Югославия (ФР)',\n",
        " 'Япония']"
      ],
      "metadata": {
        "id": "V-v_uMOXjYM1"
      },
      "execution_count": null,
      "outputs": []
    },
    {
      "cell_type": "code",
      "execution_count": null,
      "metadata": {
        "id": "e5pV5Fl-L_Pa"
      },
      "outputs": [],
      "source": [
        "# in this tutorial, I will not do any feature aggregation - use default ones from data\n",
        "USER_FEATURES = ['fav_actors', 'fav_director', 'fav_genres', 'fav_country', 'kids_flg']\n",
        "ITEM_FEATURES = new_features_list # + movies_vectors_list"
      ]
    },
    {
      "cell_type": "code",
      "execution_count": null,
      "metadata": {
        "id": "tYsMRSGoL_Pb"
      },
      "outputs": [],
      "source": [
        "# joins user features\n",
        "cbm_train_set = pd.merge(cbm_train_set, users_metadata[['user_id'] + USER_FEATURES],\n",
        "                         how = 'left', on = ['user_id'])\n",
        "cbm_test_set = pd.merge(cbm_test_set, users_metadata[['user_id'] + USER_FEATURES],\n",
        "                        how = 'left', on = ['user_id'])"
      ]
    },
    {
      "cell_type": "code",
      "execution_count": null,
      "metadata": {
        "id": "9aIkM-4-L_Pb"
      },
      "outputs": [],
      "source": [
        "# joins item features\n",
        "cbm_train_set = pd.merge(cbm_train_set, movies_metadata[['movie_id'] + ITEM_FEATURES],\n",
        "                         how = 'left', on = ['movie_id'])\n",
        "cbm_test_set = pd.merge(cbm_test_set, movies_metadata[['movie_id'] + ITEM_FEATURES],\n",
        "                        how = 'left', on = ['movie_id'])"
      ]
    },
    {
      "cell_type": "code",
      "execution_count": null,
      "metadata": {
        "id": "4ou-sQSVL_Pb",
        "colab": {
          "base_uri": "https://localhost:8080/"
        },
        "outputId": "2bbee969-7e84-42f8-938f-a70eaafd78ac"
      },
      "outputs": [
        {
          "output_type": "stream",
          "name": "stdout",
          "text": [
            "(206263, 220) (51491, 220)\n"
          ]
        }
      ],
      "source": [
        "print(cbm_train_set.shape, cbm_test_set.shape)"
      ]
    },
    {
      "cell_type": "code",
      "source": [
        "cbm_train_set.columns.to_list()"
      ],
      "metadata": {
        "colab": {
          "base_uri": "https://localhost:8080/"
        },
        "id": "XuKngMlOkZo1",
        "outputId": "d886c4fc-1304-4719-d3d3-b9ae750d07d0"
      },
      "execution_count": null,
      "outputs": [
        {
          "output_type": "execute_result",
          "data": {
            "text/plain": [
              "['user_id',\n",
              " 'movie_id',\n",
              " 'rank',\n",
              " 'movie_name',\n",
              " 'datetime',\n",
              " 'watch_duration_minutes',\n",
              " 'watched_pct',\n",
              " 'watch_duration_minutes_cumsum',\n",
              " 'watched_pct_cumsum',\n",
              " 'target',\n",
              " 'fav_actors',\n",
              " 'fav_director',\n",
              " 'fav_genres',\n",
              " 'fav_country',\n",
              " 'kids_flg',\n",
              " '0.0',\n",
              " '12.0',\n",
              " '16.0',\n",
              " '6.0',\n",
              " 'for_adults',\n",
              " 'for_kids',\n",
              " 'main_actor',\n",
              " 'main_country',\n",
              " 'main_director',\n",
              " 'main_genre',\n",
              " 'movie_cast_emb',\n",
              " 'movie_meta_emb',\n",
              " 'popularity_country',\n",
              " 'popularity_genres',\n",
              " 'popularity_movie_id',\n",
              " 'watch_duration_minutes_mean_by_movie',\n",
              " 'year',\n",
              " 'year_cat',\n",
              " 'year_cat_1900s',\n",
              " 'year_cat_1910s',\n",
              " 'year_cat_1920s',\n",
              " 'year_cat_1930s',\n",
              " 'year_cat_1940s',\n",
              " 'year_cat_1950s',\n",
              " 'year_cat_1960s',\n",
              " 'year_cat_1970s',\n",
              " 'year_cat_1980s',\n",
              " 'year_cat_1990s',\n",
              " 'year_cat_2000s',\n",
              " 'year_cat_2010s',\n",
              " 'year_cat_2020s',\n",
              " 'year_cat_Unknown_release_year',\n",
              " 'Абхазия',\n",
              " 'Австралия',\n",
              " 'Австрия',\n",
              " 'Азербайджан',\n",
              " 'Албания',\n",
              " 'Алжир',\n",
              " 'Аниме',\n",
              " 'Аргентина',\n",
              " 'Армения',\n",
              " 'Артхаус',\n",
              " 'Аруба',\n",
              " 'Афганистан',\n",
              " 'Багамы',\n",
              " 'Бахрейн',\n",
              " 'Белоруссия',\n",
              " 'Бельгия',\n",
              " 'Биографии',\n",
              " 'Блоги',\n",
              " 'Боевики',\n",
              " 'Болгария',\n",
              " 'Босния-Герцеговина',\n",
              " 'Ботсвана',\n",
              " 'Бразилия',\n",
              " 'Бутан',\n",
              " 'Ватикан',\n",
              " 'Великобритания',\n",
              " 'Венгрия',\n",
              " 'Венесуэла',\n",
              " 'Вестерны',\n",
              " 'Видеообзор',\n",
              " 'Викторина',\n",
              " 'Военное',\n",
              " 'Вьетнам',\n",
              " 'Гваделупа',\n",
              " 'Германия',\n",
              " 'Германия (ГДР)',\n",
              " 'Германия (ФРГ)',\n",
              " 'Гонконг',\n",
              " 'Греция',\n",
              " 'Грузия',\n",
              " 'Дания',\n",
              " 'Детективы',\n",
              " 'Документальное',\n",
              " 'Доминикана',\n",
              " 'Драмы',\n",
              " 'Египет',\n",
              " 'Замбия',\n",
              " 'Зимбабве',\n",
              " 'Израиль',\n",
              " 'Индия',\n",
              " 'Индонезия',\n",
              " 'Интервью',\n",
              " 'Иран',\n",
              " 'Ирландия',\n",
              " 'Искусство',\n",
              " 'Исландия',\n",
              " 'Испания',\n",
              " 'Историческое',\n",
              " 'Италия',\n",
              " 'Казахстан',\n",
              " 'Каймановы острова',\n",
              " 'Камбоджа',\n",
              " 'Камерун',\n",
              " 'Канада',\n",
              " 'Караоке',\n",
              " 'Катар',\n",
              " 'Кения',\n",
              " 'Кипр',\n",
              " 'Киргизия',\n",
              " 'Китай',\n",
              " 'Колумбия',\n",
              " 'Комедии',\n",
              " 'Конго',\n",
              " 'Конференции',\n",
              " 'Концерты',\n",
              " 'Корея Северная',\n",
              " 'Корея Южная',\n",
              " 'Короткий метр',\n",
              " 'Криминальное',\n",
              " 'Куба',\n",
              " 'Курсы',\n",
              " 'Кыргызстан',\n",
              " 'Латвия',\n",
              " 'Лекции',\n",
              " 'Либерия',\n",
              " 'Ливан',\n",
              " 'Литва',\n",
              " 'Лихтенштейн',\n",
              " 'Люксембург',\n",
              " 'Македония',\n",
              " 'Малайзия',\n",
              " 'Мальта',\n",
              " 'Марокко',\n",
              " 'Мексика',\n",
              " 'Мелодрамы',\n",
              " 'Монако',\n",
              " 'Музыкальное',\n",
              " 'Мультфильм',\n",
              " 'Мультфильмы',\n",
              " 'Намибия',\n",
              " 'Нигерия',\n",
              " 'Нидерланды',\n",
              " 'Новая Зеландия',\n",
              " 'Норвегия',\n",
              " 'ОАЭ',\n",
              " 'Остров Мэн',\n",
              " 'Пакистан',\n",
              " 'Панама',\n",
              " 'Папуа - Новая Гвинея',\n",
              " 'Парагвай',\n",
              " 'Перу',\n",
              " 'Польша',\n",
              " 'Португалия',\n",
              " 'Презентации',\n",
              " 'Приключения',\n",
              " 'Природа',\n",
              " 'Путешествия',\n",
              " 'Пуэрто Рико',\n",
              " 'Реюньон',\n",
              " 'Россия',\n",
              " 'Руанда',\n",
              " 'Румыния',\n",
              " 'СССР',\n",
              " 'США',\n",
              " 'Саудовская Аравия',\n",
              " 'Сезон',\n",
              " 'Сейшельские острова',\n",
              " 'Семейное',\n",
              " 'Сенегал',\n",
              " 'Сербия',\n",
              " 'Сериал',\n",
              " 'Серия',\n",
              " 'Серия многосерийного фильма',\n",
              " 'Сингапур',\n",
              " 'Словакия',\n",
              " 'Словения',\n",
              " 'Советское',\n",
              " 'Спорт',\n",
              " 'ТВ-шоу',\n",
              " 'Таджикистан',\n",
              " 'Таиланд',\n",
              " 'Тайвань',\n",
              " 'Танзания',\n",
              " 'Театр',\n",
              " 'Триллеры',\n",
              " 'Тунис',\n",
              " 'Турция',\n",
              " 'Уганда',\n",
              " 'Ужасы',\n",
              " 'Узбекистан',\n",
              " 'Украина',\n",
              " 'Уругвай',\n",
              " 'Фантастика',\n",
              " 'Филиппины',\n",
              " 'Фильм',\n",
              " 'Фильмы для детей',\n",
              " 'Финляндия',\n",
              " 'Фитнес',\n",
              " 'Франция',\n",
              " 'Фэнтези',\n",
              " 'Хорватия',\n",
              " 'Черногория',\n",
              " 'Чехия',\n",
              " 'Чехословакия',\n",
              " 'Чили',\n",
              " 'Швейцария',\n",
              " 'Швеция',\n",
              " 'Шоу',\n",
              " 'Шри-Ланка',\n",
              " 'Эстония',\n",
              " 'ЮАР',\n",
              " 'Югославия (ФР)',\n",
              " 'Япония']"
            ]
          },
          "metadata": {},
          "execution_count": 104
        }
      ]
    },
    {
      "cell_type": "code",
      "execution_count": null,
      "metadata": {
        "id": "mgIpqHxNL_Pb"
      },
      "outputs": [],
      "source": [
        "ID_COLS = ['user_id', 'movie_id']\n",
        "TARGET = ['target']\n",
        "CATEGORICAL_COLS = ['main_actor', 'main_director', 'main_country', 'main_genre', 'fav_actors', 'fav_director', 'fav_genres', 'fav_country']\n",
        "# DROP_COLS = ['movie_name', 'release_world', 'datetime', 'watched_pct', 'watch_duration_minutes', 'entity_type']\n",
        "DROP_COLS = ['movie_name', 'datetime', 'watched_pct', 'watched_pct_cumsum', 'watch_duration_minutes', 'watch_duration_minutes_cumsum', 'year_cat']"
      ]
    },
    {
      "cell_type": "code",
      "execution_count": null,
      "metadata": {
        "id": "t_d5XYERL_Pc",
        "colab": {
          "base_uri": "https://localhost:8080/"
        },
        "outputId": "5e6dbf00-6fd3-439f-e7ac-cc8566197ea2"
      },
      "outputs": [
        {
          "output_type": "stream",
          "name": "stdout",
          "text": [
            "(206263, 210) (51491, 210)\n"
          ]
        }
      ],
      "source": [
        "X_train, y_train = cbm_train_set.drop(ID_COLS + DROP_COLS + TARGET, axis = 1), cbm_train_set[TARGET]\n",
        "X_test, y_test = cbm_test_set.drop(ID_COLS + DROP_COLS + TARGET, axis = 1), cbm_test_set[TARGET]\n",
        "print(X_train.shape, X_test.shape)"
      ]
    },
    {
      "cell_type": "code",
      "execution_count": null,
      "metadata": {
        "id": "3e6-wviVL_Pc"
      },
      "outputs": [],
      "source": [
        "X_train = X_train.fillna(X_train.mode().iloc[0])\n",
        "X_test = X_test.fillna(X_test.mode().iloc[0])"
      ]
    },
    {
      "cell_type": "code",
      "source": [
        "# oversample = SMOTE(sampling_strategy=.3)\n",
        "# X_train, y_train = oversample.fit_resample(X_train, y_train)\n",
        "# X_test, y_test = oversample.fit_resample(X_test, y_test)\n",
        "# print(Counter(y_train), Counter(y_test))"
      ],
      "metadata": {
        "id": "rwHQcvEPRAkP"
      },
      "execution_count": null,
      "outputs": []
    },
    {
      "cell_type": "code",
      "execution_count": null,
      "metadata": {
        "id": "iDJji1WWL_Pc",
        "colab": {
          "base_uri": "https://localhost:8080/",
          "height": 236
        },
        "outputId": "86f449f1-aa50-4c1d-d6ae-9c46ab4aa816"
      },
      "outputs": [
        {
          "output_type": "execute_result",
          "data": {
            "text/plain": [
              "   rank        fav_actors      fav_director    fav_genres fav_country  \\\n",
              "0    20       Рассел Кроу        Джон Уоттс       Комедии      Латвия   \n",
              "1    22      Кэмерон Диаз    Ник Кассаветис       Комедии     Франция   \n",
              "2    14    Виктор Хориняк  Дмитрий Дьяченко  Историческое      Россия   \n",
              "3    17     Вадим Бочанов   Елена Галдобина         Ужасы     Бельгия   \n",
              "4     1  Андрей Мерзликин         Майкл Бэй         Ужасы         США   \n",
              "\n",
              "   kids_flg  0.0  12.0  16.0  6.0  ...  Чехословакия  Чили Швейцария Швеция  \\\n",
              "0     0.000    0     0     0    0  ...             0     0         0      0   \n",
              "1     0.000    0     0     0    0  ...             0     0         0      0   \n",
              "2     0.000    0     0     1    0  ...             0     0         0      0   \n",
              "3     1.000    0     1     0    0  ...             0     0         0      0   \n",
              "4     0.000    0     0     0    0  ...             0     0         0      0   \n",
              "\n",
              "  Шоу Шри-Ланка  Эстония  ЮАР  Югославия (ФР)  Япония  \n",
              "0   0         0        0    0               0       0  \n",
              "1   0         0        0    0               0       0  \n",
              "2   0         0        0    0               0       0  \n",
              "3   0         0        0    0               0       0  \n",
              "4   0         0        0    0               0       0  \n",
              "\n",
              "[5 rows x 210 columns]"
            ],
            "text/html": [
              "\n",
              "  <div id=\"df-aad1f871-6d3f-45e0-a811-d652019445f0\">\n",
              "    <div class=\"colab-df-container\">\n",
              "      <div>\n",
              "<style scoped>\n",
              "    .dataframe tbody tr th:only-of-type {\n",
              "        vertical-align: middle;\n",
              "    }\n",
              "\n",
              "    .dataframe tbody tr th {\n",
              "        vertical-align: top;\n",
              "    }\n",
              "\n",
              "    .dataframe thead th {\n",
              "        text-align: right;\n",
              "    }\n",
              "</style>\n",
              "<table border=\"1\" class=\"dataframe\">\n",
              "  <thead>\n",
              "    <tr style=\"text-align: right;\">\n",
              "      <th></th>\n",
              "      <th>rank</th>\n",
              "      <th>fav_actors</th>\n",
              "      <th>fav_director</th>\n",
              "      <th>fav_genres</th>\n",
              "      <th>fav_country</th>\n",
              "      <th>kids_flg</th>\n",
              "      <th>0.0</th>\n",
              "      <th>12.0</th>\n",
              "      <th>16.0</th>\n",
              "      <th>6.0</th>\n",
              "      <th>...</th>\n",
              "      <th>Чехословакия</th>\n",
              "      <th>Чили</th>\n",
              "      <th>Швейцария</th>\n",
              "      <th>Швеция</th>\n",
              "      <th>Шоу</th>\n",
              "      <th>Шри-Ланка</th>\n",
              "      <th>Эстония</th>\n",
              "      <th>ЮАР</th>\n",
              "      <th>Югославия (ФР)</th>\n",
              "      <th>Япония</th>\n",
              "    </tr>\n",
              "  </thead>\n",
              "  <tbody>\n",
              "    <tr>\n",
              "      <th>0</th>\n",
              "      <td>20</td>\n",
              "      <td>Рассел Кроу</td>\n",
              "      <td>Джон Уоттс</td>\n",
              "      <td>Комедии</td>\n",
              "      <td>Латвия</td>\n",
              "      <td>0.000</td>\n",
              "      <td>0</td>\n",
              "      <td>0</td>\n",
              "      <td>0</td>\n",
              "      <td>0</td>\n",
              "      <td>...</td>\n",
              "      <td>0</td>\n",
              "      <td>0</td>\n",
              "      <td>0</td>\n",
              "      <td>0</td>\n",
              "      <td>0</td>\n",
              "      <td>0</td>\n",
              "      <td>0</td>\n",
              "      <td>0</td>\n",
              "      <td>0</td>\n",
              "      <td>0</td>\n",
              "    </tr>\n",
              "    <tr>\n",
              "      <th>1</th>\n",
              "      <td>22</td>\n",
              "      <td>Кэмерон Диаз</td>\n",
              "      <td>Ник Кассаветис</td>\n",
              "      <td>Комедии</td>\n",
              "      <td>Франция</td>\n",
              "      <td>0.000</td>\n",
              "      <td>0</td>\n",
              "      <td>0</td>\n",
              "      <td>0</td>\n",
              "      <td>0</td>\n",
              "      <td>...</td>\n",
              "      <td>0</td>\n",
              "      <td>0</td>\n",
              "      <td>0</td>\n",
              "      <td>0</td>\n",
              "      <td>0</td>\n",
              "      <td>0</td>\n",
              "      <td>0</td>\n",
              "      <td>0</td>\n",
              "      <td>0</td>\n",
              "      <td>0</td>\n",
              "    </tr>\n",
              "    <tr>\n",
              "      <th>2</th>\n",
              "      <td>14</td>\n",
              "      <td>Виктор Хориняк</td>\n",
              "      <td>Дмитрий Дьяченко</td>\n",
              "      <td>Историческое</td>\n",
              "      <td>Россия</td>\n",
              "      <td>0.000</td>\n",
              "      <td>0</td>\n",
              "      <td>0</td>\n",
              "      <td>1</td>\n",
              "      <td>0</td>\n",
              "      <td>...</td>\n",
              "      <td>0</td>\n",
              "      <td>0</td>\n",
              "      <td>0</td>\n",
              "      <td>0</td>\n",
              "      <td>0</td>\n",
              "      <td>0</td>\n",
              "      <td>0</td>\n",
              "      <td>0</td>\n",
              "      <td>0</td>\n",
              "      <td>0</td>\n",
              "    </tr>\n",
              "    <tr>\n",
              "      <th>3</th>\n",
              "      <td>17</td>\n",
              "      <td>Вадим Бочанов</td>\n",
              "      <td>Елена Галдобина</td>\n",
              "      <td>Ужасы</td>\n",
              "      <td>Бельгия</td>\n",
              "      <td>1.000</td>\n",
              "      <td>0</td>\n",
              "      <td>1</td>\n",
              "      <td>0</td>\n",
              "      <td>0</td>\n",
              "      <td>...</td>\n",
              "      <td>0</td>\n",
              "      <td>0</td>\n",
              "      <td>0</td>\n",
              "      <td>0</td>\n",
              "      <td>0</td>\n",
              "      <td>0</td>\n",
              "      <td>0</td>\n",
              "      <td>0</td>\n",
              "      <td>0</td>\n",
              "      <td>0</td>\n",
              "    </tr>\n",
              "    <tr>\n",
              "      <th>4</th>\n",
              "      <td>1</td>\n",
              "      <td>Андрей Мерзликин</td>\n",
              "      <td>Майкл Бэй</td>\n",
              "      <td>Ужасы</td>\n",
              "      <td>США</td>\n",
              "      <td>0.000</td>\n",
              "      <td>0</td>\n",
              "      <td>0</td>\n",
              "      <td>0</td>\n",
              "      <td>0</td>\n",
              "      <td>...</td>\n",
              "      <td>0</td>\n",
              "      <td>0</td>\n",
              "      <td>0</td>\n",
              "      <td>0</td>\n",
              "      <td>0</td>\n",
              "      <td>0</td>\n",
              "      <td>0</td>\n",
              "      <td>0</td>\n",
              "      <td>0</td>\n",
              "      <td>0</td>\n",
              "    </tr>\n",
              "  </tbody>\n",
              "</table>\n",
              "<p>5 rows × 210 columns</p>\n",
              "</div>\n",
              "      <button class=\"colab-df-convert\" onclick=\"convertToInteractive('df-aad1f871-6d3f-45e0-a811-d652019445f0')\"\n",
              "              title=\"Convert this dataframe to an interactive table.\"\n",
              "              style=\"display:none;\">\n",
              "        \n",
              "  <svg xmlns=\"http://www.w3.org/2000/svg\" height=\"24px\"viewBox=\"0 0 24 24\"\n",
              "       width=\"24px\">\n",
              "    <path d=\"M0 0h24v24H0V0z\" fill=\"none\"/>\n",
              "    <path d=\"M18.56 5.44l.94 2.06.94-2.06 2.06-.94-2.06-.94-.94-2.06-.94 2.06-2.06.94zm-11 1L8.5 8.5l.94-2.06 2.06-.94-2.06-.94L8.5 2.5l-.94 2.06-2.06.94zm10 10l.94 2.06.94-2.06 2.06-.94-2.06-.94-.94-2.06-.94 2.06-2.06.94z\"/><path d=\"M17.41 7.96l-1.37-1.37c-.4-.4-.92-.59-1.43-.59-.52 0-1.04.2-1.43.59L10.3 9.45l-7.72 7.72c-.78.78-.78 2.05 0 2.83L4 21.41c.39.39.9.59 1.41.59.51 0 1.02-.2 1.41-.59l7.78-7.78 2.81-2.81c.8-.78.8-2.07 0-2.86zM5.41 20L4 18.59l7.72-7.72 1.47 1.35L5.41 20z\"/>\n",
              "  </svg>\n",
              "      </button>\n",
              "      \n",
              "  <style>\n",
              "    .colab-df-container {\n",
              "      display:flex;\n",
              "      flex-wrap:wrap;\n",
              "      gap: 12px;\n",
              "    }\n",
              "\n",
              "    .colab-df-convert {\n",
              "      background-color: #E8F0FE;\n",
              "      border: none;\n",
              "      border-radius: 50%;\n",
              "      cursor: pointer;\n",
              "      display: none;\n",
              "      fill: #1967D2;\n",
              "      height: 32px;\n",
              "      padding: 0 0 0 0;\n",
              "      width: 32px;\n",
              "    }\n",
              "\n",
              "    .colab-df-convert:hover {\n",
              "      background-color: #E2EBFA;\n",
              "      box-shadow: 0px 1px 2px rgba(60, 64, 67, 0.3), 0px 1px 3px 1px rgba(60, 64, 67, 0.15);\n",
              "      fill: #174EA6;\n",
              "    }\n",
              "\n",
              "    [theme=dark] .colab-df-convert {\n",
              "      background-color: #3B4455;\n",
              "      fill: #D2E3FC;\n",
              "    }\n",
              "\n",
              "    [theme=dark] .colab-df-convert:hover {\n",
              "      background-color: #434B5C;\n",
              "      box-shadow: 0px 1px 3px 1px rgba(0, 0, 0, 0.15);\n",
              "      filter: drop-shadow(0px 1px 2px rgba(0, 0, 0, 0.3));\n",
              "      fill: #FFFFFF;\n",
              "    }\n",
              "  </style>\n",
              "\n",
              "      <script>\n",
              "        const buttonEl =\n",
              "          document.querySelector('#df-aad1f871-6d3f-45e0-a811-d652019445f0 button.colab-df-convert');\n",
              "        buttonEl.style.display =\n",
              "          google.colab.kernel.accessAllowed ? 'block' : 'none';\n",
              "\n",
              "        async function convertToInteractive(key) {\n",
              "          const element = document.querySelector('#df-aad1f871-6d3f-45e0-a811-d652019445f0');\n",
              "          const dataTable =\n",
              "            await google.colab.kernel.invokeFunction('convertToInteractive',\n",
              "                                                     [key], {});\n",
              "          if (!dataTable) return;\n",
              "\n",
              "          const docLinkHtml = 'Like what you see? Visit the ' +\n",
              "            '<a target=\"_blank\" href=https://colab.research.google.com/notebooks/data_table.ipynb>data table notebook</a>'\n",
              "            + ' to learn more about interactive tables.';\n",
              "          element.innerHTML = '';\n",
              "          dataTable['output_type'] = 'display_data';\n",
              "          await google.colab.output.renderOutput(dataTable, element);\n",
              "          const docLink = document.createElement('div');\n",
              "          docLink.innerHTML = docLinkHtml;\n",
              "          element.appendChild(docLink);\n",
              "        }\n",
              "      </script>\n",
              "    </div>\n",
              "  </div>\n",
              "  "
            ]
          },
          "metadata": {},
          "execution_count": 109
        }
      ],
      "source": [
        "X_train.head()"
      ]
    },
    {
      "cell_type": "code",
      "source": [
        "X_train.info()"
      ],
      "metadata": {
        "colab": {
          "base_uri": "https://localhost:8080/"
        },
        "id": "rFn3sFSzl3Ow",
        "outputId": "7a21fe56-522c-471c-bbfe-9f8858460a07"
      },
      "execution_count": null,
      "outputs": [
        {
          "output_type": "stream",
          "name": "stdout",
          "text": [
            "<class 'pandas.core.frame.DataFrame'>\n",
            "Int64Index: 206263 entries, 0 to 206262\n",
            "Columns: 210 entries, rank to Япония\n",
            "dtypes: float32(2), float64(6), int64(2), object(8), uint8(192)\n",
            "memory usage: 66.1+ MB\n"
          ]
        }
      ]
    },
    {
      "cell_type": "code",
      "source": [
        "# X_train.columns.to_list()[23]"
      ],
      "metadata": {
        "id": "aivxb58xmNK_"
      },
      "execution_count": null,
      "outputs": []
    },
    {
      "cell_type": "markdown",
      "metadata": {
        "id": "SVvJS1I-L_Pc"
      },
      "source": [
        "## 2.5.2. Train Model"
      ]
    },
    {
      "cell_type": "code",
      "source": [
        "from sklearn.utils import class_weight"
      ],
      "metadata": {
        "id": "1rLCMPLU84D1"
      },
      "execution_count": null,
      "outputs": []
    },
    {
      "cell_type": "code",
      "source": [
        "np.unique(pd.concat([y_train, y_test], ignore_index=True)['target'])"
      ],
      "metadata": {
        "id": "KUhy4DF--A3b",
        "colab": {
          "base_uri": "https://localhost:8080/"
        },
        "outputId": "ddedadfe-8264-4531-8229-eefa6959bdd6"
      },
      "execution_count": null,
      "outputs": [
        {
          "output_type": "execute_result",
          "data": {
            "text/plain": [
              "array([0, 1], dtype=int64)"
            ]
          },
          "metadata": {},
          "execution_count": 113
        }
      ]
    },
    {
      "cell_type": "code",
      "source": [
        "cw = dict(zip(np.unique(pd.concat([y_train, y_test], ignore_index=True)['target']),\n",
        "              list(class_weight.compute_class_weight(class_weight='balanced',\n",
        "                                                     classes=np.unique(pd.concat([y_train, y_test], ignore_index=True)['target']),\n",
        "                                                     y=pd.concat([y_train, y_test], ignore_index=True)['target']))\n",
        "))"
      ],
      "metadata": {
        "id": "ek-_w0U486Ek"
      },
      "execution_count": null,
      "outputs": []
    },
    {
      "cell_type": "code",
      "source": [
        "cw"
      ],
      "metadata": {
        "id": "vkcXe6k49tVu",
        "colab": {
          "base_uri": "https://localhost:8080/"
        },
        "outputId": "47d5084b-37df-4c44-b987-2a5fa01e4dba"
      },
      "execution_count": null,
      "outputs": [
        {
          "output_type": "execute_result",
          "data": {
            "text/plain": [
              "{0: 0.5820844963551123, 1: 3.5456421261142292}"
            ]
          },
          "metadata": {},
          "execution_count": 115
        }
      ]
    },
    {
      "cell_type": "code",
      "execution_count": null,
      "metadata": {
        "id": "A_pHD9oHL_Pc"
      },
      "outputs": [],
      "source": [
        "cbm_classifier = CatBoostClassifier(\n",
        "    loss_function = 'Logloss',\n",
        "    class_weights=cw,\n",
        "    iterations = 5000,\n",
        "    learning_rate = .1,\n",
        "    depth = 10,\n",
        "    random_state = 1234,\n",
        "    cat_features = CATEGORICAL_COLS,\n",
        "    early_stopping_rounds=100, # to avoid overfitting,\n",
        "    verbose = True\n",
        ")"
      ]
    },
    {
      "cell_type": "code",
      "source": [
        "from catboost import EShapCalcType, EFeaturesSelectionAlgorithm"
      ],
      "metadata": {
        "id": "mK3MPjV8v1GW"
      },
      "execution_count": null,
      "outputs": []
    },
    {
      "cell_type": "code",
      "source": [
        "def select_features_syntetic(algorithm: EFeaturesSelectionAlgorithm.RecursiveByShapValues, steps: int = 1):\n",
        "    print('Algorithm:', algorithm)\n",
        "    # model = CatBoostRegressor(iterations=1000, random_seed=0)\n",
        "    summary = cbm_classifier.select_features(\n",
        "        X_train, y_train,\n",
        "        eval_set=(X_test, y_test),\n",
        "        features_for_select=list(range(X_train.shape[1])),     # we will select from all features\n",
        "        num_features_to_select=25,  # we want to select exactly important features\n",
        "        steps=steps,                                     # more steps - more accurate selection\n",
        "        algorithm=algorithm,\n",
        "        shap_calc_type=EShapCalcType.Regular,            # can be Approximate, Regular and Exact\n",
        "        train_final_model=True,                          # to train model with selected features\n",
        "        logging_level='Verbose',\n",
        "        # cat_features = CATEGORICAL_COLS,\n",
        "        plot=False\n",
        "    )\n",
        "    # print('Selected important features: {}/{}'.format(\n",
        "    #     len(set(important_features).intersection(summary['selected_features'])),\n",
        "    #     len(important_features)\n",
        "    # ))\n",
        "    # print('Not selected important features:', set(important_features).difference(summary['selected_features']))\n",
        "    return summary"
      ],
      "metadata": {
        "id": "CUqBBw4rvzfZ"
      },
      "execution_count": null,
      "outputs": []
    },
    {
      "cell_type": "code",
      "source": [
        "synthetic_shap_summary = select_features_syntetic(algorithm=EFeaturesSelectionAlgorithm.RecursiveByShapValues)"
      ],
      "metadata": {
        "id": "kNP-e7ytvznX",
        "colab": {
          "base_uri": "https://localhost:8080/"
        },
        "outputId": "97cef196-1927-4918-8aba-e1fff300d3a0"
      },
      "execution_count": null,
      "outputs": [
        {
          "output_type": "stream",
          "name": "stdout",
          "text": [
            "Algorithm: EFeaturesSelectionAlgorithm.RecursiveByShapValues\n",
            "Step #1 out of 1\n",
            "0:\tlearn: 0.6652696\ttest: 0.6696792\tbest: 0.6696792 (0)\ttotal: 1.42s\tremaining: 1h 58m 12s\n",
            "1:\tlearn: 0.6434265\ttest: 0.6507098\tbest: 0.6507098 (1)\ttotal: 2.5s\tremaining: 1h 44m 3s\n",
            "2:\tlearn: 0.6262719\ttest: 0.6357350\tbest: 0.6357350 (2)\ttotal: 3.73s\tremaining: 1h 43m 25s\n",
            "3:\tlearn: 0.6037150\ttest: 0.6182502\tbest: 0.6182502 (3)\ttotal: 5.47s\tremaining: 1h 53m 51s\n",
            "4:\tlearn: 0.5837089\ttest: 0.6029982\tbest: 0.6029982 (4)\ttotal: 7.5s\tremaining: 2h 4m 51s\n",
            "5:\tlearn: 0.5662253\ttest: 0.5898227\tbest: 0.5898227 (5)\ttotal: 8.72s\tremaining: 2h 55s\n",
            "6:\tlearn: 0.5536755\ttest: 0.5801145\tbest: 0.5801145 (6)\ttotal: 9.93s\tremaining: 1h 58m 3s\n",
            "7:\tlearn: 0.5408553\ttest: 0.5707979\tbest: 0.5707979 (7)\ttotal: 11s\tremaining: 1h 54m 30s\n",
            "8:\tlearn: 0.5316546\ttest: 0.5643778\tbest: 0.5643778 (8)\ttotal: 12.1s\tremaining: 1h 52m 2s\n",
            "9:\tlearn: 0.5229336\ttest: 0.5598403\tbest: 0.5598403 (9)\ttotal: 13.4s\tremaining: 1h 51m 51s\n",
            "10:\tlearn: 0.5164719\ttest: 0.5560177\tbest: 0.5560177 (10)\ttotal: 14.9s\tremaining: 1h 52m 28s\n",
            "11:\tlearn: 0.5115034\ttest: 0.5524196\tbest: 0.5524196 (11)\ttotal: 16.2s\tremaining: 1h 52m 21s\n",
            "12:\tlearn: 0.5072143\ttest: 0.5491488\tbest: 0.5491488 (12)\ttotal: 17.9s\tremaining: 1h 54m 42s\n",
            "13:\tlearn: 0.5020587\ttest: 0.5463236\tbest: 0.5463236 (13)\ttotal: 20.1s\tremaining: 1h 59m 30s\n",
            "14:\tlearn: 0.4991498\ttest: 0.5444905\tbest: 0.5444905 (14)\ttotal: 22s\tremaining: 2h 1m 51s\n",
            "15:\tlearn: 0.4945675\ttest: 0.5433547\tbest: 0.5433547 (15)\ttotal: 23.1s\tremaining: 1h 59m 59s\n",
            "16:\tlearn: 0.4911809\ttest: 0.5422239\tbest: 0.5422239 (16)\ttotal: 24.5s\tremaining: 1h 59m 40s\n",
            "17:\tlearn: 0.4875229\ttest: 0.5412548\tbest: 0.5412548 (17)\ttotal: 25.8s\tremaining: 1h 58m 56s\n",
            "18:\tlearn: 0.4850076\ttest: 0.5402944\tbest: 0.5402944 (18)\ttotal: 27.1s\tremaining: 1h 58m 22s\n",
            "19:\tlearn: 0.4821410\ttest: 0.5392727\tbest: 0.5392727 (19)\ttotal: 28.5s\tremaining: 1h 58m 13s\n",
            "20:\tlearn: 0.4788345\ttest: 0.5376534\tbest: 0.5376534 (20)\ttotal: 29.8s\tremaining: 1h 57m 45s\n",
            "21:\tlearn: 0.4763667\ttest: 0.5368549\tbest: 0.5368549 (21)\ttotal: 33.6s\tremaining: 2h 6m 49s\n",
            "22:\tlearn: 0.4739099\ttest: 0.5367838\tbest: 0.5367838 (22)\ttotal: 34.9s\tremaining: 2h 5m 58s\n",
            "23:\tlearn: 0.4716751\ttest: 0.5356158\tbest: 0.5356158 (23)\ttotal: 36.3s\tremaining: 2h 5m 22s\n",
            "24:\tlearn: 0.4697821\ttest: 0.5352183\tbest: 0.5352183 (24)\ttotal: 37.4s\tremaining: 2h 4m 10s\n",
            "25:\tlearn: 0.4676809\ttest: 0.5339640\tbest: 0.5339640 (25)\ttotal: 38.9s\tremaining: 2h 3m 52s\n",
            "26:\tlearn: 0.4653801\ttest: 0.5335880\tbest: 0.5335880 (26)\ttotal: 40.2s\tremaining: 2h 3m 19s\n",
            "27:\tlearn: 0.4639342\ttest: 0.5327592\tbest: 0.5327592 (27)\ttotal: 41.4s\tremaining: 2h 2m 36s\n",
            "28:\tlearn: 0.4627892\ttest: 0.5322573\tbest: 0.5322573 (28)\ttotal: 42.6s\tremaining: 2h 1m 39s\n",
            "29:\tlearn: 0.4616290\ttest: 0.5323111\tbest: 0.5322573 (28)\ttotal: 44.2s\tremaining: 2h 2m 7s\n",
            "30:\tlearn: 0.4605598\ttest: 0.5316364\tbest: 0.5316364 (30)\ttotal: 46.6s\tremaining: 2h 4m 32s\n",
            "31:\tlearn: 0.4589699\ttest: 0.5310249\tbest: 0.5310249 (31)\ttotal: 48s\tremaining: 2h 4m 17s\n",
            "32:\tlearn: 0.4583878\ttest: 0.5309118\tbest: 0.5309118 (32)\ttotal: 49.3s\tremaining: 2h 3m 44s\n",
            "33:\tlearn: 0.4573538\ttest: 0.5301356\tbest: 0.5301356 (33)\ttotal: 50.6s\tremaining: 2h 3m 13s\n",
            "34:\tlearn: 0.4560913\ttest: 0.5296580\tbest: 0.5296580 (34)\ttotal: 51.9s\tremaining: 2h 2m 39s\n",
            "35:\tlearn: 0.4550516\ttest: 0.5297054\tbest: 0.5296580 (34)\ttotal: 53s\tremaining: 2h 1m 49s\n",
            "36:\tlearn: 0.4540339\ttest: 0.5294537\tbest: 0.5294537 (36)\ttotal: 54.3s\tremaining: 2h 1m 19s\n",
            "37:\tlearn: 0.4527314\ttest: 0.5291962\tbest: 0.5291962 (37)\ttotal: 55.5s\tremaining: 2h 42s\n",
            "38:\tlearn: 0.4517196\ttest: 0.5293250\tbest: 0.5291962 (37)\ttotal: 57.1s\tremaining: 2h 1m 3s\n",
            "39:\tlearn: 0.4511637\ttest: 0.5289862\tbest: 0.5289862 (39)\ttotal: 59.6s\tremaining: 2h 3m 5s\n",
            "40:\tlearn: 0.4499745\ttest: 0.5287289\tbest: 0.5287289 (40)\ttotal: 1m\tremaining: 2h 2m 42s\n",
            "41:\tlearn: 0.4491957\ttest: 0.5285666\tbest: 0.5285666 (41)\ttotal: 1m 2s\tremaining: 2h 2m 25s\n",
            "42:\tlearn: 0.4478379\ttest: 0.5282145\tbest: 0.5282145 (42)\ttotal: 1m 3s\tremaining: 2h 1m 47s\n",
            "43:\tlearn: 0.4467122\ttest: 0.5284066\tbest: 0.5282145 (42)\ttotal: 1m 4s\tremaining: 2h 1m 10s\n",
            "44:\tlearn: 0.4459741\ttest: 0.5282708\tbest: 0.5282145 (42)\ttotal: 1m 5s\tremaining: 2h 55s\n",
            "45:\tlearn: 0.4447287\ttest: 0.5283617\tbest: 0.5282145 (42)\ttotal: 1m 7s\tremaining: 2h 51s\n",
            "46:\tlearn: 0.4440005\ttest: 0.5283100\tbest: 0.5282145 (42)\ttotal: 1m 8s\tremaining: 2h 28s\n",
            "47:\tlearn: 0.4434387\ttest: 0.5284521\tbest: 0.5282145 (42)\ttotal: 1m 9s\tremaining: 2h 10s\n",
            "48:\tlearn: 0.4425113\ttest: 0.5284919\tbest: 0.5282145 (42)\ttotal: 1m 12s\tremaining: 2h 2m 9s\n",
            "49:\tlearn: 0.4415308\ttest: 0.5286252\tbest: 0.5282145 (42)\ttotal: 1m 13s\tremaining: 2h 1m 54s\n",
            "50:\tlearn: 0.4404922\ttest: 0.5289970\tbest: 0.5282145 (42)\ttotal: 1m 15s\tremaining: 2h 1m 22s\n",
            "51:\tlearn: 0.4400969\ttest: 0.5291185\tbest: 0.5282145 (42)\ttotal: 1m 16s\tremaining: 2h 48s\n",
            "52:\tlearn: 0.4396858\ttest: 0.5294749\tbest: 0.5282145 (42)\ttotal: 1m 17s\tremaining: 2h 24s\n",
            "53:\tlearn: 0.4392744\ttest: 0.5295610\tbest: 0.5282145 (42)\ttotal: 1m 18s\tremaining: 2h 2s\n",
            "54:\tlearn: 0.4387467\ttest: 0.5294549\tbest: 0.5282145 (42)\ttotal: 1m 19s\tremaining: 1h 59m 43s\n",
            "55:\tlearn: 0.4384431\ttest: 0.5292341\tbest: 0.5282145 (42)\ttotal: 1m 21s\tremaining: 1h 59m 19s\n",
            "56:\tlearn: 0.4379382\ttest: 0.5292037\tbest: 0.5282145 (42)\ttotal: 1m 22s\tremaining: 1h 59m 2s\n",
            "57:\tlearn: 0.4375521\ttest: 0.5291715\tbest: 0.5282145 (42)\ttotal: 1m 24s\tremaining: 2h 18s\n",
            "58:\tlearn: 0.4370458\ttest: 0.5291079\tbest: 0.5282145 (42)\ttotal: 1m 26s\tremaining: 2h 38s\n",
            "59:\tlearn: 0.4366116\ttest: 0.5289807\tbest: 0.5282145 (42)\ttotal: 1m 27s\tremaining: 2h 12s\n",
            "60:\tlearn: 0.4362349\ttest: 0.5289500\tbest: 0.5282145 (42)\ttotal: 1m 29s\tremaining: 2h 15s\n",
            "61:\tlearn: 0.4352672\ttest: 0.5288730\tbest: 0.5282145 (42)\ttotal: 1m 30s\tremaining: 1h 59m 59s\n",
            "62:\tlearn: 0.4348561\ttest: 0.5288793\tbest: 0.5282145 (42)\ttotal: 1m 31s\tremaining: 1h 59m 41s\n",
            "63:\tlearn: 0.4338432\ttest: 0.5290874\tbest: 0.5282145 (42)\ttotal: 1m 33s\tremaining: 1h 59m 40s\n",
            "64:\tlearn: 0.4328645\ttest: 0.5290114\tbest: 0.5282145 (42)\ttotal: 1m 34s\tremaining: 1h 59m 33s\n",
            "65:\tlearn: 0.4322340\ttest: 0.5289280\tbest: 0.5282145 (42)\ttotal: 1m 36s\tremaining: 1h 59m 55s\n",
            "66:\tlearn: 0.4317575\ttest: 0.5287591\tbest: 0.5282145 (42)\ttotal: 1m 38s\tremaining: 2h 1m 6s\n",
            "67:\tlearn: 0.4311633\ttest: 0.5286643\tbest: 0.5282145 (42)\ttotal: 1m 40s\tremaining: 2h 58s\n",
            "68:\tlearn: 0.4304990\ttest: 0.5286908\tbest: 0.5282145 (42)\ttotal: 1m 41s\tremaining: 2h 48s\n",
            "69:\tlearn: 0.4298233\ttest: 0.5285381\tbest: 0.5282145 (42)\ttotal: 1m 42s\tremaining: 2h 34s\n",
            "70:\tlearn: 0.4287069\ttest: 0.5286664\tbest: 0.5282145 (42)\ttotal: 1m 43s\tremaining: 2h 18s\n",
            "71:\tlearn: 0.4283925\ttest: 0.5285931\tbest: 0.5282145 (42)\ttotal: 1m 45s\tremaining: 1h 59m 57s\n",
            "72:\tlearn: 0.4280768\ttest: 0.5284601\tbest: 0.5282145 (42)\ttotal: 1m 46s\tremaining: 1h 59m 32s\n",
            "73:\tlearn: 0.4275252\ttest: 0.5283828\tbest: 0.5282145 (42)\ttotal: 1m 47s\tremaining: 1h 59m 23s\n",
            "74:\tlearn: 0.4266531\ttest: 0.5279801\tbest: 0.5279801 (74)\ttotal: 1m 48s\tremaining: 1h 59m 16s\n",
            "75:\tlearn: 0.4257751\ttest: 0.5281315\tbest: 0.5279801 (74)\ttotal: 1m 51s\tremaining: 2h 15s\n",
            "76:\tlearn: 0.4247654\ttest: 0.5282392\tbest: 0.5279801 (74)\ttotal: 1m 52s\tremaining: 2h 21s\n",
            "77:\tlearn: 0.4244183\ttest: 0.5283474\tbest: 0.5279801 (74)\ttotal: 1m 54s\tremaining: 2h 10s\n",
            "78:\tlearn: 0.4238862\ttest: 0.5286624\tbest: 0.5279801 (74)\ttotal: 1m 55s\tremaining: 1h 59m 49s\n",
            "79:\tlearn: 0.4234812\ttest: 0.5285105\tbest: 0.5279801 (74)\ttotal: 1m 56s\tremaining: 1h 59m 39s\n",
            "80:\tlearn: 0.4230079\ttest: 0.5284443\tbest: 0.5279801 (74)\ttotal: 1m 58s\tremaining: 1h 59m 31s\n",
            "81:\tlearn: 0.4220050\ttest: 0.5286708\tbest: 0.5279801 (74)\ttotal: 1m 59s\tremaining: 1h 59m 15s\n",
            "82:\tlearn: 0.4218547\ttest: 0.5286418\tbest: 0.5279801 (74)\ttotal: 2m\tremaining: 1h 58m 57s\n",
            "83:\tlearn: 0.4208442\ttest: 0.5288563\tbest: 0.5279801 (74)\ttotal: 2m 1s\tremaining: 1h 58m 55s\n",
            "84:\tlearn: 0.4204045\ttest: 0.5288908\tbest: 0.5279801 (74)\ttotal: 2m 4s\tremaining: 2h 7s\n",
            "85:\tlearn: 0.4200488\ttest: 0.5288277\tbest: 0.5279801 (74)\ttotal: 2m 6s\tremaining: 1h 59m 59s\n",
            "86:\tlearn: 0.4197371\ttest: 0.5289173\tbest: 0.5279801 (74)\ttotal: 2m 7s\tremaining: 1h 59m 48s\n",
            "87:\tlearn: 0.4189508\ttest: 0.5287429\tbest: 0.5279801 (74)\ttotal: 2m 8s\tremaining: 1h 59m 44s\n",
            "88:\tlearn: 0.4187889\ttest: 0.5287849\tbest: 0.5279801 (74)\ttotal: 2m 10s\tremaining: 1h 59m 38s\n",
            "89:\tlearn: 0.4185039\ttest: 0.5287025\tbest: 0.5279801 (74)\ttotal: 2m 11s\tremaining: 1h 59m 26s\n",
            "90:\tlearn: 0.4182702\ttest: 0.5287697\tbest: 0.5279801 (74)\ttotal: 2m 12s\tremaining: 1h 59m 16s\n",
            "91:\tlearn: 0.4179396\ttest: 0.5287269\tbest: 0.5279801 (74)\ttotal: 2m 14s\tremaining: 1h 59m 9s\n",
            "92:\tlearn: 0.4176582\ttest: 0.5288823\tbest: 0.5279801 (74)\ttotal: 2m 15s\tremaining: 1h 58m 57s\n",
            "93:\tlearn: 0.4175413\ttest: 0.5288802\tbest: 0.5279801 (74)\ttotal: 2m 17s\tremaining: 1h 59m 51s\n",
            "94:\tlearn: 0.4172116\ttest: 0.5290491\tbest: 0.5279801 (74)\ttotal: 2m 19s\tremaining: 1h 59m 55s\n",
            "95:\tlearn: 0.4165623\ttest: 0.5291082\tbest: 0.5279801 (74)\ttotal: 2m 20s\tremaining: 1h 59m 46s\n",
            "96:\tlearn: 0.4158673\ttest: 0.5291773\tbest: 0.5279801 (74)\ttotal: 2m 22s\tremaining: 1h 59m 40s\n",
            "97:\tlearn: 0.4152603\ttest: 0.5293313\tbest: 0.5279801 (74)\ttotal: 2m 23s\tremaining: 1h 59m 34s\n",
            "98:\tlearn: 0.4144052\ttest: 0.5295243\tbest: 0.5279801 (74)\ttotal: 2m 24s\tremaining: 1h 59m 27s\n",
            "99:\tlearn: 0.4138117\ttest: 0.5295713\tbest: 0.5279801 (74)\ttotal: 2m 26s\tremaining: 1h 59m 19s\n",
            "100:\tlearn: 0.4133612\ttest: 0.5296553\tbest: 0.5279801 (74)\ttotal: 2m 27s\tremaining: 1h 59m 9s\n",
            "101:\tlearn: 0.4130469\ttest: 0.5297133\tbest: 0.5279801 (74)\ttotal: 2m 29s\tremaining: 1h 59m 21s\n",
            "102:\tlearn: 0.4127023\ttest: 0.5298108\tbest: 0.5279801 (74)\ttotal: 2m 31s\tremaining: 2h 3s\n",
            "103:\tlearn: 0.4119403\ttest: 0.5301459\tbest: 0.5279801 (74)\ttotal: 2m 32s\tremaining: 1h 59m 51s\n",
            "104:\tlearn: 0.4115442\ttest: 0.5302453\tbest: 0.5279801 (74)\ttotal: 2m 33s\tremaining: 1h 59m 37s\n",
            "105:\tlearn: 0.4107835\ttest: 0.5302414\tbest: 0.5279801 (74)\ttotal: 2m 35s\tremaining: 1h 59m 37s\n",
            "106:\tlearn: 0.4104020\ttest: 0.5306696\tbest: 0.5279801 (74)\ttotal: 2m 36s\tremaining: 1h 59m 23s\n",
            "107:\tlearn: 0.4097761\ttest: 0.5308637\tbest: 0.5279801 (74)\ttotal: 2m 38s\tremaining: 1h 59m 19s\n",
            "108:\tlearn: 0.4094322\ttest: 0.5309404\tbest: 0.5279801 (74)\ttotal: 2m 39s\tremaining: 1h 59m 10s\n",
            "109:\tlearn: 0.4086187\ttest: 0.5308066\tbest: 0.5279801 (74)\ttotal: 2m 40s\tremaining: 1h 58m 58s\n",
            "110:\tlearn: 0.4082043\ttest: 0.5308879\tbest: 0.5279801 (74)\ttotal: 2m 42s\tremaining: 1h 58m 56s\n",
            "111:\tlearn: 0.4074022\ttest: 0.5310187\tbest: 0.5279801 (74)\ttotal: 2m 44s\tremaining: 1h 59m 33s\n",
            "112:\tlearn: 0.4070072\ttest: 0.5311791\tbest: 0.5279801 (74)\ttotal: 2m 45s\tremaining: 1h 59m 19s\n",
            "113:\tlearn: 0.4063940\ttest: 0.5312649\tbest: 0.5279801 (74)\ttotal: 2m 46s\tremaining: 1h 59m 4s\n",
            "114:\tlearn: 0.4061548\ttest: 0.5314106\tbest: 0.5279801 (74)\ttotal: 2m 48s\tremaining: 1h 59m 1s\n",
            "115:\tlearn: 0.4058457\ttest: 0.5316051\tbest: 0.5279801 (74)\ttotal: 2m 49s\tremaining: 1h 58m 49s\n",
            "116:\tlearn: 0.4053053\ttest: 0.5316264\tbest: 0.5279801 (74)\ttotal: 2m 50s\tremaining: 1h 58m 42s\n",
            "117:\tlearn: 0.4048301\ttest: 0.5321532\tbest: 0.5279801 (74)\ttotal: 2m 51s\tremaining: 1h 58m 30s\n",
            "118:\tlearn: 0.4044944\ttest: 0.5323279\tbest: 0.5279801 (74)\ttotal: 2m 53s\tremaining: 1h 58m 25s\n",
            "119:\tlearn: 0.4042746\ttest: 0.5323907\tbest: 0.5279801 (74)\ttotal: 2m 54s\tremaining: 1h 58m 15s\n",
            "120:\tlearn: 0.4036492\ttest: 0.5327452\tbest: 0.5279801 (74)\ttotal: 2m 57s\tremaining: 1h 59m 7s\n",
            "121:\tlearn: 0.4036443\ttest: 0.5327428\tbest: 0.5279801 (74)\ttotal: 2m 57s\tremaining: 1h 58m 19s\n",
            "122:\tlearn: 0.4033174\ttest: 0.5327457\tbest: 0.5279801 (74)\ttotal: 2m 58s\tremaining: 1h 58m 9s\n",
            "123:\tlearn: 0.4030630\ttest: 0.5327851\tbest: 0.5279801 (74)\ttotal: 2m 59s\tremaining: 1h 57m 50s\n",
            "124:\tlearn: 0.4025865\ttest: 0.5328052\tbest: 0.5279801 (74)\ttotal: 3m 1s\tremaining: 1h 57m 46s\n",
            "125:\tlearn: 0.4020316\ttest: 0.5329209\tbest: 0.5279801 (74)\ttotal: 3m 2s\tremaining: 1h 57m 37s\n",
            "126:\tlearn: 0.4013465\ttest: 0.5328421\tbest: 0.5279801 (74)\ttotal: 3m 3s\tremaining: 1h 57m 37s\n",
            "127:\tlearn: 0.4007288\ttest: 0.5329569\tbest: 0.5279801 (74)\ttotal: 3m 5s\tremaining: 1h 57m 30s\n",
            "128:\tlearn: 0.4005074\ttest: 0.5330824\tbest: 0.5279801 (74)\ttotal: 3m 6s\tremaining: 1h 57m 21s\n",
            "129:\tlearn: 0.3996926\ttest: 0.5335424\tbest: 0.5279801 (74)\ttotal: 3m 7s\tremaining: 1h 57m 17s\n",
            "130:\tlearn: 0.3993151\ttest: 0.5336050\tbest: 0.5279801 (74)\ttotal: 3m 10s\tremaining: 1h 57m 47s\n",
            "131:\tlearn: 0.3988963\ttest: 0.5336967\tbest: 0.5279801 (74)\ttotal: 3m 11s\tremaining: 1h 57m 52s\n",
            "132:\tlearn: 0.3985543\ttest: 0.5337838\tbest: 0.5279801 (74)\ttotal: 3m 13s\tremaining: 1h 57m 45s\n",
            "133:\tlearn: 0.3979686\ttest: 0.5339909\tbest: 0.5279801 (74)\ttotal: 3m 14s\tremaining: 1h 57m 38s\n",
            "134:\tlearn: 0.3970546\ttest: 0.5342242\tbest: 0.5279801 (74)\ttotal: 3m 15s\tremaining: 1h 57m 31s\n",
            "135:\tlearn: 0.3962365\ttest: 0.5345845\tbest: 0.5279801 (74)\ttotal: 3m 16s\tremaining: 1h 57m 24s\n",
            "136:\tlearn: 0.3956485\ttest: 0.5343262\tbest: 0.5279801 (74)\ttotal: 3m 18s\tremaining: 1h 57m 26s\n",
            "137:\tlearn: 0.3954542\ttest: 0.5342528\tbest: 0.5279801 (74)\ttotal: 3m 19s\tremaining: 1h 57m 18s\n",
            "138:\tlearn: 0.3949408\ttest: 0.5341922\tbest: 0.5279801 (74)\ttotal: 3m 21s\tremaining: 1h 57m 20s\n",
            "139:\tlearn: 0.3944124\ttest: 0.5343104\tbest: 0.5279801 (74)\ttotal: 3m 23s\tremaining: 1h 57m 53s\n",
            "140:\tlearn: 0.3937619\ttest: 0.5343738\tbest: 0.5279801 (74)\ttotal: 3m 25s\tremaining: 1h 57m 46s\n",
            "141:\tlearn: 0.3932742\ttest: 0.5344503\tbest: 0.5279801 (74)\ttotal: 3m 26s\tremaining: 1h 57m 43s\n",
            "142:\tlearn: 0.3928343\ttest: 0.5345253\tbest: 0.5279801 (74)\ttotal: 3m 27s\tremaining: 1h 57m 34s\n",
            "143:\tlearn: 0.3923490\ttest: 0.5346372\tbest: 0.5279801 (74)\ttotal: 3m 28s\tremaining: 1h 57m 24s\n",
            "144:\tlearn: 0.3919348\ttest: 0.5347559\tbest: 0.5279801 (74)\ttotal: 3m 30s\tremaining: 1h 57m 20s\n",
            "145:\tlearn: 0.3913499\ttest: 0.5351652\tbest: 0.5279801 (74)\ttotal: 3m 31s\tremaining: 1h 57m 10s\n",
            "146:\tlearn: 0.3907188\ttest: 0.5354204\tbest: 0.5279801 (74)\ttotal: 3m 32s\tremaining: 1h 57m 4s\n",
            "147:\tlearn: 0.3900696\ttest: 0.5354697\tbest: 0.5279801 (74)\ttotal: 3m 34s\tremaining: 1h 57m 4s\n",
            "148:\tlearn: 0.3896806\ttest: 0.5356752\tbest: 0.5279801 (74)\ttotal: 3m 36s\tremaining: 1h 57m 31s\n",
            "149:\tlearn: 0.3892430\ttest: 0.5356860\tbest: 0.5279801 (74)\ttotal: 3m 38s\tremaining: 1h 57m 28s\n",
            "150:\tlearn: 0.3884644\ttest: 0.5358146\tbest: 0.5279801 (74)\ttotal: 3m 39s\tremaining: 1h 57m 14s\n",
            "151:\tlearn: 0.3878703\ttest: 0.5358332\tbest: 0.5279801 (74)\ttotal: 3m 40s\tremaining: 1h 57m 3s\n",
            "152:\tlearn: 0.3873567\ttest: 0.5358361\tbest: 0.5279801 (74)\ttotal: 3m 41s\tremaining: 1h 56m 56s\n",
            "153:\tlearn: 0.3867030\ttest: 0.5362771\tbest: 0.5279801 (74)\ttotal: 3m 42s\tremaining: 1h 56m 50s\n",
            "154:\tlearn: 0.3862063\ttest: 0.5363761\tbest: 0.5279801 (74)\ttotal: 3m 44s\tremaining: 1h 56m 45s\n",
            "155:\tlearn: 0.3856573\ttest: 0.5365508\tbest: 0.5279801 (74)\ttotal: 3m 45s\tremaining: 1h 56m 38s\n",
            "156:\tlearn: 0.3855301\ttest: 0.5365551\tbest: 0.5279801 (74)\ttotal: 3m 46s\tremaining: 1h 56m 30s\n",
            "157:\tlearn: 0.3851630\ttest: 0.5367005\tbest: 0.5279801 (74)\ttotal: 3m 48s\tremaining: 1h 56m 45s\n",
            "158:\tlearn: 0.3845639\ttest: 0.5371498\tbest: 0.5279801 (74)\ttotal: 3m 50s\tremaining: 1h 56m 57s\n",
            "159:\tlearn: 0.3841935\ttest: 0.5372889\tbest: 0.5279801 (74)\ttotal: 3m 51s\tremaining: 1h 56m 51s\n",
            "160:\tlearn: 0.3837011\ttest: 0.5372100\tbest: 0.5279801 (74)\ttotal: 3m 53s\tremaining: 1h 56m 50s\n",
            "161:\tlearn: 0.3829970\ttest: 0.5373518\tbest: 0.5279801 (74)\ttotal: 3m 54s\tremaining: 1h 56m 45s\n",
            "162:\tlearn: 0.3822819\ttest: 0.5375679\tbest: 0.5279801 (74)\ttotal: 3m 56s\tremaining: 1h 56m 43s\n",
            "163:\tlearn: 0.3818096\ttest: 0.5377398\tbest: 0.5279801 (74)\ttotal: 3m 57s\tremaining: 1h 56m 32s\n",
            "164:\tlearn: 0.3814227\ttest: 0.5378492\tbest: 0.5279801 (74)\ttotal: 3m 58s\tremaining: 1h 56m 28s\n",
            "165:\tlearn: 0.3807734\ttest: 0.5382805\tbest: 0.5279801 (74)\ttotal: 3m 59s\tremaining: 1h 56m 19s\n",
            "166:\tlearn: 0.3803410\ttest: 0.5382544\tbest: 0.5279801 (74)\ttotal: 4m 1s\tremaining: 1h 56m 29s\n",
            "167:\tlearn: 0.3798611\ttest: 0.5384835\tbest: 0.5279801 (74)\ttotal: 4m 3s\tremaining: 1h 56m 44s\n",
            "168:\tlearn: 0.3794753\ttest: 0.5386726\tbest: 0.5279801 (74)\ttotal: 4m 5s\tremaining: 1h 56m 43s\n",
            "169:\tlearn: 0.3791823\ttest: 0.5387053\tbest: 0.5279801 (74)\ttotal: 4m 6s\tremaining: 1h 56m 35s\n",
            "170:\tlearn: 0.3789654\ttest: 0.5387929\tbest: 0.5279801 (74)\ttotal: 4m 7s\tremaining: 1h 56m 32s\n",
            "171:\tlearn: 0.3783464\ttest: 0.5388709\tbest: 0.5279801 (74)\ttotal: 4m 8s\tremaining: 1h 56m 23s\n",
            "172:\tlearn: 0.3778598\ttest: 0.5392906\tbest: 0.5279801 (74)\ttotal: 4m 9s\tremaining: 1h 56m 14s\n",
            "173:\tlearn: 0.3771987\ttest: 0.5394707\tbest: 0.5279801 (74)\ttotal: 4m 11s\tremaining: 1h 56m 7s\n",
            "174:\tlearn: 0.3766627\ttest: 0.5395368\tbest: 0.5279801 (74)\ttotal: 4m 12s\tremaining: 1h 56m 3s\n",
            "Stopped by overfitting detector  (100 iterations wait)\n",
            "\n",
            "bestTest = 0.5279800519\n",
            "bestIteration = 74\n",
            "\n",
            "Shrink model to first 75 iterations.\n",
            "Feature #151 eliminated\n",
            "Feature #209 eliminated\n",
            "Feature #81 eliminated\n",
            "Feature #8 eliminated\n",
            "Feature #156 eliminated\n",
            "Feature #38 eliminated\n",
            "Feature #18 eliminated\n",
            "Feature #34 eliminated\n",
            "Feature #106 eliminated\n",
            "Feature #19 eliminated\n",
            "Feature #191 eliminated\n",
            "Feature #44 eliminated\n",
            "Feature #85 eliminated\n",
            "Feature #6 eliminated\n",
            "Feature #7 eliminated\n",
            "Feature #9 eliminated\n",
            "Feature #23 eliminated\n",
            "Feature #193 eliminated\n",
            "Feature #194 eliminated\n",
            "Feature #195 eliminated\n",
            "Feature #197 eliminated\n",
            "Feature #198 eliminated\n",
            "Feature #199 eliminated\n",
            "Feature #200 eliminated\n",
            "Feature #201 eliminated\n",
            "Feature #202 eliminated\n",
            "Feature #204 eliminated\n",
            "Feature #205 eliminated\n",
            "Feature #206 eliminated\n",
            "Feature #207 eliminated\n",
            "Feature #208 eliminated\n",
            "Feature #24 eliminated\n",
            "Feature #25 eliminated\n",
            "Feature #26 eliminated\n",
            "Feature #27 eliminated\n",
            "Feature #28 eliminated\n",
            "Feature #29 eliminated\n",
            "Feature #30 eliminated\n",
            "Feature #31 eliminated\n",
            "Feature #32 eliminated\n",
            "Feature #33 eliminated\n",
            "Feature #36 eliminated\n",
            "Feature #37 eliminated\n",
            "Feature #40 eliminated\n",
            "Feature #41 eliminated\n",
            "Feature #42 eliminated\n",
            "Feature #43 eliminated\n",
            "Feature #45 eliminated\n",
            "Feature #46 eliminated\n",
            "Feature #47 eliminated\n",
            "Feature #48 eliminated\n",
            "Feature #49 eliminated\n",
            "Feature #50 eliminated\n",
            "Feature #51 eliminated\n",
            "Feature #52 eliminated\n",
            "Feature #53 eliminated\n",
            "Feature #54 eliminated\n",
            "Feature #55 eliminated\n",
            "Feature #56 eliminated\n",
            "Feature #57 eliminated\n",
            "Feature #58 eliminated\n",
            "Feature #59 eliminated\n",
            "Feature #60 eliminated\n",
            "Feature #61 eliminated\n",
            "Feature #62 eliminated\n",
            "Feature #63 eliminated\n",
            "Feature #64 eliminated\n",
            "Feature #66 eliminated\n",
            "Feature #67 eliminated\n",
            "Feature #68 eliminated\n",
            "Feature #69 eliminated\n",
            "Feature #70 eliminated\n",
            "Feature #71 eliminated\n",
            "Feature #72 eliminated\n",
            "Feature #73 eliminated\n",
            "Feature #74 eliminated\n",
            "Feature #75 eliminated\n",
            "Feature #76 eliminated\n",
            "Feature #77 eliminated\n",
            "Feature #78 eliminated\n",
            "Feature #79 eliminated\n",
            "Feature #80 eliminated\n",
            "Feature #82 eliminated\n",
            "Feature #83 eliminated\n",
            "Feature #84 eliminated\n",
            "Feature #86 eliminated\n",
            "Feature #87 eliminated\n",
            "Feature #88 eliminated\n",
            "Feature #89 eliminated\n",
            "Feature #91 eliminated\n",
            "Feature #92 eliminated\n",
            "Feature #93 eliminated\n",
            "Feature #94 eliminated\n",
            "Feature #95 eliminated\n",
            "Feature #96 eliminated\n",
            "Feature #97 eliminated\n",
            "Feature #98 eliminated\n",
            "Feature #99 eliminated\n",
            "Feature #100 eliminated\n",
            "Feature #101 eliminated\n",
            "Feature #102 eliminated\n",
            "Feature #103 eliminated\n",
            "Feature #104 eliminated\n",
            "Feature #105 eliminated\n",
            "Feature #107 eliminated\n",
            "Feature #109 eliminated\n",
            "Feature #110 eliminated\n",
            "Feature #111 eliminated\n",
            "Feature #112 eliminated\n",
            "Feature #113 eliminated\n",
            "Feature #116 eliminated\n",
            "Feature #117 eliminated\n",
            "Feature #118 eliminated\n",
            "Feature #119 eliminated\n",
            "Feature #120 eliminated\n",
            "Feature #121 eliminated\n",
            "Feature #122 eliminated\n",
            "Feature #123 eliminated\n",
            "Feature #124 eliminated\n",
            "Feature #125 eliminated\n",
            "Feature #126 eliminated\n",
            "Feature #127 eliminated\n",
            "Feature #128 eliminated\n",
            "Feature #129 eliminated\n",
            "Feature #130 eliminated\n",
            "Feature #132 eliminated\n",
            "Feature #133 eliminated\n",
            "Feature #134 eliminated\n",
            "Feature #136 eliminated\n",
            "Feature #137 eliminated\n",
            "Feature #138 eliminated\n",
            "Feature #139 eliminated\n",
            "Feature #140 eliminated\n",
            "Feature #141 eliminated\n",
            "Feature #142 eliminated\n",
            "Feature #143 eliminated\n",
            "Feature #144 eliminated\n",
            "Feature #145 eliminated\n",
            "Feature #146 eliminated\n",
            "Feature #147 eliminated\n",
            "Feature #148 eliminated\n",
            "Feature #150 eliminated\n",
            "Feature #152 eliminated\n",
            "Feature #153 eliminated\n",
            "Feature #155 eliminated\n",
            "Feature #157 eliminated\n",
            "Feature #158 eliminated\n",
            "Feature #159 eliminated\n",
            "Feature #161 eliminated\n",
            "Feature #162 eliminated\n",
            "Feature #163 eliminated\n",
            "Feature #165 eliminated\n",
            "Feature #166 eliminated\n",
            "Feature #168 eliminated\n",
            "Feature #169 eliminated\n",
            "Feature #170 eliminated\n",
            "Feature #171 eliminated\n",
            "Feature #172 eliminated\n",
            "Feature #173 eliminated\n",
            "Feature #174 eliminated\n",
            "Feature #175 eliminated\n",
            "Feature #176 eliminated\n",
            "Feature #177 eliminated\n",
            "Feature #178 eliminated\n",
            "Feature #179 eliminated\n",
            "Feature #180 eliminated\n",
            "Feature #181 eliminated\n",
            "Feature #182 eliminated\n",
            "Feature #183 eliminated\n",
            "Feature #184 eliminated\n",
            "Feature #185 eliminated\n",
            "Feature #187 eliminated\n",
            "Feature #188 eliminated\n",
            "Feature #190 eliminated\n",
            "Feature #192 eliminated\n",
            "Feature #149 eliminated\n",
            "Feature #154 eliminated\n",
            "Feature #90 eliminated\n",
            "Feature #114 eliminated\n",
            "Feature #203 eliminated\n",
            "Feature #108 eliminated\n",
            "Feature #39 eliminated\n",
            "Feature #65 eliminated\n",
            "Feature #186 eliminated\n",
            "Feature #35 eliminated\n",
            "Train final model\n",
            "0:\tlearn: 0.6664121\ttest: 0.6692458\tbest: 0.6692458 (0)\ttotal: 969ms\tremaining: 1h 20m 42s\n",
            "1:\tlearn: 0.6439793\ttest: 0.6495061\tbest: 0.6495061 (1)\ttotal: 2.02s\tremaining: 1h 24m 11s\n",
            "2:\tlearn: 0.6250779\ttest: 0.6331305\tbest: 0.6331305 (2)\ttotal: 3.04s\tremaining: 1h 24m 28s\n",
            "3:\tlearn: 0.6098235\ttest: 0.6205779\tbest: 0.6205779 (3)\ttotal: 3.97s\tremaining: 1h 22m 43s\n",
            "4:\tlearn: 0.5894579\ttest: 0.6047373\tbest: 0.6047373 (4)\ttotal: 5.1s\tremaining: 1h 24m 54s\n",
            "5:\tlearn: 0.5723768\ttest: 0.5919011\tbest: 0.5919011 (5)\ttotal: 6.04s\tremaining: 1h 23m 49s\n",
            "6:\tlearn: 0.5607094\ttest: 0.5836095\tbest: 0.5836095 (6)\ttotal: 6.92s\tremaining: 1h 22m 12s\n",
            "7:\tlearn: 0.5489286\ttest: 0.5767642\tbest: 0.5767642 (7)\ttotal: 7.91s\tremaining: 1h 22m 18s\n",
            "8:\tlearn: 0.5377361\ttest: 0.5703874\tbest: 0.5703874 (8)\ttotal: 9.21s\tremaining: 1h 25m 7s\n",
            "9:\tlearn: 0.5282028\ttest: 0.5667950\tbest: 0.5667950 (9)\ttotal: 11.1s\tremaining: 1h 32m 1s\n",
            "10:\tlearn: 0.5229660\ttest: 0.5628668\tbest: 0.5628668 (10)\ttotal: 12.7s\tremaining: 1h 36m 17s\n",
            "11:\tlearn: 0.5156569\ttest: 0.5578547\tbest: 0.5578547 (11)\ttotal: 13.9s\tremaining: 1h 36m 35s\n",
            "12:\tlearn: 0.5100691\ttest: 0.5533738\tbest: 0.5533738 (12)\ttotal: 15s\tremaining: 1h 35m 47s\n",
            "13:\tlearn: 0.5044798\ttest: 0.5512969\tbest: 0.5512969 (13)\ttotal: 16.2s\tremaining: 1h 35m 54s\n",
            "14:\tlearn: 0.4997686\ttest: 0.5479255\tbest: 0.5479255 (14)\ttotal: 17.3s\tremaining: 1h 35m 34s\n",
            "15:\tlearn: 0.4958556\ttest: 0.5454262\tbest: 0.5454262 (15)\ttotal: 18.3s\tremaining: 1h 35m 5s\n",
            "16:\tlearn: 0.4924303\ttest: 0.5429865\tbest: 0.5429865 (16)\ttotal: 19.6s\tremaining: 1h 35m 43s\n",
            "17:\tlearn: 0.4895403\ttest: 0.5409981\tbest: 0.5409981 (17)\ttotal: 20.6s\tremaining: 1h 35m 5s\n",
            "18:\tlearn: 0.4864300\ttest: 0.5397330\tbest: 0.5397330 (18)\ttotal: 21.8s\tremaining: 1h 35m 12s\n",
            "19:\tlearn: 0.4837274\ttest: 0.5386577\tbest: 0.5386577 (19)\ttotal: 23.5s\tremaining: 1h 37m 31s\n",
            "20:\tlearn: 0.4819670\ttest: 0.5375354\tbest: 0.5375354 (20)\ttotal: 25.3s\tremaining: 1h 39m 50s\n",
            "21:\tlearn: 0.4782693\ttest: 0.5362075\tbest: 0.5362075 (21)\ttotal: 26.5s\tremaining: 1h 40m 4s\n",
            "22:\tlearn: 0.4747676\ttest: 0.5357607\tbest: 0.5357607 (22)\ttotal: 27.7s\tremaining: 1h 39m 56s\n",
            "23:\tlearn: 0.4730653\ttest: 0.5356680\tbest: 0.5356680 (23)\ttotal: 28.7s\tremaining: 1h 39m 20s\n",
            "24:\tlearn: 0.4706003\ttest: 0.5344303\tbest: 0.5344303 (24)\ttotal: 30s\tremaining: 1h 39m 34s\n",
            "25:\tlearn: 0.4678550\ttest: 0.5341182\tbest: 0.5341182 (25)\ttotal: 31.2s\tremaining: 1h 39m 34s\n",
            "26:\tlearn: 0.4662125\ttest: 0.5340128\tbest: 0.5340128 (26)\ttotal: 32.4s\tremaining: 1h 39m 33s\n",
            "27:\tlearn: 0.4651633\ttest: 0.5333222\tbest: 0.5333222 (27)\ttotal: 33.6s\tremaining: 1h 39m 32s\n",
            "28:\tlearn: 0.4636774\ttest: 0.5331317\tbest: 0.5331317 (28)\ttotal: 34.9s\tremaining: 1h 39m 39s\n",
            "29:\tlearn: 0.4616557\ttest: 0.5333249\tbest: 0.5331317 (28)\ttotal: 36.9s\tremaining: 1h 41m 50s\n",
            "30:\tlearn: 0.4599165\ttest: 0.5334399\tbest: 0.5331317 (28)\ttotal: 38.8s\tremaining: 1h 43m 45s\n",
            "31:\tlearn: 0.4587484\ttest: 0.5333037\tbest: 0.5331317 (28)\ttotal: 40.1s\tremaining: 1h 43m 39s\n",
            "32:\tlearn: 0.4571371\ttest: 0.5335644\tbest: 0.5331317 (28)\ttotal: 41.3s\tremaining: 1h 43m 34s\n",
            "33:\tlearn: 0.4560364\ttest: 0.5328681\tbest: 0.5328681 (33)\ttotal: 42.5s\tremaining: 1h 43m 21s\n",
            "34:\tlearn: 0.4548969\ttest: 0.5325667\tbest: 0.5325667 (34)\ttotal: 43.5s\tremaining: 1h 42m 52s\n",
            "35:\tlearn: 0.4539863\ttest: 0.5318759\tbest: 0.5318759 (35)\ttotal: 44.6s\tremaining: 1h 42m 32s\n",
            "36:\tlearn: 0.4527564\ttest: 0.5313023\tbest: 0.5313023 (36)\ttotal: 46s\tremaining: 1h 42m 43s\n",
            "37:\tlearn: 0.4518968\ttest: 0.5309067\tbest: 0.5309067 (37)\ttotal: 47.1s\tremaining: 1h 42m 32s\n",
            "38:\tlearn: 0.4510327\ttest: 0.5309672\tbest: 0.5309067 (37)\ttotal: 48.5s\tremaining: 1h 42m 52s\n",
            "39:\tlearn: 0.4501448\ttest: 0.5309237\tbest: 0.5309067 (37)\ttotal: 50.9s\tremaining: 1h 45m 7s\n",
            "40:\tlearn: 0.4495442\ttest: 0.5309616\tbest: 0.5309067 (37)\ttotal: 52.3s\tremaining: 1h 45m 21s\n",
            "41:\tlearn: 0.4483596\ttest: 0.5306639\tbest: 0.5306639 (41)\ttotal: 53.5s\tremaining: 1h 45m 20s\n",
            "42:\tlearn: 0.4477047\ttest: 0.5303975\tbest: 0.5303975 (42)\ttotal: 54.8s\tremaining: 1h 45m 21s\n",
            "43:\tlearn: 0.4470299\ttest: 0.5304457\tbest: 0.5303975 (42)\ttotal: 56.2s\tremaining: 1h 45m 27s\n",
            "44:\tlearn: 0.4462501\ttest: 0.5304169\tbest: 0.5303975 (42)\ttotal: 57.3s\tremaining: 1h 45m 11s\n",
            "45:\tlearn: 0.4451321\ttest: 0.5303822\tbest: 0.5303822 (45)\ttotal: 58.6s\tremaining: 1h 45m 9s\n",
            "46:\tlearn: 0.4443549\ttest: 0.5305280\tbest: 0.5303822 (45)\ttotal: 59.9s\tremaining: 1h 45m 13s\n",
            "47:\tlearn: 0.4434457\ttest: 0.5306421\tbest: 0.5303822 (45)\ttotal: 1m 1s\tremaining: 1h 45m 6s\n",
            "48:\tlearn: 0.4426634\ttest: 0.5302913\tbest: 0.5302913 (48)\ttotal: 1m 3s\tremaining: 1h 46m 45s\n",
            "49:\tlearn: 0.4419250\ttest: 0.5300008\tbest: 0.5300008 (49)\ttotal: 1m 5s\tremaining: 1h 47m 15s\n",
            "50:\tlearn: 0.4413321\ttest: 0.5297743\tbest: 0.5297743 (50)\ttotal: 1m 6s\tremaining: 1h 47m 9s\n",
            "51:\tlearn: 0.4407966\ttest: 0.5296936\tbest: 0.5296936 (51)\ttotal: 1m 7s\tremaining: 1h 47m 4s\n",
            "52:\tlearn: 0.4400658\ttest: 0.5297679\tbest: 0.5296936 (51)\ttotal: 1m 8s\tremaining: 1h 46m 30s\n",
            "53:\tlearn: 0.4392843\ttest: 0.5294514\tbest: 0.5294514 (53)\ttotal: 1m 9s\tremaining: 1h 46m 21s\n",
            "54:\tlearn: 0.4382849\ttest: 0.5293352\tbest: 0.5293352 (54)\ttotal: 1m 10s\tremaining: 1h 46m 16s\n",
            "55:\tlearn: 0.4375984\ttest: 0.5292612\tbest: 0.5292612 (55)\ttotal: 1m 12s\tremaining: 1h 46m 12s\n",
            "56:\tlearn: 0.4369188\ttest: 0.5289865\tbest: 0.5289865 (56)\ttotal: 1m 13s\tremaining: 1h 46m 13s\n",
            "57:\tlearn: 0.4359242\ttest: 0.5294127\tbest: 0.5289865 (56)\ttotal: 1m 15s\tremaining: 1h 46m 52s\n",
            "58:\tlearn: 0.4349561\ttest: 0.5293614\tbest: 0.5289865 (56)\ttotal: 1m 17s\tremaining: 1h 48m 12s\n",
            "59:\tlearn: 0.4343174\ttest: 0.5292881\tbest: 0.5289865 (56)\ttotal: 1m 18s\tremaining: 1h 47m 59s\n",
            "60:\tlearn: 0.4335281\ttest: 0.5291211\tbest: 0.5289865 (56)\ttotal: 1m 19s\tremaining: 1h 47m 53s\n",
            "61:\tlearn: 0.4328963\ttest: 0.5290428\tbest: 0.5289865 (56)\ttotal: 1m 21s\tremaining: 1h 47m 43s\n",
            "62:\tlearn: 0.4320648\ttest: 0.5289434\tbest: 0.5289434 (62)\ttotal: 1m 22s\tremaining: 1h 47m 36s\n",
            "63:\tlearn: 0.4313385\ttest: 0.5288683\tbest: 0.5288683 (63)\ttotal: 1m 23s\tremaining: 1h 47m 32s\n",
            "64:\tlearn: 0.4306694\ttest: 0.5289450\tbest: 0.5288683 (63)\ttotal: 1m 25s\tremaining: 1h 47m 45s\n",
            "65:\tlearn: 0.4300103\ttest: 0.5288821\tbest: 0.5288683 (63)\ttotal: 1m 26s\tremaining: 1h 47m 39s\n",
            "66:\tlearn: 0.4291117\ttest: 0.5288835\tbest: 0.5288683 (63)\ttotal: 1m 27s\tremaining: 1h 47m 46s\n",
            "67:\tlearn: 0.4284074\ttest: 0.5290834\tbest: 0.5288683 (63)\ttotal: 1m 30s\tremaining: 1h 48m 54s\n",
            "68:\tlearn: 0.4277775\ttest: 0.5287384\tbest: 0.5287384 (68)\ttotal: 1m 31s\tremaining: 1h 48m 48s\n",
            "69:\tlearn: 0.4269132\ttest: 0.5289728\tbest: 0.5287384 (68)\ttotal: 1m 32s\tremaining: 1h 48m 38s\n",
            "70:\tlearn: 0.4261698\ttest: 0.5288734\tbest: 0.5287384 (68)\ttotal: 1m 33s\tremaining: 1h 48m 39s\n",
            "71:\tlearn: 0.4255536\ttest: 0.5290546\tbest: 0.5287384 (68)\ttotal: 1m 35s\tremaining: 1h 48m 35s\n",
            "72:\tlearn: 0.4251102\ttest: 0.5289596\tbest: 0.5287384 (68)\ttotal: 1m 36s\tremaining: 1h 48m 30s\n",
            "73:\tlearn: 0.4244817\ttest: 0.5289214\tbest: 0.5287384 (68)\ttotal: 1m 37s\tremaining: 1h 48m 18s\n",
            "74:\tlearn: 0.4237462\ttest: 0.5290002\tbest: 0.5287384 (68)\ttotal: 1m 38s\tremaining: 1h 48m 11s\n",
            "75:\tlearn: 0.4231510\ttest: 0.5291236\tbest: 0.5287384 (68)\ttotal: 1m 40s\tremaining: 1h 48m 6s\n",
            "76:\tlearn: 0.4223627\ttest: 0.5294927\tbest: 0.5287384 (68)\ttotal: 1m 42s\tremaining: 1h 48m 54s\n",
            "77:\tlearn: 0.4220526\ttest: 0.5292786\tbest: 0.5287384 (68)\ttotal: 1m 44s\tremaining: 1h 49m 23s\n",
            "78:\tlearn: 0.4216069\ttest: 0.5292529\tbest: 0.5287384 (68)\ttotal: 1m 45s\tremaining: 1h 49m 27s\n",
            "79:\tlearn: 0.4210682\ttest: 0.5291925\tbest: 0.5287384 (68)\ttotal: 1m 46s\tremaining: 1h 49m 12s\n",
            "80:\tlearn: 0.4206491\ttest: 0.5290683\tbest: 0.5287384 (68)\ttotal: 1m 47s\tremaining: 1h 49m 15s\n",
            "81:\tlearn: 0.4196145\ttest: 0.5294543\tbest: 0.5287384 (68)\ttotal: 1m 49s\tremaining: 1h 49m 7s\n",
            "82:\tlearn: 0.4193165\ttest: 0.5295914\tbest: 0.5287384 (68)\ttotal: 1m 50s\tremaining: 1h 48m 53s\n",
            "83:\tlearn: 0.4188007\ttest: 0.5299590\tbest: 0.5287384 (68)\ttotal: 1m 51s\tremaining: 1h 48m 51s\n",
            "84:\tlearn: 0.4177569\ttest: 0.5306057\tbest: 0.5287384 (68)\ttotal: 1m 52s\tremaining: 1h 48m 44s\n",
            "85:\tlearn: 0.4171645\ttest: 0.5310188\tbest: 0.5287384 (68)\ttotal: 1m 53s\tremaining: 1h 48m 29s\n",
            "86:\tlearn: 0.4166264\ttest: 0.5309569\tbest: 0.5287384 (68)\ttotal: 1m 56s\tremaining: 1h 49m 12s\n",
            "87:\tlearn: 0.4158376\ttest: 0.5310185\tbest: 0.5287384 (68)\ttotal: 1m 57s\tremaining: 1h 49m 15s\n",
            "88:\tlearn: 0.4158201\ttest: 0.5310484\tbest: 0.5287384 (68)\ttotal: 1m 57s\tremaining: 1h 48m 26s\n",
            "89:\tlearn: 0.4149811\ttest: 0.5309627\tbest: 0.5287384 (68)\ttotal: 1m 59s\tremaining: 1h 48m 21s\n",
            "90:\tlearn: 0.4145360\ttest: 0.5309710\tbest: 0.5287384 (68)\ttotal: 2m\tremaining: 1h 48m 19s\n",
            "91:\tlearn: 0.4137365\ttest: 0.5308677\tbest: 0.5287384 (68)\ttotal: 2m 1s\tremaining: 1h 48m 22s\n",
            "92:\tlearn: 0.4126120\ttest: 0.5312482\tbest: 0.5287384 (68)\ttotal: 2m 3s\tremaining: 1h 48m 11s\n",
            "93:\tlearn: 0.4117308\ttest: 0.5315293\tbest: 0.5287384 (68)\ttotal: 2m 4s\tremaining: 1h 48m\n",
            "94:\tlearn: 0.4112618\ttest: 0.5315210\tbest: 0.5287384 (68)\ttotal: 2m 5s\tremaining: 1h 47m 58s\n",
            "95:\tlearn: 0.4109368\ttest: 0.5316532\tbest: 0.5287384 (68)\ttotal: 2m 6s\tremaining: 1h 48m 6s\n",
            "96:\tlearn: 0.4104287\ttest: 0.5317874\tbest: 0.5287384 (68)\ttotal: 2m 9s\tremaining: 1h 49m\n",
            "97:\tlearn: 0.4098985\ttest: 0.5317688\tbest: 0.5287384 (68)\ttotal: 2m 10s\tremaining: 1h 49m 3s\n",
            "98:\tlearn: 0.4093895\ttest: 0.5321570\tbest: 0.5287384 (68)\ttotal: 2m 12s\tremaining: 1h 49m 1s\n",
            "99:\tlearn: 0.4089405\ttest: 0.5321186\tbest: 0.5287384 (68)\ttotal: 2m 13s\tremaining: 1h 49m 1s\n",
            "100:\tlearn: 0.4084353\ttest: 0.5320519\tbest: 0.5287384 (68)\ttotal: 2m 14s\tremaining: 1h 48m 53s\n",
            "101:\tlearn: 0.4077477\ttest: 0.5324418\tbest: 0.5287384 (68)\ttotal: 2m 16s\tremaining: 1h 48m 57s\n",
            "102:\tlearn: 0.4072137\ttest: 0.5325198\tbest: 0.5287384 (68)\ttotal: 2m 17s\tremaining: 1h 48m 53s\n",
            "103:\tlearn: 0.4067675\ttest: 0.5326706\tbest: 0.5287384 (68)\ttotal: 2m 18s\tremaining: 1h 48m 48s\n",
            "104:\tlearn: 0.4060617\ttest: 0.5327942\tbest: 0.5287384 (68)\ttotal: 2m 20s\tremaining: 1h 49m 13s\n",
            "105:\tlearn: 0.4056568\ttest: 0.5330008\tbest: 0.5287384 (68)\ttotal: 2m 22s\tremaining: 1h 49m 39s\n",
            "106:\tlearn: 0.4048526\ttest: 0.5333073\tbest: 0.5287384 (68)\ttotal: 2m 23s\tremaining: 1h 49m 27s\n",
            "107:\tlearn: 0.4040786\ttest: 0.5336256\tbest: 0.5287384 (68)\ttotal: 2m 24s\tremaining: 1h 49m 15s\n",
            "108:\tlearn: 0.4033701\ttest: 0.5336728\tbest: 0.5287384 (68)\ttotal: 2m 25s\tremaining: 1h 48m 59s\n",
            "109:\tlearn: 0.4026533\ttest: 0.5340604\tbest: 0.5287384 (68)\ttotal: 2m 26s\tremaining: 1h 48m 48s\n",
            "110:\tlearn: 0.4022943\ttest: 0.5339129\tbest: 0.5287384 (68)\ttotal: 2m 27s\tremaining: 1h 48m 32s\n",
            "111:\tlearn: 0.4015770\ttest: 0.5340941\tbest: 0.5287384 (68)\ttotal: 2m 29s\tremaining: 1h 48m 29s\n",
            "112:\tlearn: 0.4010371\ttest: 0.5342045\tbest: 0.5287384 (68)\ttotal: 2m 30s\tremaining: 1h 48m 20s\n",
            "113:\tlearn: 0.4008102\ttest: 0.5344219\tbest: 0.5287384 (68)\ttotal: 2m 31s\tremaining: 1h 48m 14s\n",
            "114:\tlearn: 0.4004579\ttest: 0.5344958\tbest: 0.5287384 (68)\ttotal: 2m 32s\tremaining: 1h 48m 12s\n",
            "115:\tlearn: 0.3997058\ttest: 0.5345569\tbest: 0.5287384 (68)\ttotal: 2m 35s\tremaining: 1h 48m 56s\n",
            "116:\tlearn: 0.3992178\ttest: 0.5348102\tbest: 0.5287384 (68)\ttotal: 2m 36s\tremaining: 1h 48m 55s\n",
            "117:\tlearn: 0.3988238\ttest: 0.5348531\tbest: 0.5287384 (68)\ttotal: 2m 37s\tremaining: 1h 48m 52s\n",
            "118:\tlearn: 0.3980170\ttest: 0.5352294\tbest: 0.5287384 (68)\ttotal: 2m 39s\tremaining: 1h 48m 44s\n",
            "119:\tlearn: 0.3972655\ttest: 0.5356118\tbest: 0.5287384 (68)\ttotal: 2m 40s\tremaining: 1h 48m 41s\n",
            "120:\tlearn: 0.3966246\ttest: 0.5356457\tbest: 0.5287384 (68)\ttotal: 2m 41s\tremaining: 1h 48m 37s\n",
            "121:\tlearn: 0.3959935\ttest: 0.5358175\tbest: 0.5287384 (68)\ttotal: 2m 42s\tremaining: 1h 48m 33s\n",
            "122:\tlearn: 0.3953039\ttest: 0.5361573\tbest: 0.5287384 (68)\ttotal: 2m 43s\tremaining: 1h 48m 18s\n",
            "123:\tlearn: 0.3950089\ttest: 0.5360795\tbest: 0.5287384 (68)\ttotal: 2m 45s\tremaining: 1h 48m 17s\n",
            "124:\tlearn: 0.3944467\ttest: 0.5361015\tbest: 0.5287384 (68)\ttotal: 2m 47s\tremaining: 1h 48m 36s\n",
            "125:\tlearn: 0.3938289\ttest: 0.5364897\tbest: 0.5287384 (68)\ttotal: 2m 48s\tremaining: 1h 48m 53s\n",
            "126:\tlearn: 0.3930740\ttest: 0.5365477\tbest: 0.5287384 (68)\ttotal: 2m 49s\tremaining: 1h 48m 40s\n",
            "127:\tlearn: 0.3926384\ttest: 0.5367574\tbest: 0.5287384 (68)\ttotal: 2m 51s\tremaining: 1h 48m 35s\n",
            "128:\tlearn: 0.3923100\ttest: 0.5367045\tbest: 0.5287384 (68)\ttotal: 2m 52s\tremaining: 1h 48m 23s\n",
            "129:\tlearn: 0.3920330\ttest: 0.5369106\tbest: 0.5287384 (68)\ttotal: 2m 53s\tremaining: 1h 48m 13s\n",
            "130:\tlearn: 0.3913965\ttest: 0.5373445\tbest: 0.5287384 (68)\ttotal: 2m 54s\tremaining: 1h 48m 3s\n",
            "131:\tlearn: 0.3906611\ttest: 0.5371900\tbest: 0.5287384 (68)\ttotal: 2m 55s\tremaining: 1h 48m 1s\n",
            "132:\tlearn: 0.3901404\ttest: 0.5373241\tbest: 0.5287384 (68)\ttotal: 2m 57s\tremaining: 1h 47m 57s\n",
            "133:\tlearn: 0.3897955\ttest: 0.5375440\tbest: 0.5287384 (68)\ttotal: 2m 58s\tremaining: 1h 47m 51s\n",
            "134:\tlearn: 0.3894094\ttest: 0.5376183\tbest: 0.5287384 (68)\ttotal: 3m\tremaining: 1h 48m 6s\n",
            "135:\tlearn: 0.3890050\ttest: 0.5376983\tbest: 0.5287384 (68)\ttotal: 3m 2s\tremaining: 1h 48m 30s\n",
            "136:\tlearn: 0.3883393\ttest: 0.5379004\tbest: 0.5287384 (68)\ttotal: 3m 3s\tremaining: 1h 48m 22s\n",
            "137:\tlearn: 0.3877879\ttest: 0.5382322\tbest: 0.5287384 (68)\ttotal: 3m 4s\tremaining: 1h 48m 24s\n",
            "138:\tlearn: 0.3870543\ttest: 0.5387432\tbest: 0.5287384 (68)\ttotal: 3m 5s\tremaining: 1h 48m 14s\n",
            "139:\tlearn: 0.3864127\ttest: 0.5389059\tbest: 0.5287384 (68)\ttotal: 3m 6s\tremaining: 1h 48m 6s\n",
            "140:\tlearn: 0.3855477\ttest: 0.5390592\tbest: 0.5287384 (68)\ttotal: 3m 8s\tremaining: 1h 48m 3s\n",
            "141:\tlearn: 0.3852433\ttest: 0.5394853\tbest: 0.5287384 (68)\ttotal: 3m 9s\tremaining: 1h 47m 56s\n",
            "142:\tlearn: 0.3845866\ttest: 0.5396130\tbest: 0.5287384 (68)\ttotal: 3m 10s\tremaining: 1h 47m 50s\n",
            "143:\tlearn: 0.3838715\ttest: 0.5398521\tbest: 0.5287384 (68)\ttotal: 3m 11s\tremaining: 1h 47m 38s\n",
            "144:\tlearn: 0.3832350\ttest: 0.5399512\tbest: 0.5287384 (68)\ttotal: 3m 13s\tremaining: 1h 47m 46s\n",
            "145:\tlearn: 0.3825932\ttest: 0.5402786\tbest: 0.5287384 (68)\ttotal: 3m 15s\tremaining: 1h 48m 3s\n",
            "146:\tlearn: 0.3817626\ttest: 0.5406780\tbest: 0.5287384 (68)\ttotal: 3m 16s\tremaining: 1h 47m 55s\n",
            "147:\tlearn: 0.3813219\ttest: 0.5410591\tbest: 0.5287384 (68)\ttotal: 3m 17s\tremaining: 1h 47m 51s\n",
            "148:\tlearn: 0.3807920\ttest: 0.5412066\tbest: 0.5287384 (68)\ttotal: 3m 18s\tremaining: 1h 47m 43s\n",
            "149:\tlearn: 0.3804117\ttest: 0.5412601\tbest: 0.5287384 (68)\ttotal: 3m 19s\tremaining: 1h 47m 38s\n",
            "150:\tlearn: 0.3796620\ttest: 0.5415154\tbest: 0.5287384 (68)\ttotal: 3m 21s\tremaining: 1h 47m 38s\n",
            "151:\tlearn: 0.3792803\ttest: 0.5417309\tbest: 0.5287384 (68)\ttotal: 3m 22s\tremaining: 1h 47m 33s\n",
            "152:\tlearn: 0.3784218\ttest: 0.5420910\tbest: 0.5287384 (68)\ttotal: 3m 23s\tremaining: 1h 47m 25s\n",
            "153:\tlearn: 0.3779516\ttest: 0.5420194\tbest: 0.5287384 (68)\ttotal: 3m 24s\tremaining: 1h 47m 17s\n",
            "154:\tlearn: 0.3773540\ttest: 0.5423321\tbest: 0.5287384 (68)\ttotal: 3m 26s\tremaining: 1h 47m 44s\n",
            "155:\tlearn: 0.3767672\ttest: 0.5423602\tbest: 0.5287384 (68)\ttotal: 3m 28s\tremaining: 1h 48m\n",
            "156:\tlearn: 0.3763084\ttest: 0.5424285\tbest: 0.5287384 (68)\ttotal: 3m 30s\tremaining: 1h 47m 58s\n",
            "157:\tlearn: 0.3756641\ttest: 0.5428004\tbest: 0.5287384 (68)\ttotal: 3m 31s\tremaining: 1h 47m 56s\n",
            "158:\tlearn: 0.3754240\ttest: 0.5427757\tbest: 0.5287384 (68)\ttotal: 3m 32s\tremaining: 1h 47m 54s\n",
            "159:\tlearn: 0.3751426\ttest: 0.5427378\tbest: 0.5287384 (68)\ttotal: 3m 33s\tremaining: 1h 47m 50s\n",
            "160:\tlearn: 0.3746830\ttest: 0.5430634\tbest: 0.5287384 (68)\ttotal: 3m 35s\tremaining: 1h 47m 43s\n",
            "161:\tlearn: 0.3740820\ttest: 0.5430846\tbest: 0.5287384 (68)\ttotal: 3m 36s\tremaining: 1h 47m 37s\n",
            "162:\tlearn: 0.3737272\ttest: 0.5434190\tbest: 0.5287384 (68)\ttotal: 3m 37s\tremaining: 1h 47m 34s\n",
            "163:\tlearn: 0.3731643\ttest: 0.5438572\tbest: 0.5287384 (68)\ttotal: 3m 39s\tremaining: 1h 47m 47s\n",
            "164:\tlearn: 0.3728535\ttest: 0.5444087\tbest: 0.5287384 (68)\ttotal: 3m 41s\tremaining: 1h 48m 7s\n",
            "165:\tlearn: 0.3723816\ttest: 0.5448926\tbest: 0.5287384 (68)\ttotal: 3m 42s\tremaining: 1h 48m 3s\n",
            "166:\tlearn: 0.3719506\ttest: 0.5450641\tbest: 0.5287384 (68)\ttotal: 3m 43s\tremaining: 1h 47m 59s\n",
            "167:\tlearn: 0.3714262\ttest: 0.5451325\tbest: 0.5287384 (68)\ttotal: 3m 45s\tremaining: 1h 47m 57s\n",
            "168:\tlearn: 0.3709316\ttest: 0.5450752\tbest: 0.5287384 (68)\ttotal: 3m 46s\tremaining: 1h 47m 50s\n",
            "Stopped by overfitting detector  (100 iterations wait)\n",
            "\n",
            "bestTest = 0.5287384115\n",
            "bestIteration = 68\n",
            "\n",
            "Shrink model to first 69 iterations.\n"
          ]
        }
      ]
    },
    {
      "cell_type": "code",
      "source": [
        "synthetic_shap_summary.get('selected_features_names')"
      ],
      "metadata": {
        "id": "YYgAjeMwxYcu",
        "colab": {
          "base_uri": "https://localhost:8080/"
        },
        "outputId": "2742e6ea-0af5-47a6-e5d7-49ac32c93801"
      },
      "execution_count": null,
      "outputs": [
        {
          "output_type": "execute_result",
          "data": {
            "text/plain": [
              "['rank',\n",
              " 'fav_actors',\n",
              " 'fav_director',\n",
              " 'fav_genres',\n",
              " 'fav_country',\n",
              " 'kids_flg',\n",
              " 'for_adults',\n",
              " 'for_kids',\n",
              " 'main_actor',\n",
              " 'main_country',\n",
              " 'main_director',\n",
              " 'main_genre',\n",
              " 'movie_cast_emb',\n",
              " 'movie_meta_emb',\n",
              " 'popularity_movie_id',\n",
              " 'watch_duration_minutes_mean_by_movie',\n",
              " 'year',\n",
              " 'Криминальное',\n",
              " 'Мелодрамы',\n",
              " 'Мультфильмы',\n",
              " 'США',\n",
              " 'Семейное',\n",
              " 'Сериал',\n",
              " 'Фантастика',\n",
              " 'Фэнтези']"
            ]
          },
          "metadata": {},
          "execution_count": 120
        }
      ]
    },
    {
      "cell_type": "code",
      "source": [
        "# X_train = X_train[synthetic_shap_summary.get('selected_features_names')]\n",
        "# X_test = X_test[synthetic_shap_summary.get('selected_features_names')]"
      ],
      "metadata": {
        "id": "JAh5ASs6xxf1"
      },
      "execution_count": null,
      "outputs": []
    },
    {
      "cell_type": "code",
      "execution_count": null,
      "metadata": {
        "id": "w3wA4UCOL_Pc"
      },
      "outputs": [],
      "source": [
        "# cbm_classifier.fit(\n",
        "#     X_train, y_train,\n",
        "#     eval_set=(X_test, y_test),\n",
        "#     # early_stopping_rounds = 100, # to avoid overfitting,\n",
        "#     # cat_features = CATEGORICAL_COLS \n",
        "# )"
      ]
    },
    {
      "cell_type": "markdown",
      "metadata": {
        "id": "EpsdExMAL_Pd"
      },
      "source": [
        "## 2.5.3. Model Evaluation"
      ]
    },
    {
      "cell_type": "markdown",
      "metadata": {
        "id": "VhctC0LdL_Pd"
      },
      "source": [
        "Let's make basic shapley plot to investigate feature importance"
      ]
    },
    {
      "cell_type": "code",
      "execution_count": null,
      "metadata": {
        "id": "zRCSimKrL_Pd"
      },
      "outputs": [],
      "source": [
        "explainer = shap.TreeExplainer(cbm_classifier)\n",
        "shap_values = explainer.shap_values(X_train)"
      ]
    },
    {
      "cell_type": "code",
      "execution_count": null,
      "metadata": {
        "id": "v_TEjsjLL_Pd",
        "colab": {
          "base_uri": "https://localhost:8080/",
          "height": 957
        },
        "outputId": "5dcdccd9-e9e2-4315-fe9d-63d05f851927"
      },
      "outputs": [
        {
          "output_type": "display_data",
          "data": {
            "text/plain": [
              "<Figure size 800x950 with 1 Axes>"
            ],
            "image/png": "[encoded data removed]"
          },
          "metadata": {}
        }
      ],
      "source": [
        "shap.summary_plot(shap_values, X_train, show = False, color_bar = False)"
      ]
    },
    {
      "cell_type": "code",
      "execution_count": null,
      "metadata": {
        "id": "2j8_vTOJL_Pd"
      },
      "outputs": [],
      "source": [
        "# predictions on test\n",
        "y_test_pred = cbm_classifier.predict_proba(X_test)"
      ]
    },
    {
      "cell_type": "code",
      "source": [
        "y_test_pred[:, 1]"
      ],
      "metadata": {
        "id": "rrvqSbwG1Tfs",
        "colab": {
          "base_uri": "https://localhost:8080/"
        },
        "outputId": "c8da8083-a4f4-4505-ec37-267333b4f12a"
      },
      "execution_count": null,
      "outputs": [
        {
          "output_type": "execute_result",
          "data": {
            "text/plain": [
              "array([0.36516361, 0.39306672, 0.74827584, ..., 0.8089948 , 0.21357698,\n",
              "       0.22192305])"
            ]
          },
          "metadata": {},
          "execution_count": 126
        }
      ]
    },
    {
      "cell_type": "code",
      "execution_count": null,
      "metadata": {
        "id": "LjORKT7_L_Pd",
        "colab": {
          "base_uri": "https://localhost:8080/"
        },
        "outputId": "d3b57bbc-d47b-4e12-a096-04e38132de46"
      },
      "outputs": [
        {
          "output_type": "stream",
          "name": "stdout",
          "text": [
            "ROC AUC score = 0.81704\n"
          ]
        }
      ],
      "source": [
        "from sklearn.metrics import roc_auc_score\n",
        "\n",
        "print(f\"ROC AUC score = {roc_auc_score(y_test, y_test_pred[:, 1]):.5f}\")"
      ]
    },
    {
      "cell_type": "markdown",
      "metadata": {
        "id": "T8rjtJPoL_Pe"
      },
      "source": [
        "# TODO\n",
        "- Estimate the performance of the model on the test set using Precision@K, MRR, MAP@K: LightFM seperately, LightFM + Ranker"
      ]
    },
    {
      "cell_type": "code",
      "source": [
        "def compute_metrics(df_true: pd.DataFrame, \n",
        "                    df_pred: pd.DataFrame, \n",
        "                    K: int, \n",
        "                    rank_col: str = 'rank') -> pd.DataFrame:\n",
        "\n",
        "    result = pd.DataFrame(columns=['Metric', 'Value'])\n",
        "\n",
        "    test_recs = df_true.set_index(['user_id', 'movie_id']).join(df_pred.set_index(['user_id', 'movie_id']))\n",
        "    test_recs = test_recs.sort_values(by=['user_id', rank_col])\n",
        "\n",
        "    test_recs['users_item_count'] = test_recs.groupby(level='user_id')[rank_col].transform(np.size)\n",
        "    test_recs['reciprocal_rank'] = (1 / test_recs[rank_col]).fillna(0)\n",
        "    test_recs['cumulative_rank'] = test_recs.groupby(level='user_id').cumcount() + 1\n",
        "    test_recs['cumulative_rank'] = test_recs['cumulative_rank'] / test_recs[rank_col]\n",
        "    \n",
        "    users_count = test_recs.index.get_level_values('user_id').nunique()\n",
        "\n",
        "    for k in range(1, K + 1):\n",
        "        hit_k = f'hit@{k}'\n",
        "        test_recs[hit_k] = test_recs[rank_col] <= k\n",
        "        result.loc[len(result.index)] = [f'Precision@{k}', (test_recs[hit_k] / k).sum() / users_count]\n",
        "\n",
        "    result.loc[len(result.index)] = [f'MAP@{K}', (test_recs['cumulative_rank'] / test_recs['users_item_count']).sum() / users_count]\n",
        "    result.loc[len(result.index)] = [f'MRR', test_recs.groupby(level='user_id')['reciprocal_rank'].max().mean()]\n",
        "\n",
        "    ideal_dcg = df_true.groupby('user_id').apply(lambda x: np.sum(1 / np.log2(np.arange(2, len(x) + 2))))\n",
        "    ideal_dcg = ideal_dcg.sum()\n",
        "    \n",
        "    predicted_dcg = test_recs.reset_index().groupby('user_id').apply(lambda x: np.sum(x[rank_col].head(K).apply(lambda r: 1 / np.log2(r + 2))))\n",
        "    predicted_dcg = predicted_dcg.sum()\n",
        "    \n",
        "    if ideal_dcg == 0:\n",
        "        ndcg = 0\n",
        "    else:\n",
        "        ndcg = predicted_dcg / ideal_dcg\n",
        "    \n",
        "    result.loc[len(result.index)] = [f'NDCG@{K}', ndcg]\n",
        "\n",
        "    return result"
      ],
      "metadata": {
        "id": "R8Ywh-lKQv9l"
      },
      "execution_count": null,
      "outputs": []
    },
    {
      "cell_type": "code",
      "source": [
        "# we will focus on warm start - remove cold start users\n",
        "global_test = global_test[global_test['user_id'].isin(local_train['user_id'].unique())]"
      ],
      "metadata": {
        "id": "vt-cZTWMhi0I"
      },
      "execution_count": null,
      "outputs": []
    },
    {
      "cell_type": "code",
      "source": [
        "top_N = 100\n",
        "\n",
        "# let's make predictions for all users in global test\n",
        "global_test_preds = pd.DataFrame({\n",
        "    'user_id': global_test['user_id'].unique()\n",
        "    })\n",
        "\n",
        "# form user-known items\n",
        "known_items = {user_id: item_id_gr['movie_id'].to_list() for user_id, item_id_gr in local_train[['user_id', 'movie_id']].groupby('user_id')}"
      ],
      "metadata": {
        "id": "XtSOtUDOhnid"
      },
      "execution_count": null,
      "outputs": []
    },
    {
      "cell_type": "code",
      "source": [
        "mapper = generate_lightfm_recs_mapper(\n",
        "    lfm_model, \n",
        "    item_ids=all_cols, \n",
        "    known_items=known_items,\n",
        "    N=top_N,\n",
        "    user_features=None, \n",
        "    item_features=None, \n",
        "    user_mapping=lightfm_mapping['users_mapping'],\n",
        "    item_inv_mapping=lightfm_mapping['items_inv_mapping'],\n",
        "    num_threads=20\n",
        ")\n",
        "\n",
        "global_test_preds['movie_id'] = global_test_preds['user_id'].map(mapper)\n",
        "global_test_preds = global_test_preds.explode('movie_id').reset_index(drop=True)\n",
        "global_test_preds['rank'] = global_test_preds.groupby('user_id').cumcount() + 1 "
      ],
      "metadata": {
        "id": "v2CFj7VLhnln"
      },
      "execution_count": null,
      "outputs": []
    },
    {
      "cell_type": "code",
      "source": [
        "lfm_metrics = compute_metrics(global_test[['user_id', 'movie_id']],\n",
        "                              global_test_preds, \n",
        "                              K=10)\n",
        "lfm_metrics"
      ],
      "metadata": {
        "id": "UBgvy30Oheb6",
        "colab": {
          "base_uri": "https://localhost:8080/",
          "height": 457
        },
        "outputId": "34187cdf-d9f3-4549-e3e7-7004b20c1253"
      },
      "execution_count": null,
      "outputs": [
        {
          "output_type": "execute_result",
          "data": {
            "text/plain": [
              "          Metric  Value\n",
              "0    Precision@1  0.048\n",
              "1    Precision@2  0.043\n",
              "2    Precision@3  0.040\n",
              "3    Precision@4  0.038\n",
              "4    Precision@5  0.035\n",
              "5    Precision@6  0.034\n",
              "6    Precision@7  0.033\n",
              "7    Precision@8  0.032\n",
              "8    Precision@9  0.030\n",
              "9   Precision@10  0.029\n",
              "10        MAP@10  0.038\n",
              "11           MRR  0.072\n",
              "12       NDCG@10  0.095"
            ],
            "text/html": [
              "\n",
              "  <div id=\"df-0c3c429e-c8d5-41b0-922b-9168d5bedb73\">\n",
              "    <div class=\"colab-df-container\">\n",
              "      <div>\n",
              "<style scoped>\n",
              "    .dataframe tbody tr th:only-of-type {\n",
              "        vertical-align: middle;\n",
              "    }\n",
              "\n",
              "    .dataframe tbody tr th {\n",
              "        vertical-align: top;\n",
              "    }\n",
              "\n",
              "    .dataframe thead th {\n",
              "        text-align: right;\n",
              "    }\n",
              "</style>\n",
              "<table border=\"1\" class=\"dataframe\">\n",
              "  <thead>\n",
              "    <tr style=\"text-align: right;\">\n",
              "      <th></th>\n",
              "      <th>Metric</th>\n",
              "      <th>Value</th>\n",
              "    </tr>\n",
              "  </thead>\n",
              "  <tbody>\n",
              "    <tr>\n",
              "      <th>0</th>\n",
              "      <td>Precision@1</td>\n",
              "      <td>0.048</td>\n",
              "    </tr>\n",
              "    <tr>\n",
              "      <th>1</th>\n",
              "      <td>Precision@2</td>\n",
              "      <td>0.043</td>\n",
              "    </tr>\n",
              "    <tr>\n",
              "      <th>2</th>\n",
              "      <td>Precision@3</td>\n",
              "      <td>0.040</td>\n",
              "    </tr>\n",
              "    <tr>\n",
              "      <th>3</th>\n",
              "      <td>Precision@4</td>\n",
              "      <td>0.038</td>\n",
              "    </tr>\n",
              "    <tr>\n",
              "      <th>4</th>\n",
              "      <td>Precision@5</td>\n",
              "      <td>0.035</td>\n",
              "    </tr>\n",
              "    <tr>\n",
              "      <th>5</th>\n",
              "      <td>Precision@6</td>\n",
              "      <td>0.034</td>\n",
              "    </tr>\n",
              "    <tr>\n",
              "      <th>6</th>\n",
              "      <td>Precision@7</td>\n",
              "      <td>0.033</td>\n",
              "    </tr>\n",
              "    <tr>\n",
              "      <th>7</th>\n",
              "      <td>Precision@8</td>\n",
              "      <td>0.032</td>\n",
              "    </tr>\n",
              "    <tr>\n",
              "      <th>8</th>\n",
              "      <td>Precision@9</td>\n",
              "      <td>0.030</td>\n",
              "    </tr>\n",
              "    <tr>\n",
              "      <th>9</th>\n",
              "      <td>Precision@10</td>\n",
              "      <td>0.029</td>\n",
              "    </tr>\n",
              "    <tr>\n",
              "      <th>10</th>\n",
              "      <td>MAP@10</td>\n",
              "      <td>0.038</td>\n",
              "    </tr>\n",
              "    <tr>\n",
              "      <th>11</th>\n",
              "      <td>MRR</td>\n",
              "      <td>0.072</td>\n",
              "    </tr>\n",
              "    <tr>\n",
              "      <th>12</th>\n",
              "      <td>NDCG@10</td>\n",
              "      <td>0.095</td>\n",
              "    </tr>\n",
              "  </tbody>\n",
              "</table>\n",
              "</div>\n",
              "      <button class=\"colab-df-convert\" onclick=\"convertToInteractive('df-0c3c429e-c8d5-41b0-922b-9168d5bedb73')\"\n",
              "              title=\"Convert this dataframe to an interactive table.\"\n",
              "              style=\"display:none;\">\n",
              "        \n",
              "  <svg xmlns=\"http://www.w3.org/2000/svg\" height=\"24px\"viewBox=\"0 0 24 24\"\n",
              "       width=\"24px\">\n",
              "    <path d=\"M0 0h24v24H0V0z\" fill=\"none\"/>\n",
              "    <path d=\"M18.56 5.44l.94 2.06.94-2.06 2.06-.94-2.06-.94-.94-2.06-.94 2.06-2.06.94zm-11 1L8.5 8.5l.94-2.06 2.06-.94-2.06-.94L8.5 2.5l-.94 2.06-2.06.94zm10 10l.94 2.06.94-2.06 2.06-.94-2.06-.94-.94-2.06-.94 2.06-2.06.94z\"/><path d=\"M17.41 7.96l-1.37-1.37c-.4-.4-.92-.59-1.43-.59-.52 0-1.04.2-1.43.59L10.3 9.45l-7.72 7.72c-.78.78-.78 2.05 0 2.83L4 21.41c.39.39.9.59 1.41.59.51 0 1.02-.2 1.41-.59l7.78-7.78 2.81-2.81c.8-.78.8-2.07 0-2.86zM5.41 20L4 18.59l7.72-7.72 1.47 1.35L5.41 20z\"/>\n",
              "  </svg>\n",
              "      </button>\n",
              "      \n",
              "  <style>\n",
              "    .colab-df-container {\n",
              "      display:flex;\n",
              "      flex-wrap:wrap;\n",
              "      gap: 12px;\n",
              "    }\n",
              "\n",
              "    .colab-df-convert {\n",
              "      background-color: #E8F0FE;\n",
              "      border: none;\n",
              "      border-radius: 50%;\n",
              "      cursor: pointer;\n",
              "      display: none;\n",
              "      fill: #1967D2;\n",
              "      height: 32px;\n",
              "      padding: 0 0 0 0;\n",
              "      width: 32px;\n",
              "    }\n",
              "\n",
              "    .colab-df-convert:hover {\n",
              "      background-color: #E2EBFA;\n",
              "      box-shadow: 0px 1px 2px rgba(60, 64, 67, 0.3), 0px 1px 3px 1px rgba(60, 64, 67, 0.15);\n",
              "      fill: #174EA6;\n",
              "    }\n",
              "\n",
              "    [theme=dark] .colab-df-convert {\n",
              "      background-color: #3B4455;\n",
              "      fill: #D2E3FC;\n",
              "    }\n",
              "\n",
              "    [theme=dark] .colab-df-convert:hover {\n",
              "      background-color: #434B5C;\n",
              "      box-shadow: 0px 1px 3px 1px rgba(0, 0, 0, 0.15);\n",
              "      filter: drop-shadow(0px 1px 2px rgba(0, 0, 0, 0.3));\n",
              "      fill: #FFFFFF;\n",
              "    }\n",
              "  </style>\n",
              "\n",
              "      <script>\n",
              "        const buttonEl =\n",
              "          document.querySelector('#df-0c3c429e-c8d5-41b0-922b-9168d5bedb73 button.colab-df-convert');\n",
              "        buttonEl.style.display =\n",
              "          google.colab.kernel.accessAllowed ? 'block' : 'none';\n",
              "\n",
              "        async function convertToInteractive(key) {\n",
              "          const element = document.querySelector('#df-0c3c429e-c8d5-41b0-922b-9168d5bedb73');\n",
              "          const dataTable =\n",
              "            await google.colab.kernel.invokeFunction('convertToInteractive',\n",
              "                                                     [key], {});\n",
              "          if (!dataTable) return;\n",
              "\n",
              "          const docLinkHtml = 'Like what you see? Visit the ' +\n",
              "            '<a target=\"_blank\" href=https://colab.research.google.com/notebooks/data_table.ipynb>data table notebook</a>'\n",
              "            + ' to learn more about interactive tables.';\n",
              "          element.innerHTML = '';\n",
              "          dataTable['output_type'] = 'display_data';\n",
              "          await google.colab.output.renderOutput(dataTable, element);\n",
              "          const docLink = document.createElement('div');\n",
              "          docLink.innerHTML = docLinkHtml;\n",
              "          element.appendChild(docLink);\n",
              "        }\n",
              "      </script>\n",
              "    </div>\n",
              "  </div>\n",
              "  "
            ]
          },
          "metadata": {},
          "execution_count": 231
        }
      ]
    },
    {
      "cell_type": "code",
      "source": [
        "global_test_lfm_ctb_preds = global_test_preds.copy()\n",
        "\n",
        "# joins user features\n",
        "global_test_lfm_ctb_set = pd.merge(global_test_lfm_ctb_preds, \n",
        "                                   users_metadata[['user_id'] + USER_FEATURES],\n",
        "                                   how='left', on=['user_id'])\n",
        "# joins item features\n",
        "global_test_lfm_ctb_set = pd.merge(global_test_lfm_ctb_set, \n",
        "                                   movies_metadata[['movie_id'] + ITEM_FEATURES],\n",
        "                                   how='left', on=['movie_id'])\n",
        "# global_test_lfm_ctb_set = global_test_lfm_ctb_set[synthetic_shap_summary.get('selected_features_names')]\n",
        "global_test_lfm_ctb_set = global_test_lfm_ctb_set.fillna(global_test_lfm_ctb_set.mode().iloc[0])"
      ],
      "metadata": {
        "id": "gXQh-PlrhzbP"
      },
      "execution_count": null,
      "outputs": []
    },
    {
      "cell_type": "code",
      "source": [
        "# synthetic_shap_summary.get('selected_features_names')"
      ],
      "metadata": {
        "id": "m_Oz5LZu-ey-"
      },
      "execution_count": null,
      "outputs": []
    },
    {
      "cell_type": "code",
      "source": [
        "# global_test_lfm_ctb_set.head()"
      ],
      "metadata": {
        "id": "8WDTBGBc-afy"
      },
      "execution_count": null,
      "outputs": []
    },
    {
      "cell_type": "code",
      "source": [
        "ctb_prediction = cbm_classifier.predict_proba(global_test_lfm_ctb_set.drop(ID_COLS + DROP_COLS, axis=1, errors='ignore'))\n",
        "\n",
        "global_test_lfm_ctb_preds['ctb_pred'] = ctb_prediction[:, 1]\n",
        "global_test_lfm_ctb_preds.head()"
      ],
      "metadata": {
        "id": "xY29ijSXhzeH",
        "colab": {
          "base_uri": "https://localhost:8080/",
          "height": 206
        },
        "outputId": "e0c0bc2f-19d4-418e-cdfd-c5ec72c2a6d0"
      },
      "execution_count": null,
      "outputs": [
        {
          "output_type": "execute_result",
          "data": {
            "text/plain": [
              "   user_id                              movie_id  rank  ctb_pred\n",
              "0    58953  3c8f2117-3853-4682-b024-814a15de1b69     1     0.293\n",
              "1    58953  91f9d892-a508-4962-91e9-abacd93e0830     2     0.797\n",
              "2    58953  0f33af53-5d2d-4c82-a2e9-307fcabdcb2d     3     0.680\n",
              "3    58953  703b202e-1774-4b93-8a0c-e848d7d3abcc     4     0.155\n",
              "4    58953  72d1b1f1-c88d-4c10-8a13-6e1533fdfef0     5     0.196"
            ],
            "text/html": [
              "\n",
              "  <div id=\"df-b4a135f0-2828-4293-9ac8-3a96a0f30852\">\n",
              "    <div class=\"colab-df-container\">\n",
              "      <div>\n",
              "<style scoped>\n",
              "    .dataframe tbody tr th:only-of-type {\n",
              "        vertical-align: middle;\n",
              "    }\n",
              "\n",
              "    .dataframe tbody tr th {\n",
              "        vertical-align: top;\n",
              "    }\n",
              "\n",
              "    .dataframe thead th {\n",
              "        text-align: right;\n",
              "    }\n",
              "</style>\n",
              "<table border=\"1\" class=\"dataframe\">\n",
              "  <thead>\n",
              "    <tr style=\"text-align: right;\">\n",
              "      <th></th>\n",
              "      <th>user_id</th>\n",
              "      <th>movie_id</th>\n",
              "      <th>rank</th>\n",
              "      <th>ctb_pred</th>\n",
              "    </tr>\n",
              "  </thead>\n",
              "  <tbody>\n",
              "    <tr>\n",
              "      <th>0</th>\n",
              "      <td>58953</td>\n",
              "      <td>3c8f2117-3853-4682-b024-814a15de1b69</td>\n",
              "      <td>1</td>\n",
              "      <td>0.293</td>\n",
              "    </tr>\n",
              "    <tr>\n",
              "      <th>1</th>\n",
              "      <td>58953</td>\n",
              "      <td>91f9d892-a508-4962-91e9-abacd93e0830</td>\n",
              "      <td>2</td>\n",
              "      <td>0.797</td>\n",
              "    </tr>\n",
              "    <tr>\n",
              "      <th>2</th>\n",
              "      <td>58953</td>\n",
              "      <td>0f33af53-5d2d-4c82-a2e9-307fcabdcb2d</td>\n",
              "      <td>3</td>\n",
              "      <td>0.680</td>\n",
              "    </tr>\n",
              "    <tr>\n",
              "      <th>3</th>\n",
              "      <td>58953</td>\n",
              "      <td>703b202e-1774-4b93-8a0c-e848d7d3abcc</td>\n",
              "      <td>4</td>\n",
              "      <td>0.155</td>\n",
              "    </tr>\n",
              "    <tr>\n",
              "      <th>4</th>\n",
              "      <td>58953</td>\n",
              "      <td>72d1b1f1-c88d-4c10-8a13-6e1533fdfef0</td>\n",
              "      <td>5</td>\n",
              "      <td>0.196</td>\n",
              "    </tr>\n",
              "  </tbody>\n",
              "</table>\n",
              "</div>\n",
              "      <button class=\"colab-df-convert\" onclick=\"convertToInteractive('df-b4a135f0-2828-4293-9ac8-3a96a0f30852')\"\n",
              "              title=\"Convert this dataframe to an interactive table.\"\n",
              "              style=\"display:none;\">\n",
              "        \n",
              "  <svg xmlns=\"http://www.w3.org/2000/svg\" height=\"24px\"viewBox=\"0 0 24 24\"\n",
              "       width=\"24px\">\n",
              "    <path d=\"M0 0h24v24H0V0z\" fill=\"none\"/>\n",
              "    <path d=\"M18.56 5.44l.94 2.06.94-2.06 2.06-.94-2.06-.94-.94-2.06-.94 2.06-2.06.94zm-11 1L8.5 8.5l.94-2.06 2.06-.94-2.06-.94L8.5 2.5l-.94 2.06-2.06.94zm10 10l.94 2.06.94-2.06 2.06-.94-2.06-.94-.94-2.06-.94 2.06-2.06.94z\"/><path d=\"M17.41 7.96l-1.37-1.37c-.4-.4-.92-.59-1.43-.59-.52 0-1.04.2-1.43.59L10.3 9.45l-7.72 7.72c-.78.78-.78 2.05 0 2.83L4 21.41c.39.39.9.59 1.41.59.51 0 1.02-.2 1.41-.59l7.78-7.78 2.81-2.81c.8-.78.8-2.07 0-2.86zM5.41 20L4 18.59l7.72-7.72 1.47 1.35L5.41 20z\"/>\n",
              "  </svg>\n",
              "      </button>\n",
              "      \n",
              "  <style>\n",
              "    .colab-df-container {\n",
              "      display:flex;\n",
              "      flex-wrap:wrap;\n",
              "      gap: 12px;\n",
              "    }\n",
              "\n",
              "    .colab-df-convert {\n",
              "      background-color: #E8F0FE;\n",
              "      border: none;\n",
              "      border-radius: 50%;\n",
              "      cursor: pointer;\n",
              "      display: none;\n",
              "      fill: #1967D2;\n",
              "      height: 32px;\n",
              "      padding: 0 0 0 0;\n",
              "      width: 32px;\n",
              "    }\n",
              "\n",
              "    .colab-df-convert:hover {\n",
              "      background-color: #E2EBFA;\n",
              "      box-shadow: 0px 1px 2px rgba(60, 64, 67, 0.3), 0px 1px 3px 1px rgba(60, 64, 67, 0.15);\n",
              "      fill: #174EA6;\n",
              "    }\n",
              "\n",
              "    [theme=dark] .colab-df-convert {\n",
              "      background-color: #3B4455;\n",
              "      fill: #D2E3FC;\n",
              "    }\n",
              "\n",
              "    [theme=dark] .colab-df-convert:hover {\n",
              "      background-color: #434B5C;\n",
              "      box-shadow: 0px 1px 3px 1px rgba(0, 0, 0, 0.15);\n",
              "      filter: drop-shadow(0px 1px 2px rgba(0, 0, 0, 0.3));\n",
              "      fill: #FFFFFF;\n",
              "    }\n",
              "  </style>\n",
              "\n",
              "      <script>\n",
              "        const buttonEl =\n",
              "          document.querySelector('#df-b4a135f0-2828-4293-9ac8-3a96a0f30852 button.colab-df-convert');\n",
              "        buttonEl.style.display =\n",
              "          google.colab.kernel.accessAllowed ? 'block' : 'none';\n",
              "\n",
              "        async function convertToInteractive(key) {\n",
              "          const element = document.querySelector('#df-b4a135f0-2828-4293-9ac8-3a96a0f30852');\n",
              "          const dataTable =\n",
              "            await google.colab.kernel.invokeFunction('convertToInteractive',\n",
              "                                                     [key], {});\n",
              "          if (!dataTable) return;\n",
              "\n",
              "          const docLinkHtml = 'Like what you see? Visit the ' +\n",
              "            '<a target=\"_blank\" href=https://colab.research.google.com/notebooks/data_table.ipynb>data table notebook</a>'\n",
              "            + ' to learn more about interactive tables.';\n",
              "          element.innerHTML = '';\n",
              "          dataTable['output_type'] = 'display_data';\n",
              "          await google.colab.output.renderOutput(dataTable, element);\n",
              "          const docLink = document.createElement('div');\n",
              "          docLink.innerHTML = docLinkHtml;\n",
              "          element.appendChild(docLink);\n",
              "        }\n",
              "      </script>\n",
              "    </div>\n",
              "  </div>\n",
              "  "
            ]
          },
          "metadata": {},
          "execution_count": 152
        }
      ]
    },
    {
      "cell_type": "code",
      "source": [
        "global_test_lfm_ctb_preds = global_test_lfm_ctb_preds.sort_values(by=['user_id', 'ctb_pred'], \n",
        "                                                                  ascending=[True, False])\n",
        "global_test_lfm_ctb_preds['rank_ctb'] = global_test_lfm_ctb_preds.groupby('user_id').cumcount() + 1\n",
        "global_test_lfm_ctb_preds.head(10)"
      ],
      "metadata": {
        "id": "beg19W9fhzgu",
        "colab": {
          "base_uri": "https://localhost:8080/",
          "height": 363
        },
        "outputId": "5fa1d043-fee4-4ab4-b2fd-c43b64dd69dc"
      },
      "execution_count": null,
      "outputs": [
        {
          "output_type": "execute_result",
          "data": {
            "text/plain": [
              "         user_id                              movie_id  rank  ctb_pred  \\\n",
              "1211829    56250  925ade32-7ad1-40c3-9964-6194b395b242    30     0.886   \n",
              "1211809    56250  f40dfca2-27ef-40b3-9119-a20dfe965013    10     0.761   \n",
              "1211827    56250  7bee4e05-387f-4413-a406-cb5d1a80f1b8    28     0.733   \n",
              "1211817    56250  2160ce47-2962-4c87-9ccf-81d942ad84c8    18     0.560   \n",
              "1211837    56250  a53d1aef-c3e2-41d5-b27e-d4f05ef56b05    38     0.545   \n",
              "1211800    56250  91f9d892-a508-4962-91e9-abacd93e0830     1     0.515   \n",
              "1211812    56250  7dcc3cf7-943b-4964-9b86-a7d9ab5c767d    13     0.488   \n",
              "1211805    56250  42f5cb31-f333-426c-a95b-8e106741de38     6     0.473   \n",
              "1211802    56250  d9dd799b-7669-4a85-a9d1-d42eb436229f     3     0.439   \n",
              "1211801    56250  731e42d2-e501-4e77-aba6-28e96f9e8a19     2     0.410   \n",
              "\n",
              "         rank_ctb  \n",
              "1211829         1  \n",
              "1211809         2  \n",
              "1211827         3  \n",
              "1211817         4  \n",
              "1211837         5  \n",
              "1211800         6  \n",
              "1211812         7  \n",
              "1211805         8  \n",
              "1211802         9  \n",
              "1211801        10  "
            ],
            "text/html": [
              "\n",
              "  <div id=\"df-c59b73f5-9b3f-489e-b25c-dd3a72d26010\">\n",
              "    <div class=\"colab-df-container\">\n",
              "      <div>\n",
              "<style scoped>\n",
              "    .dataframe tbody tr th:only-of-type {\n",
              "        vertical-align: middle;\n",
              "    }\n",
              "\n",
              "    .dataframe tbody tr th {\n",
              "        vertical-align: top;\n",
              "    }\n",
              "\n",
              "    .dataframe thead th {\n",
              "        text-align: right;\n",
              "    }\n",
              "</style>\n",
              "<table border=\"1\" class=\"dataframe\">\n",
              "  <thead>\n",
              "    <tr style=\"text-align: right;\">\n",
              "      <th></th>\n",
              "      <th>user_id</th>\n",
              "      <th>movie_id</th>\n",
              "      <th>rank</th>\n",
              "      <th>ctb_pred</th>\n",
              "      <th>rank_ctb</th>\n",
              "    </tr>\n",
              "  </thead>\n",
              "  <tbody>\n",
              "    <tr>\n",
              "      <th>1211829</th>\n",
              "      <td>56250</td>\n",
              "      <td>925ade32-7ad1-40c3-9964-6194b395b242</td>\n",
              "      <td>30</td>\n",
              "      <td>0.886</td>\n",
              "      <td>1</td>\n",
              "    </tr>\n",
              "    <tr>\n",
              "      <th>1211809</th>\n",
              "      <td>56250</td>\n",
              "      <td>f40dfca2-27ef-40b3-9119-a20dfe965013</td>\n",
              "      <td>10</td>\n",
              "      <td>0.761</td>\n",
              "      <td>2</td>\n",
              "    </tr>\n",
              "    <tr>\n",
              "      <th>1211827</th>\n",
              "      <td>56250</td>\n",
              "      <td>7bee4e05-387f-4413-a406-cb5d1a80f1b8</td>\n",
              "      <td>28</td>\n",
              "      <td>0.733</td>\n",
              "      <td>3</td>\n",
              "    </tr>\n",
              "    <tr>\n",
              "      <th>1211817</th>\n",
              "      <td>56250</td>\n",
              "      <td>2160ce47-2962-4c87-9ccf-81d942ad84c8</td>\n",
              "      <td>18</td>\n",
              "      <td>0.560</td>\n",
              "      <td>4</td>\n",
              "    </tr>\n",
              "    <tr>\n",
              "      <th>1211837</th>\n",
              "      <td>56250</td>\n",
              "      <td>a53d1aef-c3e2-41d5-b27e-d4f05ef56b05</td>\n",
              "      <td>38</td>\n",
              "      <td>0.545</td>\n",
              "      <td>5</td>\n",
              "    </tr>\n",
              "    <tr>\n",
              "      <th>1211800</th>\n",
              "      <td>56250</td>\n",
              "      <td>91f9d892-a508-4962-91e9-abacd93e0830</td>\n",
              "      <td>1</td>\n",
              "      <td>0.515</td>\n",
              "      <td>6</td>\n",
              "    </tr>\n",
              "    <tr>\n",
              "      <th>1211812</th>\n",
              "      <td>56250</td>\n",
              "      <td>7dcc3cf7-943b-4964-9b86-a7d9ab5c767d</td>\n",
              "      <td>13</td>\n",
              "      <td>0.488</td>\n",
              "      <td>7</td>\n",
              "    </tr>\n",
              "    <tr>\n",
              "      <th>1211805</th>\n",
              "      <td>56250</td>\n",
              "      <td>42f5cb31-f333-426c-a95b-8e106741de38</td>\n",
              "      <td>6</td>\n",
              "      <td>0.473</td>\n",
              "      <td>8</td>\n",
              "    </tr>\n",
              "    <tr>\n",
              "      <th>1211802</th>\n",
              "      <td>56250</td>\n",
              "      <td>d9dd799b-7669-4a85-a9d1-d42eb436229f</td>\n",
              "      <td>3</td>\n",
              "      <td>0.439</td>\n",
              "      <td>9</td>\n",
              "    </tr>\n",
              "    <tr>\n",
              "      <th>1211801</th>\n",
              "      <td>56250</td>\n",
              "      <td>731e42d2-e501-4e77-aba6-28e96f9e8a19</td>\n",
              "      <td>2</td>\n",
              "      <td>0.410</td>\n",
              "      <td>10</td>\n",
              "    </tr>\n",
              "  </tbody>\n",
              "</table>\n",
              "</div>\n",
              "      <button class=\"colab-df-convert\" onclick=\"convertToInteractive('df-c59b73f5-9b3f-489e-b25c-dd3a72d26010')\"\n",
              "              title=\"Convert this dataframe to an interactive table.\"\n",
              "              style=\"display:none;\">\n",
              "        \n",
              "  <svg xmlns=\"http://www.w3.org/2000/svg\" height=\"24px\"viewBox=\"0 0 24 24\"\n",
              "       width=\"24px\">\n",
              "    <path d=\"M0 0h24v24H0V0z\" fill=\"none\"/>\n",
              "    <path d=\"M18.56 5.44l.94 2.06.94-2.06 2.06-.94-2.06-.94-.94-2.06-.94 2.06-2.06.94zm-11 1L8.5 8.5l.94-2.06 2.06-.94-2.06-.94L8.5 2.5l-.94 2.06-2.06.94zm10 10l.94 2.06.94-2.06 2.06-.94-2.06-.94-.94-2.06-.94 2.06-2.06.94z\"/><path d=\"M17.41 7.96l-1.37-1.37c-.4-.4-.92-.59-1.43-.59-.52 0-1.04.2-1.43.59L10.3 9.45l-7.72 7.72c-.78.78-.78 2.05 0 2.83L4 21.41c.39.39.9.59 1.41.59.51 0 1.02-.2 1.41-.59l7.78-7.78 2.81-2.81c.8-.78.8-2.07 0-2.86zM5.41 20L4 18.59l7.72-7.72 1.47 1.35L5.41 20z\"/>\n",
              "  </svg>\n",
              "      </button>\n",
              "      \n",
              "  <style>\n",
              "    .colab-df-container {\n",
              "      display:flex;\n",
              "      flex-wrap:wrap;\n",
              "      gap: 12px;\n",
              "    }\n",
              "\n",
              "    .colab-df-convert {\n",
              "      background-color: #E8F0FE;\n",
              "      border: none;\n",
              "      border-radius: 50%;\n",
              "      cursor: pointer;\n",
              "      display: none;\n",
              "      fill: #1967D2;\n",
              "      height: 32px;\n",
              "      padding: 0 0 0 0;\n",
              "      width: 32px;\n",
              "    }\n",
              "\n",
              "    .colab-df-convert:hover {\n",
              "      background-color: #E2EBFA;\n",
              "      box-shadow: 0px 1px 2px rgba(60, 64, 67, 0.3), 0px 1px 3px 1px rgba(60, 64, 67, 0.15);\n",
              "      fill: #174EA6;\n",
              "    }\n",
              "\n",
              "    [theme=dark] .colab-df-convert {\n",
              "      background-color: #3B4455;\n",
              "      fill: #D2E3FC;\n",
              "    }\n",
              "\n",
              "    [theme=dark] .colab-df-convert:hover {\n",
              "      background-color: #434B5C;\n",
              "      box-shadow: 0px 1px 3px 1px rgba(0, 0, 0, 0.15);\n",
              "      filter: drop-shadow(0px 1px 2px rgba(0, 0, 0, 0.3));\n",
              "      fill: #FFFFFF;\n",
              "    }\n",
              "  </style>\n",
              "\n",
              "      <script>\n",
              "        const buttonEl =\n",
              "          document.querySelector('#df-c59b73f5-9b3f-489e-b25c-dd3a72d26010 button.colab-df-convert');\n",
              "        buttonEl.style.display =\n",
              "          google.colab.kernel.accessAllowed ? 'block' : 'none';\n",
              "\n",
              "        async function convertToInteractive(key) {\n",
              "          const element = document.querySelector('#df-c59b73f5-9b3f-489e-b25c-dd3a72d26010');\n",
              "          const dataTable =\n",
              "            await google.colab.kernel.invokeFunction('convertToInteractive',\n",
              "                                                     [key], {});\n",
              "          if (!dataTable) return;\n",
              "\n",
              "          const docLinkHtml = 'Like what you see? Visit the ' +\n",
              "            '<a target=\"_blank\" href=https://colab.research.google.com/notebooks/data_table.ipynb>data table notebook</a>'\n",
              "            + ' to learn more about interactive tables.';\n",
              "          element.innerHTML = '';\n",
              "          dataTable['output_type'] = 'display_data';\n",
              "          await google.colab.output.renderOutput(dataTable, element);\n",
              "          const docLink = document.createElement('div');\n",
              "          docLink.innerHTML = docLinkHtml;\n",
              "          element.appendChild(docLink);\n",
              "        }\n",
              "      </script>\n",
              "    </div>\n",
              "  </div>\n",
              "  "
            ]
          },
          "metadata": {},
          "execution_count": 153
        }
      ]
    },
    {
      "cell_type": "code",
      "source": [
        "lfm_cbm_metrics = compute_metrics(global_test[['user_id', 'movie_id']],\n",
        "                                  global_test_lfm_ctb_preds, \n",
        "                                  K=10, \n",
        "                                  rank_col='rank_ctb')\n",
        "lfm_cbm_metrics"
      ],
      "metadata": {
        "id": "CBdFTuP2hJuY",
        "colab": {
          "base_uri": "https://localhost:8080/",
          "height": 457
        },
        "outputId": "ae8a275c-1580-452b-f3c2-0abb0d93041d"
      },
      "execution_count": null,
      "outputs": [
        {
          "output_type": "execute_result",
          "data": {
            "text/plain": [
              "          Metric  Value\n",
              "0    Precision@1  0.128\n",
              "1    Precision@2  0.101\n",
              "2    Precision@3  0.086\n",
              "3    Precision@4  0.075\n",
              "4    Precision@5  0.067\n",
              "5    Precision@6  0.060\n",
              "6    Precision@7  0.056\n",
              "7    Precision@8  0.052\n",
              "8    Precision@9  0.048\n",
              "9   Precision@10  0.046\n",
              "10        MAP@10  0.072\n",
              "11           MRR  0.128\n",
              "12       NDCG@10  0.116"
            ],
            "text/html": [
              "\n",
              "  <div id=\"df-8375e74a-e55d-4060-b3a2-460f3f3cd8a0\">\n",
              "    <div class=\"colab-df-container\">\n",
              "      <div>\n",
              "<style scoped>\n",
              "    .dataframe tbody tr th:only-of-type {\n",
              "        vertical-align: middle;\n",
              "    }\n",
              "\n",
              "    .dataframe tbody tr th {\n",
              "        vertical-align: top;\n",
              "    }\n",
              "\n",
              "    .dataframe thead th {\n",
              "        text-align: right;\n",
              "    }\n",
              "</style>\n",
              "<table border=\"1\" class=\"dataframe\">\n",
              "  <thead>\n",
              "    <tr style=\"text-align: right;\">\n",
              "      <th></th>\n",
              "      <th>Metric</th>\n",
              "      <th>Value</th>\n",
              "    </tr>\n",
              "  </thead>\n",
              "  <tbody>\n",
              "    <tr>\n",
              "      <th>0</th>\n",
              "      <td>Precision@1</td>\n",
              "      <td>0.128</td>\n",
              "    </tr>\n",
              "    <tr>\n",
              "      <th>1</th>\n",
              "      <td>Precision@2</td>\n",
              "      <td>0.101</td>\n",
              "    </tr>\n",
              "    <tr>\n",
              "      <th>2</th>\n",
              "      <td>Precision@3</td>\n",
              "      <td>0.086</td>\n",
              "    </tr>\n",
              "    <tr>\n",
              "      <th>3</th>\n",
              "      <td>Precision@4</td>\n",
              "      <td>0.075</td>\n",
              "    </tr>\n",
              "    <tr>\n",
              "      <th>4</th>\n",
              "      <td>Precision@5</td>\n",
              "      <td>0.067</td>\n",
              "    </tr>\n",
              "    <tr>\n",
              "      <th>5</th>\n",
              "      <td>Precision@6</td>\n",
              "      <td>0.060</td>\n",
              "    </tr>\n",
              "    <tr>\n",
              "      <th>6</th>\n",
              "      <td>Precision@7</td>\n",
              "      <td>0.056</td>\n",
              "    </tr>\n",
              "    <tr>\n",
              "      <th>7</th>\n",
              "      <td>Precision@8</td>\n",
              "      <td>0.052</td>\n",
              "    </tr>\n",
              "    <tr>\n",
              "      <th>8</th>\n",
              "      <td>Precision@9</td>\n",
              "      <td>0.048</td>\n",
              "    </tr>\n",
              "    <tr>\n",
              "      <th>9</th>\n",
              "      <td>Precision@10</td>\n",
              "      <td>0.046</td>\n",
              "    </tr>\n",
              "    <tr>\n",
              "      <th>10</th>\n",
              "      <td>MAP@10</td>\n",
              "      <td>0.072</td>\n",
              "    </tr>\n",
              "    <tr>\n",
              "      <th>11</th>\n",
              "      <td>MRR</td>\n",
              "      <td>0.128</td>\n",
              "    </tr>\n",
              "    <tr>\n",
              "      <th>12</th>\n",
              "      <td>NDCG@10</td>\n",
              "      <td>0.116</td>\n",
              "    </tr>\n",
              "  </tbody>\n",
              "</table>\n",
              "</div>\n",
              "      <button class=\"colab-df-convert\" onclick=\"convertToInteractive('df-8375e74a-e55d-4060-b3a2-460f3f3cd8a0')\"\n",
              "              title=\"Convert this dataframe to an interactive table.\"\n",
              "              style=\"display:none;\">\n",
              "        \n",
              "  <svg xmlns=\"http://www.w3.org/2000/svg\" height=\"24px\"viewBox=\"0 0 24 24\"\n",
              "       width=\"24px\">\n",
              "    <path d=\"M0 0h24v24H0V0z\" fill=\"none\"/>\n",
              "    <path d=\"M18.56 5.44l.94 2.06.94-2.06 2.06-.94-2.06-.94-.94-2.06-.94 2.06-2.06.94zm-11 1L8.5 8.5l.94-2.06 2.06-.94-2.06-.94L8.5 2.5l-.94 2.06-2.06.94zm10 10l.94 2.06.94-2.06 2.06-.94-2.06-.94-.94-2.06-.94 2.06-2.06.94z\"/><path d=\"M17.41 7.96l-1.37-1.37c-.4-.4-.92-.59-1.43-.59-.52 0-1.04.2-1.43.59L10.3 9.45l-7.72 7.72c-.78.78-.78 2.05 0 2.83L4 21.41c.39.39.9.59 1.41.59.51 0 1.02-.2 1.41-.59l7.78-7.78 2.81-2.81c.8-.78.8-2.07 0-2.86zM5.41 20L4 18.59l7.72-7.72 1.47 1.35L5.41 20z\"/>\n",
              "  </svg>\n",
              "      </button>\n",
              "      \n",
              "  <style>\n",
              "    .colab-df-container {\n",
              "      display:flex;\n",
              "      flex-wrap:wrap;\n",
              "      gap: 12px;\n",
              "    }\n",
              "\n",
              "    .colab-df-convert {\n",
              "      background-color: #E8F0FE;\n",
              "      border: none;\n",
              "      border-radius: 50%;\n",
              "      cursor: pointer;\n",
              "      display: none;\n",
              "      fill: #1967D2;\n",
              "      height: 32px;\n",
              "      padding: 0 0 0 0;\n",
              "      width: 32px;\n",
              "    }\n",
              "\n",
              "    .colab-df-convert:hover {\n",
              "      background-color: #E2EBFA;\n",
              "      box-shadow: 0px 1px 2px rgba(60, 64, 67, 0.3), 0px 1px 3px 1px rgba(60, 64, 67, 0.15);\n",
              "      fill: #174EA6;\n",
              "    }\n",
              "\n",
              "    [theme=dark] .colab-df-convert {\n",
              "      background-color: #3B4455;\n",
              "      fill: #D2E3FC;\n",
              "    }\n",
              "\n",
              "    [theme=dark] .colab-df-convert:hover {\n",
              "      background-color: #434B5C;\n",
              "      box-shadow: 0px 1px 3px 1px rgba(0, 0, 0, 0.15);\n",
              "      filter: drop-shadow(0px 1px 2px rgba(0, 0, 0, 0.3));\n",
              "      fill: #FFFFFF;\n",
              "    }\n",
              "  </style>\n",
              "\n",
              "      <script>\n",
              "        const buttonEl =\n",
              "          document.querySelector('#df-8375e74a-e55d-4060-b3a2-460f3f3cd8a0 button.colab-df-convert');\n",
              "        buttonEl.style.display =\n",
              "          google.colab.kernel.accessAllowed ? 'block' : 'none';\n",
              "\n",
              "        async function convertToInteractive(key) {\n",
              "          const element = document.querySelector('#df-8375e74a-e55d-4060-b3a2-460f3f3cd8a0');\n",
              "          const dataTable =\n",
              "            await google.colab.kernel.invokeFunction('convertToInteractive',\n",
              "                                                     [key], {});\n",
              "          if (!dataTable) return;\n",
              "\n",
              "          const docLinkHtml = 'Like what you see? Visit the ' +\n",
              "            '<a target=\"_blank\" href=https://colab.research.google.com/notebooks/data_table.ipynb>data table notebook</a>'\n",
              "            + ' to learn more about interactive tables.';\n",
              "          element.innerHTML = '';\n",
              "          dataTable['output_type'] = 'display_data';\n",
              "          await google.colab.output.renderOutput(dataTable, element);\n",
              "          const docLink = document.createElement('div');\n",
              "          docLink.innerHTML = docLinkHtml;\n",
              "          element.appendChild(docLink);\n",
              "        }\n",
              "      </script>\n",
              "    </div>\n",
              "  </div>\n",
              "  "
            ]
          },
          "metadata": {},
          "execution_count": 232
        }
      ]
    },
    {
      "cell_type": "code",
      "source": [],
      "metadata": {
        "id": "RR_8pNLADGxM"
      },
      "execution_count": null,
      "outputs": []
    },
    {
      "cell_type": "code",
      "source": [],
      "metadata": {
        "id": "2BzcvOqyDGz4"
      },
      "execution_count": null,
      "outputs": []
    },
    {
      "cell_type": "code",
      "source": [],
      "metadata": {
        "id": "fbD0F4TBs_FH"
      },
      "execution_count": null,
      "outputs": []
    },
    {
      "cell_type": "code",
      "source": [
        "from sklearn.metrics import make_scorer"
      ],
      "metadata": {
        "id": "nzv9pcVHhefP"
      },
      "execution_count": null,
      "outputs": []
    },
    {
      "cell_type": "code",
      "source": [
        "def map_at_k(df_true: pd.DataFrame, \n",
        "             df_pred: pd.DataFrame, \n",
        "             K: int, \n",
        "             rank_col: str = 'rank') -> float:\n",
        "\n",
        "    test_recs = df_true.set_index(['user_id', 'movie_id']).join(df_pred.set_index(['user_id', 'movie_id']))\n",
        "    test_recs = test_recs.sort_values(by=['user_id', rank_col])\n",
        "\n",
        "    test_recs['users_item_count'] = test_recs.groupby(level='user_id')[rank_col].transform(np.size)\n",
        "    test_recs['cumulative_rank'] = test_recs.groupby(level='user_id').cumcount() + 1\n",
        "    test_recs['cumulative_rank'] = test_recs['cumulative_rank'] / test_recs[rank_col]\n",
        "    \n",
        "    users_count = test_recs.index.get_level_values('user_id').nunique()\n",
        "    result = (test_recs['cumulative_rank'] / test_recs['users_item_count']).sum() / users_count\n",
        "    \n",
        "    return result"
      ],
      "metadata": {
        "id": "-iD-K-dP5PmW"
      },
      "execution_count": null,
      "outputs": []
    },
    {
      "cell_type": "code",
      "source": [
        "# Define a custom scorer based on the ndcg_k function\n",
        "map_at_k_score = make_scorer(map_at_k, greater_is_better=True, needs_proba=False, needs_threshold=False, K=10, rank_col='rank')"
      ],
      "metadata": {
        "id": "LhdHF9VFx_yi"
      },
      "execution_count": null,
      "outputs": []
    },
    {
      "cell_type": "markdown",
      "source": [
        "## Ensemble"
      ],
      "metadata": {
        "id": "kf7sWOHyDHkZ"
      }
    },
    {
      "cell_type": "code",
      "source": [
        "from sklearn.model_selection import cross_val_score, KFold\n",
        "from hyperopt import fmin, tpe, hp, STATUS_OK, Trials\n",
        "from time import time\n",
        "\n",
        "from sklearn.ensemble import RandomForestClassifier"
      ],
      "metadata": {
        "id": "xyx89SCA95r8"
      },
      "execution_count": null,
      "outputs": []
    },
    {
      "cell_type": "code",
      "source": [
        "# def hyperopt(classifier, param_space, X_train, y_train, X_test, num_eval):\n",
        "    \n",
        "#     start = time()\n",
        "    \n",
        "#     kf = KFold(n_splits=2, shuffle=True)\n",
        "\n",
        "#     def objective_function(params):\n",
        "#         clf = classifier(**params)\n",
        "#         score = 1 - cross_val_score(clf, X_train, y_train, cv=kf, scoring=map_at_k_score).mean()\n",
        "#         return {'loss': score, 'status': STATUS_OK}\n",
        "\n",
        "#     trials = Trials()\n",
        "#     best_param = fmin(objective_function, \n",
        "#                       param_space, \n",
        "#                       algo=tpe.suggest, \n",
        "#                       max_evals=num_eval, \n",
        "#                       trials=trials,\n",
        "#                       rstate= np.random.default_rng(1))\n",
        "#     print(best_param)\n",
        "    \n",
        "#     return best_param"
      ],
      "metadata": {
        "id": "cQBk14GjJwxd"
      },
      "execution_count": null,
      "outputs": []
    },
    {
      "cell_type": "code",
      "source": [
        "# NUM_EVAL = 5"
      ],
      "metadata": {
        "id": "WpKWWH9XJw2M"
      },
      "execution_count": null,
      "outputs": []
    },
    {
      "cell_type": "code",
      "source": [
        "# bootstrap = [True, False]\n",
        "# max_depth = list(np.arange(1, 100+1, dtype=int)) + [None]\n",
        "# max_features = ['auto', 'sqrt']\n",
        "\n",
        "# param_hyperopt_randomforest = {\n",
        "#     'bootstrap': hp.choice('bootstrap', bootstrap),\n",
        "#     'max_depth': hp.choice('max_depth', max_depth),\n",
        "#     'max_features': hp.choice('max_features', max_features),\n",
        "#     'min_samples_leaf': hp.choice('min_samples_leaf', np.arange(1, 5+1, dtype=int)),\n",
        "#     'min_samples_split': hp.choice('min_samples_split', np.arange(2, 20+1, dtype=int)),\n",
        "#     'n_estimators': hp.choice('n_estimators', np.arange(5, 2000+1, dtype=int))\n",
        "#     }"
      ],
      "metadata": {
        "id": "3DtYwtCdKBx3"
      },
      "execution_count": null,
      "outputs": []
    },
    {
      "cell_type": "code",
      "source": [
        "# results_hyperopt_randomforest = hyperopt(RandomForestClassifier, param_hyperopt_randomforest, X_train, y_train, X_test, NUM_EVAL)"
      ],
      "metadata": {
        "id": "i5jG9cCpKEjz"
      },
      "execution_count": null,
      "outputs": []
    },
    {
      "cell_type": "code",
      "source": [
        "# results_hyperopt_randomforest['bootstrap'] = bootstrap[results_hyperopt_randomforest.get('bootstrap')]\n",
        "# results_hyperopt_randomforest['max_depth'] = max_depth[results_hyperopt_randomforest.get('max_depth')]\n",
        "# results_hyperopt_randomforest['max_features'] = max_features[results_hyperopt_randomforest.get('max_features')]"
      ],
      "metadata": {
        "id": "6pWZlqDZKJ2o"
      },
      "execution_count": null,
      "outputs": []
    },
    {
      "cell_type": "code",
      "source": [
        "X = pd.concat([X_train, X_test], ignore_index=True)\n",
        "y = pd.concat([y_train, y_test], ignore_index=True)"
      ],
      "metadata": {
        "id": "aKQ-RambD7KT"
      },
      "execution_count": null,
      "outputs": []
    },
    {
      "cell_type": "code",
      "source": [
        "# rf_classifier = RandomForestClassifier(**results_hyperopt_randomforest)\n",
        "# rf_classifier.fit(X, y)"
      ],
      "metadata": {
        "id": "kDQIFITRKJ97"
      },
      "execution_count": null,
      "outputs": []
    },
    {
      "cell_type": "code",
      "source": [
        "rf_classifier = RandomForestClassifier(n_estimators=150,\n",
        "                                       max_depth=10, \n",
        "                                       random_state=0)\n",
        "rf_classifier.fit(X, y)"
      ],
      "metadata": {
        "id": "1jcx0lrx951q"
      },
      "execution_count": null,
      "outputs": []
    },
    {
      "cell_type": "code",
      "source": [
        "rf_y_preds = rf_classifier.predict_proba(global_test_lfm_ctb_set[synthetic_shap_summary.get('selected_features_names')])\n",
        "\n",
        "global_test_lfm_ctb_preds['rf_pred'] = rf_y_preds[:, 1]\n",
        "global_test_lfm_ctb_preds.head()"
      ],
      "metadata": {
        "id": "Y1A8n35gE0FL"
      },
      "execution_count": null,
      "outputs": []
    },
    {
      "cell_type": "code",
      "source": [
        "global_test_lfm_ctb_preds = global_test_lfm_ctb_preds.sort_values(by=['user_id', 'rf_pred'], \n",
        "                                                                  ascending=[True, False])\n",
        "global_test_lfm_ctb_preds['rank_rf'] = global_test_lfm_ctb_preds.groupby('user_id').cumcount() + 1\n",
        "global_test_lfm_ctb_preds.head(10)"
      ],
      "metadata": {
        "id": "FmCJW2xlDmPt"
      },
      "execution_count": null,
      "outputs": []
    },
    {
      "cell_type": "code",
      "source": [
        "rf_metrics = compute_metrics(global_test[['user_id', 'movie_id']],\n",
        "                             global_test_lfm_ctb_preds, \n",
        "                             K=10, \n",
        "                             rank_col='rank_rf')\n",
        "rf_metrics"
      ],
      "metadata": {
        "id": "yzRbIG1-DMln"
      },
      "execution_count": null,
      "outputs": []
    },
    {
      "cell_type": "code",
      "source": [
        "global_test_lfm_ctb_preds['ctb_rf_pred'] = global_test_lfm_ctb_preds['ctb_pred'] * 0.7 + global_test_lfm_ctb_preds['rf_pred'] * 0.3"
      ],
      "metadata": {
        "id": "nal8Zs7hGxvM"
      },
      "execution_count": null,
      "outputs": []
    },
    {
      "cell_type": "code",
      "source": [
        "global_test_lfm_ctb_preds = global_test_lfm_ctb_preds.sort_values(by=['user_id', 'ctb_rf_pred'], \n",
        "                                                                  ascending=[True, False])\n",
        "global_test_lfm_ctb_preds['rank_ctb_rf'] = global_test_lfm_ctb_preds.groupby('user_id').cumcount() + 1\n",
        "global_test_lfm_ctb_preds.head(10)"
      ],
      "metadata": {
        "id": "HmuvfJvMGxzU"
      },
      "execution_count": null,
      "outputs": []
    },
    {
      "cell_type": "code",
      "source": [
        "ctb_rf_metrics = compute_metrics(global_test[['user_id', 'movie_id']],\n",
        "                                 global_test_lfm_ctb_preds, \n",
        "                                 K=10, \n",
        "                                 rank_col='rank_ctb_rf')\n",
        "ctb_rf_metrics"
      ],
      "metadata": {
        "id": "aqeNxsZJGx3O"
      },
      "execution_count": null,
      "outputs": []
    },
    {
      "cell_type": "code",
      "source": [],
      "metadata": {
        "id": "nmGgMgKu9555"
      },
      "execution_count": null,
      "outputs": []
    },
    {
      "cell_type": "code",
      "source": [],
      "metadata": {
        "id": "8YYmq5MbHxNZ"
      },
      "execution_count": null,
      "outputs": []
    },
    {
      "cell_type": "code",
      "source": [],
      "metadata": {
        "id": "hR49Wu4eHxQo"
      },
      "execution_count": null,
      "outputs": []
    },
    {
      "cell_type": "code",
      "source": [],
      "metadata": {
        "id": "rfyw3aPkHxUE"
      },
      "execution_count": null,
      "outputs": []
    },
    {
      "cell_type": "code",
      "source": [],
      "metadata": {
        "id": "Nop-xlGBHxWq"
      },
      "execution_count": null,
      "outputs": []
    },
    {
      "cell_type": "code",
      "source": [],
      "metadata": {
        "id": "kgCUcnkiHxdC"
      },
      "execution_count": null,
      "outputs": []
    },
    {
      "cell_type": "code",
      "source": [],
      "metadata": {
        "id": "6SHvP3QyHxf0"
      },
      "execution_count": null,
      "outputs": []
    },
    {
      "cell_type": "code",
      "source": [],
      "metadata": {
        "id": "cnd1YvmEHxjU"
      },
      "execution_count": null,
      "outputs": []
    },
    {
      "cell_type": "code",
      "source": [],
      "metadata": {
        "id": "U_wxDGsOHxl0"
      },
      "execution_count": null,
      "outputs": []
    }
  ],
  "metadata": {
    "kernelspec": {
      "display_name": "Python 3",
      "language": "python",
      "name": "python3"
    },
    "language_info": {
      "codemirror_mode": {
        "name": "ipython",
        "version": 3
      },
      "file_extension": ".py",
      "mimetype": "text/x-python",
      "name": "python",
      "nbconvert_exporter": "python",
      "pygments_lexer": "ipython3",
      "version": "3.8.3"
    },
    "vscode": {
      "interpreter": {
        "hash": "f2d007ce7c74fe41dcd6cb53c80a05eb04c24d9c4918ecd21236b3a1c808c520"
      }
    },
    "colab": {
      "provenance": [],
      "toc_visible": true
    },
    "widgets": {
      "application/vnd.jupyter.widget-state+json": {
        "5b0d04dd1fb04300a0f8fb7eb5120cc7": {
          "model_module": "@jupyter-widgets/controls",
          "model_name": "HBoxModel",
          "model_module_version": "1.5.0",
          "state": {
            "_dom_classes": [],
            "_model_module": "@jupyter-widgets/controls",
            "_model_module_version": "1.5.0",
            "_model_name": "HBoxModel",
            "_view_count": null,
            "_view_module": "@jupyter-widgets/controls",
            "_view_module_version": "1.5.0",
            "_view_name": "HBoxView",
            "box_style": "",
            "children": [
              "IPY_MODEL_9a4ab03a62264b81b23b1643717b2491",
              "IPY_MODEL_365f0c56e9644a578ddbd07d2a7b3dc7",
              "IPY_MODEL_5fa1f1d8d7094e22affcce604aaa105f"
            ],
            "layout": "IPY_MODEL_cefe26cef3e5423c83bfc495506d8bcb"
          }
        },
        "9a4ab03a62264b81b23b1643717b2491": {
          "model_module": "@jupyter-widgets/controls",
          "model_name": "HTMLModel",
          "model_module_version": "1.5.0",
          "state": {
            "_dom_classes": [],
            "_model_module": "@jupyter-widgets/controls",
            "_model_module_version": "1.5.0",
            "_model_name": "HTMLModel",
            "_view_count": null,
            "_view_module": "@jupyter-widgets/controls",
            "_view_module_version": "1.5.0",
            "_view_name": "HTMLView",
            "description": "",
            "description_tooltip": null,
            "layout": "IPY_MODEL_b947e6387af64dc0bfca7eb48cd679ee",
            "placeholder": "​",
            "style": "IPY_MODEL_14aebf0a13574196803861d1a42fbf52",
            "value": "100%"
          }
        },
        "365f0c56e9644a578ddbd07d2a7b3dc7": {
          "model_module": "@jupyter-widgets/controls",
          "model_name": "FloatProgressModel",
          "model_module_version": "1.5.0",
          "state": {
            "_dom_classes": [],
            "_model_module": "@jupyter-widgets/controls",
            "_model_module_version": "1.5.0",
            "_model_name": "FloatProgressModel",
            "_view_count": null,
            "_view_module": "@jupyter-widgets/controls",
            "_view_module_version": "1.5.0",
            "_view_name": "ProgressView",
            "bar_style": "success",
            "description": "",
            "description_tooltip": null,
            "layout": "IPY_MODEL_524500407a6f45388e067d6999620901",
            "max": 20,
            "min": 0,
            "orientation": "horizontal",
            "style": "IPY_MODEL_51105c1389734d06adc8b23af44b5665",
            "value": 20
          }
        },
        "5fa1f1d8d7094e22affcce604aaa105f": {
          "model_module": "@jupyter-widgets/controls",
          "model_name": "HTMLModel",
          "model_module_version": "1.5.0",
          "state": {
            "_dom_classes": [],
            "_model_module": "@jupyter-widgets/controls",
            "_model_module_version": "1.5.0",
            "_model_name": "HTMLModel",
            "_view_count": null,
            "_view_module": "@jupyter-widgets/controls",
            "_view_module_version": "1.5.0",
            "_view_name": "HTMLView",
            "description": "",
            "description_tooltip": null,
            "layout": "IPY_MODEL_9219107138ee4498b271e6d05f8ab055",
            "placeholder": "​",
            "style": "IPY_MODEL_59a40148afcc47d08aff7cf38527f9d6",
            "value": " 20/20 [00:35&lt;00:00,  1.46s/it]"
          }
        },
        "cefe26cef3e5423c83bfc495506d8bcb": {
          "model_module": "@jupyter-widgets/base",
          "model_name": "LayoutModel",
          "model_module_version": "1.2.0",
          "state": {
            "_model_module": "@jupyter-widgets/base",
            "_model_module_version": "1.2.0",
            "_model_name": "LayoutModel",
            "_view_count": null,
            "_view_module": "@jupyter-widgets/base",
            "_view_module_version": "1.2.0",
            "_view_name": "LayoutView",
            "align_content": null,
            "align_items": null,
            "align_self": null,
            "border": null,
            "bottom": null,
            "display": null,
            "flex": null,
            "flex_flow": null,
            "grid_area": null,
            "grid_auto_columns": null,
            "grid_auto_flow": null,
            "grid_auto_rows": null,
            "grid_column": null,
            "grid_gap": null,
            "grid_row": null,
            "grid_template_areas": null,
            "grid_template_columns": null,
            "grid_template_rows": null,
            "height": null,
            "justify_content": null,
            "justify_items": null,
            "left": null,
            "margin": null,
            "max_height": null,
            "max_width": null,
            "min_height": null,
            "min_width": null,
            "object_fit": null,
            "object_position": null,
            "order": null,
            "overflow": null,
            "overflow_x": null,
            "overflow_y": null,
            "padding": null,
            "right": null,
            "top": null,
            "visibility": null,
            "width": null
          }
        },
        "b947e6387af64dc0bfca7eb48cd679ee": {
          "model_module": "@jupyter-widgets/base",
          "model_name": "LayoutModel",
          "model_module_version": "1.2.0",
          "state": {
            "_model_module": "@jupyter-widgets/base",
            "_model_module_version": "1.2.0",
            "_model_name": "LayoutModel",
            "_view_count": null,
            "_view_module": "@jupyter-widgets/base",
            "_view_module_version": "1.2.0",
            "_view_name": "LayoutView",
            "align_content": null,
            "align_items": null,
            "align_self": null,
            "border": null,
            "bottom": null,
            "display": null,
            "flex": null,
            "flex_flow": null,
            "grid_area": null,
            "grid_auto_columns": null,
            "grid_auto_flow": null,
            "grid_auto_rows": null,
            "grid_column": null,
            "grid_gap": null,
            "grid_row": null,
            "grid_template_areas": null,
            "grid_template_columns": null,
            "grid_template_rows": null,
            "height": null,
            "justify_content": null,
            "justify_items": null,
            "left": null,
            "margin": null,
            "max_height": null,
            "max_width": null,
            "min_height": null,
            "min_width": null,
            "object_fit": null,
            "object_position": null,
            "order": null,
            "overflow": null,
            "overflow_x": null,
            "overflow_y": null,
            "padding": null,
            "right": null,
            "top": null,
            "visibility": null,
            "width": null
          }
        },
        "14aebf0a13574196803861d1a42fbf52": {
          "model_module": "@jupyter-widgets/controls",
          "model_name": "DescriptionStyleModel",
          "model_module_version": "1.5.0",
          "state": {
            "_model_module": "@jupyter-widgets/controls",
            "_model_module_version": "1.5.0",
            "_model_name": "DescriptionStyleModel",
            "_view_count": null,
            "_view_module": "@jupyter-widgets/base",
            "_view_module_version": "1.2.0",
            "_view_name": "StyleView",
            "description_width": ""
          }
        },
        "524500407a6f45388e067d6999620901": {
          "model_module": "@jupyter-widgets/base",
          "model_name": "LayoutModel",
          "model_module_version": "1.2.0",
          "state": {
            "_model_module": "@jupyter-widgets/base",
            "_model_module_version": "1.2.0",
            "_model_name": "LayoutModel",
            "_view_count": null,
            "_view_module": "@jupyter-widgets/base",
            "_view_module_version": "1.2.0",
            "_view_name": "LayoutView",
            "align_content": null,
            "align_items": null,
            "align_self": null,
            "border": null,
            "bottom": null,
            "display": null,
            "flex": null,
            "flex_flow": null,
            "grid_area": null,
            "grid_auto_columns": null,
            "grid_auto_flow": null,
            "grid_auto_rows": null,
            "grid_column": null,
            "grid_gap": null,
            "grid_row": null,
            "grid_template_areas": null,
            "grid_template_columns": null,
            "grid_template_rows": null,
            "height": null,
            "justify_content": null,
            "justify_items": null,
            "left": null,
            "margin": null,
            "max_height": null,
            "max_width": null,
            "min_height": null,
            "min_width": null,
            "object_fit": null,
            "object_position": null,
            "order": null,
            "overflow": null,
            "overflow_x": null,
            "overflow_y": null,
            "padding": null,
            "right": null,
            "top": null,
            "visibility": null,
            "width": null
          }
        },
        "51105c1389734d06adc8b23af44b5665": {
          "model_module": "@jupyter-widgets/controls",
          "model_name": "ProgressStyleModel",
          "model_module_version": "1.5.0",
          "state": {
            "_model_module": "@jupyter-widgets/controls",
            "_model_module_version": "1.5.0",
            "_model_name": "ProgressStyleModel",
            "_view_count": null,
            "_view_module": "@jupyter-widgets/base",
            "_view_module_version": "1.2.0",
            "_view_name": "StyleView",
            "bar_color": null,
            "description_width": ""
          }
        },
        "9219107138ee4498b271e6d05f8ab055": {
          "model_module": "@jupyter-widgets/base",
          "model_name": "LayoutModel",
          "model_module_version": "1.2.0",
          "state": {
            "_model_module": "@jupyter-widgets/base",
            "_model_module_version": "1.2.0",
            "_model_name": "LayoutModel",
            "_view_count": null,
            "_view_module": "@jupyter-widgets/base",
            "_view_module_version": "1.2.0",
            "_view_name": "LayoutView",
            "align_content": null,
            "align_items": null,
            "align_self": null,
            "border": null,
            "bottom": null,
            "display": null,
            "flex": null,
            "flex_flow": null,
            "grid_area": null,
            "grid_auto_columns": null,
            "grid_auto_flow": null,
            "grid_auto_rows": null,
            "grid_column": null,
            "grid_gap": null,
            "grid_row": null,
            "grid_template_areas": null,
            "grid_template_columns": null,
            "grid_template_rows": null,
            "height": null,
            "justify_content": null,
            "justify_items": null,
            "left": null,
            "margin": null,
            "max_height": null,
            "max_width": null,
            "min_height": null,
            "min_width": null,
            "object_fit": null,
            "object_position": null,
            "order": null,
            "overflow": null,
            "overflow_x": null,
            "overflow_y": null,
            "padding": null,
            "right": null,
            "top": null,
            "visibility": null,
            "width": null
          }
        },
        "59a40148afcc47d08aff7cf38527f9d6": {
          "model_module": "@jupyter-widgets/controls",
          "model_name": "DescriptionStyleModel",
          "model_module_version": "1.5.0",
          "state": {
            "_model_module": "@jupyter-widgets/controls",
            "_model_module_version": "1.5.0",
            "_model_name": "DescriptionStyleModel",
            "_view_count": null,
            "_view_module": "@jupyter-widgets/base",
            "_view_module_version": "1.2.0",
            "_view_name": "StyleView",
            "description_width": ""
          }
        }
      }
    }
  },
  "nbformat": 4,
  "nbformat_minor": 0
}